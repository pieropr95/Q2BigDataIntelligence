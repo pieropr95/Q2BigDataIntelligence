{
  "cells": [
    {
      "cell_type": "markdown",
      "metadata": {
        "id": "YQhtc-oSoGuh"
      },
      "source": [
        "# First Assignment: Predicting employee attrition"
      ],
      "id": "YQhtc-oSoGuh"
    },
    {
      "cell_type": "markdown",
      "metadata": {
        "id": "82b72ca5"
      },
      "source": [
        "#### Participants\n",
        "<br>\n",
        "Paula Marcela Mora Caballero (100483694)\n",
        "<br>\n",
        "Piero Rivera Ramírez (100435291)\n",
        "<br>\n"
      ],
      "id": "82b72ca5"
    },
    {
      "cell_type": "markdown",
      "metadata": {
        "id": "FD0HMk4BOOG_"
      },
      "source": [
        "## Requirements"
      ],
      "id": "FD0HMk4BOOG_"
    },
    {
      "cell_type": "markdown",
      "metadata": {
        "id": "f1060aa4"
      },
      "source": [
        "### Packages"
      ],
      "id": "f1060aa4"
    },
    {
      "cell_type": "code",
      "execution_count": 4,
      "metadata": {
        "colab": {
          "base_uri": "https://localhost:8080/"
        },
        "id": "6f065d4b",
        "outputId": "4b3a661b-e857-40ad-c3cc-2cc272a7d647"
      },
      "outputs": [
        {
          "output_type": "stream",
          "name": "stdout",
          "text": [
            "Looking in indexes: https://pypi.org/simple, https://us-python.pkg.dev/colab-wheels/public/simple/\n",
            "Requirement already satisfied: scikit_optimize in /usr/local/lib/python3.8/dist-packages (0.9.0)\n",
            "Requirement already satisfied: pyaml>=16.9 in /usr/local/lib/python3.8/dist-packages (from scikit_optimize) (21.10.1)\n",
            "Requirement already satisfied: scipy>=0.19.1 in /usr/local/lib/python3.8/dist-packages (from scikit_optimize) (1.7.3)\n",
            "Requirement already satisfied: scikit-learn>=0.20.0 in /usr/local/lib/python3.8/dist-packages (from scikit_optimize) (1.0.2)\n",
            "Requirement already satisfied: numpy>=1.13.3 in /usr/local/lib/python3.8/dist-packages (from scikit_optimize) (1.21.6)\n",
            "Requirement already satisfied: joblib>=0.11 in /usr/local/lib/python3.8/dist-packages (from scikit_optimize) (1.2.0)\n",
            "Requirement already satisfied: PyYAML in /usr/local/lib/python3.8/dist-packages (from pyaml>=16.9->scikit_optimize) (6.0)\n",
            "Requirement already satisfied: threadpoolctl>=2.0.0 in /usr/local/lib/python3.8/dist-packages (from scikit-learn>=0.20.0->scikit_optimize) (3.1.0)\n",
            "Looking in indexes: https://pypi.org/simple, https://us-python.pkg.dev/colab-wheels/public/simple/\n",
            "Requirement already satisfied: optuna in /usr/local/lib/python3.8/dist-packages (3.0.5)\n",
            "Requirement already satisfied: colorlog in /usr/local/lib/python3.8/dist-packages (from optuna) (6.7.0)\n",
            "Requirement already satisfied: packaging>=20.0 in /usr/local/lib/python3.8/dist-packages (from optuna) (21.3)\n",
            "Requirement already satisfied: cmaes>=0.8.2 in /usr/local/lib/python3.8/dist-packages (from optuna) (0.9.0)\n",
            "Requirement already satisfied: cliff in /usr/local/lib/python3.8/dist-packages (from optuna) (4.1.0)\n",
            "Requirement already satisfied: sqlalchemy>=1.3.0 in /usr/local/lib/python3.8/dist-packages (from optuna) (1.4.45)\n",
            "Requirement already satisfied: PyYAML in /usr/local/lib/python3.8/dist-packages (from optuna) (6.0)\n",
            "Requirement already satisfied: scipy<1.9.0,>=1.7.0 in /usr/local/lib/python3.8/dist-packages (from optuna) (1.7.3)\n",
            "Requirement already satisfied: alembic>=1.5.0 in /usr/local/lib/python3.8/dist-packages (from optuna) (1.9.1)\n",
            "Requirement already satisfied: tqdm in /usr/local/lib/python3.8/dist-packages (from optuna) (4.64.1)\n",
            "Requirement already satisfied: importlib-metadata<5.0.0 in /usr/local/lib/python3.8/dist-packages (from optuna) (4.13.0)\n",
            "Requirement already satisfied: numpy in /usr/local/lib/python3.8/dist-packages (from optuna) (1.21.6)\n",
            "Requirement already satisfied: importlib-resources in /usr/local/lib/python3.8/dist-packages (from alembic>=1.5.0->optuna) (5.10.1)\n",
            "Requirement already satisfied: Mako in /usr/local/lib/python3.8/dist-packages (from alembic>=1.5.0->optuna) (1.2.4)\n",
            "Requirement already satisfied: zipp>=0.5 in /usr/local/lib/python3.8/dist-packages (from importlib-metadata<5.0.0->optuna) (3.11.0)\n",
            "Requirement already satisfied: pyparsing!=3.0.5,>=2.0.2 in /usr/local/lib/python3.8/dist-packages (from packaging>=20.0->optuna) (3.0.9)\n",
            "Requirement already satisfied: greenlet!=0.4.17 in /usr/local/lib/python3.8/dist-packages (from sqlalchemy>=1.3.0->optuna) (2.0.1)\n",
            "Requirement already satisfied: PrettyTable>=0.7.2 in /usr/local/lib/python3.8/dist-packages (from cliff->optuna) (3.5.0)\n",
            "Requirement already satisfied: autopage>=0.4.0 in /usr/local/lib/python3.8/dist-packages (from cliff->optuna) (0.5.1)\n",
            "Requirement already satisfied: stevedore>=2.0.1 in /usr/local/lib/python3.8/dist-packages (from cliff->optuna) (4.1.1)\n",
            "Requirement already satisfied: cmd2>=1.0.0 in /usr/local/lib/python3.8/dist-packages (from cliff->optuna) (2.4.2)\n",
            "Requirement already satisfied: pyperclip>=1.6 in /usr/local/lib/python3.8/dist-packages (from cmd2>=1.0.0->cliff->optuna) (1.8.2)\n",
            "Requirement already satisfied: attrs>=16.3.0 in /usr/local/lib/python3.8/dist-packages (from cmd2>=1.0.0->cliff->optuna) (22.1.0)\n",
            "Requirement already satisfied: wcwidth>=0.1.7 in /usr/local/lib/python3.8/dist-packages (from cmd2>=1.0.0->cliff->optuna) (0.2.5)\n",
            "Requirement already satisfied: pbr!=2.1.0,>=2.0.0 in /usr/local/lib/python3.8/dist-packages (from stevedore>=2.0.1->cliff->optuna) (5.11.0)\n",
            "Requirement already satisfied: MarkupSafe>=0.9.2 in /usr/local/lib/python3.8/dist-packages (from Mako->alembic>=1.5.0->optuna) (2.0.1)\n"
          ]
        }
      ],
      "source": [
        "!pip install scikit_optimize\n",
        "!pip install optuna"
      ],
      "id": "6f065d4b"
    },
    {
      "cell_type": "markdown",
      "metadata": {
        "id": "H00R7wbzoc7O"
      },
      "source": [
        "### Libraries"
      ],
      "id": "H00R7wbzoc7O"
    },
    {
      "cell_type": "code",
      "execution_count": null,
      "metadata": {
        "colab": {
          "background_save": true
        },
        "id": "21cb5459",
        "outputId": "62f5bed9-d06b-4b8d-94ba-2c221f621180"
      },
      "outputs": [
        {
          "name": "stdout",
          "output_type": "stream",
          "text": [
            "Mounted at /content/drive\n"
          ]
        }
      ],
      "source": [
        "from google.colab import drive\n",
        "drive.mount('/content/drive')"
      ],
      "id": "21cb5459"
    },
    {
      "cell_type": "code",
      "execution_count": null,
      "metadata": {
        "colab": {
          "background_save": true
        },
        "id": "f11ee8ac"
      },
      "outputs": [],
      "source": [
        "import numpy as np\n",
        "import pandas as pd\n",
        "import pickle as pkl\n",
        "import seaborn as sns\n",
        "import matplotlib.pyplot as plt\n",
        "from time import time \n",
        "from joblib import dump, load\n",
        "\n",
        "# sklearn\n",
        "from sklearn import metrics\n",
        "from sklearn.pipeline import Pipeline\n",
        "from sklearn.impute import SimpleImputer\n",
        "from sklearn.preprocessing import StandardScaler\n",
        "from sklearn.preprocessing import OneHotEncoder\n",
        "from sklearn.feature_selection import mutual_info_regression, SelectKBest\n",
        "from sklearn.compose import ColumnTransformer\n",
        "from sklearn.dummy import DummyClassifier\n",
        "from sklearn import metrics\n",
        "from statsmodels.stats.proportion import proportion_confint\n",
        "from sklearn import tree\n",
        "from sklearn.tree import DecisionTreeRegressor\n",
        "from sklearn.neighbors import KNeighborsClassifier\n",
        "from sklearn.model_selection import cross_val_score, KFold\n",
        "from sklearn.model_selection import GridSearchCV\n",
        "from sklearn.model_selection import RandomizedSearchCV\n",
        "from sklearn.model_selection import KFold\n",
        "from sklearn.model_selection import train_test_split\n",
        "\n",
        "from sklearn.experimental import enable_halving_search_cv \n",
        "from sklearn.model_selection import HalvingRandomSearchCV\n",
        "\n",
        "from sklearn.ensemble import RandomForestClassifier\n",
        "from sklearn.ensemble import HistGradientBoostingClassifier\n",
        "\n",
        "from sklearn import set_config\n",
        "set_config(display=\"diagram\")\n",
        "\n",
        "from skopt import BayesSearchCV\n",
        "from skopt.space import Integer, Real, Categorical\n",
        "from skopt.plots import plot_objective\n",
        "from skopt.plots import plot_evaluations\n",
        "\n",
        "from scipy.stats import uniform, expon\n",
        "from scipy.stats import randint as sp_randint\n",
        "\n",
        "# optuna\n",
        "import optuna\n",
        "\n",
        "from optuna.visualization import plot_contour\n",
        "from optuna.visualization import plot_edf\n",
        "from optuna.visualization import plot_intermediate_values\n",
        "from optuna.visualization import plot_optimization_history\n",
        "from optuna.visualization import plot_parallel_coordinate\n",
        "from optuna.visualization import plot_param_importances\n",
        "from optuna.visualization import plot_slice\n",
        "\n",
        "# deprecation warnings\n",
        "def warn(*args, **kwargs):\n",
        "    pass\n",
        "import warnings\n",
        "warnings.warn = warn"
      ],
      "id": "f11ee8ac"
    },
    {
      "cell_type": "markdown",
      "metadata": {
        "id": "99bf1213"
      },
      "source": [
        "## Steps to follow:\n"
      ],
      "id": "99bf1213"
    },
    {
      "cell_type": "markdown",
      "metadata": {
        "id": "U95JX61_kKIW"
      },
      "source": [
        "### 1. Explonatory Data Analysis "
      ],
      "id": "U95JX61_kKIW"
    },
    {
      "cell_type": "markdown",
      "metadata": {
        "id": "gBAN3FljdCS7"
      },
      "source": [
        "**Load of datasets**"
      ],
      "id": "gBAN3FljdCS7"
    },
    {
      "cell_type": "code",
      "execution_count": 7,
      "metadata": {
        "id": "0fa48a37"
      },
      "outputs": [],
      "source": [
        "# Load of datasets\n",
        "# Comment / Uncomment shortcut: Ctrl + /\n",
        "\n",
        "# Google Drive (Marcela)\n",
        "df_av = pd.read_pickle('/content/drive/MyDrive/Big Data Intelligence (Assignments)/attrition_available_32.pkl')\n",
        "df_co = pd.read_pickle('/content/drive/MyDrive/Big Data Intelligence (Assignments)/attrition_compet_32.pkl')\n",
        "\n",
        "# Jupyter (Piero)\n",
        "#df_av = pd.read_pickle('../Datasets/attrition_available_32.pkl')\n",
        "#df_co = pd.read_pickle('../Datasets/attrition_compet_32.pkl')"
      ],
      "id": "0fa48a37"
    },
    {
      "cell_type": "markdown",
      "metadata": {
        "id": "iG16gD9LC4Ng"
      },
      "source": [
        "By displaying the first records and the column names of one of the datasets we can get an initial idea of the information it has."
      ],
      "id": "iG16gD9LC4Ng"
    },
    {
      "cell_type": "code",
      "execution_count": 8,
      "metadata": {
        "colab": {
          "base_uri": "https://localhost:8080/",
          "height": 0
        },
        "id": "lU1XixKrC_QP",
        "outputId": "11a7ca5b-0acd-4b6f-d10a-a2894cee123d"
      },
      "outputs": [
        {
          "output_type": "execute_result",
          "data": {
            "text/plain": [
              "          hrs  absences  JobInvolvement  PerformanceRating  \\\n",
              "1    7.315971        13               2                  4   \n",
              "6    6.450877        17               3                  4   \n",
              "13   8.871421        14               2                  3   \n",
              "28  10.713066         6               2                  3   \n",
              "30   9.662808        11               2                  3   \n",
              "\n",
              "    EnvironmentSatisfaction  JobSatisfaction  WorkLifeBalance  Age Attrition  \\\n",
              "1                       3.0              2.0              4.0   31       Yes   \n",
              "6                       1.0              3.0              1.0   28       Yes   \n",
              "13                      1.0              2.0              2.0   47       Yes   \n",
              "28                      4.0              3.0              1.0   44       Yes   \n",
              "30                      1.0              2.0              3.0   26       Yes   \n",
              "\n",
              "       BusinessTravel  ... NumCompaniesWorked  Over18  PercentSalaryHike  \\\n",
              "1   Travel_Frequently  ...                0.0       Y                 23   \n",
              "6       Travel_Rarely  ...                2.0       Y                 20   \n",
              "13         Non-Travel  ...                1.0       Y                 11   \n",
              "28  Travel_Frequently  ...                3.0       Y                 14   \n",
              "30      Travel_Rarely  ...                2.0       Y                 11   \n",
              "\n",
              "   StandardHours  StockOptionLevel  TotalWorkingYears TrainingTimesLastYear  \\\n",
              "1              8                 1                6.0                     3   \n",
              "6              8                 1                5.0                     2   \n",
              "13             8                 2               10.0                     4   \n",
              "28             8                 1               19.0                     2   \n",
              "30             8                 0                5.0                     5   \n",
              "\n",
              "    YearsAtCompany YearsSinceLastPromotion YearsWithCurrManager  \n",
              "1                5                       1                    4  \n",
              "6                0                       0                    0  \n",
              "13              10                       9                    9  \n",
              "28               1                       0                    0  \n",
              "30               3                       0                    2  \n",
              "\n",
              "[5 rows x 31 columns]"
            ],
            "text/html": [
              "\n",
              "  <div id=\"df-72fe3678-5a0c-4090-851a-543c5b8fb2de\">\n",
              "    <div class=\"colab-df-container\">\n",
              "      <div>\n",
              "<style scoped>\n",
              "    .dataframe tbody tr th:only-of-type {\n",
              "        vertical-align: middle;\n",
              "    }\n",
              "\n",
              "    .dataframe tbody tr th {\n",
              "        vertical-align: top;\n",
              "    }\n",
              "\n",
              "    .dataframe thead th {\n",
              "        text-align: right;\n",
              "    }\n",
              "</style>\n",
              "<table border=\"1\" class=\"dataframe\">\n",
              "  <thead>\n",
              "    <tr style=\"text-align: right;\">\n",
              "      <th></th>\n",
              "      <th>hrs</th>\n",
              "      <th>absences</th>\n",
              "      <th>JobInvolvement</th>\n",
              "      <th>PerformanceRating</th>\n",
              "      <th>EnvironmentSatisfaction</th>\n",
              "      <th>JobSatisfaction</th>\n",
              "      <th>WorkLifeBalance</th>\n",
              "      <th>Age</th>\n",
              "      <th>Attrition</th>\n",
              "      <th>BusinessTravel</th>\n",
              "      <th>...</th>\n",
              "      <th>NumCompaniesWorked</th>\n",
              "      <th>Over18</th>\n",
              "      <th>PercentSalaryHike</th>\n",
              "      <th>StandardHours</th>\n",
              "      <th>StockOptionLevel</th>\n",
              "      <th>TotalWorkingYears</th>\n",
              "      <th>TrainingTimesLastYear</th>\n",
              "      <th>YearsAtCompany</th>\n",
              "      <th>YearsSinceLastPromotion</th>\n",
              "      <th>YearsWithCurrManager</th>\n",
              "    </tr>\n",
              "  </thead>\n",
              "  <tbody>\n",
              "    <tr>\n",
              "      <th>1</th>\n",
              "      <td>7.315971</td>\n",
              "      <td>13</td>\n",
              "      <td>2</td>\n",
              "      <td>4</td>\n",
              "      <td>3.0</td>\n",
              "      <td>2.0</td>\n",
              "      <td>4.0</td>\n",
              "      <td>31</td>\n",
              "      <td>Yes</td>\n",
              "      <td>Travel_Frequently</td>\n",
              "      <td>...</td>\n",
              "      <td>0.0</td>\n",
              "      <td>Y</td>\n",
              "      <td>23</td>\n",
              "      <td>8</td>\n",
              "      <td>1</td>\n",
              "      <td>6.0</td>\n",
              "      <td>3</td>\n",
              "      <td>5</td>\n",
              "      <td>1</td>\n",
              "      <td>4</td>\n",
              "    </tr>\n",
              "    <tr>\n",
              "      <th>6</th>\n",
              "      <td>6.450877</td>\n",
              "      <td>17</td>\n",
              "      <td>3</td>\n",
              "      <td>4</td>\n",
              "      <td>1.0</td>\n",
              "      <td>3.0</td>\n",
              "      <td>1.0</td>\n",
              "      <td>28</td>\n",
              "      <td>Yes</td>\n",
              "      <td>Travel_Rarely</td>\n",
              "      <td>...</td>\n",
              "      <td>2.0</td>\n",
              "      <td>Y</td>\n",
              "      <td>20</td>\n",
              "      <td>8</td>\n",
              "      <td>1</td>\n",
              "      <td>5.0</td>\n",
              "      <td>2</td>\n",
              "      <td>0</td>\n",
              "      <td>0</td>\n",
              "      <td>0</td>\n",
              "    </tr>\n",
              "    <tr>\n",
              "      <th>13</th>\n",
              "      <td>8.871421</td>\n",
              "      <td>14</td>\n",
              "      <td>2</td>\n",
              "      <td>3</td>\n",
              "      <td>1.0</td>\n",
              "      <td>2.0</td>\n",
              "      <td>2.0</td>\n",
              "      <td>47</td>\n",
              "      <td>Yes</td>\n",
              "      <td>Non-Travel</td>\n",
              "      <td>...</td>\n",
              "      <td>1.0</td>\n",
              "      <td>Y</td>\n",
              "      <td>11</td>\n",
              "      <td>8</td>\n",
              "      <td>2</td>\n",
              "      <td>10.0</td>\n",
              "      <td>4</td>\n",
              "      <td>10</td>\n",
              "      <td>9</td>\n",
              "      <td>9</td>\n",
              "    </tr>\n",
              "    <tr>\n",
              "      <th>28</th>\n",
              "      <td>10.713066</td>\n",
              "      <td>6</td>\n",
              "      <td>2</td>\n",
              "      <td>3</td>\n",
              "      <td>4.0</td>\n",
              "      <td>3.0</td>\n",
              "      <td>1.0</td>\n",
              "      <td>44</td>\n",
              "      <td>Yes</td>\n",
              "      <td>Travel_Frequently</td>\n",
              "      <td>...</td>\n",
              "      <td>3.0</td>\n",
              "      <td>Y</td>\n",
              "      <td>14</td>\n",
              "      <td>8</td>\n",
              "      <td>1</td>\n",
              "      <td>19.0</td>\n",
              "      <td>2</td>\n",
              "      <td>1</td>\n",
              "      <td>0</td>\n",
              "      <td>0</td>\n",
              "    </tr>\n",
              "    <tr>\n",
              "      <th>30</th>\n",
              "      <td>9.662808</td>\n",
              "      <td>11</td>\n",
              "      <td>2</td>\n",
              "      <td>3</td>\n",
              "      <td>1.0</td>\n",
              "      <td>2.0</td>\n",
              "      <td>3.0</td>\n",
              "      <td>26</td>\n",
              "      <td>Yes</td>\n",
              "      <td>Travel_Rarely</td>\n",
              "      <td>...</td>\n",
              "      <td>2.0</td>\n",
              "      <td>Y</td>\n",
              "      <td>11</td>\n",
              "      <td>8</td>\n",
              "      <td>0</td>\n",
              "      <td>5.0</td>\n",
              "      <td>5</td>\n",
              "      <td>3</td>\n",
              "      <td>0</td>\n",
              "      <td>2</td>\n",
              "    </tr>\n",
              "  </tbody>\n",
              "</table>\n",
              "<p>5 rows × 31 columns</p>\n",
              "</div>\n",
              "      <button class=\"colab-df-convert\" onclick=\"convertToInteractive('df-72fe3678-5a0c-4090-851a-543c5b8fb2de')\"\n",
              "              title=\"Convert this dataframe to an interactive table.\"\n",
              "              style=\"display:none;\">\n",
              "        \n",
              "  <svg xmlns=\"http://www.w3.org/2000/svg\" height=\"24px\"viewBox=\"0 0 24 24\"\n",
              "       width=\"24px\">\n",
              "    <path d=\"M0 0h24v24H0V0z\" fill=\"none\"/>\n",
              "    <path d=\"M18.56 5.44l.94 2.06.94-2.06 2.06-.94-2.06-.94-.94-2.06-.94 2.06-2.06.94zm-11 1L8.5 8.5l.94-2.06 2.06-.94-2.06-.94L8.5 2.5l-.94 2.06-2.06.94zm10 10l.94 2.06.94-2.06 2.06-.94-2.06-.94-.94-2.06-.94 2.06-2.06.94z\"/><path d=\"M17.41 7.96l-1.37-1.37c-.4-.4-.92-.59-1.43-.59-.52 0-1.04.2-1.43.59L10.3 9.45l-7.72 7.72c-.78.78-.78 2.05 0 2.83L4 21.41c.39.39.9.59 1.41.59.51 0 1.02-.2 1.41-.59l7.78-7.78 2.81-2.81c.8-.78.8-2.07 0-2.86zM5.41 20L4 18.59l7.72-7.72 1.47 1.35L5.41 20z\"/>\n",
              "  </svg>\n",
              "      </button>\n",
              "      \n",
              "  <style>\n",
              "    .colab-df-container {\n",
              "      display:flex;\n",
              "      flex-wrap:wrap;\n",
              "      gap: 12px;\n",
              "    }\n",
              "\n",
              "    .colab-df-convert {\n",
              "      background-color: #E8F0FE;\n",
              "      border: none;\n",
              "      border-radius: 50%;\n",
              "      cursor: pointer;\n",
              "      display: none;\n",
              "      fill: #1967D2;\n",
              "      height: 32px;\n",
              "      padding: 0 0 0 0;\n",
              "      width: 32px;\n",
              "    }\n",
              "\n",
              "    .colab-df-convert:hover {\n",
              "      background-color: #E2EBFA;\n",
              "      box-shadow: 0px 1px 2px rgba(60, 64, 67, 0.3), 0px 1px 3px 1px rgba(60, 64, 67, 0.15);\n",
              "      fill: #174EA6;\n",
              "    }\n",
              "\n",
              "    [theme=dark] .colab-df-convert {\n",
              "      background-color: #3B4455;\n",
              "      fill: #D2E3FC;\n",
              "    }\n",
              "\n",
              "    [theme=dark] .colab-df-convert:hover {\n",
              "      background-color: #434B5C;\n",
              "      box-shadow: 0px 1px 3px 1px rgba(0, 0, 0, 0.15);\n",
              "      filter: drop-shadow(0px 1px 2px rgba(0, 0, 0, 0.3));\n",
              "      fill: #FFFFFF;\n",
              "    }\n",
              "  </style>\n",
              "\n",
              "      <script>\n",
              "        const buttonEl =\n",
              "          document.querySelector('#df-72fe3678-5a0c-4090-851a-543c5b8fb2de button.colab-df-convert');\n",
              "        buttonEl.style.display =\n",
              "          google.colab.kernel.accessAllowed ? 'block' : 'none';\n",
              "\n",
              "        async function convertToInteractive(key) {\n",
              "          const element = document.querySelector('#df-72fe3678-5a0c-4090-851a-543c5b8fb2de');\n",
              "          const dataTable =\n",
              "            await google.colab.kernel.invokeFunction('convertToInteractive',\n",
              "                                                     [key], {});\n",
              "          if (!dataTable) return;\n",
              "\n",
              "          const docLinkHtml = 'Like what you see? Visit the ' +\n",
              "            '<a target=\"_blank\" href=https://colab.research.google.com/notebooks/data_table.ipynb>data table notebook</a>'\n",
              "            + ' to learn more about interactive tables.';\n",
              "          element.innerHTML = '';\n",
              "          dataTable['output_type'] = 'display_data';\n",
              "          await google.colab.output.renderOutput(dataTable, element);\n",
              "          const docLink = document.createElement('div');\n",
              "          docLink.innerHTML = docLinkHtml;\n",
              "          element.appendChild(docLink);\n",
              "        }\n",
              "      </script>\n",
              "    </div>\n",
              "  </div>\n",
              "  "
            ]
          },
          "metadata": {},
          "execution_count": 8
        }
      ],
      "source": [
        "df_av.head(5)"
      ],
      "id": "lU1XixKrC_QP"
    },
    {
      "cell_type": "markdown",
      "metadata": {
        "id": "VHJj8CbWdHwm"
      },
      "source": [
        "**Features and Instances**"
      ],
      "id": "VHJj8CbWdHwm"
    },
    {
      "cell_type": "markdown",
      "metadata": {
        "id": "JubvvlAaCZuE"
      },
      "source": [
        "In the employee attrition datasets we have 30 features that will help predict whether or not an employee leaves the company. The additional column in the *available* dataset is the target variable: Attration, which is a categorial feature: Yes/No."
      ],
      "id": "JubvvlAaCZuE"
    },
    {
      "cell_type": "code",
      "execution_count": 9,
      "metadata": {
        "colab": {
          "base_uri": "https://localhost:8080/"
        },
        "id": "cbb7af10",
        "outputId": "f054bdf8-420c-4608-f8e8-737d0d91665b"
      },
      "outputs": [
        {
          "output_type": "stream",
          "name": "stdout",
          "text": [
            "The available dataset has: 1426 instances and 31 features\n",
            "The competition dataset has: 200 instances and 30 features\n"
          ]
        }
      ],
      "source": [
        "print(f'The available dataset has: {df_av.shape[0]} instances and {df_av.shape[1]} features')\n",
        "print(f'The competition dataset has: {df_co.shape[0]} instances and {df_co.shape[1]} features')"
      ],
      "id": "cbb7af10"
    },
    {
      "cell_type": "markdown",
      "metadata": {
        "id": "8xD54Q6WdRJE"
      },
      "source": [
        "**Type of features**"
      ],
      "id": "8xD54Q6WdRJE"
    },
    {
      "cell_type": "markdown",
      "metadata": {
        "id": "r9RFnucDCjHl"
      },
      "source": [
        "After confirming that both datasets' column types are the same, we will only describe each column's type for the *available* dataset."
      ],
      "id": "r9RFnucDCjHl"
    },
    {
      "cell_type": "code",
      "execution_count": 10,
      "metadata": {
        "colab": {
          "base_uri": "https://localhost:8080/"
        },
        "id": "Rbc2bYgzAno7",
        "outputId": "547f56c0-848c-493c-8f5d-6504c1dde69c"
      },
      "outputs": [
        {
          "output_type": "stream",
          "name": "stdout",
          "text": [
            "In the dataset, there are three types of columns. There are 16 integer columns, 8 object columns and 7 float64 columns.\n",
            "\n",
            "Type of columns in dataset:\n"
          ]
        },
        {
          "output_type": "execute_result",
          "data": {
            "text/plain": [
              "hrs                        float64\n",
              "absences                     int64\n",
              "JobInvolvement               int64\n",
              "PerformanceRating            int64\n",
              "EnvironmentSatisfaction    float64\n",
              "JobSatisfaction            float64\n",
              "WorkLifeBalance            float64\n",
              "Age                          int64\n",
              "Attrition                   object\n",
              "BusinessTravel              object\n",
              "Department                  object\n",
              "DistanceFromHome             int64\n",
              "Education                  float64\n",
              "EducationField              object\n",
              "EmployeeCount                int64\n",
              "EmployeeID                   int64\n",
              "Gender                      object\n",
              "JobLevel                     int64\n",
              "JobRole                     object\n",
              "MaritalStatus               object\n",
              "MonthlyIncome                int64\n",
              "NumCompaniesWorked         float64\n",
              "Over18                      object\n",
              "PercentSalaryHike            int64\n",
              "StandardHours                int64\n",
              "StockOptionLevel             int64\n",
              "TotalWorkingYears          float64\n",
              "TrainingTimesLastYear        int64\n",
              "YearsAtCompany               int64\n",
              "YearsSinceLastPromotion      int64\n",
              "YearsWithCurrManager         int64\n",
              "dtype: object"
            ]
          },
          "metadata": {},
          "execution_count": 10
        }
      ],
      "source": [
        "print(f'In the dataset, there are three types of columns. There are {df_av.dtypes.value_counts()[0]} integer columns, {df_av.dtypes.value_counts()[1]} object columns and {df_av.dtypes.value_counts()[2]} float64 columns.')\n",
        "print('')\n",
        "print('Type of columns in dataset:')\n",
        "df_av.dtypes\n",
        "#df_co.dtypes # same types than in df_av - available dataset"
      ],
      "id": "Rbc2bYgzAno7"
    },
    {
      "cell_type": "markdown",
      "metadata": {
        "id": "z28FhRhNLRoG"
      },
      "source": [
        "After a column-by-column inspection of the information contained in each column. \n",
        "\n",
        "We consider that there are 23 numerical variables:\n",
        "1.   hrs\n",
        "2.   absences\n",
        "3.   age\n",
        "4.   DistanceFromHome\n",
        "5.   EmployeeCount\n",
        "6.   MonthlyIncome\n",
        "7.   NumCompaniesWorked\n",
        "8.   PercentSalaryHike\n",
        "9.   StandardHours\n",
        "10.  TotalWorkingYears\n",
        "11.  TrainingTimesLastYear\n",
        "12.  YearsAtCompany\n",
        "13.  YearsSinceLastPromotion\n",
        "14.  YearsWithCurrManager\n",
        "15.  EmployeeID (ID variable)\n",
        "\n",
        "Ordinal variables:\n",
        "16.   JobInvolvement (Values: 1, 2, 3 and 4)\n",
        "17.   PerformanceRating (Values: 3 and 4)\n",
        "18.   EnvironmentSatisfaction (Values: 1, 2, 3 and 4)\n",
        "19.   JobSatisfaction (Values: 1, 2, 3 and 4)\n",
        "20.   WorkLifeBalance (Values: 1, 2, 3 and 4)\n",
        "21.   Education (Values: 1, 2, 3, 4 and 5)\n",
        "22.  JobLevel (Values: 1, 2, 3, 4 and 5)\n",
        "23.  StockOptionLevel (Values: 0, 1, 2 and 3)\n",
        "\n",
        "And 8 categorical variables:\n",
        "1.   Attrition (Target variable)\n",
        "2.   BusinessTravel \n",
        "3.   Department \n",
        "4.  EducationField \n",
        "5.  Gender \n",
        "6.  JobRole \n",
        "7.  MaritalStatus \n",
        "8.  Over18"
      ],
      "id": "z28FhRhNLRoG"
    },
    {
      "cell_type": "markdown",
      "metadata": {
        "id": "gYdhQiLdowxs"
      },
      "source": [
        "**Cardinality of categorical variables**"
      ],
      "id": "gYdhQiLdowxs"
    },
    {
      "cell_type": "markdown",
      "metadata": {
        "id": "fsKHb0-LfHN4"
      },
      "source": [
        "We checked the cardinality of the categorical variables for both datasets. Most of the categorical variables have low cardinality (1, 2 or 3 categories). The highest cardinality variables are EducationField and JobRole (7 and 9 categories respectively)."
      ],
      "id": "fsKHb0-LfHN4"
    },
    {
      "cell_type": "code",
      "execution_count": 11,
      "metadata": {
        "colab": {
          "base_uri": "https://localhost:8080/"
        },
        "id": "a3RFtByVmRvQ",
        "outputId": "e2579960-461a-4b06-d103-7d585f3aae42"
      },
      "outputs": [
        {
          "output_type": "stream",
          "name": "stdout",
          "text": [
            "Available dataset:\n",
            "BusinessTravel: 3\n",
            "Department: 3\n",
            "EducationField: 7\n",
            "Gender: 2\n",
            "JobRole: 9\n",
            "MaritalStatus: 3\n",
            "Over18: 1\n",
            "\n",
            "Competition dataset:\n",
            "BusinessTravel: 3\n",
            "Department: 3\n",
            "EducationField: 7\n",
            "Gender: 2\n",
            "JobRole: 9\n",
            "MaritalStatus: 3\n",
            "Over18: 1\n"
          ]
        }
      ],
      "source": [
        "categorial_variables = ['BusinessTravel', 'Department', 'EducationField', 'Gender', 'JobRole', 'MaritalStatus', 'Over18']\n",
        "\n",
        "print('Available dataset:')        \n",
        "for col in df_av[categorial_variables]:\n",
        "    print(f'{col}: {len(df_av[col].unique())}')\n",
        "\n",
        "print('')\n",
        "print('Competition dataset:')        \n",
        "for col in df_co[categorial_variables]:\n",
        "    print(f'{col}: {len(df_co[col].unique())}')"
      ],
      "id": "a3RFtByVmRvQ"
    },
    {
      "cell_type": "markdown",
      "metadata": {
        "id": "OFoFq7fyfKOO"
      },
      "source": [
        "**ID variable: EmployeeID**"
      ],
      "id": "OFoFq7fyfKOO"
    },
    {
      "cell_type": "markdown",
      "metadata": {
        "id": "DgmtEm37vb3h"
      },
      "source": [
        "Based on the name of this variable, it seems to be an ID, then each instance should have a distinct value (that would be 1426 different values). The EmployeeID has 1368 unique values, so we investigated about this in both datasets.\n",
        "\n",
        "We checked that on one hand, in the *available* dataset, there are 54 repeated EmployeeIDs and the other variables information is also repeated: same information in the whole row for the same ID. On the other hand there are 12 repeated EmployeeIDs in the *competition* dataset."
      ],
      "id": "DgmtEm37vb3h"
    },
    {
      "cell_type": "code",
      "execution_count": 12,
      "metadata": {
        "colab": {
          "base_uri": "https://localhost:8080/"
        },
        "id": "9n64IUswsqK5",
        "outputId": "a4af9714-6d92-4e38-8ac2-0d75e7245baa"
      },
      "outputs": [
        {
          "output_type": "stream",
          "name": "stdout",
          "text": [
            "Available dataset:\n",
            "The repeated employee IDs are 54\n",
            "The dataframe that contains one row for each repeated ID has 54 instances\n",
            "That is how we check that all the variable for the same ID are the same.\n"
          ]
        }
      ],
      "source": [
        "print('Available dataset:')\n",
        "# List of repeated EmployeeIDs\n",
        "employeeid_repeated = df_av['EmployeeID'].value_counts()[df_av['EmployeeID'].value_counts()>1].index.tolist()\n",
        "print(f'The repeated employee IDs are {len(employeeid_repeated)}')\n",
        "\n",
        "# Dataframe with one row for each repeated ID\n",
        "df2 = pd.DataFrame()\n",
        "for id in employeeid_repeated:\n",
        "  df = df_av[df_av['EmployeeID']==id].drop_duplicates(subset=df_av.columns[df_av.columns!='Attrition'])\n",
        "  df2 = pd.concat([df2, df])\n",
        "print(f'The dataframe that contains one row for each repeated ID has {df2.shape[0]} instances')\n",
        "print(f'That is how we check that all the variable for the same ID are the same.')"
      ],
      "id": "9n64IUswsqK5"
    },
    {
      "cell_type": "markdown",
      "metadata": {
        "id": "eVBpaWQIMVpB"
      },
      "source": [
        "The following is an example of a EmployeeID (=33) that repeats three times in the *available* dataframe, with the same information in the whole row"
      ],
      "id": "eVBpaWQIMVpB"
    },
    {
      "cell_type": "code",
      "execution_count": 13,
      "metadata": {
        "colab": {
          "base_uri": "https://localhost:8080/",
          "height": 0
        },
        "id": "fQldc50dL5Fs",
        "outputId": "57863f73-d200-4b2e-8846-317c4c7fa929"
      },
      "outputs": [
        {
          "output_type": "execute_result",
          "data": {
            "text/plain": [
              "         hrs  absences  JobInvolvement  PerformanceRating  \\\n",
              "32  9.884587        15               3                  3   \n",
              "32  9.884587        15               3                  3   \n",
              "32  9.884587        15               3                  3   \n",
              "\n",
              "    EnvironmentSatisfaction  JobSatisfaction  WorkLifeBalance  Age Attrition  \\\n",
              "32                      3.0              1.0              3.0   49        No   \n",
              "32                      3.0              1.0              3.0   49        No   \n",
              "32                      3.0              1.0              3.0   49        No   \n",
              "\n",
              "       BusinessTravel  ... NumCompaniesWorked  Over18  PercentSalaryHike  \\\n",
              "32  Travel_Frequently  ...                9.0       Y                 13   \n",
              "32  Travel_Frequently  ...                9.0       Y                 13   \n",
              "32  Travel_Frequently  ...                9.0       Y                 13   \n",
              "\n",
              "   StandardHours  StockOptionLevel  TotalWorkingYears TrainingTimesLastYear  \\\n",
              "32             8                 0               22.0                     2   \n",
              "32             8                 0               22.0                     2   \n",
              "32             8                 0               22.0                     2   \n",
              "\n",
              "    YearsAtCompany YearsSinceLastPromotion YearsWithCurrManager  \n",
              "32               3                       1                    2  \n",
              "32               3                       1                    2  \n",
              "32               3                       1                    2  \n",
              "\n",
              "[3 rows x 31 columns]"
            ],
            "text/html": [
              "\n",
              "  <div id=\"df-d0fc1c63-53e6-4c09-a0d8-fd725bce8f86\">\n",
              "    <div class=\"colab-df-container\">\n",
              "      <div>\n",
              "<style scoped>\n",
              "    .dataframe tbody tr th:only-of-type {\n",
              "        vertical-align: middle;\n",
              "    }\n",
              "\n",
              "    .dataframe tbody tr th {\n",
              "        vertical-align: top;\n",
              "    }\n",
              "\n",
              "    .dataframe thead th {\n",
              "        text-align: right;\n",
              "    }\n",
              "</style>\n",
              "<table border=\"1\" class=\"dataframe\">\n",
              "  <thead>\n",
              "    <tr style=\"text-align: right;\">\n",
              "      <th></th>\n",
              "      <th>hrs</th>\n",
              "      <th>absences</th>\n",
              "      <th>JobInvolvement</th>\n",
              "      <th>PerformanceRating</th>\n",
              "      <th>EnvironmentSatisfaction</th>\n",
              "      <th>JobSatisfaction</th>\n",
              "      <th>WorkLifeBalance</th>\n",
              "      <th>Age</th>\n",
              "      <th>Attrition</th>\n",
              "      <th>BusinessTravel</th>\n",
              "      <th>...</th>\n",
              "      <th>NumCompaniesWorked</th>\n",
              "      <th>Over18</th>\n",
              "      <th>PercentSalaryHike</th>\n",
              "      <th>StandardHours</th>\n",
              "      <th>StockOptionLevel</th>\n",
              "      <th>TotalWorkingYears</th>\n",
              "      <th>TrainingTimesLastYear</th>\n",
              "      <th>YearsAtCompany</th>\n",
              "      <th>YearsSinceLastPromotion</th>\n",
              "      <th>YearsWithCurrManager</th>\n",
              "    </tr>\n",
              "  </thead>\n",
              "  <tbody>\n",
              "    <tr>\n",
              "      <th>32</th>\n",
              "      <td>9.884587</td>\n",
              "      <td>15</td>\n",
              "      <td>3</td>\n",
              "      <td>3</td>\n",
              "      <td>3.0</td>\n",
              "      <td>1.0</td>\n",
              "      <td>3.0</td>\n",
              "      <td>49</td>\n",
              "      <td>No</td>\n",
              "      <td>Travel_Frequently</td>\n",
              "      <td>...</td>\n",
              "      <td>9.0</td>\n",
              "      <td>Y</td>\n",
              "      <td>13</td>\n",
              "      <td>8</td>\n",
              "      <td>0</td>\n",
              "      <td>22.0</td>\n",
              "      <td>2</td>\n",
              "      <td>3</td>\n",
              "      <td>1</td>\n",
              "      <td>2</td>\n",
              "    </tr>\n",
              "    <tr>\n",
              "      <th>32</th>\n",
              "      <td>9.884587</td>\n",
              "      <td>15</td>\n",
              "      <td>3</td>\n",
              "      <td>3</td>\n",
              "      <td>3.0</td>\n",
              "      <td>1.0</td>\n",
              "      <td>3.0</td>\n",
              "      <td>49</td>\n",
              "      <td>No</td>\n",
              "      <td>Travel_Frequently</td>\n",
              "      <td>...</td>\n",
              "      <td>9.0</td>\n",
              "      <td>Y</td>\n",
              "      <td>13</td>\n",
              "      <td>8</td>\n",
              "      <td>0</td>\n",
              "      <td>22.0</td>\n",
              "      <td>2</td>\n",
              "      <td>3</td>\n",
              "      <td>1</td>\n",
              "      <td>2</td>\n",
              "    </tr>\n",
              "    <tr>\n",
              "      <th>32</th>\n",
              "      <td>9.884587</td>\n",
              "      <td>15</td>\n",
              "      <td>3</td>\n",
              "      <td>3</td>\n",
              "      <td>3.0</td>\n",
              "      <td>1.0</td>\n",
              "      <td>3.0</td>\n",
              "      <td>49</td>\n",
              "      <td>No</td>\n",
              "      <td>Travel_Frequently</td>\n",
              "      <td>...</td>\n",
              "      <td>9.0</td>\n",
              "      <td>Y</td>\n",
              "      <td>13</td>\n",
              "      <td>8</td>\n",
              "      <td>0</td>\n",
              "      <td>22.0</td>\n",
              "      <td>2</td>\n",
              "      <td>3</td>\n",
              "      <td>1</td>\n",
              "      <td>2</td>\n",
              "    </tr>\n",
              "  </tbody>\n",
              "</table>\n",
              "<p>3 rows × 31 columns</p>\n",
              "</div>\n",
              "      <button class=\"colab-df-convert\" onclick=\"convertToInteractive('df-d0fc1c63-53e6-4c09-a0d8-fd725bce8f86')\"\n",
              "              title=\"Convert this dataframe to an interactive table.\"\n",
              "              style=\"display:none;\">\n",
              "        \n",
              "  <svg xmlns=\"http://www.w3.org/2000/svg\" height=\"24px\"viewBox=\"0 0 24 24\"\n",
              "       width=\"24px\">\n",
              "    <path d=\"M0 0h24v24H0V0z\" fill=\"none\"/>\n",
              "    <path d=\"M18.56 5.44l.94 2.06.94-2.06 2.06-.94-2.06-.94-.94-2.06-.94 2.06-2.06.94zm-11 1L8.5 8.5l.94-2.06 2.06-.94-2.06-.94L8.5 2.5l-.94 2.06-2.06.94zm10 10l.94 2.06.94-2.06 2.06-.94-2.06-.94-.94-2.06-.94 2.06-2.06.94z\"/><path d=\"M17.41 7.96l-1.37-1.37c-.4-.4-.92-.59-1.43-.59-.52 0-1.04.2-1.43.59L10.3 9.45l-7.72 7.72c-.78.78-.78 2.05 0 2.83L4 21.41c.39.39.9.59 1.41.59.51 0 1.02-.2 1.41-.59l7.78-7.78 2.81-2.81c.8-.78.8-2.07 0-2.86zM5.41 20L4 18.59l7.72-7.72 1.47 1.35L5.41 20z\"/>\n",
              "  </svg>\n",
              "      </button>\n",
              "      \n",
              "  <style>\n",
              "    .colab-df-container {\n",
              "      display:flex;\n",
              "      flex-wrap:wrap;\n",
              "      gap: 12px;\n",
              "    }\n",
              "\n",
              "    .colab-df-convert {\n",
              "      background-color: #E8F0FE;\n",
              "      border: none;\n",
              "      border-radius: 50%;\n",
              "      cursor: pointer;\n",
              "      display: none;\n",
              "      fill: #1967D2;\n",
              "      height: 32px;\n",
              "      padding: 0 0 0 0;\n",
              "      width: 32px;\n",
              "    }\n",
              "\n",
              "    .colab-df-convert:hover {\n",
              "      background-color: #E2EBFA;\n",
              "      box-shadow: 0px 1px 2px rgba(60, 64, 67, 0.3), 0px 1px 3px 1px rgba(60, 64, 67, 0.15);\n",
              "      fill: #174EA6;\n",
              "    }\n",
              "\n",
              "    [theme=dark] .colab-df-convert {\n",
              "      background-color: #3B4455;\n",
              "      fill: #D2E3FC;\n",
              "    }\n",
              "\n",
              "    [theme=dark] .colab-df-convert:hover {\n",
              "      background-color: #434B5C;\n",
              "      box-shadow: 0px 1px 3px 1px rgba(0, 0, 0, 0.15);\n",
              "      filter: drop-shadow(0px 1px 2px rgba(0, 0, 0, 0.3));\n",
              "      fill: #FFFFFF;\n",
              "    }\n",
              "  </style>\n",
              "\n",
              "      <script>\n",
              "        const buttonEl =\n",
              "          document.querySelector('#df-d0fc1c63-53e6-4c09-a0d8-fd725bce8f86 button.colab-df-convert');\n",
              "        buttonEl.style.display =\n",
              "          google.colab.kernel.accessAllowed ? 'block' : 'none';\n",
              "\n",
              "        async function convertToInteractive(key) {\n",
              "          const element = document.querySelector('#df-d0fc1c63-53e6-4c09-a0d8-fd725bce8f86');\n",
              "          const dataTable =\n",
              "            await google.colab.kernel.invokeFunction('convertToInteractive',\n",
              "                                                     [key], {});\n",
              "          if (!dataTable) return;\n",
              "\n",
              "          const docLinkHtml = 'Like what you see? Visit the ' +\n",
              "            '<a target=\"_blank\" href=https://colab.research.google.com/notebooks/data_table.ipynb>data table notebook</a>'\n",
              "            + ' to learn more about interactive tables.';\n",
              "          element.innerHTML = '';\n",
              "          dataTable['output_type'] = 'display_data';\n",
              "          await google.colab.output.renderOutput(dataTable, element);\n",
              "          const docLink = document.createElement('div');\n",
              "          docLink.innerHTML = docLinkHtml;\n",
              "          element.appendChild(docLink);\n",
              "        }\n",
              "      </script>\n",
              "    </div>\n",
              "  </div>\n",
              "  "
            ]
          },
          "metadata": {},
          "execution_count": 13
        }
      ],
      "source": [
        "df_av[df_av['EmployeeID']==employeeid_repeated[1]]"
      ],
      "id": "fQldc50dL5Fs"
    },
    {
      "cell_type": "code",
      "execution_count": 14,
      "metadata": {
        "colab": {
          "base_uri": "https://localhost:8080/"
        },
        "id": "jJ0M6rji73OU",
        "outputId": "4d5236b8-f00f-4785-ba1a-206271bd3d16"
      },
      "outputs": [
        {
          "output_type": "stream",
          "name": "stdout",
          "text": [
            "Competition dataset:\n",
            "The repeated employee IDs are 12\n",
            "The dataframe that contains one row for each repeated ID has 12 instances\n",
            "That is how we check that all the variable for the same ID are the same.\n"
          ]
        }
      ],
      "source": [
        "print('Competition dataset:')\n",
        "# List of repeated EmployeeIDs\n",
        "employeeid_repeated_co = df_co['EmployeeID'].value_counts()[df_co['EmployeeID'].value_counts()>1].index.tolist()\n",
        "print(f'The repeated employee IDs are {len(employeeid_repeated_co)}')\n",
        "\n",
        "# Dataframe with a unique row of the dataframe with repeated IDs\n",
        "df3 = pd.DataFrame()\n",
        "for id in employeeid_repeated_co:\n",
        "  df = df_co[df_co['EmployeeID']==id].drop_duplicates(subset=df_co.columns[df_co.columns!='Attrition'])\n",
        "  df3 = pd.concat([df3, df])\n",
        "print(f'The dataframe that contains one row for each repeated ID has {df3.shape[0]} instances')\n",
        "print(f'That is how we check that all the variable for the same ID are the same.')"
      ],
      "id": "jJ0M6rji73OU"
    },
    {
      "cell_type": "markdown",
      "metadata": {
        "id": "yOx3GfJHMr8A"
      },
      "source": [
        "The following is an example of a EmployeeID (=2234) that repeats two times in the *competition* dataframe, with the same information in the whole row"
      ],
      "id": "yOx3GfJHMr8A"
    },
    {
      "cell_type": "code",
      "execution_count": 15,
      "metadata": {
        "colab": {
          "base_uri": "https://localhost:8080/",
          "height": 0
        },
        "id": "fQDEYx_JMtu2",
        "outputId": "a9b377c3-5d48-4f05-d417-e10579f53f15"
      },
      "outputs": [
        {
          "output_type": "execute_result",
          "data": {
            "text/plain": [
              "           hrs  absences  JobInvolvement  PerformanceRating  \\\n",
              "2233  6.643966        19               2                  3   \n",
              "2233  6.643966        19               2                  3   \n",
              "\n",
              "      EnvironmentSatisfaction  JobSatisfaction  WorkLifeBalance  Age  \\\n",
              "2233                      1.0              1.0              3.0   25   \n",
              "2233                      1.0              1.0              3.0   25   \n",
              "\n",
              "     BusinessTravel Department  ...  NumCompaniesWorked  Over18  \\\n",
              "2233  Travel_Rarely      Sales  ...                 3.0       Y   \n",
              "2233  Travel_Rarely      Sales  ...                 3.0       Y   \n",
              "\n",
              "     PercentSalaryHike  StandardHours  StockOptionLevel TotalWorkingYears  \\\n",
              "2233                19              8                 0               6.0   \n",
              "2233                19              8                 0               6.0   \n",
              "\n",
              "      TrainingTimesLastYear YearsAtCompany YearsSinceLastPromotion  \\\n",
              "2233                      3              3                       2   \n",
              "2233                      3              3                       2   \n",
              "\n",
              "      YearsWithCurrManager  \n",
              "2233                     2  \n",
              "2233                     2  \n",
              "\n",
              "[2 rows x 30 columns]"
            ],
            "text/html": [
              "\n",
              "  <div id=\"df-58210876-2548-4b04-b184-e21decea586f\">\n",
              "    <div class=\"colab-df-container\">\n",
              "      <div>\n",
              "<style scoped>\n",
              "    .dataframe tbody tr th:only-of-type {\n",
              "        vertical-align: middle;\n",
              "    }\n",
              "\n",
              "    .dataframe tbody tr th {\n",
              "        vertical-align: top;\n",
              "    }\n",
              "\n",
              "    .dataframe thead th {\n",
              "        text-align: right;\n",
              "    }\n",
              "</style>\n",
              "<table border=\"1\" class=\"dataframe\">\n",
              "  <thead>\n",
              "    <tr style=\"text-align: right;\">\n",
              "      <th></th>\n",
              "      <th>hrs</th>\n",
              "      <th>absences</th>\n",
              "      <th>JobInvolvement</th>\n",
              "      <th>PerformanceRating</th>\n",
              "      <th>EnvironmentSatisfaction</th>\n",
              "      <th>JobSatisfaction</th>\n",
              "      <th>WorkLifeBalance</th>\n",
              "      <th>Age</th>\n",
              "      <th>BusinessTravel</th>\n",
              "      <th>Department</th>\n",
              "      <th>...</th>\n",
              "      <th>NumCompaniesWorked</th>\n",
              "      <th>Over18</th>\n",
              "      <th>PercentSalaryHike</th>\n",
              "      <th>StandardHours</th>\n",
              "      <th>StockOptionLevel</th>\n",
              "      <th>TotalWorkingYears</th>\n",
              "      <th>TrainingTimesLastYear</th>\n",
              "      <th>YearsAtCompany</th>\n",
              "      <th>YearsSinceLastPromotion</th>\n",
              "      <th>YearsWithCurrManager</th>\n",
              "    </tr>\n",
              "  </thead>\n",
              "  <tbody>\n",
              "    <tr>\n",
              "      <th>2233</th>\n",
              "      <td>6.643966</td>\n",
              "      <td>19</td>\n",
              "      <td>2</td>\n",
              "      <td>3</td>\n",
              "      <td>1.0</td>\n",
              "      <td>1.0</td>\n",
              "      <td>3.0</td>\n",
              "      <td>25</td>\n",
              "      <td>Travel_Rarely</td>\n",
              "      <td>Sales</td>\n",
              "      <td>...</td>\n",
              "      <td>3.0</td>\n",
              "      <td>Y</td>\n",
              "      <td>19</td>\n",
              "      <td>8</td>\n",
              "      <td>0</td>\n",
              "      <td>6.0</td>\n",
              "      <td>3</td>\n",
              "      <td>3</td>\n",
              "      <td>2</td>\n",
              "      <td>2</td>\n",
              "    </tr>\n",
              "    <tr>\n",
              "      <th>2233</th>\n",
              "      <td>6.643966</td>\n",
              "      <td>19</td>\n",
              "      <td>2</td>\n",
              "      <td>3</td>\n",
              "      <td>1.0</td>\n",
              "      <td>1.0</td>\n",
              "      <td>3.0</td>\n",
              "      <td>25</td>\n",
              "      <td>Travel_Rarely</td>\n",
              "      <td>Sales</td>\n",
              "      <td>...</td>\n",
              "      <td>3.0</td>\n",
              "      <td>Y</td>\n",
              "      <td>19</td>\n",
              "      <td>8</td>\n",
              "      <td>0</td>\n",
              "      <td>6.0</td>\n",
              "      <td>3</td>\n",
              "      <td>3</td>\n",
              "      <td>2</td>\n",
              "      <td>2</td>\n",
              "    </tr>\n",
              "  </tbody>\n",
              "</table>\n",
              "<p>2 rows × 30 columns</p>\n",
              "</div>\n",
              "      <button class=\"colab-df-convert\" onclick=\"convertToInteractive('df-58210876-2548-4b04-b184-e21decea586f')\"\n",
              "              title=\"Convert this dataframe to an interactive table.\"\n",
              "              style=\"display:none;\">\n",
              "        \n",
              "  <svg xmlns=\"http://www.w3.org/2000/svg\" height=\"24px\"viewBox=\"0 0 24 24\"\n",
              "       width=\"24px\">\n",
              "    <path d=\"M0 0h24v24H0V0z\" fill=\"none\"/>\n",
              "    <path d=\"M18.56 5.44l.94 2.06.94-2.06 2.06-.94-2.06-.94-.94-2.06-.94 2.06-2.06.94zm-11 1L8.5 8.5l.94-2.06 2.06-.94-2.06-.94L8.5 2.5l-.94 2.06-2.06.94zm10 10l.94 2.06.94-2.06 2.06-.94-2.06-.94-.94-2.06-.94 2.06-2.06.94z\"/><path d=\"M17.41 7.96l-1.37-1.37c-.4-.4-.92-.59-1.43-.59-.52 0-1.04.2-1.43.59L10.3 9.45l-7.72 7.72c-.78.78-.78 2.05 0 2.83L4 21.41c.39.39.9.59 1.41.59.51 0 1.02-.2 1.41-.59l7.78-7.78 2.81-2.81c.8-.78.8-2.07 0-2.86zM5.41 20L4 18.59l7.72-7.72 1.47 1.35L5.41 20z\"/>\n",
              "  </svg>\n",
              "      </button>\n",
              "      \n",
              "  <style>\n",
              "    .colab-df-container {\n",
              "      display:flex;\n",
              "      flex-wrap:wrap;\n",
              "      gap: 12px;\n",
              "    }\n",
              "\n",
              "    .colab-df-convert {\n",
              "      background-color: #E8F0FE;\n",
              "      border: none;\n",
              "      border-radius: 50%;\n",
              "      cursor: pointer;\n",
              "      display: none;\n",
              "      fill: #1967D2;\n",
              "      height: 32px;\n",
              "      padding: 0 0 0 0;\n",
              "      width: 32px;\n",
              "    }\n",
              "\n",
              "    .colab-df-convert:hover {\n",
              "      background-color: #E2EBFA;\n",
              "      box-shadow: 0px 1px 2px rgba(60, 64, 67, 0.3), 0px 1px 3px 1px rgba(60, 64, 67, 0.15);\n",
              "      fill: #174EA6;\n",
              "    }\n",
              "\n",
              "    [theme=dark] .colab-df-convert {\n",
              "      background-color: #3B4455;\n",
              "      fill: #D2E3FC;\n",
              "    }\n",
              "\n",
              "    [theme=dark] .colab-df-convert:hover {\n",
              "      background-color: #434B5C;\n",
              "      box-shadow: 0px 1px 3px 1px rgba(0, 0, 0, 0.15);\n",
              "      filter: drop-shadow(0px 1px 2px rgba(0, 0, 0, 0.3));\n",
              "      fill: #FFFFFF;\n",
              "    }\n",
              "  </style>\n",
              "\n",
              "      <script>\n",
              "        const buttonEl =\n",
              "          document.querySelector('#df-58210876-2548-4b04-b184-e21decea586f button.colab-df-convert');\n",
              "        buttonEl.style.display =\n",
              "          google.colab.kernel.accessAllowed ? 'block' : 'none';\n",
              "\n",
              "        async function convertToInteractive(key) {\n",
              "          const element = document.querySelector('#df-58210876-2548-4b04-b184-e21decea586f');\n",
              "          const dataTable =\n",
              "            await google.colab.kernel.invokeFunction('convertToInteractive',\n",
              "                                                     [key], {});\n",
              "          if (!dataTable) return;\n",
              "\n",
              "          const docLinkHtml = 'Like what you see? Visit the ' +\n",
              "            '<a target=\"_blank\" href=https://colab.research.google.com/notebooks/data_table.ipynb>data table notebook</a>'\n",
              "            + ' to learn more about interactive tables.';\n",
              "          element.innerHTML = '';\n",
              "          dataTable['output_type'] = 'display_data';\n",
              "          await google.colab.output.renderOutput(dataTable, element);\n",
              "          const docLink = document.createElement('div');\n",
              "          docLink.innerHTML = docLinkHtml;\n",
              "          element.appendChild(docLink);\n",
              "        }\n",
              "      </script>\n",
              "    </div>\n",
              "  </div>\n",
              "  "
            ]
          },
          "metadata": {},
          "execution_count": 15
        }
      ],
      "source": [
        "df_co[df_co['EmployeeID']==employeeid_repeated_co[0]]"
      ],
      "id": "fQDEYx_JMtu2"
    },
    {
      "cell_type": "markdown",
      "metadata": {
        "id": "12USMHs_nmpS"
      },
      "source": [
        "Also, in a real life problem, we should verify that the instances are unique in both datasets: *available* and *competition*. That is we should have employee records and therefore EmployeeID unique in both datasets.\n",
        "\n"
      ],
      "id": "12USMHs_nmpS"
    },
    {
      "cell_type": "code",
      "execution_count": 16,
      "metadata": {
        "colab": {
          "base_uri": "https://localhost:8080/"
        },
        "id": "tVsocFbdnm32",
        "outputId": "cc1ce721-01b6-4ed3-bc6a-30be2e207212"
      },
      "outputs": [
        {
          "output_type": "stream",
          "name": "stdout",
          "text": [
            "The number of EmployeeIDs that are in both datasets are: 105\n",
            "The number of unique rows of the EmployeeIDs included in both datasets, that have the same information in the whole row: 105\n"
          ]
        }
      ],
      "source": [
        "# List of unique EmployeeIDs in the available dataset\n",
        "employeeid_list = df_av['EmployeeID'].value_counts().index.tolist()\n",
        "# List of unique EmployeeIDs in the competition dataset\n",
        "employeeid_list_co = df_co['EmployeeID'].value_counts().index.tolist()\n",
        "\n",
        "# Intersection of both previous EmployeeIDs lists\n",
        "list_repeated_ids = list(set(employeeid_list).intersection(employeeid_list_co))\n",
        "print(f'The number of EmployeeIDs that are in both datasets are: {len(list_repeated_ids)}')\n",
        "\n",
        "# Check that a dataframe that contains one row for each ID in the intersection list share the same information\n",
        "count=0\n",
        "for i in list_repeated_ids:\n",
        "  if np.array_equal(df_av.loc[:, df_av.columns != 'Attrition'].fillna('-')[df_av['EmployeeID']==i].values[0], \n",
        "                    df_co.fillna('-')[df_co['EmployeeID']==i].values[0]) == True:\n",
        "                    count = count+1\n",
        "  else:\n",
        "    count = count+0\n",
        "print(f'The number of unique rows of the EmployeeIDs included in both datasets, that have the same information in the whole row: {count}')"
      ],
      "id": "tVsocFbdnm32"
    },
    {
      "cell_type": "markdown",
      "metadata": {
        "id": "04FxeQz1NcHm"
      },
      "source": [
        "The following is an example of a EmployeeID (=2051) that is the same instance (all the information in the row) is in both datasets: *available* and *competition*."
      ],
      "id": "04FxeQz1NcHm"
    },
    {
      "cell_type": "code",
      "execution_count": 17,
      "metadata": {
        "colab": {
          "base_uri": "https://localhost:8080/",
          "height": 0
        },
        "id": "J2_hVB1INDoZ",
        "outputId": "7cb83261-00da-47f4-a7c3-08e1b4e5c2a2"
      },
      "outputs": [
        {
          "output_type": "execute_result",
          "data": {
            "text/plain": [
              "          hrs  absences  JobInvolvement  PerformanceRating  \\\n",
              "2050  7.81465         7               1                  3   \n",
              "\n",
              "      EnvironmentSatisfaction  JobSatisfaction  WorkLifeBalance  Age  \\\n",
              "2050                      3.0              1.0              2.0   42   \n",
              "\n",
              "     Attrition     BusinessTravel  ... NumCompaniesWorked  Over18  \\\n",
              "2050       Yes  Travel_Frequently  ...                0.0       Y   \n",
              "\n",
              "      PercentSalaryHike StandardHours  StockOptionLevel  TotalWorkingYears  \\\n",
              "2050                 16             8                 0               22.0   \n",
              "\n",
              "     TrainingTimesLastYear  YearsAtCompany YearsSinceLastPromotion  \\\n",
              "2050                     3              21                      13   \n",
              "\n",
              "     YearsWithCurrManager  \n",
              "2050                   14  \n",
              "\n",
              "[1 rows x 31 columns]"
            ],
            "text/html": [
              "\n",
              "  <div id=\"df-9562ee1d-7a9e-41fc-b1c4-22ffd0659cd2\">\n",
              "    <div class=\"colab-df-container\">\n",
              "      <div>\n",
              "<style scoped>\n",
              "    .dataframe tbody tr th:only-of-type {\n",
              "        vertical-align: middle;\n",
              "    }\n",
              "\n",
              "    .dataframe tbody tr th {\n",
              "        vertical-align: top;\n",
              "    }\n",
              "\n",
              "    .dataframe thead th {\n",
              "        text-align: right;\n",
              "    }\n",
              "</style>\n",
              "<table border=\"1\" class=\"dataframe\">\n",
              "  <thead>\n",
              "    <tr style=\"text-align: right;\">\n",
              "      <th></th>\n",
              "      <th>hrs</th>\n",
              "      <th>absences</th>\n",
              "      <th>JobInvolvement</th>\n",
              "      <th>PerformanceRating</th>\n",
              "      <th>EnvironmentSatisfaction</th>\n",
              "      <th>JobSatisfaction</th>\n",
              "      <th>WorkLifeBalance</th>\n",
              "      <th>Age</th>\n",
              "      <th>Attrition</th>\n",
              "      <th>BusinessTravel</th>\n",
              "      <th>...</th>\n",
              "      <th>NumCompaniesWorked</th>\n",
              "      <th>Over18</th>\n",
              "      <th>PercentSalaryHike</th>\n",
              "      <th>StandardHours</th>\n",
              "      <th>StockOptionLevel</th>\n",
              "      <th>TotalWorkingYears</th>\n",
              "      <th>TrainingTimesLastYear</th>\n",
              "      <th>YearsAtCompany</th>\n",
              "      <th>YearsSinceLastPromotion</th>\n",
              "      <th>YearsWithCurrManager</th>\n",
              "    </tr>\n",
              "  </thead>\n",
              "  <tbody>\n",
              "    <tr>\n",
              "      <th>2050</th>\n",
              "      <td>7.81465</td>\n",
              "      <td>7</td>\n",
              "      <td>1</td>\n",
              "      <td>3</td>\n",
              "      <td>3.0</td>\n",
              "      <td>1.0</td>\n",
              "      <td>2.0</td>\n",
              "      <td>42</td>\n",
              "      <td>Yes</td>\n",
              "      <td>Travel_Frequently</td>\n",
              "      <td>...</td>\n",
              "      <td>0.0</td>\n",
              "      <td>Y</td>\n",
              "      <td>16</td>\n",
              "      <td>8</td>\n",
              "      <td>0</td>\n",
              "      <td>22.0</td>\n",
              "      <td>3</td>\n",
              "      <td>21</td>\n",
              "      <td>13</td>\n",
              "      <td>14</td>\n",
              "    </tr>\n",
              "  </tbody>\n",
              "</table>\n",
              "<p>1 rows × 31 columns</p>\n",
              "</div>\n",
              "      <button class=\"colab-df-convert\" onclick=\"convertToInteractive('df-9562ee1d-7a9e-41fc-b1c4-22ffd0659cd2')\"\n",
              "              title=\"Convert this dataframe to an interactive table.\"\n",
              "              style=\"display:none;\">\n",
              "        \n",
              "  <svg xmlns=\"http://www.w3.org/2000/svg\" height=\"24px\"viewBox=\"0 0 24 24\"\n",
              "       width=\"24px\">\n",
              "    <path d=\"M0 0h24v24H0V0z\" fill=\"none\"/>\n",
              "    <path d=\"M18.56 5.44l.94 2.06.94-2.06 2.06-.94-2.06-.94-.94-2.06-.94 2.06-2.06.94zm-11 1L8.5 8.5l.94-2.06 2.06-.94-2.06-.94L8.5 2.5l-.94 2.06-2.06.94zm10 10l.94 2.06.94-2.06 2.06-.94-2.06-.94-.94-2.06-.94 2.06-2.06.94z\"/><path d=\"M17.41 7.96l-1.37-1.37c-.4-.4-.92-.59-1.43-.59-.52 0-1.04.2-1.43.59L10.3 9.45l-7.72 7.72c-.78.78-.78 2.05 0 2.83L4 21.41c.39.39.9.59 1.41.59.51 0 1.02-.2 1.41-.59l7.78-7.78 2.81-2.81c.8-.78.8-2.07 0-2.86zM5.41 20L4 18.59l7.72-7.72 1.47 1.35L5.41 20z\"/>\n",
              "  </svg>\n",
              "      </button>\n",
              "      \n",
              "  <style>\n",
              "    .colab-df-container {\n",
              "      display:flex;\n",
              "      flex-wrap:wrap;\n",
              "      gap: 12px;\n",
              "    }\n",
              "\n",
              "    .colab-df-convert {\n",
              "      background-color: #E8F0FE;\n",
              "      border: none;\n",
              "      border-radius: 50%;\n",
              "      cursor: pointer;\n",
              "      display: none;\n",
              "      fill: #1967D2;\n",
              "      height: 32px;\n",
              "      padding: 0 0 0 0;\n",
              "      width: 32px;\n",
              "    }\n",
              "\n",
              "    .colab-df-convert:hover {\n",
              "      background-color: #E2EBFA;\n",
              "      box-shadow: 0px 1px 2px rgba(60, 64, 67, 0.3), 0px 1px 3px 1px rgba(60, 64, 67, 0.15);\n",
              "      fill: #174EA6;\n",
              "    }\n",
              "\n",
              "    [theme=dark] .colab-df-convert {\n",
              "      background-color: #3B4455;\n",
              "      fill: #D2E3FC;\n",
              "    }\n",
              "\n",
              "    [theme=dark] .colab-df-convert:hover {\n",
              "      background-color: #434B5C;\n",
              "      box-shadow: 0px 1px 3px 1px rgba(0, 0, 0, 0.15);\n",
              "      filter: drop-shadow(0px 1px 2px rgba(0, 0, 0, 0.3));\n",
              "      fill: #FFFFFF;\n",
              "    }\n",
              "  </style>\n",
              "\n",
              "      <script>\n",
              "        const buttonEl =\n",
              "          document.querySelector('#df-9562ee1d-7a9e-41fc-b1c4-22ffd0659cd2 button.colab-df-convert');\n",
              "        buttonEl.style.display =\n",
              "          google.colab.kernel.accessAllowed ? 'block' : 'none';\n",
              "\n",
              "        async function convertToInteractive(key) {\n",
              "          const element = document.querySelector('#df-9562ee1d-7a9e-41fc-b1c4-22ffd0659cd2');\n",
              "          const dataTable =\n",
              "            await google.colab.kernel.invokeFunction('convertToInteractive',\n",
              "                                                     [key], {});\n",
              "          if (!dataTable) return;\n",
              "\n",
              "          const docLinkHtml = 'Like what you see? Visit the ' +\n",
              "            '<a target=\"_blank\" href=https://colab.research.google.com/notebooks/data_table.ipynb>data table notebook</a>'\n",
              "            + ' to learn more about interactive tables.';\n",
              "          element.innerHTML = '';\n",
              "          dataTable['output_type'] = 'display_data';\n",
              "          await google.colab.output.renderOutput(dataTable, element);\n",
              "          const docLink = document.createElement('div');\n",
              "          docLink.innerHTML = docLinkHtml;\n",
              "          element.appendChild(docLink);\n",
              "        }\n",
              "      </script>\n",
              "    </div>\n",
              "  </div>\n",
              "  "
            ]
          },
          "metadata": {},
          "execution_count": 17
        }
      ],
      "source": [
        "df_av[df_av['EmployeeID']==list_repeated_ids[0]]"
      ],
      "id": "J2_hVB1INDoZ"
    },
    {
      "cell_type": "code",
      "execution_count": 18,
      "metadata": {
        "colab": {
          "base_uri": "https://localhost:8080/",
          "height": 0
        },
        "id": "tqJXTnLvND7Z",
        "outputId": "c823b103-49a2-495a-afc8-eae5dd781b3a"
      },
      "outputs": [
        {
          "output_type": "execute_result",
          "data": {
            "text/plain": [
              "          hrs  absences  JobInvolvement  PerformanceRating  \\\n",
              "2050  7.81465         7               1                  3   \n",
              "\n",
              "      EnvironmentSatisfaction  JobSatisfaction  WorkLifeBalance  Age  \\\n",
              "2050                      3.0              1.0              2.0   42   \n",
              "\n",
              "         BusinessTravel Department  ...  NumCompaniesWorked  Over18  \\\n",
              "2050  Travel_Frequently      Sales  ...                 0.0       Y   \n",
              "\n",
              "     PercentSalaryHike  StandardHours  StockOptionLevel TotalWorkingYears  \\\n",
              "2050                16              8                 0              22.0   \n",
              "\n",
              "      TrainingTimesLastYear YearsAtCompany YearsSinceLastPromotion  \\\n",
              "2050                      3             21                      13   \n",
              "\n",
              "      YearsWithCurrManager  \n",
              "2050                    14  \n",
              "\n",
              "[1 rows x 30 columns]"
            ],
            "text/html": [
              "\n",
              "  <div id=\"df-917cc9cf-d190-4f76-a7d3-0b59064d154a\">\n",
              "    <div class=\"colab-df-container\">\n",
              "      <div>\n",
              "<style scoped>\n",
              "    .dataframe tbody tr th:only-of-type {\n",
              "        vertical-align: middle;\n",
              "    }\n",
              "\n",
              "    .dataframe tbody tr th {\n",
              "        vertical-align: top;\n",
              "    }\n",
              "\n",
              "    .dataframe thead th {\n",
              "        text-align: right;\n",
              "    }\n",
              "</style>\n",
              "<table border=\"1\" class=\"dataframe\">\n",
              "  <thead>\n",
              "    <tr style=\"text-align: right;\">\n",
              "      <th></th>\n",
              "      <th>hrs</th>\n",
              "      <th>absences</th>\n",
              "      <th>JobInvolvement</th>\n",
              "      <th>PerformanceRating</th>\n",
              "      <th>EnvironmentSatisfaction</th>\n",
              "      <th>JobSatisfaction</th>\n",
              "      <th>WorkLifeBalance</th>\n",
              "      <th>Age</th>\n",
              "      <th>BusinessTravel</th>\n",
              "      <th>Department</th>\n",
              "      <th>...</th>\n",
              "      <th>NumCompaniesWorked</th>\n",
              "      <th>Over18</th>\n",
              "      <th>PercentSalaryHike</th>\n",
              "      <th>StandardHours</th>\n",
              "      <th>StockOptionLevel</th>\n",
              "      <th>TotalWorkingYears</th>\n",
              "      <th>TrainingTimesLastYear</th>\n",
              "      <th>YearsAtCompany</th>\n",
              "      <th>YearsSinceLastPromotion</th>\n",
              "      <th>YearsWithCurrManager</th>\n",
              "    </tr>\n",
              "  </thead>\n",
              "  <tbody>\n",
              "    <tr>\n",
              "      <th>2050</th>\n",
              "      <td>7.81465</td>\n",
              "      <td>7</td>\n",
              "      <td>1</td>\n",
              "      <td>3</td>\n",
              "      <td>3.0</td>\n",
              "      <td>1.0</td>\n",
              "      <td>2.0</td>\n",
              "      <td>42</td>\n",
              "      <td>Travel_Frequently</td>\n",
              "      <td>Sales</td>\n",
              "      <td>...</td>\n",
              "      <td>0.0</td>\n",
              "      <td>Y</td>\n",
              "      <td>16</td>\n",
              "      <td>8</td>\n",
              "      <td>0</td>\n",
              "      <td>22.0</td>\n",
              "      <td>3</td>\n",
              "      <td>21</td>\n",
              "      <td>13</td>\n",
              "      <td>14</td>\n",
              "    </tr>\n",
              "  </tbody>\n",
              "</table>\n",
              "<p>1 rows × 30 columns</p>\n",
              "</div>\n",
              "      <button class=\"colab-df-convert\" onclick=\"convertToInteractive('df-917cc9cf-d190-4f76-a7d3-0b59064d154a')\"\n",
              "              title=\"Convert this dataframe to an interactive table.\"\n",
              "              style=\"display:none;\">\n",
              "        \n",
              "  <svg xmlns=\"http://www.w3.org/2000/svg\" height=\"24px\"viewBox=\"0 0 24 24\"\n",
              "       width=\"24px\">\n",
              "    <path d=\"M0 0h24v24H0V0z\" fill=\"none\"/>\n",
              "    <path d=\"M18.56 5.44l.94 2.06.94-2.06 2.06-.94-2.06-.94-.94-2.06-.94 2.06-2.06.94zm-11 1L8.5 8.5l.94-2.06 2.06-.94-2.06-.94L8.5 2.5l-.94 2.06-2.06.94zm10 10l.94 2.06.94-2.06 2.06-.94-2.06-.94-.94-2.06-.94 2.06-2.06.94z\"/><path d=\"M17.41 7.96l-1.37-1.37c-.4-.4-.92-.59-1.43-.59-.52 0-1.04.2-1.43.59L10.3 9.45l-7.72 7.72c-.78.78-.78 2.05 0 2.83L4 21.41c.39.39.9.59 1.41.59.51 0 1.02-.2 1.41-.59l7.78-7.78 2.81-2.81c.8-.78.8-2.07 0-2.86zM5.41 20L4 18.59l7.72-7.72 1.47 1.35L5.41 20z\"/>\n",
              "  </svg>\n",
              "      </button>\n",
              "      \n",
              "  <style>\n",
              "    .colab-df-container {\n",
              "      display:flex;\n",
              "      flex-wrap:wrap;\n",
              "      gap: 12px;\n",
              "    }\n",
              "\n",
              "    .colab-df-convert {\n",
              "      background-color: #E8F0FE;\n",
              "      border: none;\n",
              "      border-radius: 50%;\n",
              "      cursor: pointer;\n",
              "      display: none;\n",
              "      fill: #1967D2;\n",
              "      height: 32px;\n",
              "      padding: 0 0 0 0;\n",
              "      width: 32px;\n",
              "    }\n",
              "\n",
              "    .colab-df-convert:hover {\n",
              "      background-color: #E2EBFA;\n",
              "      box-shadow: 0px 1px 2px rgba(60, 64, 67, 0.3), 0px 1px 3px 1px rgba(60, 64, 67, 0.15);\n",
              "      fill: #174EA6;\n",
              "    }\n",
              "\n",
              "    [theme=dark] .colab-df-convert {\n",
              "      background-color: #3B4455;\n",
              "      fill: #D2E3FC;\n",
              "    }\n",
              "\n",
              "    [theme=dark] .colab-df-convert:hover {\n",
              "      background-color: #434B5C;\n",
              "      box-shadow: 0px 1px 3px 1px rgba(0, 0, 0, 0.15);\n",
              "      filter: drop-shadow(0px 1px 2px rgba(0, 0, 0, 0.3));\n",
              "      fill: #FFFFFF;\n",
              "    }\n",
              "  </style>\n",
              "\n",
              "      <script>\n",
              "        const buttonEl =\n",
              "          document.querySelector('#df-917cc9cf-d190-4f76-a7d3-0b59064d154a button.colab-df-convert');\n",
              "        buttonEl.style.display =\n",
              "          google.colab.kernel.accessAllowed ? 'block' : 'none';\n",
              "\n",
              "        async function convertToInteractive(key) {\n",
              "          const element = document.querySelector('#df-917cc9cf-d190-4f76-a7d3-0b59064d154a');\n",
              "          const dataTable =\n",
              "            await google.colab.kernel.invokeFunction('convertToInteractive',\n",
              "                                                     [key], {});\n",
              "          if (!dataTable) return;\n",
              "\n",
              "          const docLinkHtml = 'Like what you see? Visit the ' +\n",
              "            '<a target=\"_blank\" href=https://colab.research.google.com/notebooks/data_table.ipynb>data table notebook</a>'\n",
              "            + ' to learn more about interactive tables.';\n",
              "          element.innerHTML = '';\n",
              "          dataTable['output_type'] = 'display_data';\n",
              "          await google.colab.output.renderOutput(dataTable, element);\n",
              "          const docLink = document.createElement('div');\n",
              "          docLink.innerHTML = docLinkHtml;\n",
              "          element.appendChild(docLink);\n",
              "        }\n",
              "      </script>\n",
              "    </div>\n",
              "  </div>\n",
              "  "
            ]
          },
          "metadata": {},
          "execution_count": 18
        }
      ],
      "source": [
        "df_co[df_co['EmployeeID']==list_repeated_ids[0]]"
      ],
      "id": "tqJXTnLvND7Z"
    },
    {
      "cell_type": "markdown",
      "metadata": {
        "id": "QYCSVQ4zp-em"
      },
      "source": [
        "While in real life we would drop the duplicated rows and keep different instances in the train and test datasets, in this case we will proceed with the entire data set as instructed by the teacher."
      ],
      "id": "QYCSVQ4zp-em"
    },
    {
      "cell_type": "markdown",
      "metadata": {
        "id": "3h7NCsx5pp5h"
      },
      "source": [
        "**Constant columns** "
      ],
      "id": "3h7NCsx5pp5h"
    },
    {
      "cell_type": "markdown",
      "metadata": {
        "id": "FfqtbqOummO1"
      },
      "source": [
        "The columns: EmployeeCount, Over18 and StandardHours just have one value in all the available and competition datasets: '1', 'Y' and '8' respectively. Because they don't vary if the employee leaves or not the company, we will remove them in order to model."
      ],
      "id": "FfqtbqOummO1"
    },
    {
      "cell_type": "code",
      "execution_count": 19,
      "metadata": {
        "colab": {
          "base_uri": "https://localhost:8080/"
        },
        "id": "So-wwS8RwFdG",
        "outputId": "2e10638b-c048-45a4-ed76-288bd92d0a7c"
      },
      "outputs": [
        {
          "output_type": "stream",
          "name": "stdout",
          "text": [
            "1    1426\n",
            "Name: EmployeeCount, dtype: int64 \n",
            "\n",
            "Y    1426\n",
            "Name: Over18, dtype: int64 \n",
            "\n",
            "8    1426\n",
            "Name: StandardHours, dtype: int64 \n",
            "\n"
          ]
        }
      ],
      "source": [
        "for col in ['EmployeeCount', 'Over18', 'StandardHours']:\n",
        "  print(f'{df_av[col].value_counts()} \\n')"
      ],
      "id": "So-wwS8RwFdG"
    },
    {
      "cell_type": "markdown",
      "metadata": {
        "id": "8ugOSmJlmp3Z"
      },
      "source": [
        "**Missing values**"
      ],
      "id": "8ugOSmJlmp3Z"
    },
    {
      "cell_type": "markdown",
      "metadata": {
        "id": "TZt2YvMxcH87"
      },
      "source": [
        "There are some columns (8 in the available and 7 in the contest dataset) with missing values. Four columns: hrs, WorkLifeBalance, Education and EducationField have around 10% of missing values, which its a significative amount of missing data and some inputation techniques should be used when needed when using modeling algorithms.\n",
        "\n",
        "Both datasets have almost the same columns with missing values, except fot JobSatisfaction that has 4 instances with missing values in the available dataset, but no missing values in the competition dataset."
      ],
      "id": "TZt2YvMxcH87"
    },
    {
      "cell_type": "code",
      "execution_count": 20,
      "metadata": {
        "colab": {
          "base_uri": "https://localhost:8080/"
        },
        "id": "3a45537b",
        "outputId": "5006d3f2-7270-49d6-8e75-63fe3f03e6af",
        "scrolled": true
      },
      "outputs": [
        {
          "output_type": "stream",
          "name": "stdout",
          "text": [
            "Available dataset\n",
            "\n",
            "Count total NaN at columns with missing values:\n",
            " hrs                        140\n",
            "EnvironmentSatisfaction      9\n",
            "JobSatisfaction              4\n",
            "WorkLifeBalance            147\n",
            "Education                  149\n",
            "EducationField             135\n",
            "NumCompaniesWorked           7\n",
            "TotalWorkingYears            2\n",
            "dtype: int64 \n",
            "\n",
            "Percentage of instances with missing values: \n",
            " hrs                         9.82\n",
            "EnvironmentSatisfaction     0.63\n",
            "JobSatisfaction             0.28\n",
            "WorkLifeBalance            10.31\n",
            "Education                  10.45\n",
            "EducationField              9.47\n",
            "NumCompaniesWorked          0.49\n",
            "TotalWorkingYears           0.14\n",
            "dtype: float64\n"
          ]
        }
      ],
      "source": [
        "print('Available dataset\\n')\n",
        "print(f'Count total NaN at columns with missing values:\\n {df_av.isnull().sum()[df_av.isnull().sum()>0]} \\n')\n",
        "print(f'Percentage of instances with missing values: \\n {round(df_av.isnull().sum()[df_av.isnull().sum()>0]/df_av.shape[0],4)*100}')"
      ],
      "id": "3a45537b"
    },
    {
      "cell_type": "code",
      "execution_count": 21,
      "metadata": {
        "colab": {
          "base_uri": "https://localhost:8080/"
        },
        "id": "2cbbaf7e",
        "outputId": "098094ec-574d-4d50-b24b-6558812676fa",
        "scrolled": true
      },
      "outputs": [
        {
          "output_type": "stream",
          "name": "stdout",
          "text": [
            "Competition dataset\n",
            "\n",
            "Count total NaN at columns with missing values:\n",
            " hrs                        25\n",
            "EnvironmentSatisfaction     3\n",
            "WorkLifeBalance            18\n",
            "Education                  24\n",
            "EducationField             23\n",
            "NumCompaniesWorked          1\n",
            "TotalWorkingYears           2\n",
            "dtype: int64 \n",
            "\n",
            "Percentage of instances with missing values: \n",
            " hrs                        12.5\n",
            "EnvironmentSatisfaction     1.5\n",
            "WorkLifeBalance             9.0\n",
            "Education                  12.0\n",
            "EducationField             11.5\n",
            "NumCompaniesWorked          0.5\n",
            "TotalWorkingYears           1.0\n",
            "dtype: float64\n"
          ]
        }
      ],
      "source": [
        "print('Competition dataset\\n')\n",
        "print(f'Count total NaN at columns with missing values:\\n {df_co.isnull().sum()[df_co.isnull().sum()>0]} \\n')\n",
        "print(f'Percentage of instances with missing values: \\n {round(df_co.isnull().sum()[df_co.isnull().sum()>0]/df_co.shape[0],4)*100}')"
      ],
      "id": "2cbbaf7e"
    },
    {
      "cell_type": "markdown",
      "metadata": {
        "id": "4L3AcyudnNNR"
      },
      "source": [
        "**Type of model**"
      ],
      "id": "4L3AcyudnNNR"
    },
    {
      "cell_type": "markdown",
      "metadata": {
        "id": "EU5C-vInlGu6"
      },
      "source": [
        "The employee attrition case is a classification problem, because the Attrition variable is categorical: if the employee left or not the company. It's a balanced situation because we have almost half and half instances for each case."
      ],
      "id": "EU5C-vInlGu6"
    },
    {
      "cell_type": "code",
      "execution_count": 22,
      "metadata": {
        "colab": {
          "base_uri": "https://localhost:8080/"
        },
        "id": "7fd1f7c1",
        "outputId": "dc2963d4-c1ef-4274-dcf7-5d9abe037b02"
      },
      "outputs": [
        {
          "output_type": "stream",
          "name": "stdout",
          "text": [
            "No     715\n",
            "Yes    711\n",
            "Name: Attrition, dtype: int64\n",
            "\n",
            "Percentage of each category:\n",
            "No     50.14\n",
            "Yes    49.86\n",
            "Name: Attrition, dtype: float64\n"
          ]
        }
      ],
      "source": [
        "print(df_av['Attrition'].value_counts())\n",
        "\n",
        "print('\\nPercentage of each category:')\n",
        "print(round(df_av['Attrition'].value_counts()/df_av.shape[0],4)*100)"
      ],
      "id": "7fd1f7c1"
    },
    {
      "cell_type": "markdown",
      "metadata": {
        "id": "0ojizUaaCy6w"
      },
      "source": [
        "### 2. Selection of size of test set for the outer evaluation"
      ],
      "id": "0ojizUaaCy6w"
    },
    {
      "cell_type": "markdown",
      "metadata": {
        "id": "ikK_WpbT1Zu6"
      },
      "source": [
        "In order to decide on an initial reasonable size of the test set for the outer evaluation, we will do some model experiments using tree models as classifiers. "
      ],
      "id": "ikK_WpbT1Zu6"
    },
    {
      "cell_type": "code",
      "execution_count": 23,
      "metadata": {
        "id": "sJm6I83iugQE"
      },
      "outputs": [],
      "source": [
        "# One of our NIAs will be used as a Seed\n",
        "nia = 100435291"
      ],
      "id": "sJm6I83iugQE"
    },
    {
      "cell_type": "markdown",
      "metadata": {
        "id": "iE9HVMH00wOt"
      },
      "source": [
        "We create the X and y elements that will be used in sklearn. For X, we drop the EmployeeID column, the target variable (Attrition) and constant variables: EmployeeCount, Over18 and StandardHours."
      ],
      "id": "iE9HVMH00wOt"
    },
    {
      "cell_type": "code",
      "execution_count": 24,
      "metadata": {
        "id": "jsGa5EMBF79T"
      },
      "outputs": [],
      "source": [
        "# Drop: EmployeeID column, target variable (Attrition) and constant variables: EmployeeCount, Over18 and StandardHours\n",
        "X = df_av.drop(['EmployeeCount', 'Over18', 'StandardHours', 'EmployeeID', 'Attrition'], axis=1)\n",
        "# Define target variable as 1 when \"Yes\" and 0 otherwise\n",
        "y = np.where(df_av.Attrition == \"Yes\", 1, 0)"
      ],
      "id": "jsGa5EMBF79T"
    },
    {
      "cell_type": "code",
      "execution_count": 25,
      "metadata": {
        "id": "Yh5K-8tte3b4"
      },
      "outputs": [],
      "source": [
        "# List of categorical features\n",
        "categorical_features = ['BusinessTravel', 'Department', 'EducationField', 'Gender', 'JobRole', 'MaritalStatus']\n",
        "\n",
        "# List of numerical features\n",
        "numerical_features = ['hrs', 'absences', 'JobInvolvement', 'PerformanceRating', 'EnvironmentSatisfaction', 'JobSatisfaction',\n",
        "                      'WorkLifeBalance', 'Age', 'DistanceFromHome', 'Education', 'JobLevel', 'MonthlyIncome', 'NumCompaniesWorked',\n",
        "                      'PercentSalaryHike', 'StockOptionLevel', 'TotalWorkingYears', 'TrainingTimesLastYear', 'YearsAtCompany', \n",
        "                      'YearsSinceLastPromotion', 'YearsWithCurrManager']"
      ],
      "id": "Yh5K-8tte3b4"
    },
    {
      "cell_type": "markdown",
      "metadata": {
        "id": "8O7oLA3Y1C4B"
      },
      "source": [
        "We define the pipeline with two steps the preprocessor and classifier. The first one is defined by: imputing the missing values with the most frequent strategy for categorical variables and the median for the numerical variables and also scaling the values for the numerical variables and using one hot encoder methodology for the categorical variables. The classifier is a tree model with default hyperparameters."
      ],
      "id": "8O7oLA3Y1C4B"
    },
    {
      "cell_type": "code",
      "execution_count": 26,
      "metadata": {
        "colab": {
          "base_uri": "https://localhost:8080/",
          "height": 0
        },
        "id": "njC1yBrMIVVu",
        "outputId": "cbb063f9-3854-4d6f-9353-415d667edb70"
      },
      "outputs": [
        {
          "output_type": "execute_result",
          "data": {
            "text/plain": [
              "Pipeline(steps=[('preprocessor',\n",
              "                 ColumnTransformer(transformers=[('numerical',\n",
              "                                                  Pipeline(steps=[('imputer',\n",
              "                                                                   SimpleImputer(strategy='median')),\n",
              "                                                                  ('scale',\n",
              "                                                                   StandardScaler())]),\n",
              "                                                  ['hrs', 'absences',\n",
              "                                                   'JobInvolvement',\n",
              "                                                   'PerformanceRating',\n",
              "                                                   'EnvironmentSatisfaction',\n",
              "                                                   'JobSatisfaction',\n",
              "                                                   'WorkLifeBalance', 'Age',\n",
              "                                                   'DistanceFromHome',\n",
              "                                                   'Education', 'JobLevel',\n",
              "                                                   'MonthlyIncome',\n",
              "                                                   'N...\n",
              "                                                   'YearsSinceLastPromotion',\n",
              "                                                   'YearsWithCurrManager']),\n",
              "                                                 ('categorical',\n",
              "                                                  Pipeline(steps=[('imputer',\n",
              "                                                                   SimpleImputer(fill_value='missing',\n",
              "                                                                                 strategy='most_frequent')),\n",
              "                                                                  ('onehot',\n",
              "                                                                   OneHotEncoder(handle_unknown='ignore'))]),\n",
              "                                                  ['BusinessTravel',\n",
              "                                                   'Department',\n",
              "                                                   'EducationField', 'Gender',\n",
              "                                                   'JobRole',\n",
              "                                                   'MaritalStatus'])])),\n",
              "                ('classifier', DecisionTreeClassifier(random_state=100435291))])"
            ],
            "text/html": [
              "<style>#sk-fba43b3c-354e-45bf-a8be-af4347674d73 {color: black;background-color: white;}#sk-fba43b3c-354e-45bf-a8be-af4347674d73 pre{padding: 0;}#sk-fba43b3c-354e-45bf-a8be-af4347674d73 div.sk-toggleable {background-color: white;}#sk-fba43b3c-354e-45bf-a8be-af4347674d73 label.sk-toggleable__label {cursor: pointer;display: block;width: 100%;margin-bottom: 0;padding: 0.3em;box-sizing: border-box;text-align: center;}#sk-fba43b3c-354e-45bf-a8be-af4347674d73 label.sk-toggleable__label-arrow:before {content: \"▸\";float: left;margin-right: 0.25em;color: #696969;}#sk-fba43b3c-354e-45bf-a8be-af4347674d73 label.sk-toggleable__label-arrow:hover:before {color: black;}#sk-fba43b3c-354e-45bf-a8be-af4347674d73 div.sk-estimator:hover label.sk-toggleable__label-arrow:before {color: black;}#sk-fba43b3c-354e-45bf-a8be-af4347674d73 div.sk-toggleable__content {max-height: 0;max-width: 0;overflow: hidden;text-align: left;background-color: #f0f8ff;}#sk-fba43b3c-354e-45bf-a8be-af4347674d73 div.sk-toggleable__content pre {margin: 0.2em;color: black;border-radius: 0.25em;background-color: #f0f8ff;}#sk-fba43b3c-354e-45bf-a8be-af4347674d73 input.sk-toggleable__control:checked~div.sk-toggleable__content {max-height: 200px;max-width: 100%;overflow: auto;}#sk-fba43b3c-354e-45bf-a8be-af4347674d73 input.sk-toggleable__control:checked~label.sk-toggleable__label-arrow:before {content: \"▾\";}#sk-fba43b3c-354e-45bf-a8be-af4347674d73 div.sk-estimator input.sk-toggleable__control:checked~label.sk-toggleable__label {background-color: #d4ebff;}#sk-fba43b3c-354e-45bf-a8be-af4347674d73 div.sk-label input.sk-toggleable__control:checked~label.sk-toggleable__label {background-color: #d4ebff;}#sk-fba43b3c-354e-45bf-a8be-af4347674d73 input.sk-hidden--visually {border: 0;clip: rect(1px 1px 1px 1px);clip: rect(1px, 1px, 1px, 1px);height: 1px;margin: -1px;overflow: hidden;padding: 0;position: absolute;width: 1px;}#sk-fba43b3c-354e-45bf-a8be-af4347674d73 div.sk-estimator {font-family: monospace;background-color: #f0f8ff;border: 1px dotted black;border-radius: 0.25em;box-sizing: border-box;margin-bottom: 0.5em;}#sk-fba43b3c-354e-45bf-a8be-af4347674d73 div.sk-estimator:hover {background-color: #d4ebff;}#sk-fba43b3c-354e-45bf-a8be-af4347674d73 div.sk-parallel-item::after {content: \"\";width: 100%;border-bottom: 1px solid gray;flex-grow: 1;}#sk-fba43b3c-354e-45bf-a8be-af4347674d73 div.sk-label:hover label.sk-toggleable__label {background-color: #d4ebff;}#sk-fba43b3c-354e-45bf-a8be-af4347674d73 div.sk-serial::before {content: \"\";position: absolute;border-left: 1px solid gray;box-sizing: border-box;top: 2em;bottom: 0;left: 50%;}#sk-fba43b3c-354e-45bf-a8be-af4347674d73 div.sk-serial {display: flex;flex-direction: column;align-items: center;background-color: white;padding-right: 0.2em;padding-left: 0.2em;}#sk-fba43b3c-354e-45bf-a8be-af4347674d73 div.sk-item {z-index: 1;}#sk-fba43b3c-354e-45bf-a8be-af4347674d73 div.sk-parallel {display: flex;align-items: stretch;justify-content: center;background-color: white;}#sk-fba43b3c-354e-45bf-a8be-af4347674d73 div.sk-parallel::before {content: \"\";position: absolute;border-left: 1px solid gray;box-sizing: border-box;top: 2em;bottom: 0;left: 50%;}#sk-fba43b3c-354e-45bf-a8be-af4347674d73 div.sk-parallel-item {display: flex;flex-direction: column;position: relative;background-color: white;}#sk-fba43b3c-354e-45bf-a8be-af4347674d73 div.sk-parallel-item:first-child::after {align-self: flex-end;width: 50%;}#sk-fba43b3c-354e-45bf-a8be-af4347674d73 div.sk-parallel-item:last-child::after {align-self: flex-start;width: 50%;}#sk-fba43b3c-354e-45bf-a8be-af4347674d73 div.sk-parallel-item:only-child::after {width: 0;}#sk-fba43b3c-354e-45bf-a8be-af4347674d73 div.sk-dashed-wrapped {border: 1px dashed gray;margin: 0 0.4em 0.5em 0.4em;box-sizing: border-box;padding-bottom: 0.4em;background-color: white;position: relative;}#sk-fba43b3c-354e-45bf-a8be-af4347674d73 div.sk-label label {font-family: monospace;font-weight: bold;background-color: white;display: inline-block;line-height: 1.2em;}#sk-fba43b3c-354e-45bf-a8be-af4347674d73 div.sk-label-container {position: relative;z-index: 2;text-align: center;}#sk-fba43b3c-354e-45bf-a8be-af4347674d73 div.sk-container {/* jupyter's `normalize.less` sets `[hidden] { display: none; }` but bootstrap.min.css set `[hidden] { display: none !important; }` so we also need the `!important` here to be able to override the default hidden behavior on the sphinx rendered scikit-learn.org. See: https://github.com/scikit-learn/scikit-learn/issues/21755 */display: inline-block !important;position: relative;}#sk-fba43b3c-354e-45bf-a8be-af4347674d73 div.sk-text-repr-fallback {display: none;}</style><div id=\"sk-fba43b3c-354e-45bf-a8be-af4347674d73\" class=\"sk-top-container\"><div class=\"sk-text-repr-fallback\"><pre>Pipeline(steps=[(&#x27;preprocessor&#x27;,\n",
              "                 ColumnTransformer(transformers=[(&#x27;numerical&#x27;,\n",
              "                                                  Pipeline(steps=[(&#x27;imputer&#x27;,\n",
              "                                                                   SimpleImputer(strategy=&#x27;median&#x27;)),\n",
              "                                                                  (&#x27;scale&#x27;,\n",
              "                                                                   StandardScaler())]),\n",
              "                                                  [&#x27;hrs&#x27;, &#x27;absences&#x27;,\n",
              "                                                   &#x27;JobInvolvement&#x27;,\n",
              "                                                   &#x27;PerformanceRating&#x27;,\n",
              "                                                   &#x27;EnvironmentSatisfaction&#x27;,\n",
              "                                                   &#x27;JobSatisfaction&#x27;,\n",
              "                                                   &#x27;WorkLifeBalance&#x27;, &#x27;Age&#x27;,\n",
              "                                                   &#x27;DistanceFromHome&#x27;,\n",
              "                                                   &#x27;Education&#x27;, &#x27;JobLevel&#x27;,\n",
              "                                                   &#x27;MonthlyIncome&#x27;,\n",
              "                                                   &#x27;N...\n",
              "                                                   &#x27;YearsSinceLastPromotion&#x27;,\n",
              "                                                   &#x27;YearsWithCurrManager&#x27;]),\n",
              "                                                 (&#x27;categorical&#x27;,\n",
              "                                                  Pipeline(steps=[(&#x27;imputer&#x27;,\n",
              "                                                                   SimpleImputer(fill_value=&#x27;missing&#x27;,\n",
              "                                                                                 strategy=&#x27;most_frequent&#x27;)),\n",
              "                                                                  (&#x27;onehot&#x27;,\n",
              "                                                                   OneHotEncoder(handle_unknown=&#x27;ignore&#x27;))]),\n",
              "                                                  [&#x27;BusinessTravel&#x27;,\n",
              "                                                   &#x27;Department&#x27;,\n",
              "                                                   &#x27;EducationField&#x27;, &#x27;Gender&#x27;,\n",
              "                                                   &#x27;JobRole&#x27;,\n",
              "                                                   &#x27;MaritalStatus&#x27;])])),\n",
              "                (&#x27;classifier&#x27;, DecisionTreeClassifier(random_state=100435291))])</pre><b>Please rerun this cell to show the HTML repr or trust the notebook.</b></div><div class=\"sk-container\" hidden><div class=\"sk-item sk-dashed-wrapped\"><div class=\"sk-label-container\"><div class=\"sk-label sk-toggleable\"><input class=\"sk-toggleable__control sk-hidden--visually\" id=\"e3bdb7a9-4ddd-401a-8e3b-fe759dcfbcaa\" type=\"checkbox\" ><label for=\"e3bdb7a9-4ddd-401a-8e3b-fe759dcfbcaa\" class=\"sk-toggleable__label sk-toggleable__label-arrow\">Pipeline</label><div class=\"sk-toggleable__content\"><pre>Pipeline(steps=[(&#x27;preprocessor&#x27;,\n",
              "                 ColumnTransformer(transformers=[(&#x27;numerical&#x27;,\n",
              "                                                  Pipeline(steps=[(&#x27;imputer&#x27;,\n",
              "                                                                   SimpleImputer(strategy=&#x27;median&#x27;)),\n",
              "                                                                  (&#x27;scale&#x27;,\n",
              "                                                                   StandardScaler())]),\n",
              "                                                  [&#x27;hrs&#x27;, &#x27;absences&#x27;,\n",
              "                                                   &#x27;JobInvolvement&#x27;,\n",
              "                                                   &#x27;PerformanceRating&#x27;,\n",
              "                                                   &#x27;EnvironmentSatisfaction&#x27;,\n",
              "                                                   &#x27;JobSatisfaction&#x27;,\n",
              "                                                   &#x27;WorkLifeBalance&#x27;, &#x27;Age&#x27;,\n",
              "                                                   &#x27;DistanceFromHome&#x27;,\n",
              "                                                   &#x27;Education&#x27;, &#x27;JobLevel&#x27;,\n",
              "                                                   &#x27;MonthlyIncome&#x27;,\n",
              "                                                   &#x27;N...\n",
              "                                                   &#x27;YearsSinceLastPromotion&#x27;,\n",
              "                                                   &#x27;YearsWithCurrManager&#x27;]),\n",
              "                                                 (&#x27;categorical&#x27;,\n",
              "                                                  Pipeline(steps=[(&#x27;imputer&#x27;,\n",
              "                                                                   SimpleImputer(fill_value=&#x27;missing&#x27;,\n",
              "                                                                                 strategy=&#x27;most_frequent&#x27;)),\n",
              "                                                                  (&#x27;onehot&#x27;,\n",
              "                                                                   OneHotEncoder(handle_unknown=&#x27;ignore&#x27;))]),\n",
              "                                                  [&#x27;BusinessTravel&#x27;,\n",
              "                                                   &#x27;Department&#x27;,\n",
              "                                                   &#x27;EducationField&#x27;, &#x27;Gender&#x27;,\n",
              "                                                   &#x27;JobRole&#x27;,\n",
              "                                                   &#x27;MaritalStatus&#x27;])])),\n",
              "                (&#x27;classifier&#x27;, DecisionTreeClassifier(random_state=100435291))])</pre></div></div></div><div class=\"sk-serial\"><div class=\"sk-item sk-dashed-wrapped\"><div class=\"sk-label-container\"><div class=\"sk-label sk-toggleable\"><input class=\"sk-toggleable__control sk-hidden--visually\" id=\"7cc7749b-7b34-4de1-90c8-c21ffdea0ad2\" type=\"checkbox\" ><label for=\"7cc7749b-7b34-4de1-90c8-c21ffdea0ad2\" class=\"sk-toggleable__label sk-toggleable__label-arrow\">preprocessor: ColumnTransformer</label><div class=\"sk-toggleable__content\"><pre>ColumnTransformer(transformers=[(&#x27;numerical&#x27;,\n",
              "                                 Pipeline(steps=[(&#x27;imputer&#x27;,\n",
              "                                                  SimpleImputer(strategy=&#x27;median&#x27;)),\n",
              "                                                 (&#x27;scale&#x27;, StandardScaler())]),\n",
              "                                 [&#x27;hrs&#x27;, &#x27;absences&#x27;, &#x27;JobInvolvement&#x27;,\n",
              "                                  &#x27;PerformanceRating&#x27;,\n",
              "                                  &#x27;EnvironmentSatisfaction&#x27;, &#x27;JobSatisfaction&#x27;,\n",
              "                                  &#x27;WorkLifeBalance&#x27;, &#x27;Age&#x27;, &#x27;DistanceFromHome&#x27;,\n",
              "                                  &#x27;Education&#x27;, &#x27;JobLevel&#x27;, &#x27;MonthlyIncome&#x27;,\n",
              "                                  &#x27;NumCompaniesWorked&#x27;, &#x27;PercentSalar...\n",
              "                                  &#x27;StockOptionLevel&#x27;, &#x27;TotalWorkingYears&#x27;,\n",
              "                                  &#x27;TrainingTimesLastYear&#x27;, &#x27;YearsAtCompany&#x27;,\n",
              "                                  &#x27;YearsSinceLastPromotion&#x27;,\n",
              "                                  &#x27;YearsWithCurrManager&#x27;]),\n",
              "                                (&#x27;categorical&#x27;,\n",
              "                                 Pipeline(steps=[(&#x27;imputer&#x27;,\n",
              "                                                  SimpleImputer(fill_value=&#x27;missing&#x27;,\n",
              "                                                                strategy=&#x27;most_frequent&#x27;)),\n",
              "                                                 (&#x27;onehot&#x27;,\n",
              "                                                  OneHotEncoder(handle_unknown=&#x27;ignore&#x27;))]),\n",
              "                                 [&#x27;BusinessTravel&#x27;, &#x27;Department&#x27;,\n",
              "                                  &#x27;EducationField&#x27;, &#x27;Gender&#x27;, &#x27;JobRole&#x27;,\n",
              "                                  &#x27;MaritalStatus&#x27;])])</pre></div></div></div><div class=\"sk-parallel\"><div class=\"sk-parallel-item\"><div class=\"sk-item\"><div class=\"sk-label-container\"><div class=\"sk-label sk-toggleable\"><input class=\"sk-toggleable__control sk-hidden--visually\" id=\"348ab8cb-4256-4916-995c-f1d1720daa2f\" type=\"checkbox\" ><label for=\"348ab8cb-4256-4916-995c-f1d1720daa2f\" class=\"sk-toggleable__label sk-toggleable__label-arrow\">numerical</label><div class=\"sk-toggleable__content\"><pre>[&#x27;hrs&#x27;, &#x27;absences&#x27;, &#x27;JobInvolvement&#x27;, &#x27;PerformanceRating&#x27;, &#x27;EnvironmentSatisfaction&#x27;, &#x27;JobSatisfaction&#x27;, &#x27;WorkLifeBalance&#x27;, &#x27;Age&#x27;, &#x27;DistanceFromHome&#x27;, &#x27;Education&#x27;, &#x27;JobLevel&#x27;, &#x27;MonthlyIncome&#x27;, &#x27;NumCompaniesWorked&#x27;, &#x27;PercentSalaryHike&#x27;, &#x27;StockOptionLevel&#x27;, &#x27;TotalWorkingYears&#x27;, &#x27;TrainingTimesLastYear&#x27;, &#x27;YearsAtCompany&#x27;, &#x27;YearsSinceLastPromotion&#x27;, &#x27;YearsWithCurrManager&#x27;]</pre></div></div></div><div class=\"sk-serial\"><div class=\"sk-item\"><div class=\"sk-serial\"><div class=\"sk-item\"><div class=\"sk-estimator sk-toggleable\"><input class=\"sk-toggleable__control sk-hidden--visually\" id=\"c2b8a1dc-e0e1-4fca-bb22-3b5500715504\" type=\"checkbox\" ><label for=\"c2b8a1dc-e0e1-4fca-bb22-3b5500715504\" class=\"sk-toggleable__label sk-toggleable__label-arrow\">SimpleImputer</label><div class=\"sk-toggleable__content\"><pre>SimpleImputer(strategy=&#x27;median&#x27;)</pre></div></div></div><div class=\"sk-item\"><div class=\"sk-estimator sk-toggleable\"><input class=\"sk-toggleable__control sk-hidden--visually\" id=\"060f68b8-c784-49cf-bd2a-d318ec25be81\" type=\"checkbox\" ><label for=\"060f68b8-c784-49cf-bd2a-d318ec25be81\" class=\"sk-toggleable__label sk-toggleable__label-arrow\">StandardScaler</label><div class=\"sk-toggleable__content\"><pre>StandardScaler()</pre></div></div></div></div></div></div></div></div><div class=\"sk-parallel-item\"><div class=\"sk-item\"><div class=\"sk-label-container\"><div class=\"sk-label sk-toggleable\"><input class=\"sk-toggleable__control sk-hidden--visually\" id=\"751ff43a-8989-4742-839b-50b42ba053e4\" type=\"checkbox\" ><label for=\"751ff43a-8989-4742-839b-50b42ba053e4\" class=\"sk-toggleable__label sk-toggleable__label-arrow\">categorical</label><div class=\"sk-toggleable__content\"><pre>[&#x27;BusinessTravel&#x27;, &#x27;Department&#x27;, &#x27;EducationField&#x27;, &#x27;Gender&#x27;, &#x27;JobRole&#x27;, &#x27;MaritalStatus&#x27;]</pre></div></div></div><div class=\"sk-serial\"><div class=\"sk-item\"><div class=\"sk-serial\"><div class=\"sk-item\"><div class=\"sk-estimator sk-toggleable\"><input class=\"sk-toggleable__control sk-hidden--visually\" id=\"671afd00-4606-4a0b-83c3-37ca67e6a45e\" type=\"checkbox\" ><label for=\"671afd00-4606-4a0b-83c3-37ca67e6a45e\" class=\"sk-toggleable__label sk-toggleable__label-arrow\">SimpleImputer</label><div class=\"sk-toggleable__content\"><pre>SimpleImputer(fill_value=&#x27;missing&#x27;, strategy=&#x27;most_frequent&#x27;)</pre></div></div></div><div class=\"sk-item\"><div class=\"sk-estimator sk-toggleable\"><input class=\"sk-toggleable__control sk-hidden--visually\" id=\"2393333f-595d-42dd-a9e0-a93bb03e202e\" type=\"checkbox\" ><label for=\"2393333f-595d-42dd-a9e0-a93bb03e202e\" class=\"sk-toggleable__label sk-toggleable__label-arrow\">OneHotEncoder</label><div class=\"sk-toggleable__content\"><pre>OneHotEncoder(handle_unknown=&#x27;ignore&#x27;)</pre></div></div></div></div></div></div></div></div></div></div><div class=\"sk-item\"><div class=\"sk-estimator sk-toggleable\"><input class=\"sk-toggleable__control sk-hidden--visually\" id=\"bc67dcea-f60d-45a3-b01c-9a3492bccbb6\" type=\"checkbox\" ><label for=\"bc67dcea-f60d-45a3-b01c-9a3492bccbb6\" class=\"sk-toggleable__label sk-toggleable__label-arrow\">DecisionTreeClassifier</label><div class=\"sk-toggleable__content\"><pre>DecisionTreeClassifier(random_state=100435291)</pre></div></div></div></div></div></div></div>"
            ]
          },
          "metadata": {},
          "execution_count": 26
        }
      ],
      "source": [
        "# Defining the categorical transformer\n",
        "categorical_transformer = Pipeline(steps = [('imputer', SimpleImputer(strategy='most_frequent', fill_value='missing')),\n",
        "                                            ('onehot', OneHotEncoder(handle_unknown='ignore'))]) \n",
        "\n",
        "# Defining the numerical transformer\n",
        "numerical_transformer = Pipeline(steps = [('imputer', SimpleImputer(strategy='median')),\n",
        "                                          ('scale', StandardScaler())])\n",
        "\n",
        "# Defining the preprocessor\n",
        "preprocessor = ColumnTransformer(transformers=[('numerical', numerical_transformer, numerical_features),\n",
        "                                               ('categorical', categorical_transformer, categorical_features)])\n",
        "\n",
        "# Defining the classifier\n",
        "classifier_ini = tree.DecisionTreeClassifier(random_state = nia)\n",
        "\n",
        "# Defining the pipeline\n",
        "clf_ini = Pipeline(steps=[('preprocessor', preprocessor),\n",
        "                          ('classifier', classifier_ini)])\n",
        "\n",
        "clf_ini"
      ],
      "id": "njC1yBrMIVVu"
    },
    {
      "cell_type": "markdown",
      "metadata": {
        "id": "vEFYniPKPfWQ"
      },
      "source": [
        "We defined a function named *proportion_conf*. It splits the data into train and test according to the given test size defined as anrgument in the function. Then, it fits the previous *clf_ini* tree classifier, measures the time of the fitting, calculates the accuracy and the confidence interval for it."
      ],
      "id": "vEFYniPKPfWQ"
    },
    {
      "cell_type": "code",
      "execution_count": 27,
      "metadata": {
        "id": "HtedixH6F2Rs"
      },
      "outputs": [],
      "source": [
        "# Function trying different test sizes\n",
        "def proportion_conf(test_size):\n",
        "  X_train, X_test, y_train, y_test = train_test_split(X, y, test_size=test_size, random_state = nia)\n",
        "  time_start = time()\n",
        "  clf_ini.fit(X_train, y_train)\n",
        "  time_end = time()\n",
        "  accuracy_tree = metrics.accuracy_score(y_test, clf_ini.predict(X_test))\n",
        "  test_rows = y_test.shape[0]\n",
        "  confint = proportion_confint(test_rows*accuracy_tree, test_rows, method='wilson')\n",
        "  dif_confint = confint[1]-confint[0]\n",
        "  fit_time = time_end-time_start\n",
        "  return test_rows, accuracy_tree, confint, dif_confint, fit_time"
      ],
      "id": "HtedixH6F2Rs"
    },
    {
      "cell_type": "markdown",
      "metadata": {
        "id": "WVQuHf_XQNLb"
      },
      "source": [
        "Using the previous function, we obtained the accuracy and confidence intervals for seven different test sizes."
      ],
      "id": "WVQuHf_XQNLb"
    },
    {
      "cell_type": "code",
      "execution_count": 28,
      "metadata": {
        "id": "oEsRANB3_SYy"
      },
      "outputs": [],
      "source": [
        "# Loop trying different test sizes\n",
        "test_sizes = np.array([0.1, 0.15, 0.2, 0.25, 0.3, 0.33, 0.35])\n",
        "# np.linspace(0.1, 0.4, 10)\n",
        "test_rows = []\n",
        "accuracies = []\n",
        "confint = []\n",
        "confint_lower = []\n",
        "confint_upper = []\n",
        "dif_confint = []\n",
        "fit_time = []\n",
        "for i in range(len(test_sizes)):\n",
        "    test_rows.append(proportion_conf(test_sizes[i])[0])\n",
        "    accuracies.append(proportion_conf(test_sizes[i])[1])\n",
        "    confint.append(proportion_conf(test_sizes[i])[2])\n",
        "    confint_lower.append(proportion_conf(test_sizes[i])[2][0])\n",
        "    confint_upper.append(proportion_conf(test_sizes[i])[2][1])\n",
        "    dif_confint.append(proportion_conf(test_sizes[i])[3])\n",
        "    fit_time.append(proportion_conf(test_sizes[i])[4])"
      ],
      "id": "oEsRANB3_SYy"
    },
    {
      "cell_type": "code",
      "execution_count": 29,
      "metadata": {
        "colab": {
          "base_uri": "https://localhost:8080/",
          "height": 0
        },
        "id": "fcufJHojLM62",
        "outputId": "990cb1e9-e8ed-4c8d-9349-deb0b811104e"
      },
      "outputs": [
        {
          "output_type": "stream",
          "name": "stdout",
          "text": [
            "   test_sizes  accuracies  dif_confint  fit_time\n",
            "0        0.10    0.867133     0.111468  0.027127\n",
            "1        0.15    0.850467     0.095515  0.025934\n",
            "2        0.20    0.877622     0.076119  0.033007\n",
            "3        0.25    0.837535     0.076459  0.025989\n",
            "4        0.30    0.810748     0.074095  0.035839\n",
            "5        0.33    0.825902     0.068416  0.023502\n",
            "6        0.35    0.828000     0.066093  0.022902\n"
          ]
        },
        {
          "output_type": "display_data",
          "data": {
            "text/plain": [
              "<Figure size 432x288 with 1 Axes>"
            ],
            "image/png": "[encoded data removed]"
          },
          "metadata": {
            "needs_background": "light"
          }
        }
      ],
      "source": [
        "dicti = {'test_sizes': test_sizes, 'test_rows': test_rows, 'accuracies': accuracies, 'confint_lower': confint_lower, \n",
        "         'confint_upper': confint_upper, 'dif_confint': dif_confint, 'fit_time': fit_time} \n",
        "df = pd.DataFrame(dicti)\n",
        "print(df[['test_sizes', 'accuracies', 'dif_confint', 'fit_time']])\n",
        "\n",
        "fig, ax = plt.subplots()\n",
        "ax.plot(test_sizes, accuracies)\n",
        "ax.fill_between(test_sizes, confint_lower, confint_upper, color='b', alpha=.1)\n",
        "fig.show()"
      ],
      "id": "fcufJHojLM62"
    },
    {
      "cell_type": "markdown",
      "metadata": {
        "id": "R0-m25wy3fU2"
      },
      "source": [
        "Based on the previous results we decided to select a test size of 20%, because it has the highest accuracy (0.877622) and an acceptable confidence interval that is somehow narrow enough (width=0.076119) compared with the others."
      ],
      "id": "R0-m25wy3fU2"
    },
    {
      "cell_type": "code",
      "execution_count": 30,
      "metadata": {
        "id": "umlzJK4x0lJU"
      },
      "outputs": [],
      "source": [
        "# Final dataset partition with the chosen test size (20%)\n",
        "X_train, X_test, y_train, y_test = train_test_split(X, y, test_size=0.20, random_state = nia)"
      ],
      "id": "umlzJK4x0lJU"
    },
    {
      "cell_type": "markdown",
      "metadata": {
        "id": "7gybZ3r14Arn"
      },
      "source": [
        "### 3. Inner evaluation of basic metods (using default hyper-parameters)"
      ],
      "id": "7gybZ3r14Arn"
    },
    {
      "cell_type": "markdown",
      "metadata": {
        "id": "IYXAZgi1RMeN"
      },
      "source": [
        "Using default hyper-parameters, we will do an inner evaluation for the following basic methods: Dummy, Decisiontree and KNN. We will compute the accuracy of the 3-fold crossvalidation."
      ],
      "id": "IYXAZgi1RMeN"
    },
    {
      "cell_type": "code",
      "execution_count": 31,
      "metadata": {
        "id": "Hwz1hlgtV9xW"
      },
      "outputs": [],
      "source": [
        "# KFold = 3\n",
        "cv = KFold(n_splits=3, shuffle=True, random_state=nia)"
      ],
      "id": "Hwz1hlgtV9xW"
    },
    {
      "cell_type": "markdown",
      "metadata": {
        "id": "tG54emy_fCxB"
      },
      "source": [
        "#### a. Dummy classifier"
      ],
      "id": "tG54emy_fCxB"
    },
    {
      "cell_type": "code",
      "execution_count": 32,
      "metadata": {
        "colab": {
          "base_uri": "https://localhost:8080/",
          "height": 296
        },
        "id": "j_25GPJfVoBR",
        "outputId": "76aa151c-0920-43e8-dfce-f510405f7321"
      },
      "outputs": [
        {
          "output_type": "execute_result",
          "data": {
            "text/plain": [
              "Pipeline(steps=[('preprocessor',\n",
              "                 ColumnTransformer(transformers=[('numerical',\n",
              "                                                  Pipeline(steps=[('imputer',\n",
              "                                                                   SimpleImputer(strategy='median')),\n",
              "                                                                  ('scale',\n",
              "                                                                   StandardScaler())]),\n",
              "                                                  ['hrs', 'absences',\n",
              "                                                   'JobInvolvement',\n",
              "                                                   'PerformanceRating',\n",
              "                                                   'EnvironmentSatisfaction',\n",
              "                                                   'JobSatisfaction',\n",
              "                                                   'WorkLifeBalance', 'Age',\n",
              "                                                   'DistanceFromHome',\n",
              "                                                   'Education', 'JobLevel',\n",
              "                                                   'MonthlyIncome',\n",
              "                                                   'N...\n",
              "                                                   'YearsSinceLastPromotion',\n",
              "                                                   'YearsWithCurrManager']),\n",
              "                                                 ('categorical',\n",
              "                                                  Pipeline(steps=[('imputer',\n",
              "                                                                   SimpleImputer(fill_value='missing',\n",
              "                                                                                 strategy='most_frequent')),\n",
              "                                                                  ('onehot',\n",
              "                                                                   OneHotEncoder(handle_unknown='ignore'))]),\n",
              "                                                  ['BusinessTravel',\n",
              "                                                   'Department',\n",
              "                                                   'EducationField', 'Gender',\n",
              "                                                   'JobRole',\n",
              "                                                   'MaritalStatus'])])),\n",
              "                ('classifier',\n",
              "                 DummyClassifier(random_state=100435291,\n",
              "                                 strategy='stratified'))])"
            ],
            "text/html": [
              "<style>#sk-202d51ae-9c61-41cc-90d9-96ff62621e09 {color: black;background-color: white;}#sk-202d51ae-9c61-41cc-90d9-96ff62621e09 pre{padding: 0;}#sk-202d51ae-9c61-41cc-90d9-96ff62621e09 div.sk-toggleable {background-color: white;}#sk-202d51ae-9c61-41cc-90d9-96ff62621e09 label.sk-toggleable__label {cursor: pointer;display: block;width: 100%;margin-bottom: 0;padding: 0.3em;box-sizing: border-box;text-align: center;}#sk-202d51ae-9c61-41cc-90d9-96ff62621e09 label.sk-toggleable__label-arrow:before {content: \"▸\";float: left;margin-right: 0.25em;color: #696969;}#sk-202d51ae-9c61-41cc-90d9-96ff62621e09 label.sk-toggleable__label-arrow:hover:before {color: black;}#sk-202d51ae-9c61-41cc-90d9-96ff62621e09 div.sk-estimator:hover label.sk-toggleable__label-arrow:before {color: black;}#sk-202d51ae-9c61-41cc-90d9-96ff62621e09 div.sk-toggleable__content {max-height: 0;max-width: 0;overflow: hidden;text-align: left;background-color: #f0f8ff;}#sk-202d51ae-9c61-41cc-90d9-96ff62621e09 div.sk-toggleable__content pre {margin: 0.2em;color: black;border-radius: 0.25em;background-color: #f0f8ff;}#sk-202d51ae-9c61-41cc-90d9-96ff62621e09 input.sk-toggleable__control:checked~div.sk-toggleable__content {max-height: 200px;max-width: 100%;overflow: auto;}#sk-202d51ae-9c61-41cc-90d9-96ff62621e09 input.sk-toggleable__control:checked~label.sk-toggleable__label-arrow:before {content: \"▾\";}#sk-202d51ae-9c61-41cc-90d9-96ff62621e09 div.sk-estimator input.sk-toggleable__control:checked~label.sk-toggleable__label {background-color: #d4ebff;}#sk-202d51ae-9c61-41cc-90d9-96ff62621e09 div.sk-label input.sk-toggleable__control:checked~label.sk-toggleable__label {background-color: #d4ebff;}#sk-202d51ae-9c61-41cc-90d9-96ff62621e09 input.sk-hidden--visually {border: 0;clip: rect(1px 1px 1px 1px);clip: rect(1px, 1px, 1px, 1px);height: 1px;margin: -1px;overflow: hidden;padding: 0;position: absolute;width: 1px;}#sk-202d51ae-9c61-41cc-90d9-96ff62621e09 div.sk-estimator {font-family: monospace;background-color: #f0f8ff;border: 1px dotted black;border-radius: 0.25em;box-sizing: border-box;margin-bottom: 0.5em;}#sk-202d51ae-9c61-41cc-90d9-96ff62621e09 div.sk-estimator:hover {background-color: #d4ebff;}#sk-202d51ae-9c61-41cc-90d9-96ff62621e09 div.sk-parallel-item::after {content: \"\";width: 100%;border-bottom: 1px solid gray;flex-grow: 1;}#sk-202d51ae-9c61-41cc-90d9-96ff62621e09 div.sk-label:hover label.sk-toggleable__label {background-color: #d4ebff;}#sk-202d51ae-9c61-41cc-90d9-96ff62621e09 div.sk-serial::before {content: \"\";position: absolute;border-left: 1px solid gray;box-sizing: border-box;top: 2em;bottom: 0;left: 50%;}#sk-202d51ae-9c61-41cc-90d9-96ff62621e09 div.sk-serial {display: flex;flex-direction: column;align-items: center;background-color: white;padding-right: 0.2em;padding-left: 0.2em;}#sk-202d51ae-9c61-41cc-90d9-96ff62621e09 div.sk-item {z-index: 1;}#sk-202d51ae-9c61-41cc-90d9-96ff62621e09 div.sk-parallel {display: flex;align-items: stretch;justify-content: center;background-color: white;}#sk-202d51ae-9c61-41cc-90d9-96ff62621e09 div.sk-parallel::before {content: \"\";position: absolute;border-left: 1px solid gray;box-sizing: border-box;top: 2em;bottom: 0;left: 50%;}#sk-202d51ae-9c61-41cc-90d9-96ff62621e09 div.sk-parallel-item {display: flex;flex-direction: column;position: relative;background-color: white;}#sk-202d51ae-9c61-41cc-90d9-96ff62621e09 div.sk-parallel-item:first-child::after {align-self: flex-end;width: 50%;}#sk-202d51ae-9c61-41cc-90d9-96ff62621e09 div.sk-parallel-item:last-child::after {align-self: flex-start;width: 50%;}#sk-202d51ae-9c61-41cc-90d9-96ff62621e09 div.sk-parallel-item:only-child::after {width: 0;}#sk-202d51ae-9c61-41cc-90d9-96ff62621e09 div.sk-dashed-wrapped {border: 1px dashed gray;margin: 0 0.4em 0.5em 0.4em;box-sizing: border-box;padding-bottom: 0.4em;background-color: white;position: relative;}#sk-202d51ae-9c61-41cc-90d9-96ff62621e09 div.sk-label label {font-family: monospace;font-weight: bold;background-color: white;display: inline-block;line-height: 1.2em;}#sk-202d51ae-9c61-41cc-90d9-96ff62621e09 div.sk-label-container {position: relative;z-index: 2;text-align: center;}#sk-202d51ae-9c61-41cc-90d9-96ff62621e09 div.sk-container {/* jupyter's `normalize.less` sets `[hidden] { display: none; }` but bootstrap.min.css set `[hidden] { display: none !important; }` so we also need the `!important` here to be able to override the default hidden behavior on the sphinx rendered scikit-learn.org. See: https://github.com/scikit-learn/scikit-learn/issues/21755 */display: inline-block !important;position: relative;}#sk-202d51ae-9c61-41cc-90d9-96ff62621e09 div.sk-text-repr-fallback {display: none;}</style><div id=\"sk-202d51ae-9c61-41cc-90d9-96ff62621e09\" class=\"sk-top-container\"><div class=\"sk-text-repr-fallback\"><pre>Pipeline(steps=[(&#x27;preprocessor&#x27;,\n",
              "                 ColumnTransformer(transformers=[(&#x27;numerical&#x27;,\n",
              "                                                  Pipeline(steps=[(&#x27;imputer&#x27;,\n",
              "                                                                   SimpleImputer(strategy=&#x27;median&#x27;)),\n",
              "                                                                  (&#x27;scale&#x27;,\n",
              "                                                                   StandardScaler())]),\n",
              "                                                  [&#x27;hrs&#x27;, &#x27;absences&#x27;,\n",
              "                                                   &#x27;JobInvolvement&#x27;,\n",
              "                                                   &#x27;PerformanceRating&#x27;,\n",
              "                                                   &#x27;EnvironmentSatisfaction&#x27;,\n",
              "                                                   &#x27;JobSatisfaction&#x27;,\n",
              "                                                   &#x27;WorkLifeBalance&#x27;, &#x27;Age&#x27;,\n",
              "                                                   &#x27;DistanceFromHome&#x27;,\n",
              "                                                   &#x27;Education&#x27;, &#x27;JobLevel&#x27;,\n",
              "                                                   &#x27;MonthlyIncome&#x27;,\n",
              "                                                   &#x27;N...\n",
              "                                                   &#x27;YearsSinceLastPromotion&#x27;,\n",
              "                                                   &#x27;YearsWithCurrManager&#x27;]),\n",
              "                                                 (&#x27;categorical&#x27;,\n",
              "                                                  Pipeline(steps=[(&#x27;imputer&#x27;,\n",
              "                                                                   SimpleImputer(fill_value=&#x27;missing&#x27;,\n",
              "                                                                                 strategy=&#x27;most_frequent&#x27;)),\n",
              "                                                                  (&#x27;onehot&#x27;,\n",
              "                                                                   OneHotEncoder(handle_unknown=&#x27;ignore&#x27;))]),\n",
              "                                                  [&#x27;BusinessTravel&#x27;,\n",
              "                                                   &#x27;Department&#x27;,\n",
              "                                                   &#x27;EducationField&#x27;, &#x27;Gender&#x27;,\n",
              "                                                   &#x27;JobRole&#x27;,\n",
              "                                                   &#x27;MaritalStatus&#x27;])])),\n",
              "                (&#x27;classifier&#x27;,\n",
              "                 DummyClassifier(random_state=100435291,\n",
              "                                 strategy=&#x27;stratified&#x27;))])</pre><b>Please rerun this cell to show the HTML repr or trust the notebook.</b></div><div class=\"sk-container\" hidden><div class=\"sk-item sk-dashed-wrapped\"><div class=\"sk-label-container\"><div class=\"sk-label sk-toggleable\"><input class=\"sk-toggleable__control sk-hidden--visually\" id=\"4201079d-7899-4585-a230-e3ae6d6ccc3b\" type=\"checkbox\" ><label for=\"4201079d-7899-4585-a230-e3ae6d6ccc3b\" class=\"sk-toggleable__label sk-toggleable__label-arrow\">Pipeline</label><div class=\"sk-toggleable__content\"><pre>Pipeline(steps=[(&#x27;preprocessor&#x27;,\n",
              "                 ColumnTransformer(transformers=[(&#x27;numerical&#x27;,\n",
              "                                                  Pipeline(steps=[(&#x27;imputer&#x27;,\n",
              "                                                                   SimpleImputer(strategy=&#x27;median&#x27;)),\n",
              "                                                                  (&#x27;scale&#x27;,\n",
              "                                                                   StandardScaler())]),\n",
              "                                                  [&#x27;hrs&#x27;, &#x27;absences&#x27;,\n",
              "                                                   &#x27;JobInvolvement&#x27;,\n",
              "                                                   &#x27;PerformanceRating&#x27;,\n",
              "                                                   &#x27;EnvironmentSatisfaction&#x27;,\n",
              "                                                   &#x27;JobSatisfaction&#x27;,\n",
              "                                                   &#x27;WorkLifeBalance&#x27;, &#x27;Age&#x27;,\n",
              "                                                   &#x27;DistanceFromHome&#x27;,\n",
              "                                                   &#x27;Education&#x27;, &#x27;JobLevel&#x27;,\n",
              "                                                   &#x27;MonthlyIncome&#x27;,\n",
              "                                                   &#x27;N...\n",
              "                                                   &#x27;YearsSinceLastPromotion&#x27;,\n",
              "                                                   &#x27;YearsWithCurrManager&#x27;]),\n",
              "                                                 (&#x27;categorical&#x27;,\n",
              "                                                  Pipeline(steps=[(&#x27;imputer&#x27;,\n",
              "                                                                   SimpleImputer(fill_value=&#x27;missing&#x27;,\n",
              "                                                                                 strategy=&#x27;most_frequent&#x27;)),\n",
              "                                                                  (&#x27;onehot&#x27;,\n",
              "                                                                   OneHotEncoder(handle_unknown=&#x27;ignore&#x27;))]),\n",
              "                                                  [&#x27;BusinessTravel&#x27;,\n",
              "                                                   &#x27;Department&#x27;,\n",
              "                                                   &#x27;EducationField&#x27;, &#x27;Gender&#x27;,\n",
              "                                                   &#x27;JobRole&#x27;,\n",
              "                                                   &#x27;MaritalStatus&#x27;])])),\n",
              "                (&#x27;classifier&#x27;,\n",
              "                 DummyClassifier(random_state=100435291,\n",
              "                                 strategy=&#x27;stratified&#x27;))])</pre></div></div></div><div class=\"sk-serial\"><div class=\"sk-item sk-dashed-wrapped\"><div class=\"sk-label-container\"><div class=\"sk-label sk-toggleable\"><input class=\"sk-toggleable__control sk-hidden--visually\" id=\"c2de867d-48bb-44bf-a11c-a5a5689be6d5\" type=\"checkbox\" ><label for=\"c2de867d-48bb-44bf-a11c-a5a5689be6d5\" class=\"sk-toggleable__label sk-toggleable__label-arrow\">preprocessor: ColumnTransformer</label><div class=\"sk-toggleable__content\"><pre>ColumnTransformer(transformers=[(&#x27;numerical&#x27;,\n",
              "                                 Pipeline(steps=[(&#x27;imputer&#x27;,\n",
              "                                                  SimpleImputer(strategy=&#x27;median&#x27;)),\n",
              "                                                 (&#x27;scale&#x27;, StandardScaler())]),\n",
              "                                 [&#x27;hrs&#x27;, &#x27;absences&#x27;, &#x27;JobInvolvement&#x27;,\n",
              "                                  &#x27;PerformanceRating&#x27;,\n",
              "                                  &#x27;EnvironmentSatisfaction&#x27;, &#x27;JobSatisfaction&#x27;,\n",
              "                                  &#x27;WorkLifeBalance&#x27;, &#x27;Age&#x27;, &#x27;DistanceFromHome&#x27;,\n",
              "                                  &#x27;Education&#x27;, &#x27;JobLevel&#x27;, &#x27;MonthlyIncome&#x27;,\n",
              "                                  &#x27;NumCompaniesWorked&#x27;, &#x27;PercentSalar...\n",
              "                                  &#x27;StockOptionLevel&#x27;, &#x27;TotalWorkingYears&#x27;,\n",
              "                                  &#x27;TrainingTimesLastYear&#x27;, &#x27;YearsAtCompany&#x27;,\n",
              "                                  &#x27;YearsSinceLastPromotion&#x27;,\n",
              "                                  &#x27;YearsWithCurrManager&#x27;]),\n",
              "                                (&#x27;categorical&#x27;,\n",
              "                                 Pipeline(steps=[(&#x27;imputer&#x27;,\n",
              "                                                  SimpleImputer(fill_value=&#x27;missing&#x27;,\n",
              "                                                                strategy=&#x27;most_frequent&#x27;)),\n",
              "                                                 (&#x27;onehot&#x27;,\n",
              "                                                  OneHotEncoder(handle_unknown=&#x27;ignore&#x27;))]),\n",
              "                                 [&#x27;BusinessTravel&#x27;, &#x27;Department&#x27;,\n",
              "                                  &#x27;EducationField&#x27;, &#x27;Gender&#x27;, &#x27;JobRole&#x27;,\n",
              "                                  &#x27;MaritalStatus&#x27;])])</pre></div></div></div><div class=\"sk-parallel\"><div class=\"sk-parallel-item\"><div class=\"sk-item\"><div class=\"sk-label-container\"><div class=\"sk-label sk-toggleable\"><input class=\"sk-toggleable__control sk-hidden--visually\" id=\"b698f9fc-94b3-4454-87f5-e1492abab9c7\" type=\"checkbox\" ><label for=\"b698f9fc-94b3-4454-87f5-e1492abab9c7\" class=\"sk-toggleable__label sk-toggleable__label-arrow\">numerical</label><div class=\"sk-toggleable__content\"><pre>[&#x27;hrs&#x27;, &#x27;absences&#x27;, &#x27;JobInvolvement&#x27;, &#x27;PerformanceRating&#x27;, &#x27;EnvironmentSatisfaction&#x27;, &#x27;JobSatisfaction&#x27;, &#x27;WorkLifeBalance&#x27;, &#x27;Age&#x27;, &#x27;DistanceFromHome&#x27;, &#x27;Education&#x27;, &#x27;JobLevel&#x27;, &#x27;MonthlyIncome&#x27;, &#x27;NumCompaniesWorked&#x27;, &#x27;PercentSalaryHike&#x27;, &#x27;StockOptionLevel&#x27;, &#x27;TotalWorkingYears&#x27;, &#x27;TrainingTimesLastYear&#x27;, &#x27;YearsAtCompany&#x27;, &#x27;YearsSinceLastPromotion&#x27;, &#x27;YearsWithCurrManager&#x27;]</pre></div></div></div><div class=\"sk-serial\"><div class=\"sk-item\"><div class=\"sk-serial\"><div class=\"sk-item\"><div class=\"sk-estimator sk-toggleable\"><input class=\"sk-toggleable__control sk-hidden--visually\" id=\"05027864-490f-4168-9151-36bc7ed42ddb\" type=\"checkbox\" ><label for=\"05027864-490f-4168-9151-36bc7ed42ddb\" class=\"sk-toggleable__label sk-toggleable__label-arrow\">SimpleImputer</label><div class=\"sk-toggleable__content\"><pre>SimpleImputer(strategy=&#x27;median&#x27;)</pre></div></div></div><div class=\"sk-item\"><div class=\"sk-estimator sk-toggleable\"><input class=\"sk-toggleable__control sk-hidden--visually\" id=\"88d9817b-4865-4709-807a-a8ddaa52d284\" type=\"checkbox\" ><label for=\"88d9817b-4865-4709-807a-a8ddaa52d284\" class=\"sk-toggleable__label sk-toggleable__label-arrow\">StandardScaler</label><div class=\"sk-toggleable__content\"><pre>StandardScaler()</pre></div></div></div></div></div></div></div></div><div class=\"sk-parallel-item\"><div class=\"sk-item\"><div class=\"sk-label-container\"><div class=\"sk-label sk-toggleable\"><input class=\"sk-toggleable__control sk-hidden--visually\" id=\"93e4bf7e-a8be-426e-b00a-65e633b4cf82\" type=\"checkbox\" ><label for=\"93e4bf7e-a8be-426e-b00a-65e633b4cf82\" class=\"sk-toggleable__label sk-toggleable__label-arrow\">categorical</label><div class=\"sk-toggleable__content\"><pre>[&#x27;BusinessTravel&#x27;, &#x27;Department&#x27;, &#x27;EducationField&#x27;, &#x27;Gender&#x27;, &#x27;JobRole&#x27;, &#x27;MaritalStatus&#x27;]</pre></div></div></div><div class=\"sk-serial\"><div class=\"sk-item\"><div class=\"sk-serial\"><div class=\"sk-item\"><div class=\"sk-estimator sk-toggleable\"><input class=\"sk-toggleable__control sk-hidden--visually\" id=\"18737fec-cb58-4108-a3f1-fc20187365bd\" type=\"checkbox\" ><label for=\"18737fec-cb58-4108-a3f1-fc20187365bd\" class=\"sk-toggleable__label sk-toggleable__label-arrow\">SimpleImputer</label><div class=\"sk-toggleable__content\"><pre>SimpleImputer(fill_value=&#x27;missing&#x27;, strategy=&#x27;most_frequent&#x27;)</pre></div></div></div><div class=\"sk-item\"><div class=\"sk-estimator sk-toggleable\"><input class=\"sk-toggleable__control sk-hidden--visually\" id=\"67904d13-9161-4ce4-a569-b9bf00be2380\" type=\"checkbox\" ><label for=\"67904d13-9161-4ce4-a569-b9bf00be2380\" class=\"sk-toggleable__label sk-toggleable__label-arrow\">OneHotEncoder</label><div class=\"sk-toggleable__content\"><pre>OneHotEncoder(handle_unknown=&#x27;ignore&#x27;)</pre></div></div></div></div></div></div></div></div></div></div><div class=\"sk-item\"><div class=\"sk-estimator sk-toggleable\"><input class=\"sk-toggleable__control sk-hidden--visually\" id=\"55f587ea-4ec7-4b38-ab9b-c7118ff4d331\" type=\"checkbox\" ><label for=\"55f587ea-4ec7-4b38-ab9b-c7118ff4d331\" class=\"sk-toggleable__label sk-toggleable__label-arrow\">DummyClassifier</label><div class=\"sk-toggleable__content\"><pre>DummyClassifier(random_state=100435291, strategy=&#x27;stratified&#x27;)</pre></div></div></div></div></div></div></div>"
            ]
          },
          "metadata": {},
          "execution_count": 32
        }
      ],
      "source": [
        "# Defining the classifier\n",
        "classifier_dummy = DummyClassifier(strategy='stratified', random_state= nia)\n",
        "\n",
        "# Defining the pipeline\n",
        "clf_dummy = Pipeline(steps=[('preprocessor', preprocessor),\n",
        "                            ('classifier', classifier_dummy)])\n",
        "\n",
        "clf_dummy"
      ],
      "id": "j_25GPJfVoBR"
    },
    {
      "cell_type": "markdown",
      "metadata": {
        "id": "WefEgmIeRy5b"
      },
      "source": [
        "The dummy classifier, using the stratified strategy, randomly samples from a multinomial distribution parametrized with the empirical class prior probabilities that are: Yes: 50.26% and No: 49.74%."
      ],
      "id": "WefEgmIeRy5b"
    },
    {
      "cell_type": "code",
      "execution_count": 33,
      "metadata": {
        "colab": {
          "base_uri": "https://localhost:8080/"
        },
        "id": "lpm0HJ0RSAk8",
        "outputId": "5aba8033-1e3e-4368-e228-bf00f28cf5cc"
      },
      "outputs": [
        {
          "output_type": "stream",
          "name": "stdout",
          "text": [
            "Probability of Yes: 50.26\n",
            "Probability of No: 49.74\n"
          ]
        }
      ],
      "source": [
        "print(f'Probability of Yes: {round(sum(y_train)/y_train.shape[0]*100,2)}')\n",
        "print(f'Probability of No: {round((y_train.shape[0]-sum(y_train))/y_train.shape[0]*100,2)}')"
      ],
      "id": "lpm0HJ0RSAk8"
    },
    {
      "cell_type": "markdown",
      "metadata": {
        "id": "evH1fBU7TGGs"
      },
      "source": [
        "The mean accuracy of the dummy classifier in the inner evaluation is 0.51 with an statard deviation of 0.01. This accuracy will be a baseline for more advanced methods. It took 0.0979 seconds to run the fitting and cross validation."
      ],
      "id": "evH1fBU7TGGs"
    },
    {
      "cell_type": "code",
      "execution_count": 34,
      "metadata": {
        "colab": {
          "base_uri": "https://localhost:8080/"
        },
        "id": "4rNE7yZ5i2sp",
        "outputId": "db5b1d42-0071-4fa9-d7d5-0df0b9b5e2b7"
      },
      "outputs": [
        {
          "output_type": "stream",
          "name": "stdout",
          "text": [
            "All the accuracies are: [0.51842105 0.51842105 0.49210526]\n",
            "And the average crossvalidation accuracy is: 0.51 +- 0.01\n",
            "Time spent in the cross validation scoring: 0.0979 s\n"
          ]
        }
      ],
      "source": [
        "# Accuracy of dummy classifier\n",
        "time_start = time()\n",
        "scores_dummy = cross_val_score(clf_dummy, X_train, y_train, scoring='accuracy', cv = cv) \n",
        "time_end = time()\n",
        "time_scores_dummy = time_end-time_start\n",
        "\n",
        "print(f\"All the accuracies are: {scores_dummy}\")\n",
        "print(f\"And the average crossvalidation accuracy is: {scores_dummy.mean():.2f} +- {scores_dummy.std():.2f}\")\n",
        "print(f'Time spent in the cross validation scoring: {round(time_scores_dummy, 4)} s')"
      ],
      "id": "4rNE7yZ5i2sp"
    },
    {
      "cell_type": "markdown",
      "metadata": {
        "id": "uzXj88C0hP3W"
      },
      "source": [
        "#### b. Tree model"
      ],
      "id": "uzXj88C0hP3W"
    },
    {
      "cell_type": "code",
      "execution_count": 35,
      "metadata": {
        "colab": {
          "base_uri": "https://localhost:8080/",
          "height": 296
        },
        "id": "CyyQ_jP1jBNo",
        "outputId": "3e2d5667-bd30-4ca1-c673-6ddbd23a3b5b"
      },
      "outputs": [
        {
          "output_type": "execute_result",
          "data": {
            "text/plain": [
              "Pipeline(steps=[('preprocessor',\n",
              "                 ColumnTransformer(transformers=[('numerical',\n",
              "                                                  Pipeline(steps=[('imputer',\n",
              "                                                                   SimpleImputer(strategy='median')),\n",
              "                                                                  ('scale',\n",
              "                                                                   StandardScaler())]),\n",
              "                                                  ['hrs', 'absences',\n",
              "                                                   'JobInvolvement',\n",
              "                                                   'PerformanceRating',\n",
              "                                                   'EnvironmentSatisfaction',\n",
              "                                                   'JobSatisfaction',\n",
              "                                                   'WorkLifeBalance', 'Age',\n",
              "                                                   'DistanceFromHome',\n",
              "                                                   'Education', 'JobLevel',\n",
              "                                                   'MonthlyIncome',\n",
              "                                                   'N...\n",
              "                                                   'YearsSinceLastPromotion',\n",
              "                                                   'YearsWithCurrManager']),\n",
              "                                                 ('categorical',\n",
              "                                                  Pipeline(steps=[('imputer',\n",
              "                                                                   SimpleImputer(fill_value='missing',\n",
              "                                                                                 strategy='most_frequent')),\n",
              "                                                                  ('onehot',\n",
              "                                                                   OneHotEncoder(handle_unknown='ignore'))]),\n",
              "                                                  ['BusinessTravel',\n",
              "                                                   'Department',\n",
              "                                                   'EducationField', 'Gender',\n",
              "                                                   'JobRole',\n",
              "                                                   'MaritalStatus'])])),\n",
              "                ('classifier', DecisionTreeClassifier(random_state=100435291))])"
            ],
            "text/html": [
              "<style>#sk-07a3aab1-d0c6-41f6-a761-a1495270eeb0 {color: black;background-color: white;}#sk-07a3aab1-d0c6-41f6-a761-a1495270eeb0 pre{padding: 0;}#sk-07a3aab1-d0c6-41f6-a761-a1495270eeb0 div.sk-toggleable {background-color: white;}#sk-07a3aab1-d0c6-41f6-a761-a1495270eeb0 label.sk-toggleable__label {cursor: pointer;display: block;width: 100%;margin-bottom: 0;padding: 0.3em;box-sizing: border-box;text-align: center;}#sk-07a3aab1-d0c6-41f6-a761-a1495270eeb0 label.sk-toggleable__label-arrow:before {content: \"▸\";float: left;margin-right: 0.25em;color: #696969;}#sk-07a3aab1-d0c6-41f6-a761-a1495270eeb0 label.sk-toggleable__label-arrow:hover:before {color: black;}#sk-07a3aab1-d0c6-41f6-a761-a1495270eeb0 div.sk-estimator:hover label.sk-toggleable__label-arrow:before {color: black;}#sk-07a3aab1-d0c6-41f6-a761-a1495270eeb0 div.sk-toggleable__content {max-height: 0;max-width: 0;overflow: hidden;text-align: left;background-color: #f0f8ff;}#sk-07a3aab1-d0c6-41f6-a761-a1495270eeb0 div.sk-toggleable__content pre {margin: 0.2em;color: black;border-radius: 0.25em;background-color: #f0f8ff;}#sk-07a3aab1-d0c6-41f6-a761-a1495270eeb0 input.sk-toggleable__control:checked~div.sk-toggleable__content {max-height: 200px;max-width: 100%;overflow: auto;}#sk-07a3aab1-d0c6-41f6-a761-a1495270eeb0 input.sk-toggleable__control:checked~label.sk-toggleable__label-arrow:before {content: \"▾\";}#sk-07a3aab1-d0c6-41f6-a761-a1495270eeb0 div.sk-estimator input.sk-toggleable__control:checked~label.sk-toggleable__label {background-color: #d4ebff;}#sk-07a3aab1-d0c6-41f6-a761-a1495270eeb0 div.sk-label input.sk-toggleable__control:checked~label.sk-toggleable__label {background-color: #d4ebff;}#sk-07a3aab1-d0c6-41f6-a761-a1495270eeb0 input.sk-hidden--visually {border: 0;clip: rect(1px 1px 1px 1px);clip: rect(1px, 1px, 1px, 1px);height: 1px;margin: -1px;overflow: hidden;padding: 0;position: absolute;width: 1px;}#sk-07a3aab1-d0c6-41f6-a761-a1495270eeb0 div.sk-estimator {font-family: monospace;background-color: #f0f8ff;border: 1px dotted black;border-radius: 0.25em;box-sizing: border-box;margin-bottom: 0.5em;}#sk-07a3aab1-d0c6-41f6-a761-a1495270eeb0 div.sk-estimator:hover {background-color: #d4ebff;}#sk-07a3aab1-d0c6-41f6-a761-a1495270eeb0 div.sk-parallel-item::after {content: \"\";width: 100%;border-bottom: 1px solid gray;flex-grow: 1;}#sk-07a3aab1-d0c6-41f6-a761-a1495270eeb0 div.sk-label:hover label.sk-toggleable__label {background-color: #d4ebff;}#sk-07a3aab1-d0c6-41f6-a761-a1495270eeb0 div.sk-serial::before {content: \"\";position: absolute;border-left: 1px solid gray;box-sizing: border-box;top: 2em;bottom: 0;left: 50%;}#sk-07a3aab1-d0c6-41f6-a761-a1495270eeb0 div.sk-serial {display: flex;flex-direction: column;align-items: center;background-color: white;padding-right: 0.2em;padding-left: 0.2em;}#sk-07a3aab1-d0c6-41f6-a761-a1495270eeb0 div.sk-item {z-index: 1;}#sk-07a3aab1-d0c6-41f6-a761-a1495270eeb0 div.sk-parallel {display: flex;align-items: stretch;justify-content: center;background-color: white;}#sk-07a3aab1-d0c6-41f6-a761-a1495270eeb0 div.sk-parallel::before {content: \"\";position: absolute;border-left: 1px solid gray;box-sizing: border-box;top: 2em;bottom: 0;left: 50%;}#sk-07a3aab1-d0c6-41f6-a761-a1495270eeb0 div.sk-parallel-item {display: flex;flex-direction: column;position: relative;background-color: white;}#sk-07a3aab1-d0c6-41f6-a761-a1495270eeb0 div.sk-parallel-item:first-child::after {align-self: flex-end;width: 50%;}#sk-07a3aab1-d0c6-41f6-a761-a1495270eeb0 div.sk-parallel-item:last-child::after {align-self: flex-start;width: 50%;}#sk-07a3aab1-d0c6-41f6-a761-a1495270eeb0 div.sk-parallel-item:only-child::after {width: 0;}#sk-07a3aab1-d0c6-41f6-a761-a1495270eeb0 div.sk-dashed-wrapped {border: 1px dashed gray;margin: 0 0.4em 0.5em 0.4em;box-sizing: border-box;padding-bottom: 0.4em;background-color: white;position: relative;}#sk-07a3aab1-d0c6-41f6-a761-a1495270eeb0 div.sk-label label {font-family: monospace;font-weight: bold;background-color: white;display: inline-block;line-height: 1.2em;}#sk-07a3aab1-d0c6-41f6-a761-a1495270eeb0 div.sk-label-container {position: relative;z-index: 2;text-align: center;}#sk-07a3aab1-d0c6-41f6-a761-a1495270eeb0 div.sk-container {/* jupyter's `normalize.less` sets `[hidden] { display: none; }` but bootstrap.min.css set `[hidden] { display: none !important; }` so we also need the `!important` here to be able to override the default hidden behavior on the sphinx rendered scikit-learn.org. See: https://github.com/scikit-learn/scikit-learn/issues/21755 */display: inline-block !important;position: relative;}#sk-07a3aab1-d0c6-41f6-a761-a1495270eeb0 div.sk-text-repr-fallback {display: none;}</style><div id=\"sk-07a3aab1-d0c6-41f6-a761-a1495270eeb0\" class=\"sk-top-container\"><div class=\"sk-text-repr-fallback\"><pre>Pipeline(steps=[(&#x27;preprocessor&#x27;,\n",
              "                 ColumnTransformer(transformers=[(&#x27;numerical&#x27;,\n",
              "                                                  Pipeline(steps=[(&#x27;imputer&#x27;,\n",
              "                                                                   SimpleImputer(strategy=&#x27;median&#x27;)),\n",
              "                                                                  (&#x27;scale&#x27;,\n",
              "                                                                   StandardScaler())]),\n",
              "                                                  [&#x27;hrs&#x27;, &#x27;absences&#x27;,\n",
              "                                                   &#x27;JobInvolvement&#x27;,\n",
              "                                                   &#x27;PerformanceRating&#x27;,\n",
              "                                                   &#x27;EnvironmentSatisfaction&#x27;,\n",
              "                                                   &#x27;JobSatisfaction&#x27;,\n",
              "                                                   &#x27;WorkLifeBalance&#x27;, &#x27;Age&#x27;,\n",
              "                                                   &#x27;DistanceFromHome&#x27;,\n",
              "                                                   &#x27;Education&#x27;, &#x27;JobLevel&#x27;,\n",
              "                                                   &#x27;MonthlyIncome&#x27;,\n",
              "                                                   &#x27;N...\n",
              "                                                   &#x27;YearsSinceLastPromotion&#x27;,\n",
              "                                                   &#x27;YearsWithCurrManager&#x27;]),\n",
              "                                                 (&#x27;categorical&#x27;,\n",
              "                                                  Pipeline(steps=[(&#x27;imputer&#x27;,\n",
              "                                                                   SimpleImputer(fill_value=&#x27;missing&#x27;,\n",
              "                                                                                 strategy=&#x27;most_frequent&#x27;)),\n",
              "                                                                  (&#x27;onehot&#x27;,\n",
              "                                                                   OneHotEncoder(handle_unknown=&#x27;ignore&#x27;))]),\n",
              "                                                  [&#x27;BusinessTravel&#x27;,\n",
              "                                                   &#x27;Department&#x27;,\n",
              "                                                   &#x27;EducationField&#x27;, &#x27;Gender&#x27;,\n",
              "                                                   &#x27;JobRole&#x27;,\n",
              "                                                   &#x27;MaritalStatus&#x27;])])),\n",
              "                (&#x27;classifier&#x27;, DecisionTreeClassifier(random_state=100435291))])</pre><b>Please rerun this cell to show the HTML repr or trust the notebook.</b></div><div class=\"sk-container\" hidden><div class=\"sk-item sk-dashed-wrapped\"><div class=\"sk-label-container\"><div class=\"sk-label sk-toggleable\"><input class=\"sk-toggleable__control sk-hidden--visually\" id=\"e0487bad-03c1-4102-bf08-17d5ca76031f\" type=\"checkbox\" ><label for=\"e0487bad-03c1-4102-bf08-17d5ca76031f\" class=\"sk-toggleable__label sk-toggleable__label-arrow\">Pipeline</label><div class=\"sk-toggleable__content\"><pre>Pipeline(steps=[(&#x27;preprocessor&#x27;,\n",
              "                 ColumnTransformer(transformers=[(&#x27;numerical&#x27;,\n",
              "                                                  Pipeline(steps=[(&#x27;imputer&#x27;,\n",
              "                                                                   SimpleImputer(strategy=&#x27;median&#x27;)),\n",
              "                                                                  (&#x27;scale&#x27;,\n",
              "                                                                   StandardScaler())]),\n",
              "                                                  [&#x27;hrs&#x27;, &#x27;absences&#x27;,\n",
              "                                                   &#x27;JobInvolvement&#x27;,\n",
              "                                                   &#x27;PerformanceRating&#x27;,\n",
              "                                                   &#x27;EnvironmentSatisfaction&#x27;,\n",
              "                                                   &#x27;JobSatisfaction&#x27;,\n",
              "                                                   &#x27;WorkLifeBalance&#x27;, &#x27;Age&#x27;,\n",
              "                                                   &#x27;DistanceFromHome&#x27;,\n",
              "                                                   &#x27;Education&#x27;, &#x27;JobLevel&#x27;,\n",
              "                                                   &#x27;MonthlyIncome&#x27;,\n",
              "                                                   &#x27;N...\n",
              "                                                   &#x27;YearsSinceLastPromotion&#x27;,\n",
              "                                                   &#x27;YearsWithCurrManager&#x27;]),\n",
              "                                                 (&#x27;categorical&#x27;,\n",
              "                                                  Pipeline(steps=[(&#x27;imputer&#x27;,\n",
              "                                                                   SimpleImputer(fill_value=&#x27;missing&#x27;,\n",
              "                                                                                 strategy=&#x27;most_frequent&#x27;)),\n",
              "                                                                  (&#x27;onehot&#x27;,\n",
              "                                                                   OneHotEncoder(handle_unknown=&#x27;ignore&#x27;))]),\n",
              "                                                  [&#x27;BusinessTravel&#x27;,\n",
              "                                                   &#x27;Department&#x27;,\n",
              "                                                   &#x27;EducationField&#x27;, &#x27;Gender&#x27;,\n",
              "                                                   &#x27;JobRole&#x27;,\n",
              "                                                   &#x27;MaritalStatus&#x27;])])),\n",
              "                (&#x27;classifier&#x27;, DecisionTreeClassifier(random_state=100435291))])</pre></div></div></div><div class=\"sk-serial\"><div class=\"sk-item sk-dashed-wrapped\"><div class=\"sk-label-container\"><div class=\"sk-label sk-toggleable\"><input class=\"sk-toggleable__control sk-hidden--visually\" id=\"69f465bd-228c-43f7-9627-f17fb48ab780\" type=\"checkbox\" ><label for=\"69f465bd-228c-43f7-9627-f17fb48ab780\" class=\"sk-toggleable__label sk-toggleable__label-arrow\">preprocessor: ColumnTransformer</label><div class=\"sk-toggleable__content\"><pre>ColumnTransformer(transformers=[(&#x27;numerical&#x27;,\n",
              "                                 Pipeline(steps=[(&#x27;imputer&#x27;,\n",
              "                                                  SimpleImputer(strategy=&#x27;median&#x27;)),\n",
              "                                                 (&#x27;scale&#x27;, StandardScaler())]),\n",
              "                                 [&#x27;hrs&#x27;, &#x27;absences&#x27;, &#x27;JobInvolvement&#x27;,\n",
              "                                  &#x27;PerformanceRating&#x27;,\n",
              "                                  &#x27;EnvironmentSatisfaction&#x27;, &#x27;JobSatisfaction&#x27;,\n",
              "                                  &#x27;WorkLifeBalance&#x27;, &#x27;Age&#x27;, &#x27;DistanceFromHome&#x27;,\n",
              "                                  &#x27;Education&#x27;, &#x27;JobLevel&#x27;, &#x27;MonthlyIncome&#x27;,\n",
              "                                  &#x27;NumCompaniesWorked&#x27;, &#x27;PercentSalar...\n",
              "                                  &#x27;StockOptionLevel&#x27;, &#x27;TotalWorkingYears&#x27;,\n",
              "                                  &#x27;TrainingTimesLastYear&#x27;, &#x27;YearsAtCompany&#x27;,\n",
              "                                  &#x27;YearsSinceLastPromotion&#x27;,\n",
              "                                  &#x27;YearsWithCurrManager&#x27;]),\n",
              "                                (&#x27;categorical&#x27;,\n",
              "                                 Pipeline(steps=[(&#x27;imputer&#x27;,\n",
              "                                                  SimpleImputer(fill_value=&#x27;missing&#x27;,\n",
              "                                                                strategy=&#x27;most_frequent&#x27;)),\n",
              "                                                 (&#x27;onehot&#x27;,\n",
              "                                                  OneHotEncoder(handle_unknown=&#x27;ignore&#x27;))]),\n",
              "                                 [&#x27;BusinessTravel&#x27;, &#x27;Department&#x27;,\n",
              "                                  &#x27;EducationField&#x27;, &#x27;Gender&#x27;, &#x27;JobRole&#x27;,\n",
              "                                  &#x27;MaritalStatus&#x27;])])</pre></div></div></div><div class=\"sk-parallel\"><div class=\"sk-parallel-item\"><div class=\"sk-item\"><div class=\"sk-label-container\"><div class=\"sk-label sk-toggleable\"><input class=\"sk-toggleable__control sk-hidden--visually\" id=\"30cd70b1-2796-4ae5-8f45-19806840c511\" type=\"checkbox\" ><label for=\"30cd70b1-2796-4ae5-8f45-19806840c511\" class=\"sk-toggleable__label sk-toggleable__label-arrow\">numerical</label><div class=\"sk-toggleable__content\"><pre>[&#x27;hrs&#x27;, &#x27;absences&#x27;, &#x27;JobInvolvement&#x27;, &#x27;PerformanceRating&#x27;, &#x27;EnvironmentSatisfaction&#x27;, &#x27;JobSatisfaction&#x27;, &#x27;WorkLifeBalance&#x27;, &#x27;Age&#x27;, &#x27;DistanceFromHome&#x27;, &#x27;Education&#x27;, &#x27;JobLevel&#x27;, &#x27;MonthlyIncome&#x27;, &#x27;NumCompaniesWorked&#x27;, &#x27;PercentSalaryHike&#x27;, &#x27;StockOptionLevel&#x27;, &#x27;TotalWorkingYears&#x27;, &#x27;TrainingTimesLastYear&#x27;, &#x27;YearsAtCompany&#x27;, &#x27;YearsSinceLastPromotion&#x27;, &#x27;YearsWithCurrManager&#x27;]</pre></div></div></div><div class=\"sk-serial\"><div class=\"sk-item\"><div class=\"sk-serial\"><div class=\"sk-item\"><div class=\"sk-estimator sk-toggleable\"><input class=\"sk-toggleable__control sk-hidden--visually\" id=\"af35ae6a-e275-407e-9a77-457ffbcc2062\" type=\"checkbox\" ><label for=\"af35ae6a-e275-407e-9a77-457ffbcc2062\" class=\"sk-toggleable__label sk-toggleable__label-arrow\">SimpleImputer</label><div class=\"sk-toggleable__content\"><pre>SimpleImputer(strategy=&#x27;median&#x27;)</pre></div></div></div><div class=\"sk-item\"><div class=\"sk-estimator sk-toggleable\"><input class=\"sk-toggleable__control sk-hidden--visually\" id=\"c91f1808-65a9-4f8e-a2cc-bdd378831a8a\" type=\"checkbox\" ><label for=\"c91f1808-65a9-4f8e-a2cc-bdd378831a8a\" class=\"sk-toggleable__label sk-toggleable__label-arrow\">StandardScaler</label><div class=\"sk-toggleable__content\"><pre>StandardScaler()</pre></div></div></div></div></div></div></div></div><div class=\"sk-parallel-item\"><div class=\"sk-item\"><div class=\"sk-label-container\"><div class=\"sk-label sk-toggleable\"><input class=\"sk-toggleable__control sk-hidden--visually\" id=\"813c4ba9-2f7f-4e04-828d-556625abe55e\" type=\"checkbox\" ><label for=\"813c4ba9-2f7f-4e04-828d-556625abe55e\" class=\"sk-toggleable__label sk-toggleable__label-arrow\">categorical</label><div class=\"sk-toggleable__content\"><pre>[&#x27;BusinessTravel&#x27;, &#x27;Department&#x27;, &#x27;EducationField&#x27;, &#x27;Gender&#x27;, &#x27;JobRole&#x27;, &#x27;MaritalStatus&#x27;]</pre></div></div></div><div class=\"sk-serial\"><div class=\"sk-item\"><div class=\"sk-serial\"><div class=\"sk-item\"><div class=\"sk-estimator sk-toggleable\"><input class=\"sk-toggleable__control sk-hidden--visually\" id=\"d58944f3-f5fa-4d72-8a51-52927909d472\" type=\"checkbox\" ><label for=\"d58944f3-f5fa-4d72-8a51-52927909d472\" class=\"sk-toggleable__label sk-toggleable__label-arrow\">SimpleImputer</label><div class=\"sk-toggleable__content\"><pre>SimpleImputer(fill_value=&#x27;missing&#x27;, strategy=&#x27;most_frequent&#x27;)</pre></div></div></div><div class=\"sk-item\"><div class=\"sk-estimator sk-toggleable\"><input class=\"sk-toggleable__control sk-hidden--visually\" id=\"fec58161-1238-442e-96fc-f456bd1fd111\" type=\"checkbox\" ><label for=\"fec58161-1238-442e-96fc-f456bd1fd111\" class=\"sk-toggleable__label sk-toggleable__label-arrow\">OneHotEncoder</label><div class=\"sk-toggleable__content\"><pre>OneHotEncoder(handle_unknown=&#x27;ignore&#x27;)</pre></div></div></div></div></div></div></div></div></div></div><div class=\"sk-item\"><div class=\"sk-estimator sk-toggleable\"><input class=\"sk-toggleable__control sk-hidden--visually\" id=\"4653dcbe-73af-459d-a761-acce66822ddd\" type=\"checkbox\" ><label for=\"4653dcbe-73af-459d-a761-acce66822ddd\" class=\"sk-toggleable__label sk-toggleable__label-arrow\">DecisionTreeClassifier</label><div class=\"sk-toggleable__content\"><pre>DecisionTreeClassifier(random_state=100435291)</pre></div></div></div></div></div></div></div>"
            ]
          },
          "metadata": {},
          "execution_count": 35
        }
      ],
      "source": [
        "# Defining the classifier\n",
        "classifier_tree = tree.DecisionTreeClassifier(random_state=nia)\n",
        "\n",
        "# Defining the pipeline\n",
        "clf_tree = Pipeline(steps=[('preprocessor', preprocessor),\n",
        "                           ('classifier', classifier_tree)])\n",
        "\n",
        "clf_tree"
      ],
      "id": "CyyQ_jP1jBNo"
    },
    {
      "cell_type": "markdown",
      "metadata": {
        "id": "GhOaewQyTq_q"
      },
      "source": [
        "The mean accuracy of the Decision tree classifier, using the default hyperparameters, in the inner evaluation is 0.77 with a standard deviation of 0.04. This accuracy is significative higher than the dummy classifier.  It took 0.1084 seconds to run the fitting and cross validation.\n",
        "\n"
      ],
      "id": "GhOaewQyTq_q"
    },
    {
      "cell_type": "code",
      "execution_count": 36,
      "metadata": {
        "colab": {
          "base_uri": "https://localhost:8080/"
        },
        "id": "EmMeUm_9Zi3n",
        "outputId": "6a240fc9-3932-4537-b8ef-da806c1b8e1d"
      },
      "outputs": [
        {
          "output_type": "stream",
          "name": "stdout",
          "text": [
            "All the accuracies are: [0.73157895 0.81842105 0.76842105]\n",
            "And the average crossvalidation accuracy is: 0.77 +- 0.04\n",
            "Time spent in the cross validation scoring: 0.1084 s\n"
          ]
        }
      ],
      "source": [
        "# Accuracy of tree classifier\n",
        "time_start = time()\n",
        "scores_tree = cross_val_score(clf_tree, X_train, y_train, scoring='accuracy', cv = cv) \n",
        "time_end = time()\n",
        "time_scores_tree = time_end-time_start\n",
        "\n",
        "print(f\"All the accuracies are: {scores_tree}\")\n",
        "print(f\"And the average crossvalidation accuracy is: {scores_tree.mean():.2f} +- {scores_tree.std():.2f}\")\n",
        "print(f'Time spent in the cross validation scoring: {round(time_scores_tree, 4)} s')"
      ],
      "id": "EmMeUm_9Zi3n"
    },
    {
      "cell_type": "markdown",
      "metadata": {
        "id": "5q50M-IeiURr"
      },
      "source": [
        "#### c. K-Nearest Neighbors"
      ],
      "id": "5q50M-IeiURr"
    },
    {
      "cell_type": "code",
      "execution_count": 37,
      "metadata": {
        "colab": {
          "base_uri": "https://localhost:8080/",
          "height": 227
        },
        "id": "PEgPjN8Tipn7",
        "outputId": "c6f73047-52db-437d-dd8c-34cf2d6fb388"
      },
      "outputs": [
        {
          "output_type": "execute_result",
          "data": {
            "text/plain": [
              "Pipeline(steps=[('preprocessor',\n",
              "                 ColumnTransformer(transformers=[('numerical',\n",
              "                                                  Pipeline(steps=[('imputer',\n",
              "                                                                   SimpleImputer(strategy='median')),\n",
              "                                                                  ('scale',\n",
              "                                                                   StandardScaler())]),\n",
              "                                                  ['hrs', 'absences',\n",
              "                                                   'JobInvolvement',\n",
              "                                                   'PerformanceRating',\n",
              "                                                   'EnvironmentSatisfaction',\n",
              "                                                   'JobSatisfaction',\n",
              "                                                   'WorkLifeBalance', 'Age',\n",
              "                                                   'DistanceFromHome',\n",
              "                                                   'Education', 'JobLevel',\n",
              "                                                   'MonthlyIncome',\n",
              "                                                   'N...\n",
              "                                                   'YearsAtCompany',\n",
              "                                                   'YearsSinceLastPromotion',\n",
              "                                                   'YearsWithCurrManager']),\n",
              "                                                 ('categorical',\n",
              "                                                  Pipeline(steps=[('imputer',\n",
              "                                                                   SimpleImputer(fill_value='missing',\n",
              "                                                                                 strategy='most_frequent')),\n",
              "                                                                  ('onehot',\n",
              "                                                                   OneHotEncoder(handle_unknown='ignore'))]),\n",
              "                                                  ['BusinessTravel',\n",
              "                                                   'Department',\n",
              "                                                   'EducationField', 'Gender',\n",
              "                                                   'JobRole',\n",
              "                                                   'MaritalStatus'])])),\n",
              "                ('classifier', KNeighborsClassifier())])"
            ],
            "text/html": [
              "<style>#sk-98b1f709-c32b-4bd9-9fcc-21617da51f2e {color: black;background-color: white;}#sk-98b1f709-c32b-4bd9-9fcc-21617da51f2e pre{padding: 0;}#sk-98b1f709-c32b-4bd9-9fcc-21617da51f2e div.sk-toggleable {background-color: white;}#sk-98b1f709-c32b-4bd9-9fcc-21617da51f2e label.sk-toggleable__label {cursor: pointer;display: block;width: 100%;margin-bottom: 0;padding: 0.3em;box-sizing: border-box;text-align: center;}#sk-98b1f709-c32b-4bd9-9fcc-21617da51f2e label.sk-toggleable__label-arrow:before {content: \"▸\";float: left;margin-right: 0.25em;color: #696969;}#sk-98b1f709-c32b-4bd9-9fcc-21617da51f2e label.sk-toggleable__label-arrow:hover:before {color: black;}#sk-98b1f709-c32b-4bd9-9fcc-21617da51f2e div.sk-estimator:hover label.sk-toggleable__label-arrow:before {color: black;}#sk-98b1f709-c32b-4bd9-9fcc-21617da51f2e div.sk-toggleable__content {max-height: 0;max-width: 0;overflow: hidden;text-align: left;background-color: #f0f8ff;}#sk-98b1f709-c32b-4bd9-9fcc-21617da51f2e div.sk-toggleable__content pre {margin: 0.2em;color: black;border-radius: 0.25em;background-color: #f0f8ff;}#sk-98b1f709-c32b-4bd9-9fcc-21617da51f2e input.sk-toggleable__control:checked~div.sk-toggleable__content {max-height: 200px;max-width: 100%;overflow: auto;}#sk-98b1f709-c32b-4bd9-9fcc-21617da51f2e input.sk-toggleable__control:checked~label.sk-toggleable__label-arrow:before {content: \"▾\";}#sk-98b1f709-c32b-4bd9-9fcc-21617da51f2e div.sk-estimator input.sk-toggleable__control:checked~label.sk-toggleable__label {background-color: #d4ebff;}#sk-98b1f709-c32b-4bd9-9fcc-21617da51f2e div.sk-label input.sk-toggleable__control:checked~label.sk-toggleable__label {background-color: #d4ebff;}#sk-98b1f709-c32b-4bd9-9fcc-21617da51f2e input.sk-hidden--visually {border: 0;clip: rect(1px 1px 1px 1px);clip: rect(1px, 1px, 1px, 1px);height: 1px;margin: -1px;overflow: hidden;padding: 0;position: absolute;width: 1px;}#sk-98b1f709-c32b-4bd9-9fcc-21617da51f2e div.sk-estimator {font-family: monospace;background-color: #f0f8ff;border: 1px dotted black;border-radius: 0.25em;box-sizing: border-box;margin-bottom: 0.5em;}#sk-98b1f709-c32b-4bd9-9fcc-21617da51f2e div.sk-estimator:hover {background-color: #d4ebff;}#sk-98b1f709-c32b-4bd9-9fcc-21617da51f2e div.sk-parallel-item::after {content: \"\";width: 100%;border-bottom: 1px solid gray;flex-grow: 1;}#sk-98b1f709-c32b-4bd9-9fcc-21617da51f2e div.sk-label:hover label.sk-toggleable__label {background-color: #d4ebff;}#sk-98b1f709-c32b-4bd9-9fcc-21617da51f2e div.sk-serial::before {content: \"\";position: absolute;border-left: 1px solid gray;box-sizing: border-box;top: 2em;bottom: 0;left: 50%;}#sk-98b1f709-c32b-4bd9-9fcc-21617da51f2e div.sk-serial {display: flex;flex-direction: column;align-items: center;background-color: white;padding-right: 0.2em;padding-left: 0.2em;}#sk-98b1f709-c32b-4bd9-9fcc-21617da51f2e div.sk-item {z-index: 1;}#sk-98b1f709-c32b-4bd9-9fcc-21617da51f2e div.sk-parallel {display: flex;align-items: stretch;justify-content: center;background-color: white;}#sk-98b1f709-c32b-4bd9-9fcc-21617da51f2e div.sk-parallel::before {content: \"\";position: absolute;border-left: 1px solid gray;box-sizing: border-box;top: 2em;bottom: 0;left: 50%;}#sk-98b1f709-c32b-4bd9-9fcc-21617da51f2e div.sk-parallel-item {display: flex;flex-direction: column;position: relative;background-color: white;}#sk-98b1f709-c32b-4bd9-9fcc-21617da51f2e div.sk-parallel-item:first-child::after {align-self: flex-end;width: 50%;}#sk-98b1f709-c32b-4bd9-9fcc-21617da51f2e div.sk-parallel-item:last-child::after {align-self: flex-start;width: 50%;}#sk-98b1f709-c32b-4bd9-9fcc-21617da51f2e div.sk-parallel-item:only-child::after {width: 0;}#sk-98b1f709-c32b-4bd9-9fcc-21617da51f2e div.sk-dashed-wrapped {border: 1px dashed gray;margin: 0 0.4em 0.5em 0.4em;box-sizing: border-box;padding-bottom: 0.4em;background-color: white;position: relative;}#sk-98b1f709-c32b-4bd9-9fcc-21617da51f2e div.sk-label label {font-family: monospace;font-weight: bold;background-color: white;display: inline-block;line-height: 1.2em;}#sk-98b1f709-c32b-4bd9-9fcc-21617da51f2e div.sk-label-container {position: relative;z-index: 2;text-align: center;}#sk-98b1f709-c32b-4bd9-9fcc-21617da51f2e div.sk-container {/* jupyter's `normalize.less` sets `[hidden] { display: none; }` but bootstrap.min.css set `[hidden] { display: none !important; }` so we also need the `!important` here to be able to override the default hidden behavior on the sphinx rendered scikit-learn.org. See: https://github.com/scikit-learn/scikit-learn/issues/21755 */display: inline-block !important;position: relative;}#sk-98b1f709-c32b-4bd9-9fcc-21617da51f2e div.sk-text-repr-fallback {display: none;}</style><div id=\"sk-98b1f709-c32b-4bd9-9fcc-21617da51f2e\" class=\"sk-top-container\"><div class=\"sk-text-repr-fallback\"><pre>Pipeline(steps=[(&#x27;preprocessor&#x27;,\n",
              "                 ColumnTransformer(transformers=[(&#x27;numerical&#x27;,\n",
              "                                                  Pipeline(steps=[(&#x27;imputer&#x27;,\n",
              "                                                                   SimpleImputer(strategy=&#x27;median&#x27;)),\n",
              "                                                                  (&#x27;scale&#x27;,\n",
              "                                                                   StandardScaler())]),\n",
              "                                                  [&#x27;hrs&#x27;, &#x27;absences&#x27;,\n",
              "                                                   &#x27;JobInvolvement&#x27;,\n",
              "                                                   &#x27;PerformanceRating&#x27;,\n",
              "                                                   &#x27;EnvironmentSatisfaction&#x27;,\n",
              "                                                   &#x27;JobSatisfaction&#x27;,\n",
              "                                                   &#x27;WorkLifeBalance&#x27;, &#x27;Age&#x27;,\n",
              "                                                   &#x27;DistanceFromHome&#x27;,\n",
              "                                                   &#x27;Education&#x27;, &#x27;JobLevel&#x27;,\n",
              "                                                   &#x27;MonthlyIncome&#x27;,\n",
              "                                                   &#x27;N...\n",
              "                                                   &#x27;YearsAtCompany&#x27;,\n",
              "                                                   &#x27;YearsSinceLastPromotion&#x27;,\n",
              "                                                   &#x27;YearsWithCurrManager&#x27;]),\n",
              "                                                 (&#x27;categorical&#x27;,\n",
              "                                                  Pipeline(steps=[(&#x27;imputer&#x27;,\n",
              "                                                                   SimpleImputer(fill_value=&#x27;missing&#x27;,\n",
              "                                                                                 strategy=&#x27;most_frequent&#x27;)),\n",
              "                                                                  (&#x27;onehot&#x27;,\n",
              "                                                                   OneHotEncoder(handle_unknown=&#x27;ignore&#x27;))]),\n",
              "                                                  [&#x27;BusinessTravel&#x27;,\n",
              "                                                   &#x27;Department&#x27;,\n",
              "                                                   &#x27;EducationField&#x27;, &#x27;Gender&#x27;,\n",
              "                                                   &#x27;JobRole&#x27;,\n",
              "                                                   &#x27;MaritalStatus&#x27;])])),\n",
              "                (&#x27;classifier&#x27;, KNeighborsClassifier())])</pre><b>Please rerun this cell to show the HTML repr or trust the notebook.</b></div><div class=\"sk-container\" hidden><div class=\"sk-item sk-dashed-wrapped\"><div class=\"sk-label-container\"><div class=\"sk-label sk-toggleable\"><input class=\"sk-toggleable__control sk-hidden--visually\" id=\"c03adbb9-bd37-4e84-aa02-9990fc7f7725\" type=\"checkbox\" ><label for=\"c03adbb9-bd37-4e84-aa02-9990fc7f7725\" class=\"sk-toggleable__label sk-toggleable__label-arrow\">Pipeline</label><div class=\"sk-toggleable__content\"><pre>Pipeline(steps=[(&#x27;preprocessor&#x27;,\n",
              "                 ColumnTransformer(transformers=[(&#x27;numerical&#x27;,\n",
              "                                                  Pipeline(steps=[(&#x27;imputer&#x27;,\n",
              "                                                                   SimpleImputer(strategy=&#x27;median&#x27;)),\n",
              "                                                                  (&#x27;scale&#x27;,\n",
              "                                                                   StandardScaler())]),\n",
              "                                                  [&#x27;hrs&#x27;, &#x27;absences&#x27;,\n",
              "                                                   &#x27;JobInvolvement&#x27;,\n",
              "                                                   &#x27;PerformanceRating&#x27;,\n",
              "                                                   &#x27;EnvironmentSatisfaction&#x27;,\n",
              "                                                   &#x27;JobSatisfaction&#x27;,\n",
              "                                                   &#x27;WorkLifeBalance&#x27;, &#x27;Age&#x27;,\n",
              "                                                   &#x27;DistanceFromHome&#x27;,\n",
              "                                                   &#x27;Education&#x27;, &#x27;JobLevel&#x27;,\n",
              "                                                   &#x27;MonthlyIncome&#x27;,\n",
              "                                                   &#x27;N...\n",
              "                                                   &#x27;YearsAtCompany&#x27;,\n",
              "                                                   &#x27;YearsSinceLastPromotion&#x27;,\n",
              "                                                   &#x27;YearsWithCurrManager&#x27;]),\n",
              "                                                 (&#x27;categorical&#x27;,\n",
              "                                                  Pipeline(steps=[(&#x27;imputer&#x27;,\n",
              "                                                                   SimpleImputer(fill_value=&#x27;missing&#x27;,\n",
              "                                                                                 strategy=&#x27;most_frequent&#x27;)),\n",
              "                                                                  (&#x27;onehot&#x27;,\n",
              "                                                                   OneHotEncoder(handle_unknown=&#x27;ignore&#x27;))]),\n",
              "                                                  [&#x27;BusinessTravel&#x27;,\n",
              "                                                   &#x27;Department&#x27;,\n",
              "                                                   &#x27;EducationField&#x27;, &#x27;Gender&#x27;,\n",
              "                                                   &#x27;JobRole&#x27;,\n",
              "                                                   &#x27;MaritalStatus&#x27;])])),\n",
              "                (&#x27;classifier&#x27;, KNeighborsClassifier())])</pre></div></div></div><div class=\"sk-serial\"><div class=\"sk-item sk-dashed-wrapped\"><div class=\"sk-label-container\"><div class=\"sk-label sk-toggleable\"><input class=\"sk-toggleable__control sk-hidden--visually\" id=\"e0d1d08a-086e-43c0-92c4-813c99cc523e\" type=\"checkbox\" ><label for=\"e0d1d08a-086e-43c0-92c4-813c99cc523e\" class=\"sk-toggleable__label sk-toggleable__label-arrow\">preprocessor: ColumnTransformer</label><div class=\"sk-toggleable__content\"><pre>ColumnTransformer(transformers=[(&#x27;numerical&#x27;,\n",
              "                                 Pipeline(steps=[(&#x27;imputer&#x27;,\n",
              "                                                  SimpleImputer(strategy=&#x27;median&#x27;)),\n",
              "                                                 (&#x27;scale&#x27;, StandardScaler())]),\n",
              "                                 [&#x27;hrs&#x27;, &#x27;absences&#x27;, &#x27;JobInvolvement&#x27;,\n",
              "                                  &#x27;PerformanceRating&#x27;,\n",
              "                                  &#x27;EnvironmentSatisfaction&#x27;, &#x27;JobSatisfaction&#x27;,\n",
              "                                  &#x27;WorkLifeBalance&#x27;, &#x27;Age&#x27;, &#x27;DistanceFromHome&#x27;,\n",
              "                                  &#x27;Education&#x27;, &#x27;JobLevel&#x27;, &#x27;MonthlyIncome&#x27;,\n",
              "                                  &#x27;NumCompaniesWorked&#x27;, &#x27;PercentSalar...\n",
              "                                  &#x27;StockOptionLevel&#x27;, &#x27;TotalWorkingYears&#x27;,\n",
              "                                  &#x27;TrainingTimesLastYear&#x27;, &#x27;YearsAtCompany&#x27;,\n",
              "                                  &#x27;YearsSinceLastPromotion&#x27;,\n",
              "                                  &#x27;YearsWithCurrManager&#x27;]),\n",
              "                                (&#x27;categorical&#x27;,\n",
              "                                 Pipeline(steps=[(&#x27;imputer&#x27;,\n",
              "                                                  SimpleImputer(fill_value=&#x27;missing&#x27;,\n",
              "                                                                strategy=&#x27;most_frequent&#x27;)),\n",
              "                                                 (&#x27;onehot&#x27;,\n",
              "                                                  OneHotEncoder(handle_unknown=&#x27;ignore&#x27;))]),\n",
              "                                 [&#x27;BusinessTravel&#x27;, &#x27;Department&#x27;,\n",
              "                                  &#x27;EducationField&#x27;, &#x27;Gender&#x27;, &#x27;JobRole&#x27;,\n",
              "                                  &#x27;MaritalStatus&#x27;])])</pre></div></div></div><div class=\"sk-parallel\"><div class=\"sk-parallel-item\"><div class=\"sk-item\"><div class=\"sk-label-container\"><div class=\"sk-label sk-toggleable\"><input class=\"sk-toggleable__control sk-hidden--visually\" id=\"eed4e558-03e0-40d6-a302-6b0b6a472a68\" type=\"checkbox\" ><label for=\"eed4e558-03e0-40d6-a302-6b0b6a472a68\" class=\"sk-toggleable__label sk-toggleable__label-arrow\">numerical</label><div class=\"sk-toggleable__content\"><pre>[&#x27;hrs&#x27;, &#x27;absences&#x27;, &#x27;JobInvolvement&#x27;, &#x27;PerformanceRating&#x27;, &#x27;EnvironmentSatisfaction&#x27;, &#x27;JobSatisfaction&#x27;, &#x27;WorkLifeBalance&#x27;, &#x27;Age&#x27;, &#x27;DistanceFromHome&#x27;, &#x27;Education&#x27;, &#x27;JobLevel&#x27;, &#x27;MonthlyIncome&#x27;, &#x27;NumCompaniesWorked&#x27;, &#x27;PercentSalaryHike&#x27;, &#x27;StockOptionLevel&#x27;, &#x27;TotalWorkingYears&#x27;, &#x27;TrainingTimesLastYear&#x27;, &#x27;YearsAtCompany&#x27;, &#x27;YearsSinceLastPromotion&#x27;, &#x27;YearsWithCurrManager&#x27;]</pre></div></div></div><div class=\"sk-serial\"><div class=\"sk-item\"><div class=\"sk-serial\"><div class=\"sk-item\"><div class=\"sk-estimator sk-toggleable\"><input class=\"sk-toggleable__control sk-hidden--visually\" id=\"181e09e6-b8ec-4625-b3a8-4abcc4ba682c\" type=\"checkbox\" ><label for=\"181e09e6-b8ec-4625-b3a8-4abcc4ba682c\" class=\"sk-toggleable__label sk-toggleable__label-arrow\">SimpleImputer</label><div class=\"sk-toggleable__content\"><pre>SimpleImputer(strategy=&#x27;median&#x27;)</pre></div></div></div><div class=\"sk-item\"><div class=\"sk-estimator sk-toggleable\"><input class=\"sk-toggleable__control sk-hidden--visually\" id=\"0edf6a3d-713f-4b35-8c33-965227aff9e3\" type=\"checkbox\" ><label for=\"0edf6a3d-713f-4b35-8c33-965227aff9e3\" class=\"sk-toggleable__label sk-toggleable__label-arrow\">StandardScaler</label><div class=\"sk-toggleable__content\"><pre>StandardScaler()</pre></div></div></div></div></div></div></div></div><div class=\"sk-parallel-item\"><div class=\"sk-item\"><div class=\"sk-label-container\"><div class=\"sk-label sk-toggleable\"><input class=\"sk-toggleable__control sk-hidden--visually\" id=\"a827195b-8b1d-482c-8856-0ddefb124afa\" type=\"checkbox\" ><label for=\"a827195b-8b1d-482c-8856-0ddefb124afa\" class=\"sk-toggleable__label sk-toggleable__label-arrow\">categorical</label><div class=\"sk-toggleable__content\"><pre>[&#x27;BusinessTravel&#x27;, &#x27;Department&#x27;, &#x27;EducationField&#x27;, &#x27;Gender&#x27;, &#x27;JobRole&#x27;, &#x27;MaritalStatus&#x27;]</pre></div></div></div><div class=\"sk-serial\"><div class=\"sk-item\"><div class=\"sk-serial\"><div class=\"sk-item\"><div class=\"sk-estimator sk-toggleable\"><input class=\"sk-toggleable__control sk-hidden--visually\" id=\"f0fe45eb-71b3-487b-bd42-3af58cdfaeba\" type=\"checkbox\" ><label for=\"f0fe45eb-71b3-487b-bd42-3af58cdfaeba\" class=\"sk-toggleable__label sk-toggleable__label-arrow\">SimpleImputer</label><div class=\"sk-toggleable__content\"><pre>SimpleImputer(fill_value=&#x27;missing&#x27;, strategy=&#x27;most_frequent&#x27;)</pre></div></div></div><div class=\"sk-item\"><div class=\"sk-estimator sk-toggleable\"><input class=\"sk-toggleable__control sk-hidden--visually\" id=\"dd83116a-9201-44dd-badc-4f356eedd3c7\" type=\"checkbox\" ><label for=\"dd83116a-9201-44dd-badc-4f356eedd3c7\" class=\"sk-toggleable__label sk-toggleable__label-arrow\">OneHotEncoder</label><div class=\"sk-toggleable__content\"><pre>OneHotEncoder(handle_unknown=&#x27;ignore&#x27;)</pre></div></div></div></div></div></div></div></div></div></div><div class=\"sk-item\"><div class=\"sk-estimator sk-toggleable\"><input class=\"sk-toggleable__control sk-hidden--visually\" id=\"6709653a-ac50-4ab7-8624-517d819d9a64\" type=\"checkbox\" ><label for=\"6709653a-ac50-4ab7-8624-517d819d9a64\" class=\"sk-toggleable__label sk-toggleable__label-arrow\">KNeighborsClassifier</label><div class=\"sk-toggleable__content\"><pre>KNeighborsClassifier()</pre></div></div></div></div></div></div></div>"
            ]
          },
          "metadata": {},
          "execution_count": 37
        }
      ],
      "source": [
        "# Defining the classifier\n",
        "classifier_knn = KNeighborsClassifier()\n",
        "\n",
        "# Defining the pipeline\n",
        "clf_knn = Pipeline(steps=[('preprocessor', preprocessor),\n",
        "                          ('classifier', classifier_knn)])\n",
        "\n",
        "clf_knn"
      ],
      "id": "PEgPjN8Tipn7"
    },
    {
      "cell_type": "markdown",
      "metadata": {
        "id": "zSOaXA_YUEMQ"
      },
      "source": [
        "The mean accuracy of the KNN classifier, using the default hyperparameters, in the inner evaluation is 0.67 with a standard deviation of 0.02. This accuracy is higher than the dummy classifier but lower than the decision tree (with default hyperparameters). It took 0.1881 seconds to run the fitting and cross validation."
      ],
      "id": "zSOaXA_YUEMQ"
    },
    {
      "cell_type": "code",
      "execution_count": 39,
      "metadata": {
        "colab": {
          "base_uri": "https://localhost:8080/"
        },
        "id": "905k64DUmRw1",
        "outputId": "65af511f-d9ad-4a85-cdd4-b34bc5b7db11"
      },
      "outputs": [
        {
          "output_type": "stream",
          "name": "stdout",
          "text": [
            "All the accuracies are: [0.68947368 0.64473684 0.67105263]\n",
            "And the average crossvalidation accuracy is: 0.67 +- 0.02\n",
            "Time spent in the cross validation scoring: 0.1881 s\n"
          ]
        }
      ],
      "source": [
        "# Accuracy of knn classifier\n",
        "time_start = time()\n",
        "scores_knn = cross_val_score(clf_knn, X_train, y_train, scoring='accuracy', cv = cv) \n",
        "time_end = time()\n",
        "time_scores_knn = time_end-time_start\n",
        "\n",
        "print(f\"All the accuracies are: {scores_knn}\")\n",
        "print(f\"And the average crossvalidation accuracy is: {scores_knn.mean():.2f} +- {scores_knn.std():.2f}\")\n",
        "print(f'Time spent in the cross validation scoring: {round(time_scores_knn, 4)} s')"
      ],
      "id": "905k64DUmRw1"
    },
    {
      "cell_type": "markdown",
      "metadata": {
        "id": "JArcosW6jCqx"
      },
      "source": [
        "### 4. Hyper-parameter tuning for the basic methods: KNN and trees"
      ],
      "id": "JArcosW6jCqx"
    },
    {
      "cell_type": "markdown",
      "metadata": {
        "id": "b99f4e02"
      },
      "source": [
        "In this section we evaluate some models using methods for Hyperparameter Optimization (HPO). Notice that for our methods we are not going to be using the value *n_jobs = -1* which makes the operation more time efficient by parallel executing it in every CPU of the machine, so in this case the default will be doing only serial execution. We will review every execution time having in mind that these operations could be faster with better machines."
      ],
      "id": "b99f4e02"
    },
    {
      "cell_type": "markdown",
      "metadata": {
        "id": "1joQ315tjDxs"
      },
      "source": [
        "#### a. Grid Search for KNN"
      ],
      "id": "1joQ315tjDxs"
    },
    {
      "cell_type": "markdown",
      "metadata": {
        "id": "Ab5DvHALa93V"
      },
      "source": [
        "The hyperparameters that we tunned were *n_neighbors* and *p_distance*. We noticed that when tunning hyperparameters the default ones sometimes were better, meaning that for example higher accuracy levels were obtained with the default *p_distance* hyperparameter, that is euclidean.\n",
        "\n",
        "For *n_neighbors* (the number of nearest neighbors), we started with a range from 1 to 40, but then we realized that we were obtaining higher accuracy levels for fewer neighbors. Actually, the best score is obtained when this hyperparameter is equal to one.\n",
        "\n",
        "**Note**: For a previous analysis we had chosen *weights* as a hyperparameter, however it was not very useful given that we always got 'uniform' as the best result and this is in fact the default case. So we decided to leave the parameter out of the study for it to be more efficient. "
      ],
      "id": "Ab5DvHALa93V"
    },
    {
      "cell_type": "code",
      "execution_count": 41,
      "metadata": {
        "colab": {
          "base_uri": "https://localhost:8080/"
        },
        "id": "Htt0be-3xHwk",
        "outputId": "b6b1e31f-edc6-4bcc-ffed-d165f46d6240"
      },
      "outputs": [
        {
          "output_type": "stream",
          "name": "stdout",
          "text": [
            "Model fitting...\n",
            "Fitting 3 folds for each of 20 candidates, totalling 60 fits\n",
            "\n",
            "Time spent: 3.4337 s\n"
          ]
        }
      ],
      "source": [
        "# Defining the classifier\n",
        "classifier_knn = KNeighborsClassifier()\n",
        "\n",
        "# Defining the pipeline\n",
        "clf_knn_pipeline = Pipeline(steps=[('preprocessor', preprocessor),\n",
        "                                   ('classifier', classifier_knn)])\n",
        "\n",
        "# List Hyperparameters that we want to tune.\n",
        "n_neighbors = list(range(1, 11))      # Default=5\n",
        "p_distance = [1,2]                    # When p = 1 manhattan_distance and p = 2 is euclidean_distance. Default=2 (euclidean)\n",
        "# weights = ['uniform', 'distance']   # Default=uniform\n",
        "param_grid_knn = dict(classifier__n_neighbors = n_neighbors, \n",
        "                      classifier__p = p_distance)\n",
        "\n",
        "\n",
        "# Defining the Grid search\n",
        "grid_knn = GridSearchCV(clf_knn_pipeline,\n",
        "                        param_grid_knn,\n",
        "                        scoring = 'accuracy',\n",
        "                        cv = cv,\n",
        "                        verbose=1)\n",
        "\n",
        "print('Model fitting...')\n",
        "time_start = time()\n",
        "np.random.seed(nia)\n",
        "grid_knn_fit = grid_knn.fit(X_train, y_train)\n",
        "time_end = time()\n",
        "time_grid_knn = time_end-time_start\n",
        "print('')\n",
        "print(f'Time spent: {round(time_grid_knn, 4)} s')"
      ],
      "id": "Htt0be-3xHwk"
    },
    {
      "cell_type": "markdown",
      "metadata": {
        "id": "ccP6GIwbdGw_"
      },
      "source": [
        "With the best hyperparameters obtained from the grid search, we obtained an accuracy of 0.81, which is higher than using the default hyperparameters: 0.67. As we have seen this is due to change from using the five nearest neighbors in the fit to just the nearest neighbor."
      ],
      "id": "ccP6GIwbdGw_"
    },
    {
      "cell_type": "code",
      "execution_count": 42,
      "metadata": {
        "colab": {
          "base_uri": "https://localhost:8080/"
        },
        "id": "vMmOY8p2bGb9",
        "outputId": "d57d6873-4faa-4953-b3d1-99568d131cbd"
      },
      "outputs": [
        {
          "output_type": "stream",
          "name": "stdout",
          "text": [
            "{'classifier__n_neighbors': 1, 'classifier__p': 2} 0.8192982456140351\n"
          ]
        },
        {
          "output_type": "execute_result",
          "data": {
            "text/plain": [
              "0.8192982456140351"
            ]
          },
          "metadata": {},
          "execution_count": 42
        }
      ],
      "source": [
        "# Best parameters from the grid\n",
        "print(grid_knn_fit.best_params_, grid_knn_fit.best_score_)\n",
        "inner_eval_knn = grid_knn_fit.best_score_\n",
        "inner_eval_knn"
      ],
      "id": "vMmOY8p2bGb9"
    },
    {
      "cell_type": "markdown",
      "metadata": {
        "id": "pJzhW6Gedfeh"
      },
      "source": [
        "In the following table we can see the accuracy is getting lower while increasing the number of neighbors in the fit. Also, the accuracy is higher when using the euclidean distance."
      ],
      "id": "pJzhW6Gedfeh"
    },
    {
      "cell_type": "code",
      "execution_count": 43,
      "metadata": {
        "colab": {
          "base_uri": "https://localhost:8080/",
          "height": 143
        },
        "id": "-8ZEeS3B6guJ",
        "outputId": "ec41056e-4fb4-43d6-e56f-de78366c51d4"
      },
      "outputs": [
        {
          "output_type": "display_data",
          "data": {
            "text/plain": [
              "<pandas.io.formats.style.Styler at 0x7fe6c871cbe0>"
            ],
            "text/html": [
              "<style type=\"text/css\">\n",
              "#T_ea039_row0_col0 {\n",
              "  background-color: #08519c;\n",
              "  color: #f1f1f1;\n",
              "}\n",
              "#T_ea039_row0_col1 {\n",
              "  background-color: #75b4d8;\n",
              "  color: #000000;\n",
              "}\n",
              "#T_ea039_row0_col2 {\n",
              "  background-color: #9ac8e0;\n",
              "  color: #000000;\n",
              "}\n",
              "#T_ea039_row0_col3 {\n",
              "  background-color: #d0e1f2;\n",
              "  color: #000000;\n",
              "}\n",
              "#T_ea039_row0_col4 {\n",
              "  background-color: #d7e6f5;\n",
              "  color: #000000;\n",
              "}\n",
              "#T_ea039_row0_col5 {\n",
              "  background-color: #e9f2fa;\n",
              "  color: #000000;\n",
              "}\n",
              "#T_ea039_row0_col6 {\n",
              "  background-color: #e7f1fa;\n",
              "  color: #000000;\n",
              "}\n",
              "#T_ea039_row0_col7 {\n",
              "  background-color: #e4eff9;\n",
              "  color: #000000;\n",
              "}\n",
              "#T_ea039_row0_col8 {\n",
              "  background-color: #f5fafe;\n",
              "  color: #000000;\n",
              "}\n",
              "#T_ea039_row0_col9, #T_ea039_row1_col4 {\n",
              "  background-color: #eff6fc;\n",
              "  color: #000000;\n",
              "}\n",
              "#T_ea039_row1_col0 {\n",
              "  background-color: #08306b;\n",
              "  color: #f1f1f1;\n",
              "}\n",
              "#T_ea039_row1_col1 {\n",
              "  background-color: #8cc0dd;\n",
              "  color: #000000;\n",
              "}\n",
              "#T_ea039_row1_col2 {\n",
              "  background-color: #afd1e7;\n",
              "  color: #000000;\n",
              "}\n",
              "#T_ea039_row1_col3 {\n",
              "  background-color: #d9e8f5;\n",
              "  color: #000000;\n",
              "}\n",
              "#T_ea039_row1_col5 {\n",
              "  background-color: #eaf2fb;\n",
              "  color: #000000;\n",
              "}\n",
              "#T_ea039_row1_col6, #T_ea039_row1_col8 {\n",
              "  background-color: #ebf3fb;\n",
              "  color: #000000;\n",
              "}\n",
              "#T_ea039_row1_col7 {\n",
              "  background-color: #f1f7fd;\n",
              "  color: #000000;\n",
              "}\n",
              "#T_ea039_row1_col9 {\n",
              "  background-color: #f7fbff;\n",
              "  color: #000000;\n",
              "}\n",
              "</style>\n",
              "<table id=\"T_ea039_\" class=\"dataframe\">\n",
              "  <thead>\n",
              "    <tr>\n",
              "      <th class=\"index_name level0\" >param_classifier__n_neighbors</th>\n",
              "      <th class=\"col_heading level0 col0\" >1</th>\n",
              "      <th class=\"col_heading level0 col1\" >2</th>\n",
              "      <th class=\"col_heading level0 col2\" >3</th>\n",
              "      <th class=\"col_heading level0 col3\" >4</th>\n",
              "      <th class=\"col_heading level0 col4\" >5</th>\n",
              "      <th class=\"col_heading level0 col5\" >6</th>\n",
              "      <th class=\"col_heading level0 col6\" >7</th>\n",
              "      <th class=\"col_heading level0 col7\" >8</th>\n",
              "      <th class=\"col_heading level0 col8\" >9</th>\n",
              "      <th class=\"col_heading level0 col9\" >10</th>\n",
              "    </tr>\n",
              "    <tr>\n",
              "      <th class=\"index_name level0\" >param_classifier__p</th>\n",
              "      <th class=\"blank col0\" >&nbsp;</th>\n",
              "      <th class=\"blank col1\" >&nbsp;</th>\n",
              "      <th class=\"blank col2\" >&nbsp;</th>\n",
              "      <th class=\"blank col3\" >&nbsp;</th>\n",
              "      <th class=\"blank col4\" >&nbsp;</th>\n",
              "      <th class=\"blank col5\" >&nbsp;</th>\n",
              "      <th class=\"blank col6\" >&nbsp;</th>\n",
              "      <th class=\"blank col7\" >&nbsp;</th>\n",
              "      <th class=\"blank col8\" >&nbsp;</th>\n",
              "      <th class=\"blank col9\" >&nbsp;</th>\n",
              "    </tr>\n",
              "  </thead>\n",
              "  <tbody>\n",
              "    <tr>\n",
              "      <th id=\"T_ea039_level0_row0\" class=\"row_heading level0 row0\" >1</th>\n",
              "      <td id=\"T_ea039_row0_col0\" class=\"data row0 col0\" >0.799123</td>\n",
              "      <td id=\"T_ea039_row0_col1\" class=\"data row0 col1\" >0.736842</td>\n",
              "      <td id=\"T_ea039_row0_col2\" class=\"data row0 col2\" >0.722807</td>\n",
              "      <td id=\"T_ea039_row0_col3\" class=\"data row0 col3\" >0.693860</td>\n",
              "      <td id=\"T_ea039_row0_col4\" class=\"data row0 col4\" >0.687719</td>\n",
              "      <td id=\"T_ea039_row0_col5\" class=\"data row0 col5\" >0.673684</td>\n",
              "      <td id=\"T_ea039_row0_col6\" class=\"data row0 col6\" >0.674561</td>\n",
              "      <td id=\"T_ea039_row0_col7\" class=\"data row0 col7\" >0.677193</td>\n",
              "      <td id=\"T_ea039_row0_col8\" class=\"data row0 col8\" >0.664035</td>\n",
              "      <td id=\"T_ea039_row0_col9\" class=\"data row0 col9\" >0.668421</td>\n",
              "    </tr>\n",
              "    <tr>\n",
              "      <th id=\"T_ea039_level0_row1\" class=\"row_heading level0 row1\" >2</th>\n",
              "      <td id=\"T_ea039_row1_col0\" class=\"data row1 col0\" >0.819298</td>\n",
              "      <td id=\"T_ea039_row1_col1\" class=\"data row1 col1\" >0.728070</td>\n",
              "      <td id=\"T_ea039_row1_col2\" class=\"data row1 col2\" >0.713158</td>\n",
              "      <td id=\"T_ea039_row1_col3\" class=\"data row1 col3\" >0.685965</td>\n",
              "      <td id=\"T_ea039_row1_col4\" class=\"data row1 col4\" >0.668421</td>\n",
              "      <td id=\"T_ea039_row1_col5\" class=\"data row1 col5\" >0.672807</td>\n",
              "      <td id=\"T_ea039_row1_col6\" class=\"data row1 col6\" >0.671930</td>\n",
              "      <td id=\"T_ea039_row1_col7\" class=\"data row1 col7\" >0.667544</td>\n",
              "      <td id=\"T_ea039_row1_col8\" class=\"data row1 col8\" >0.671930</td>\n",
              "      <td id=\"T_ea039_row1_col9\" class=\"data row1 col9\" >0.662281</td>\n",
              "    </tr>\n",
              "  </tbody>\n",
              "</table>\n"
            ]
          },
          "metadata": {}
        }
      ],
      "source": [
        "#  Dataframe with results from grid search\n",
        "grid_knn_cv_results = pd.DataFrame(grid_knn.cv_results_)\n",
        "\n",
        "# Pivot table from dataframe with rows as distance p and columns as number of neighbors\n",
        "grid_knn_cv_results_pivot = pd.pivot_table(grid_knn_cv_results, values='mean_test_score',\n",
        "                                           columns='param_classifier__n_neighbors',\n",
        "                                           index='param_classifier__p',\n",
        "                                           aggfunc=np.mean)\n",
        "\n",
        "# Plot of the grid\n",
        "cm = sns.color_palette(\"Blues\", as_cmap=True) # try other palettes: \"YlGnBu\", \"Blues\", \"BuPu\" or \"Greens\"\n",
        "display(grid_knn_cv_results_pivot.style.background_gradient(cmap=cm, axis=None))"
      ],
      "id": "-8ZEeS3B6guJ"
    },
    {
      "cell_type": "markdown",
      "metadata": {
        "id": "OMXdfk_T-bpx"
      },
      "source": [
        "#### b. HPO methods for trees: Random Search, scikit-optimize, Optuna, Halving Random Search"
      ],
      "id": "OMXdfk_T-bpx"
    },
    {
      "cell_type": "markdown",
      "metadata": {
        "id": "Vvx53hhuFzf_"
      },
      "source": [
        "##### Definition of the tree classifier"
      ],
      "id": "Vvx53hhuFzf_"
    },
    {
      "cell_type": "code",
      "execution_count": 44,
      "metadata": {
        "colab": {
          "base_uri": "https://localhost:8080/",
          "height": 296
        },
        "id": "u5MZisrzL_vm",
        "outputId": "dbaad4c6-e90e-48eb-f737-e76046055dab"
      },
      "outputs": [
        {
          "output_type": "execute_result",
          "data": {
            "text/plain": [
              "Pipeline(steps=[('preprocessor',\n",
              "                 ColumnTransformer(transformers=[('numerical',\n",
              "                                                  Pipeline(steps=[('imputer',\n",
              "                                                                   SimpleImputer(strategy='median')),\n",
              "                                                                  ('scale',\n",
              "                                                                   StandardScaler())]),\n",
              "                                                  ['hrs', 'absences',\n",
              "                                                   'JobInvolvement',\n",
              "                                                   'PerformanceRating',\n",
              "                                                   'EnvironmentSatisfaction',\n",
              "                                                   'JobSatisfaction',\n",
              "                                                   'WorkLifeBalance', 'Age',\n",
              "                                                   'DistanceFromHome',\n",
              "                                                   'Education', 'JobLevel',\n",
              "                                                   'MonthlyIncome',\n",
              "                                                   'N...\n",
              "                                                   'YearsSinceLastPromotion',\n",
              "                                                   'YearsWithCurrManager']),\n",
              "                                                 ('categorical',\n",
              "                                                  Pipeline(steps=[('imputer',\n",
              "                                                                   SimpleImputer(fill_value='missing',\n",
              "                                                                                 strategy='most_frequent')),\n",
              "                                                                  ('onehot',\n",
              "                                                                   OneHotEncoder(handle_unknown='ignore'))]),\n",
              "                                                  ['BusinessTravel',\n",
              "                                                   'Department',\n",
              "                                                   'EducationField', 'Gender',\n",
              "                                                   'JobRole',\n",
              "                                                   'MaritalStatus'])])),\n",
              "                ('classifier', DecisionTreeClassifier(random_state=100435291))])"
            ],
            "text/html": [
              "<style>#sk-c3b74ed7-68ff-41a0-a2b5-c7f13df036c0 {color: black;background-color: white;}#sk-c3b74ed7-68ff-41a0-a2b5-c7f13df036c0 pre{padding: 0;}#sk-c3b74ed7-68ff-41a0-a2b5-c7f13df036c0 div.sk-toggleable {background-color: white;}#sk-c3b74ed7-68ff-41a0-a2b5-c7f13df036c0 label.sk-toggleable__label {cursor: pointer;display: block;width: 100%;margin-bottom: 0;padding: 0.3em;box-sizing: border-box;text-align: center;}#sk-c3b74ed7-68ff-41a0-a2b5-c7f13df036c0 label.sk-toggleable__label-arrow:before {content: \"▸\";float: left;margin-right: 0.25em;color: #696969;}#sk-c3b74ed7-68ff-41a0-a2b5-c7f13df036c0 label.sk-toggleable__label-arrow:hover:before {color: black;}#sk-c3b74ed7-68ff-41a0-a2b5-c7f13df036c0 div.sk-estimator:hover label.sk-toggleable__label-arrow:before {color: black;}#sk-c3b74ed7-68ff-41a0-a2b5-c7f13df036c0 div.sk-toggleable__content {max-height: 0;max-width: 0;overflow: hidden;text-align: left;background-color: #f0f8ff;}#sk-c3b74ed7-68ff-41a0-a2b5-c7f13df036c0 div.sk-toggleable__content pre {margin: 0.2em;color: black;border-radius: 0.25em;background-color: #f0f8ff;}#sk-c3b74ed7-68ff-41a0-a2b5-c7f13df036c0 input.sk-toggleable__control:checked~div.sk-toggleable__content {max-height: 200px;max-width: 100%;overflow: auto;}#sk-c3b74ed7-68ff-41a0-a2b5-c7f13df036c0 input.sk-toggleable__control:checked~label.sk-toggleable__label-arrow:before {content: \"▾\";}#sk-c3b74ed7-68ff-41a0-a2b5-c7f13df036c0 div.sk-estimator input.sk-toggleable__control:checked~label.sk-toggleable__label {background-color: #d4ebff;}#sk-c3b74ed7-68ff-41a0-a2b5-c7f13df036c0 div.sk-label input.sk-toggleable__control:checked~label.sk-toggleable__label {background-color: #d4ebff;}#sk-c3b74ed7-68ff-41a0-a2b5-c7f13df036c0 input.sk-hidden--visually {border: 0;clip: rect(1px 1px 1px 1px);clip: rect(1px, 1px, 1px, 1px);height: 1px;margin: -1px;overflow: hidden;padding: 0;position: absolute;width: 1px;}#sk-c3b74ed7-68ff-41a0-a2b5-c7f13df036c0 div.sk-estimator {font-family: monospace;background-color: #f0f8ff;border: 1px dotted black;border-radius: 0.25em;box-sizing: border-box;margin-bottom: 0.5em;}#sk-c3b74ed7-68ff-41a0-a2b5-c7f13df036c0 div.sk-estimator:hover {background-color: #d4ebff;}#sk-c3b74ed7-68ff-41a0-a2b5-c7f13df036c0 div.sk-parallel-item::after {content: \"\";width: 100%;border-bottom: 1px solid gray;flex-grow: 1;}#sk-c3b74ed7-68ff-41a0-a2b5-c7f13df036c0 div.sk-label:hover label.sk-toggleable__label {background-color: #d4ebff;}#sk-c3b74ed7-68ff-41a0-a2b5-c7f13df036c0 div.sk-serial::before {content: \"\";position: absolute;border-left: 1px solid gray;box-sizing: border-box;top: 2em;bottom: 0;left: 50%;}#sk-c3b74ed7-68ff-41a0-a2b5-c7f13df036c0 div.sk-serial {display: flex;flex-direction: column;align-items: center;background-color: white;padding-right: 0.2em;padding-left: 0.2em;}#sk-c3b74ed7-68ff-41a0-a2b5-c7f13df036c0 div.sk-item {z-index: 1;}#sk-c3b74ed7-68ff-41a0-a2b5-c7f13df036c0 div.sk-parallel {display: flex;align-items: stretch;justify-content: center;background-color: white;}#sk-c3b74ed7-68ff-41a0-a2b5-c7f13df036c0 div.sk-parallel::before {content: \"\";position: absolute;border-left: 1px solid gray;box-sizing: border-box;top: 2em;bottom: 0;left: 50%;}#sk-c3b74ed7-68ff-41a0-a2b5-c7f13df036c0 div.sk-parallel-item {display: flex;flex-direction: column;position: relative;background-color: white;}#sk-c3b74ed7-68ff-41a0-a2b5-c7f13df036c0 div.sk-parallel-item:first-child::after {align-self: flex-end;width: 50%;}#sk-c3b74ed7-68ff-41a0-a2b5-c7f13df036c0 div.sk-parallel-item:last-child::after {align-self: flex-start;width: 50%;}#sk-c3b74ed7-68ff-41a0-a2b5-c7f13df036c0 div.sk-parallel-item:only-child::after {width: 0;}#sk-c3b74ed7-68ff-41a0-a2b5-c7f13df036c0 div.sk-dashed-wrapped {border: 1px dashed gray;margin: 0 0.4em 0.5em 0.4em;box-sizing: border-box;padding-bottom: 0.4em;background-color: white;position: relative;}#sk-c3b74ed7-68ff-41a0-a2b5-c7f13df036c0 div.sk-label label {font-family: monospace;font-weight: bold;background-color: white;display: inline-block;line-height: 1.2em;}#sk-c3b74ed7-68ff-41a0-a2b5-c7f13df036c0 div.sk-label-container {position: relative;z-index: 2;text-align: center;}#sk-c3b74ed7-68ff-41a0-a2b5-c7f13df036c0 div.sk-container {/* jupyter's `normalize.less` sets `[hidden] { display: none; }` but bootstrap.min.css set `[hidden] { display: none !important; }` so we also need the `!important` here to be able to override the default hidden behavior on the sphinx rendered scikit-learn.org. See: https://github.com/scikit-learn/scikit-learn/issues/21755 */display: inline-block !important;position: relative;}#sk-c3b74ed7-68ff-41a0-a2b5-c7f13df036c0 div.sk-text-repr-fallback {display: none;}</style><div id=\"sk-c3b74ed7-68ff-41a0-a2b5-c7f13df036c0\" class=\"sk-top-container\"><div class=\"sk-text-repr-fallback\"><pre>Pipeline(steps=[(&#x27;preprocessor&#x27;,\n",
              "                 ColumnTransformer(transformers=[(&#x27;numerical&#x27;,\n",
              "                                                  Pipeline(steps=[(&#x27;imputer&#x27;,\n",
              "                                                                   SimpleImputer(strategy=&#x27;median&#x27;)),\n",
              "                                                                  (&#x27;scale&#x27;,\n",
              "                                                                   StandardScaler())]),\n",
              "                                                  [&#x27;hrs&#x27;, &#x27;absences&#x27;,\n",
              "                                                   &#x27;JobInvolvement&#x27;,\n",
              "                                                   &#x27;PerformanceRating&#x27;,\n",
              "                                                   &#x27;EnvironmentSatisfaction&#x27;,\n",
              "                                                   &#x27;JobSatisfaction&#x27;,\n",
              "                                                   &#x27;WorkLifeBalance&#x27;, &#x27;Age&#x27;,\n",
              "                                                   &#x27;DistanceFromHome&#x27;,\n",
              "                                                   &#x27;Education&#x27;, &#x27;JobLevel&#x27;,\n",
              "                                                   &#x27;MonthlyIncome&#x27;,\n",
              "                                                   &#x27;N...\n",
              "                                                   &#x27;YearsSinceLastPromotion&#x27;,\n",
              "                                                   &#x27;YearsWithCurrManager&#x27;]),\n",
              "                                                 (&#x27;categorical&#x27;,\n",
              "                                                  Pipeline(steps=[(&#x27;imputer&#x27;,\n",
              "                                                                   SimpleImputer(fill_value=&#x27;missing&#x27;,\n",
              "                                                                                 strategy=&#x27;most_frequent&#x27;)),\n",
              "                                                                  (&#x27;onehot&#x27;,\n",
              "                                                                   OneHotEncoder(handle_unknown=&#x27;ignore&#x27;))]),\n",
              "                                                  [&#x27;BusinessTravel&#x27;,\n",
              "                                                   &#x27;Department&#x27;,\n",
              "                                                   &#x27;EducationField&#x27;, &#x27;Gender&#x27;,\n",
              "                                                   &#x27;JobRole&#x27;,\n",
              "                                                   &#x27;MaritalStatus&#x27;])])),\n",
              "                (&#x27;classifier&#x27;, DecisionTreeClassifier(random_state=100435291))])</pre><b>Please rerun this cell to show the HTML repr or trust the notebook.</b></div><div class=\"sk-container\" hidden><div class=\"sk-item sk-dashed-wrapped\"><div class=\"sk-label-container\"><div class=\"sk-label sk-toggleable\"><input class=\"sk-toggleable__control sk-hidden--visually\" id=\"7016071f-2cb7-4d29-84b8-b79bd22f78fe\" type=\"checkbox\" ><label for=\"7016071f-2cb7-4d29-84b8-b79bd22f78fe\" class=\"sk-toggleable__label sk-toggleable__label-arrow\">Pipeline</label><div class=\"sk-toggleable__content\"><pre>Pipeline(steps=[(&#x27;preprocessor&#x27;,\n",
              "                 ColumnTransformer(transformers=[(&#x27;numerical&#x27;,\n",
              "                                                  Pipeline(steps=[(&#x27;imputer&#x27;,\n",
              "                                                                   SimpleImputer(strategy=&#x27;median&#x27;)),\n",
              "                                                                  (&#x27;scale&#x27;,\n",
              "                                                                   StandardScaler())]),\n",
              "                                                  [&#x27;hrs&#x27;, &#x27;absences&#x27;,\n",
              "                                                   &#x27;JobInvolvement&#x27;,\n",
              "                                                   &#x27;PerformanceRating&#x27;,\n",
              "                                                   &#x27;EnvironmentSatisfaction&#x27;,\n",
              "                                                   &#x27;JobSatisfaction&#x27;,\n",
              "                                                   &#x27;WorkLifeBalance&#x27;, &#x27;Age&#x27;,\n",
              "                                                   &#x27;DistanceFromHome&#x27;,\n",
              "                                                   &#x27;Education&#x27;, &#x27;JobLevel&#x27;,\n",
              "                                                   &#x27;MonthlyIncome&#x27;,\n",
              "                                                   &#x27;N...\n",
              "                                                   &#x27;YearsSinceLastPromotion&#x27;,\n",
              "                                                   &#x27;YearsWithCurrManager&#x27;]),\n",
              "                                                 (&#x27;categorical&#x27;,\n",
              "                                                  Pipeline(steps=[(&#x27;imputer&#x27;,\n",
              "                                                                   SimpleImputer(fill_value=&#x27;missing&#x27;,\n",
              "                                                                                 strategy=&#x27;most_frequent&#x27;)),\n",
              "                                                                  (&#x27;onehot&#x27;,\n",
              "                                                                   OneHotEncoder(handle_unknown=&#x27;ignore&#x27;))]),\n",
              "                                                  [&#x27;BusinessTravel&#x27;,\n",
              "                                                   &#x27;Department&#x27;,\n",
              "                                                   &#x27;EducationField&#x27;, &#x27;Gender&#x27;,\n",
              "                                                   &#x27;JobRole&#x27;,\n",
              "                                                   &#x27;MaritalStatus&#x27;])])),\n",
              "                (&#x27;classifier&#x27;, DecisionTreeClassifier(random_state=100435291))])</pre></div></div></div><div class=\"sk-serial\"><div class=\"sk-item sk-dashed-wrapped\"><div class=\"sk-label-container\"><div class=\"sk-label sk-toggleable\"><input class=\"sk-toggleable__control sk-hidden--visually\" id=\"6e6369f2-10ec-479f-b377-c5830ea28d72\" type=\"checkbox\" ><label for=\"6e6369f2-10ec-479f-b377-c5830ea28d72\" class=\"sk-toggleable__label sk-toggleable__label-arrow\">preprocessor: ColumnTransformer</label><div class=\"sk-toggleable__content\"><pre>ColumnTransformer(transformers=[(&#x27;numerical&#x27;,\n",
              "                                 Pipeline(steps=[(&#x27;imputer&#x27;,\n",
              "                                                  SimpleImputer(strategy=&#x27;median&#x27;)),\n",
              "                                                 (&#x27;scale&#x27;, StandardScaler())]),\n",
              "                                 [&#x27;hrs&#x27;, &#x27;absences&#x27;, &#x27;JobInvolvement&#x27;,\n",
              "                                  &#x27;PerformanceRating&#x27;,\n",
              "                                  &#x27;EnvironmentSatisfaction&#x27;, &#x27;JobSatisfaction&#x27;,\n",
              "                                  &#x27;WorkLifeBalance&#x27;, &#x27;Age&#x27;, &#x27;DistanceFromHome&#x27;,\n",
              "                                  &#x27;Education&#x27;, &#x27;JobLevel&#x27;, &#x27;MonthlyIncome&#x27;,\n",
              "                                  &#x27;NumCompaniesWorked&#x27;, &#x27;PercentSalar...\n",
              "                                  &#x27;StockOptionLevel&#x27;, &#x27;TotalWorkingYears&#x27;,\n",
              "                                  &#x27;TrainingTimesLastYear&#x27;, &#x27;YearsAtCompany&#x27;,\n",
              "                                  &#x27;YearsSinceLastPromotion&#x27;,\n",
              "                                  &#x27;YearsWithCurrManager&#x27;]),\n",
              "                                (&#x27;categorical&#x27;,\n",
              "                                 Pipeline(steps=[(&#x27;imputer&#x27;,\n",
              "                                                  SimpleImputer(fill_value=&#x27;missing&#x27;,\n",
              "                                                                strategy=&#x27;most_frequent&#x27;)),\n",
              "                                                 (&#x27;onehot&#x27;,\n",
              "                                                  OneHotEncoder(handle_unknown=&#x27;ignore&#x27;))]),\n",
              "                                 [&#x27;BusinessTravel&#x27;, &#x27;Department&#x27;,\n",
              "                                  &#x27;EducationField&#x27;, &#x27;Gender&#x27;, &#x27;JobRole&#x27;,\n",
              "                                  &#x27;MaritalStatus&#x27;])])</pre></div></div></div><div class=\"sk-parallel\"><div class=\"sk-parallel-item\"><div class=\"sk-item\"><div class=\"sk-label-container\"><div class=\"sk-label sk-toggleable\"><input class=\"sk-toggleable__control sk-hidden--visually\" id=\"5af845db-bd43-407c-9225-9b9858529e8e\" type=\"checkbox\" ><label for=\"5af845db-bd43-407c-9225-9b9858529e8e\" class=\"sk-toggleable__label sk-toggleable__label-arrow\">numerical</label><div class=\"sk-toggleable__content\"><pre>[&#x27;hrs&#x27;, &#x27;absences&#x27;, &#x27;JobInvolvement&#x27;, &#x27;PerformanceRating&#x27;, &#x27;EnvironmentSatisfaction&#x27;, &#x27;JobSatisfaction&#x27;, &#x27;WorkLifeBalance&#x27;, &#x27;Age&#x27;, &#x27;DistanceFromHome&#x27;, &#x27;Education&#x27;, &#x27;JobLevel&#x27;, &#x27;MonthlyIncome&#x27;, &#x27;NumCompaniesWorked&#x27;, &#x27;PercentSalaryHike&#x27;, &#x27;StockOptionLevel&#x27;, &#x27;TotalWorkingYears&#x27;, &#x27;TrainingTimesLastYear&#x27;, &#x27;YearsAtCompany&#x27;, &#x27;YearsSinceLastPromotion&#x27;, &#x27;YearsWithCurrManager&#x27;]</pre></div></div></div><div class=\"sk-serial\"><div class=\"sk-item\"><div class=\"sk-serial\"><div class=\"sk-item\"><div class=\"sk-estimator sk-toggleable\"><input class=\"sk-toggleable__control sk-hidden--visually\" id=\"b189b331-4cf0-409c-882e-ad64754cf7bc\" type=\"checkbox\" ><label for=\"b189b331-4cf0-409c-882e-ad64754cf7bc\" class=\"sk-toggleable__label sk-toggleable__label-arrow\">SimpleImputer</label><div class=\"sk-toggleable__content\"><pre>SimpleImputer(strategy=&#x27;median&#x27;)</pre></div></div></div><div class=\"sk-item\"><div class=\"sk-estimator sk-toggleable\"><input class=\"sk-toggleable__control sk-hidden--visually\" id=\"72f21493-e75b-4496-8d0f-f7ae7f57379e\" type=\"checkbox\" ><label for=\"72f21493-e75b-4496-8d0f-f7ae7f57379e\" class=\"sk-toggleable__label sk-toggleable__label-arrow\">StandardScaler</label><div class=\"sk-toggleable__content\"><pre>StandardScaler()</pre></div></div></div></div></div></div></div></div><div class=\"sk-parallel-item\"><div class=\"sk-item\"><div class=\"sk-label-container\"><div class=\"sk-label sk-toggleable\"><input class=\"sk-toggleable__control sk-hidden--visually\" id=\"d6279208-6e79-4dfb-b880-de9d93ab420c\" type=\"checkbox\" ><label for=\"d6279208-6e79-4dfb-b880-de9d93ab420c\" class=\"sk-toggleable__label sk-toggleable__label-arrow\">categorical</label><div class=\"sk-toggleable__content\"><pre>[&#x27;BusinessTravel&#x27;, &#x27;Department&#x27;, &#x27;EducationField&#x27;, &#x27;Gender&#x27;, &#x27;JobRole&#x27;, &#x27;MaritalStatus&#x27;]</pre></div></div></div><div class=\"sk-serial\"><div class=\"sk-item\"><div class=\"sk-serial\"><div class=\"sk-item\"><div class=\"sk-estimator sk-toggleable\"><input class=\"sk-toggleable__control sk-hidden--visually\" id=\"28ac6ae4-c9fb-4481-8517-6d7ded6ee9c3\" type=\"checkbox\" ><label for=\"28ac6ae4-c9fb-4481-8517-6d7ded6ee9c3\" class=\"sk-toggleable__label sk-toggleable__label-arrow\">SimpleImputer</label><div class=\"sk-toggleable__content\"><pre>SimpleImputer(fill_value=&#x27;missing&#x27;, strategy=&#x27;most_frequent&#x27;)</pre></div></div></div><div class=\"sk-item\"><div class=\"sk-estimator sk-toggleable\"><input class=\"sk-toggleable__control sk-hidden--visually\" id=\"1640130f-07db-459d-80f7-0fa330e462b3\" type=\"checkbox\" ><label for=\"1640130f-07db-459d-80f7-0fa330e462b3\" class=\"sk-toggleable__label sk-toggleable__label-arrow\">OneHotEncoder</label><div class=\"sk-toggleable__content\"><pre>OneHotEncoder(handle_unknown=&#x27;ignore&#x27;)</pre></div></div></div></div></div></div></div></div></div></div><div class=\"sk-item\"><div class=\"sk-estimator sk-toggleable\"><input class=\"sk-toggleable__control sk-hidden--visually\" id=\"e8ee6f07-0ccf-48ce-b099-d5241a94796f\" type=\"checkbox\" ><label for=\"e8ee6f07-0ccf-48ce-b099-d5241a94796f\" class=\"sk-toggleable__label sk-toggleable__label-arrow\">DecisionTreeClassifier</label><div class=\"sk-toggleable__content\"><pre>DecisionTreeClassifier(random_state=100435291)</pre></div></div></div></div></div></div></div>"
            ]
          },
          "metadata": {},
          "execution_count": 44
        }
      ],
      "source": [
        "# Defining the classifier\n",
        "classifier_tree = tree.DecisionTreeClassifier(random_state=nia)\n",
        "\n",
        "# Defining the pipeline\n",
        "clf_tree_pipeline = Pipeline(steps=[('preprocessor', preprocessor),\n",
        "                                    ('classifier', classifier_tree)])\n",
        "clf_tree_pipeline"
      ],
      "id": "u5MZisrzL_vm"
    },
    {
      "cell_type": "markdown",
      "metadata": {
        "id": "bLJA8SKpHBeq"
      },
      "source": [
        "##### b.1. Random Search"
      ],
      "id": "bLJA8SKpHBeq"
    },
    {
      "cell_type": "markdown",
      "metadata": {
        "id": "d61138e1"
      },
      "source": [
        "The hyperparameters that we tunned were *max_depth*, *min_samples_leaf*, *min_samples_split*, *criterion* and *splitter*. Once again we noticed that the default value for the hyperparameter *criterion* was good and, when using Random Search, the highest accuracy was obtained using the 'gini' criteria. The fit and inner validation took 4.56 seconds, with a budget of 50 that was increasing at the same we were reducing the range of the hyperparameters to get the samples of them."
      ],
      "id": "d61138e1"
    },
    {
      "cell_type": "code",
      "execution_count": 45,
      "metadata": {
        "colab": {
          "base_uri": "https://localhost:8080/"
        },
        "id": "248hRvT_-jen",
        "outputId": "fe31db01-7308-4ce2-ac5d-5b431ec5ff80"
      },
      "outputs": [
        {
          "output_type": "stream",
          "name": "stdout",
          "text": [
            "Model fitting...\n",
            "Fitting 3 folds for each of 50 candidates, totalling 150 fits\n",
            "\n",
            "Time spent: 4.5653 s\n"
          ]
        }
      ],
      "source": [
        "# List Hyperparameters that we want to tune.\n",
        "max_depth = [int(x) for x in np.linspace(10, 15, num = 6)]          # Default none\n",
        "min_samples_leaf = [int(x) for x in np.linspace(1, 5, num = 5)]     # Default 1\n",
        "min_samples_split = [int(x) for x in np.linspace(2, 6, num = 5)]    # Default 2\n",
        "criterion = [\"gini\", \"entropy\"]                                     # Default gini\n",
        "splitter = [\"best\", \"random\"]                                       # Default best\n",
        "\n",
        "param_random_search_tree = dict(classifier__max_depth = max_depth, \n",
        "                             classifier__min_samples_leaf = min_samples_leaf,\n",
        "                             classifier__min_samples_split = min_samples_split,\n",
        "                             classifier__criterion = criterion,\n",
        "                             classifier__splitter = splitter)\n",
        "\n",
        "budget = 50\n",
        "\n",
        "# Defining the Random Search\n",
        "random_search_tree = RandomizedSearchCV(clf_tree_pipeline,\n",
        "                                        param_random_search_tree,\n",
        "                                        scoring = 'accuracy', #'accuracy' 'neg_mean_squared_error'\n",
        "                                        cv = cv,\n",
        "                                        verbose=1,\n",
        "                                        n_iter = budget)\n",
        "\n",
        "print('Model fitting...')\n",
        "time_start = time()\n",
        "np.random.seed(nia)\n",
        "random_search_tree_fit = random_search_tree.fit(X_train, y_train)\n",
        "time_end = time()\n",
        "time_rs_tree = time_end - time_start\n",
        "print('')\n",
        "print(f'Time spent: {round(time_rs_tree, 4)} s')"
      ],
      "id": "248hRvT_-jen"
    },
    {
      "cell_type": "code",
      "execution_count": 46,
      "metadata": {
        "colab": {
          "base_uri": "https://localhost:8080/"
        },
        "id": "37b4cec2",
        "outputId": "2d71965e-9fcd-459a-b45d-666efb93f7ec"
      },
      "outputs": [
        {
          "output_type": "stream",
          "name": "stdout",
          "text": [
            "{'classifier__splitter': 'random', 'classifier__min_samples_split': 3, 'classifier__min_samples_leaf': 1, 'classifier__max_depth': 14, 'classifier__criterion': 'gini'} 0.7991228070175439\n"
          ]
        },
        {
          "output_type": "execute_result",
          "data": {
            "text/plain": [
              "0.7991228070175439"
            ]
          },
          "metadata": {},
          "execution_count": 46
        }
      ],
      "source": [
        "# Best parameters from the random grid\n",
        "print(random_search_tree_fit.best_params_, random_search_tree_fit.best_score_)\n",
        "inner_eval_tree_rs = random_search_tree_fit.best_score_\n",
        "inner_eval_tree_rs"
      ],
      "id": "37b4cec2"
    },
    {
      "cell_type": "markdown",
      "metadata": {
        "id": "qmoZCTzItupV"
      },
      "source": [
        "In the following table there are each of the combinations fitted, it's order based on the best score in descending order."
      ],
      "id": "qmoZCTzItupV"
    },
    {
      "cell_type": "code",
      "execution_count": 47,
      "metadata": {
        "colab": {
          "base_uri": "https://localhost:8080/",
          "height": 270
        },
        "id": "CSKHLfI3ETgO",
        "outputId": "04e44731-a016-48a7-ac0d-52d2d65b7cb9"
      },
      "outputs": [
        {
          "output_type": "execute_result",
          "data": {
            "text/plain": [
              "    rank_test_score param_classifier__min_samples_leaf  \\\n",
              "41                1                                  1   \n",
              "37                2                                  1   \n",
              "13                3                                  1   \n",
              "5                 4                                  1   \n",
              "9                 5                                  1   \n",
              "\n",
              "   param_classifier__min_samples_split param_classifier__max_depth  \\\n",
              "41                                   3                          14   \n",
              "37                                   4                          14   \n",
              "13                                   2                          15   \n",
              "5                                    5                          11   \n",
              "9                                    3                          12   \n",
              "\n",
              "   param_classifier__criterion param_classifier__splitter  mean_test_score  \n",
              "41                        gini                     random         0.799123  \n",
              "37                        gini                     random         0.777193  \n",
              "13                        gini                       best         0.772807  \n",
              "5                         gini                     random         0.770175  \n",
              "9                      entropy                       best         0.769298  "
            ],
            "text/html": [
              "\n",
              "  <div id=\"df-90155f9a-b480-471b-b0b7-e4c9bf327de5\">\n",
              "    <div class=\"colab-df-container\">\n",
              "      <div>\n",
              "<style scoped>\n",
              "    .dataframe tbody tr th:only-of-type {\n",
              "        vertical-align: middle;\n",
              "    }\n",
              "\n",
              "    .dataframe tbody tr th {\n",
              "        vertical-align: top;\n",
              "    }\n",
              "\n",
              "    .dataframe thead th {\n",
              "        text-align: right;\n",
              "    }\n",
              "</style>\n",
              "<table border=\"1\" class=\"dataframe\">\n",
              "  <thead>\n",
              "    <tr style=\"text-align: right;\">\n",
              "      <th></th>\n",
              "      <th>rank_test_score</th>\n",
              "      <th>param_classifier__min_samples_leaf</th>\n",
              "      <th>param_classifier__min_samples_split</th>\n",
              "      <th>param_classifier__max_depth</th>\n",
              "      <th>param_classifier__criterion</th>\n",
              "      <th>param_classifier__splitter</th>\n",
              "      <th>mean_test_score</th>\n",
              "    </tr>\n",
              "  </thead>\n",
              "  <tbody>\n",
              "    <tr>\n",
              "      <th>41</th>\n",
              "      <td>1</td>\n",
              "      <td>1</td>\n",
              "      <td>3</td>\n",
              "      <td>14</td>\n",
              "      <td>gini</td>\n",
              "      <td>random</td>\n",
              "      <td>0.799123</td>\n",
              "    </tr>\n",
              "    <tr>\n",
              "      <th>37</th>\n",
              "      <td>2</td>\n",
              "      <td>1</td>\n",
              "      <td>4</td>\n",
              "      <td>14</td>\n",
              "      <td>gini</td>\n",
              "      <td>random</td>\n",
              "      <td>0.777193</td>\n",
              "    </tr>\n",
              "    <tr>\n",
              "      <th>13</th>\n",
              "      <td>3</td>\n",
              "      <td>1</td>\n",
              "      <td>2</td>\n",
              "      <td>15</td>\n",
              "      <td>gini</td>\n",
              "      <td>best</td>\n",
              "      <td>0.772807</td>\n",
              "    </tr>\n",
              "    <tr>\n",
              "      <th>5</th>\n",
              "      <td>4</td>\n",
              "      <td>1</td>\n",
              "      <td>5</td>\n",
              "      <td>11</td>\n",
              "      <td>gini</td>\n",
              "      <td>random</td>\n",
              "      <td>0.770175</td>\n",
              "    </tr>\n",
              "    <tr>\n",
              "      <th>9</th>\n",
              "      <td>5</td>\n",
              "      <td>1</td>\n",
              "      <td>3</td>\n",
              "      <td>12</td>\n",
              "      <td>entropy</td>\n",
              "      <td>best</td>\n",
              "      <td>0.769298</td>\n",
              "    </tr>\n",
              "  </tbody>\n",
              "</table>\n",
              "</div>\n",
              "      <button class=\"colab-df-convert\" onclick=\"convertToInteractive('df-90155f9a-b480-471b-b0b7-e4c9bf327de5')\"\n",
              "              title=\"Convert this dataframe to an interactive table.\"\n",
              "              style=\"display:none;\">\n",
              "        \n",
              "  <svg xmlns=\"http://www.w3.org/2000/svg\" height=\"24px\"viewBox=\"0 0 24 24\"\n",
              "       width=\"24px\">\n",
              "    <path d=\"M0 0h24v24H0V0z\" fill=\"none\"/>\n",
              "    <path d=\"M18.56 5.44l.94 2.06.94-2.06 2.06-.94-2.06-.94-.94-2.06-.94 2.06-2.06.94zm-11 1L8.5 8.5l.94-2.06 2.06-.94-2.06-.94L8.5 2.5l-.94 2.06-2.06.94zm10 10l.94 2.06.94-2.06 2.06-.94-2.06-.94-.94-2.06-.94 2.06-2.06.94z\"/><path d=\"M17.41 7.96l-1.37-1.37c-.4-.4-.92-.59-1.43-.59-.52 0-1.04.2-1.43.59L10.3 9.45l-7.72 7.72c-.78.78-.78 2.05 0 2.83L4 21.41c.39.39.9.59 1.41.59.51 0 1.02-.2 1.41-.59l7.78-7.78 2.81-2.81c.8-.78.8-2.07 0-2.86zM5.41 20L4 18.59l7.72-7.72 1.47 1.35L5.41 20z\"/>\n",
              "  </svg>\n",
              "      </button>\n",
              "      \n",
              "  <style>\n",
              "    .colab-df-container {\n",
              "      display:flex;\n",
              "      flex-wrap:wrap;\n",
              "      gap: 12px;\n",
              "    }\n",
              "\n",
              "    .colab-df-convert {\n",
              "      background-color: #E8F0FE;\n",
              "      border: none;\n",
              "      border-radius: 50%;\n",
              "      cursor: pointer;\n",
              "      display: none;\n",
              "      fill: #1967D2;\n",
              "      height: 32px;\n",
              "      padding: 0 0 0 0;\n",
              "      width: 32px;\n",
              "    }\n",
              "\n",
              "    .colab-df-convert:hover {\n",
              "      background-color: #E2EBFA;\n",
              "      box-shadow: 0px 1px 2px rgba(60, 64, 67, 0.3), 0px 1px 3px 1px rgba(60, 64, 67, 0.15);\n",
              "      fill: #174EA6;\n",
              "    }\n",
              "\n",
              "    [theme=dark] .colab-df-convert {\n",
              "      background-color: #3B4455;\n",
              "      fill: #D2E3FC;\n",
              "    }\n",
              "\n",
              "    [theme=dark] .colab-df-convert:hover {\n",
              "      background-color: #434B5C;\n",
              "      box-shadow: 0px 1px 3px 1px rgba(0, 0, 0, 0.15);\n",
              "      filter: drop-shadow(0px 1px 2px rgba(0, 0, 0, 0.3));\n",
              "      fill: #FFFFFF;\n",
              "    }\n",
              "  </style>\n",
              "\n",
              "      <script>\n",
              "        const buttonEl =\n",
              "          document.querySelector('#df-90155f9a-b480-471b-b0b7-e4c9bf327de5 button.colab-df-convert');\n",
              "        buttonEl.style.display =\n",
              "          google.colab.kernel.accessAllowed ? 'block' : 'none';\n",
              "\n",
              "        async function convertToInteractive(key) {\n",
              "          const element = document.querySelector('#df-90155f9a-b480-471b-b0b7-e4c9bf327de5');\n",
              "          const dataTable =\n",
              "            await google.colab.kernel.invokeFunction('convertToInteractive',\n",
              "                                                     [key], {});\n",
              "          if (!dataTable) return;\n",
              "\n",
              "          const docLinkHtml = 'Like what you see? Visit the ' +\n",
              "            '<a target=\"_blank\" href=https://colab.research.google.com/notebooks/data_table.ipynb>data table notebook</a>'\n",
              "            + ' to learn more about interactive tables.';\n",
              "          element.innerHTML = '';\n",
              "          dataTable['output_type'] = 'display_data';\n",
              "          await google.colab.output.renderOutput(dataTable, element);\n",
              "          const docLink = document.createElement('div');\n",
              "          docLink.innerHTML = docLinkHtml;\n",
              "          element.appendChild(docLink);\n",
              "        }\n",
              "      </script>\n",
              "    </div>\n",
              "  </div>\n",
              "  "
            ]
          },
          "metadata": {},
          "execution_count": 47
        }
      ],
      "source": [
        "# Dataframe with results from random search\n",
        "random_search_tree_cv_results = pd.DataFrame(random_search_tree_fit.cv_results_)\n",
        "random_search_tree_cv_results[['rank_test_score', 'param_classifier__min_samples_leaf', 'param_classifier__min_samples_split', 'param_classifier__max_depth',\n",
        "                            'param_classifier__criterion', 'param_classifier__splitter', 'mean_test_score']].sort_values('rank_test_score').head()"
      ],
      "id": "CSKHLfI3ETgO"
    },
    {
      "cell_type": "markdown",
      "metadata": {
        "id": "Ey95tVr3uBjk"
      },
      "source": [
        "In this section we made several attempts with different ranges of the hyperparameters. For changing the ranges, we used the following table changing the rows and column for the different hyperparameter's values that were tunned. \n",
        "\n",
        "The purpose was to reduce the range to find the highest accuracy, while keeping the tree as simple as possible. The more we increased the *max_depth* range, the more we got similar accuracy values, so we decided not to try very high values since we were making the model more complex than necessary.\n",
        "\n",
        "We noticed highest accuracies with *min_samples_leaf = 1* and lower accuracy values while this hyperparameter value increases. \n",
        "\n",
        "After testing with several ranges, we obtained a slightly higher accuracy 0.79 compared to 0.77 which was obtained when using the default hyperparameters."
      ],
      "id": "Ey95tVr3uBjk"
    },
    {
      "cell_type": "code",
      "execution_count": 48,
      "metadata": {
        "colab": {
          "base_uri": "https://localhost:8080/",
          "height": 238
        },
        "id": "3lEcpv8UXcdR",
        "outputId": "e592fa37-7111-40a4-8b52-867f9d94820d"
      },
      "outputs": [
        {
          "output_type": "display_data",
          "data": {
            "text/plain": [
              "<pandas.io.formats.style.Styler at 0x7fe6c879cf70>"
            ],
            "text/html": [
              "<style type=\"text/css\">\n",
              "#T_3c8be_row0_col0 {\n",
              "  background-color: #3585bf;\n",
              "  color: #f1f1f1;\n",
              "}\n",
              "#T_3c8be_row0_col1 {\n",
              "  background-color: #08306b;\n",
              "  color: #f1f1f1;\n",
              "}\n",
              "#T_3c8be_row0_col2 {\n",
              "  background-color: #2676b8;\n",
              "  color: #f1f1f1;\n",
              "}\n",
              "#T_3c8be_row0_col3 {\n",
              "  background-color: #3d8dc4;\n",
              "  color: #f1f1f1;\n",
              "}\n",
              "#T_3c8be_row0_col4 {\n",
              "  background-color: #81badb;\n",
              "  color: #000000;\n",
              "}\n",
              "#T_3c8be_row1_col0 {\n",
              "  background-color: #85bcdc;\n",
              "  color: #000000;\n",
              "}\n",
              "#T_3c8be_row1_col1 {\n",
              "  background-color: #b2d2e8;\n",
              "  color: #000000;\n",
              "}\n",
              "#T_3c8be_row1_col2 {\n",
              "  background-color: #b5d4e9;\n",
              "  color: #000000;\n",
              "}\n",
              "#T_3c8be_row1_col3 {\n",
              "  background-color: #bfd8ed;\n",
              "  color: #000000;\n",
              "}\n",
              "#T_3c8be_row1_col4 {\n",
              "  background-color: #d5e5f4;\n",
              "  color: #000000;\n",
              "}\n",
              "#T_3c8be_row2_col0, #T_3c8be_row3_col2, #T_3c8be_row3_col3 {\n",
              "  background-color: #97c6df;\n",
              "  color: #000000;\n",
              "}\n",
              "#T_3c8be_row2_col1 {\n",
              "  background-color: #c3daee;\n",
              "  color: #000000;\n",
              "}\n",
              "#T_3c8be_row2_col2, #T_3c8be_row2_col3 {\n",
              "  background-color: #e2edf8;\n",
              "  color: #000000;\n",
              "}\n",
              "#T_3c8be_row2_col4 {\n",
              "  background-color: #8abfdd;\n",
              "  color: #000000;\n",
              "}\n",
              "#T_3c8be_row3_col0, #T_3c8be_row3_col4 {\n",
              "  background-color: #a4cce3;\n",
              "  color: #000000;\n",
              "}\n",
              "#T_3c8be_row3_col1, #T_3c8be_row4_col3, #T_3c8be_row4_col4 {\n",
              "  background-color: #eef5fc;\n",
              "  color: #000000;\n",
              "}\n",
              "#T_3c8be_row4_col0 {\n",
              "  background-color: #000000;\n",
              "  color: #f1f1f1;\n",
              "}\n",
              "#T_3c8be_row4_col1 {\n",
              "  background-color: #a0cbe2;\n",
              "  color: #000000;\n",
              "}\n",
              "#T_3c8be_row4_col2 {\n",
              "  background-color: #f7fbff;\n",
              "  color: #000000;\n",
              "}\n",
              "</style>\n",
              "<table id=\"T_3c8be_\" class=\"dataframe\">\n",
              "  <thead>\n",
              "    <tr>\n",
              "      <th class=\"index_name level0\" >param_classifier__min_samples_split</th>\n",
              "      <th class=\"col_heading level0 col0\" >2</th>\n",
              "      <th class=\"col_heading level0 col1\" >3</th>\n",
              "      <th class=\"col_heading level0 col2\" >4</th>\n",
              "      <th class=\"col_heading level0 col3\" >5</th>\n",
              "      <th class=\"col_heading level0 col4\" >6</th>\n",
              "    </tr>\n",
              "    <tr>\n",
              "      <th class=\"index_name level0\" >param_classifier__min_samples_leaf</th>\n",
              "      <th class=\"blank col0\" >&nbsp;</th>\n",
              "      <th class=\"blank col1\" >&nbsp;</th>\n",
              "      <th class=\"blank col2\" >&nbsp;</th>\n",
              "      <th class=\"blank col3\" >&nbsp;</th>\n",
              "      <th class=\"blank col4\" >&nbsp;</th>\n",
              "    </tr>\n",
              "  </thead>\n",
              "  <tbody>\n",
              "    <tr>\n",
              "      <th id=\"T_3c8be_level0_row0\" class=\"row_heading level0 row0\" >1</th>\n",
              "      <td id=\"T_3c8be_row0_col0\" class=\"data row0 col0\" >0.772807</td>\n",
              "      <td id=\"T_3c8be_row0_col1\" class=\"data row0 col1\" >0.799123</td>\n",
              "      <td id=\"T_3c8be_row0_col2\" class=\"data row0 col2\" >0.777193</td>\n",
              "      <td id=\"T_3c8be_row0_col3\" class=\"data row0 col3\" >0.770175</td>\n",
              "      <td id=\"T_3c8be_row0_col4\" class=\"data row0 col4\" >0.754386</td>\n",
              "    </tr>\n",
              "    <tr>\n",
              "      <th id=\"T_3c8be_level0_row1\" class=\"row_heading level0 row1\" >2</th>\n",
              "      <td id=\"T_3c8be_row1_col0\" class=\"data row1 col0\" >0.753509</td>\n",
              "      <td id=\"T_3c8be_row1_col1\" class=\"data row1 col1\" >0.743860</td>\n",
              "      <td id=\"T_3c8be_row1_col2\" class=\"data row1 col2\" >0.742982</td>\n",
              "      <td id=\"T_3c8be_row1_col3\" class=\"data row1 col3\" >0.740351</td>\n",
              "      <td id=\"T_3c8be_row1_col4\" class=\"data row1 col4\" >0.732456</td>\n",
              "    </tr>\n",
              "    <tr>\n",
              "      <th id=\"T_3c8be_level0_row2\" class=\"row_heading level0 row2\" >3</th>\n",
              "      <td id=\"T_3c8be_row2_col0\" class=\"data row2 col0\" >0.750000</td>\n",
              "      <td id=\"T_3c8be_row2_col1\" class=\"data row2 col1\" >0.739474</td>\n",
              "      <td id=\"T_3c8be_row2_col2\" class=\"data row2 col2\" >0.727193</td>\n",
              "      <td id=\"T_3c8be_row2_col3\" class=\"data row2 col3\" >0.727193</td>\n",
              "      <td id=\"T_3c8be_row2_col4\" class=\"data row2 col4\" >0.752632</td>\n",
              "    </tr>\n",
              "    <tr>\n",
              "      <th id=\"T_3c8be_level0_row3\" class=\"row_heading level0 row3\" >4</th>\n",
              "      <td id=\"T_3c8be_row3_col0\" class=\"data row3 col0\" >0.747368</td>\n",
              "      <td id=\"T_3c8be_row3_col1\" class=\"data row3 col1\" >0.721930</td>\n",
              "      <td id=\"T_3c8be_row3_col2\" class=\"data row3 col2\" >0.750000</td>\n",
              "      <td id=\"T_3c8be_row3_col3\" class=\"data row3 col3\" >0.750000</td>\n",
              "      <td id=\"T_3c8be_row3_col4\" class=\"data row3 col4\" >0.747368</td>\n",
              "    </tr>\n",
              "    <tr>\n",
              "      <th id=\"T_3c8be_level0_row4\" class=\"row_heading level0 row4\" >5</th>\n",
              "      <td id=\"T_3c8be_row4_col0\" class=\"data row4 col0\" >nan</td>\n",
              "      <td id=\"T_3c8be_row4_col1\" class=\"data row4 col1\" >0.748246</td>\n",
              "      <td id=\"T_3c8be_row4_col2\" class=\"data row4 col2\" >0.718421</td>\n",
              "      <td id=\"T_3c8be_row4_col3\" class=\"data row4 col3\" >0.721930</td>\n",
              "      <td id=\"T_3c8be_row4_col4\" class=\"data row4 col4\" >0.721930</td>\n",
              "    </tr>\n",
              "  </tbody>\n",
              "</table>\n"
            ]
          },
          "metadata": {}
        }
      ],
      "source": [
        "# Pivot table from dataframe with rows as distance p and columns as number of neighbors\n",
        "rgrid_tree_cv_results_pivot = pd.pivot_table(random_search_tree_cv_results, values='mean_test_score', \n",
        "                                columns='param_classifier__min_samples_split', \n",
        "                                index='param_classifier__min_samples_leaf', \n",
        "                                aggfunc=np.max)\n",
        "\n",
        "# Plot of the grid\n",
        "cm = sns.color_palette(\"Blues\", as_cmap=True) \n",
        "display(rgrid_tree_cv_results_pivot.style.background_gradient(cmap=cm, axis=None))"
      ],
      "id": "3lEcpv8UXcdR"
    },
    {
      "cell_type": "markdown",
      "metadata": {
        "id": "xrvn6joAHF7l"
      },
      "source": [
        " ##### b.2. Scikit-optimize"
      ],
      "id": "xrvn6joAHF7l"
    },
    {
      "cell_type": "markdown",
      "source": [
        "We tuned the same five hyperparameters. Once again we noticed that the default value for the hyperparameter criterion was good and, when using Scikit-optimize the highest accuracy was obtained using the 'gini' criteria. The fit and inner validation took 74.8 seconds, with a budget of 40 that was increasing at the same we were reducing the range of the hyperparameters to get the samples of them."
      ],
      "metadata": {
        "id": "tKz-oWEUQ7Yz"
      },
      "id": "tKz-oWEUQ7Yz"
    },
    {
      "cell_type": "code",
      "execution_count": 49,
      "metadata": {
        "colab": {
          "base_uri": "https://localhost:8080/"
        },
        "id": "PCr3-lR6L1g2",
        "outputId": "71e06b25-2e4a-4973-d0b5-045c8220a9bd"
      },
      "outputs": [
        {
          "output_type": "stream",
          "name": "stdout",
          "text": [
            "Model fitting...\n",
            "Fitting 3 folds for each of 1 candidates, totalling 3 fits\n",
            "Fitting 3 folds for each of 1 candidates, totalling 3 fits\n",
            "Fitting 3 folds for each of 1 candidates, totalling 3 fits\n",
            "Fitting 3 folds for each of 1 candidates, totalling 3 fits\n",
            "Fitting 3 folds for each of 1 candidates, totalling 3 fits\n",
            "Fitting 3 folds for each of 1 candidates, totalling 3 fits\n",
            "Fitting 3 folds for each of 1 candidates, totalling 3 fits\n",
            "Fitting 3 folds for each of 1 candidates, totalling 3 fits\n",
            "Fitting 3 folds for each of 1 candidates, totalling 3 fits\n",
            "Fitting 3 folds for each of 1 candidates, totalling 3 fits\n",
            "Fitting 3 folds for each of 1 candidates, totalling 3 fits\n",
            "Fitting 3 folds for each of 1 candidates, totalling 3 fits\n",
            "Fitting 3 folds for each of 1 candidates, totalling 3 fits\n",
            "Fitting 3 folds for each of 1 candidates, totalling 3 fits\n",
            "Fitting 3 folds for each of 1 candidates, totalling 3 fits\n",
            "Fitting 3 folds for each of 1 candidates, totalling 3 fits\n",
            "Fitting 3 folds for each of 1 candidates, totalling 3 fits\n",
            "Fitting 3 folds for each of 1 candidates, totalling 3 fits\n",
            "Fitting 3 folds for each of 1 candidates, totalling 3 fits\n",
            "Fitting 3 folds for each of 1 candidates, totalling 3 fits\n",
            "Fitting 3 folds for each of 1 candidates, totalling 3 fits\n",
            "Fitting 3 folds for each of 1 candidates, totalling 3 fits\n",
            "Fitting 3 folds for each of 1 candidates, totalling 3 fits\n",
            "Fitting 3 folds for each of 1 candidates, totalling 3 fits\n",
            "Fitting 3 folds for each of 1 candidates, totalling 3 fits\n",
            "Fitting 3 folds for each of 1 candidates, totalling 3 fits\n",
            "Fitting 3 folds for each of 1 candidates, totalling 3 fits\n",
            "Fitting 3 folds for each of 1 candidates, totalling 3 fits\n",
            "Fitting 3 folds for each of 1 candidates, totalling 3 fits\n",
            "Fitting 3 folds for each of 1 candidates, totalling 3 fits\n",
            "Fitting 3 folds for each of 1 candidates, totalling 3 fits\n",
            "Fitting 3 folds for each of 1 candidates, totalling 3 fits\n",
            "Fitting 3 folds for each of 1 candidates, totalling 3 fits\n",
            "Fitting 3 folds for each of 1 candidates, totalling 3 fits\n",
            "Fitting 3 folds for each of 1 candidates, totalling 3 fits\n",
            "Fitting 3 folds for each of 1 candidates, totalling 3 fits\n",
            "Fitting 3 folds for each of 1 candidates, totalling 3 fits\n",
            "Fitting 3 folds for each of 1 candidates, totalling 3 fits\n",
            "Fitting 3 folds for each of 1 candidates, totalling 3 fits\n",
            "Fitting 3 folds for each of 1 candidates, totalling 3 fits\n",
            "\n",
            "Time spent: 74.8289 s\n"
          ]
        }
      ],
      "source": [
        "# List Hyperparameters that we want to tune.\n",
        "max_depth = Integer(10,20)                      # Default None\n",
        "min_samples_leaf = Integer(1,10)                # Default 1\n",
        "min_samples_split = Integer(2,10)               # Default 2\n",
        "criterion = Categorical([\"gini\", \"entropy\"])    # Default Gini\n",
        "splitter = Categorical([\"best\", \"random\"])      # Default Best\n",
        "\n",
        "param_optimize_tree = dict(classifier__max_depth = max_depth,\n",
        "                           classifier__min_samples_leaf = min_samples_leaf,\n",
        "                           classifier__min_samples_split = min_samples_split,\n",
        "                           classifier__criterion = criterion,\n",
        "                           classifier__splitter = splitter)\n",
        "\n",
        "budget = 40\n",
        "\n",
        "# Defining the Bayesian Search\n",
        "scikitopt_tree = BayesSearchCV(clf_tree_pipeline,\n",
        "                              param_optimize_tree,\n",
        "                              scoring = 'accuracy',\n",
        "                              cv = cv,\n",
        "                              verbose=1,\n",
        "                              n_iter=budget)\n",
        "\n",
        "print('Model fitting...')\n",
        "time_start= time()\n",
        "np.random.seed(nia)\n",
        "scikitopt_tree_fit = scikitopt_tree.fit(X_train, y_train)\n",
        "time_end = time()\n",
        "time_so_tree = time_end-time_start\n",
        "print('')\n",
        "print(f'Time spent: {round(time_so_tree, 4)} s')"
      ],
      "id": "PCr3-lR6L1g2"
    },
    {
      "cell_type": "markdown",
      "source": [
        "We obtained a pretty similar accuracy (0.79) that when tunning the hyperparameters using the random search methodology. Most of the hyperparameters used in the fit with the best score are the same: criterion: 'gini', splitter: 'random' and min_samples_leaf: 1. The other hyperparameters have a slight change: max_depth was 14 in random search and in scikit optimize is 20, and min_samples_split was 3 in random search and in scikit optimize is 3.\n",
        "\n"
      ],
      "metadata": {
        "id": "JRuDNg2VRguW"
      },
      "id": "JRuDNg2VRguW"
    },
    {
      "cell_type": "code",
      "execution_count": 50,
      "metadata": {
        "colab": {
          "base_uri": "https://localhost:8080/"
        },
        "id": "rNyTyXP6HL7L",
        "outputId": "eced5841-89fa-4340-972c-778b474bb394"
      },
      "outputs": [
        {
          "output_type": "stream",
          "name": "stdout",
          "text": [
            "OrderedDict([('classifier__criterion', 'gini'), ('classifier__max_depth', 20), ('classifier__min_samples_leaf', 1), ('classifier__min_samples_split', 2), ('classifier__splitter', 'random')]) 0.793859649122807\n"
          ]
        },
        {
          "output_type": "execute_result",
          "data": {
            "text/plain": [
              "0.793859649122807"
            ]
          },
          "metadata": {},
          "execution_count": 50
        }
      ],
      "source": [
        "# Best parameters from the grid\n",
        "print(scikitopt_tree_fit.best_params_, scikitopt_tree_fit.best_score_)\n",
        "inner_eval_tree_so = scikitopt_tree_fit.best_score_\n",
        "inner_eval_tree_so"
      ],
      "id": "rNyTyXP6HL7L"
    },
    {
      "cell_type": "markdown",
      "source": [
        "We use the following plots from scikit optimize to make changes about the ranges of the hyperparameters. We can see clearly how we obtained better results for lower values of min_samples_leaf and it's an influencial hyperparameter."
      ],
      "metadata": {
        "id": "9meS3I6lSp5E"
      },
      "id": "9meS3I6lSp5E"
    },
    {
      "cell_type": "code",
      "execution_count": 51,
      "metadata": {
        "colab": {
          "base_uri": "https://localhost:8080/",
          "height": 748
        },
        "id": "N1RYHbS5spK5",
        "outputId": "8fa86f7b-6ba6-496b-df03-a7d73ea766d1"
      },
      "outputs": [
        {
          "output_type": "display_data",
          "data": {
            "text/plain": [
              "<Figure size 720x720 with 25 Axes>"
            ],
            "image/png": "[encoded data removed]"
          },
          "metadata": {
            "needs_background": "light"
          }
        }
      ],
      "source": [
        "plot_objective(scikitopt_tree.optimizer_results_[0],\n",
        "                   dimensions=[\"criterion\", \"max_depth\", \"min_samples_leaf\", \"min_samples_split\", \"splitter\"],\n",
        "                   n_minimum_search=int(1e8))\n",
        "plt.show()"
      ],
      "id": "N1RYHbS5spK5"
    },
    {
      "cell_type": "code",
      "execution_count": 52,
      "metadata": {
        "id": "b5b56788",
        "outputId": "b196713f-5a27-4798-8eef-782f65f1cb77",
        "colab": {
          "base_uri": "https://localhost:8080/",
          "height": 763
        }
      },
      "outputs": [
        {
          "output_type": "display_data",
          "data": {
            "text/plain": [
              "<Figure size 720x720 with 25 Axes>"
            ],
            "image/png": "[encoded data removed]"
          },
          "metadata": {
            "needs_background": "light"
          }
        }
      ],
      "source": [
        "plot_evaluations(scikitopt_tree.optimizer_results_[0],\n",
        "                 bins=10,\n",
        "                 dimensions=[\"criterion\", \"max_depth\", \"min_samples_leaf\", \"min_samples_split\", \"splitter\"])\n",
        "plt.show()"
      ],
      "id": "b5b56788"
    },
    {
      "cell_type": "markdown",
      "metadata": {
        "id": "52792215"
      },
      "source": [
        "Following the plot we observe that the hyperparameters *min_samples_split* and *criterion* barely affect our accuracy while making the model more complicated and time-consuming. We can make another study without these hyperparameters, meaning that they will stay at default value:"
      ],
      "id": "52792215"
    },
    {
      "cell_type": "code",
      "execution_count": 53,
      "metadata": {
        "id": "0cac910d",
        "outputId": "03f243b7-b799-4752-a7a9-a3206261abf8",
        "scrolled": false,
        "colab": {
          "base_uri": "https://localhost:8080/",
          "height": 1000
        }
      },
      "outputs": [
        {
          "output_type": "stream",
          "name": "stdout",
          "text": [
            "Model fitting...\n",
            "Fitting 3 folds for each of 1 candidates, totalling 3 fits\n",
            "Fitting 3 folds for each of 1 candidates, totalling 3 fits\n",
            "Fitting 3 folds for each of 1 candidates, totalling 3 fits\n",
            "Fitting 3 folds for each of 1 candidates, totalling 3 fits\n",
            "Fitting 3 folds for each of 1 candidates, totalling 3 fits\n",
            "Fitting 3 folds for each of 1 candidates, totalling 3 fits\n",
            "Fitting 3 folds for each of 1 candidates, totalling 3 fits\n",
            "Fitting 3 folds for each of 1 candidates, totalling 3 fits\n",
            "Fitting 3 folds for each of 1 candidates, totalling 3 fits\n",
            "Fitting 3 folds for each of 1 candidates, totalling 3 fits\n",
            "Fitting 3 folds for each of 1 candidates, totalling 3 fits\n",
            "Fitting 3 folds for each of 1 candidates, totalling 3 fits\n",
            "Fitting 3 folds for each of 1 candidates, totalling 3 fits\n",
            "Fitting 3 folds for each of 1 candidates, totalling 3 fits\n",
            "Fitting 3 folds for each of 1 candidates, totalling 3 fits\n",
            "Fitting 3 folds for each of 1 candidates, totalling 3 fits\n",
            "Fitting 3 folds for each of 1 candidates, totalling 3 fits\n",
            "Fitting 3 folds for each of 1 candidates, totalling 3 fits\n",
            "Fitting 3 folds for each of 1 candidates, totalling 3 fits\n",
            "Fitting 3 folds for each of 1 candidates, totalling 3 fits\n",
            "Fitting 3 folds for each of 1 candidates, totalling 3 fits\n",
            "Fitting 3 folds for each of 1 candidates, totalling 3 fits\n",
            "Fitting 3 folds for each of 1 candidates, totalling 3 fits\n",
            "Fitting 3 folds for each of 1 candidates, totalling 3 fits\n",
            "Fitting 3 folds for each of 1 candidates, totalling 3 fits\n",
            "Fitting 3 folds for each of 1 candidates, totalling 3 fits\n",
            "Fitting 3 folds for each of 1 candidates, totalling 3 fits\n",
            "Fitting 3 folds for each of 1 candidates, totalling 3 fits\n",
            "Fitting 3 folds for each of 1 candidates, totalling 3 fits\n",
            "Fitting 3 folds for each of 1 candidates, totalling 3 fits\n",
            "Fitting 3 folds for each of 1 candidates, totalling 3 fits\n",
            "Fitting 3 folds for each of 1 candidates, totalling 3 fits\n",
            "Fitting 3 folds for each of 1 candidates, totalling 3 fits\n",
            "Fitting 3 folds for each of 1 candidates, totalling 3 fits\n",
            "Fitting 3 folds for each of 1 candidates, totalling 3 fits\n",
            "Fitting 3 folds for each of 1 candidates, totalling 3 fits\n",
            "Fitting 3 folds for each of 1 candidates, totalling 3 fits\n",
            "Fitting 3 folds for each of 1 candidates, totalling 3 fits\n",
            "Fitting 3 folds for each of 1 candidates, totalling 3 fits\n",
            "Fitting 3 folds for each of 1 candidates, totalling 3 fits\n",
            "\n",
            "Time spent: 68.1543 s\n",
            "OrderedDict([('classifier__max_depth', 16), ('classifier__min_samples_leaf', 1), ('classifier__splitter', 'random')]) 0.7991228070175439\n"
          ]
        },
        {
          "output_type": "display_data",
          "data": {
            "text/plain": [
              "<Figure size 432x432 with 9 Axes>"
            ],
            "image/png": "[encoded data removed]"
          },
          "metadata": {
            "needs_background": "light"
          }
        }
      ],
      "source": [
        "param_optimize_tree_simple = dict(classifier__max_depth = max_depth,\n",
        "                                  classifier__min_samples_leaf = min_samples_leaf,\n",
        "                                  classifier__splitter = splitter)\n",
        "\n",
        "budget = 40\n",
        "\n",
        "# Defining the Bayesian Search\n",
        "scikitopt_tree_simple = BayesSearchCV(clf_tree_pipeline,\n",
        "                                      param_optimize_tree_simple,\n",
        "                                      scoring = 'accuracy',\n",
        "                                      cv = cv,\n",
        "                                      verbose=1,\n",
        "                                      n_iter=budget)\n",
        "\n",
        "print('Model fitting...')\n",
        "time_start= time()\n",
        "np.random.seed(nia)\n",
        "scikitopt_tree_s_fit = scikitopt_tree_simple.fit(X_train, y_train)\n",
        "time_end = time()\n",
        "time_so_tree_s = time_end-time_start\n",
        "print('')\n",
        "print(f'Time spent: {round(time_so_tree_s, 4)} s')\n",
        "\n",
        "# Best parameters from the grid\n",
        "print(scikitopt_tree_s_fit.best_params_, scikitopt_tree_s_fit.best_score_)\n",
        "inner_eval_tree_so_s = scikitopt_tree_s_fit.best_score_\n",
        "\n",
        "plot_objective(scikitopt_tree_simple.optimizer_results_[0],\n",
        "               dimensions=[\"max_depth\", \"min_samples_leaf\", \"splitter\"],\n",
        "               n_minimum_search=int(1e8))\n",
        "plt.show()"
      ],
      "id": "0cac910d"
    },
    {
      "cell_type": "code",
      "execution_count": 54,
      "metadata": {
        "id": "f59562ac",
        "outputId": "a4c5cc68-ad4f-4449-ec07-8b42668b096f",
        "colab": {
          "base_uri": "https://localhost:8080/",
          "height": 489
        }
      },
      "outputs": [
        {
          "output_type": "display_data",
          "data": {
            "text/plain": [
              "<Figure size 432x432 with 9 Axes>"
            ],
            "image/png": "[encoded data removed]"
          },
          "metadata": {
            "needs_background": "light"
          }
        }
      ],
      "source": [
        "plot_evaluations(scikitopt_tree_simple.optimizer_results_[0],\n",
        "                 bins=10,\n",
        "                 dimensions=[\"max_depth\", \"min_samples_leaf\", \"splitter\"])\n",
        "plt.show()"
      ],
      "id": "f59562ac"
    },
    {
      "cell_type": "markdown",
      "source": [
        "After this change in the tunning, we obtain an accuracy of 0.7991, using the hyperparameters obtained from scikit optimize approach."
      ],
      "metadata": {
        "id": "QXreKAOcTrqO"
      },
      "id": "QXreKAOcTrqO"
    },
    {
      "cell_type": "markdown",
      "metadata": {
        "id": "RpokALY-HG-L"
      },
      "source": [
        " ##### b.3. Optuna"
      ],
      "id": "RpokALY-HG-L"
    },
    {
      "cell_type": "code",
      "execution_count": 82,
      "metadata": {
        "id": "mzMAIfGVHMwr"
      },
      "outputs": [],
      "source": [
        "def objective_optuna(trial):\n",
        "    \n",
        "    # Range of hyperparameters\n",
        "    max_depth         = trial.suggest_int(\"max_depth\", 10, 25)\n",
        "    min_samples_split = trial.suggest_int(\"min_samples_split\", 2, 10)\n",
        "    min_samples_leaf  = trial.suggest_int(\"min_samples_leaf\", 1, 4)\n",
        "    criterion         = trial.suggest_categorical(\"criterion\", [\"gini\", \"entropy\"])\n",
        "    splitter          = trial.suggest_categorical(\"splitter\", [\"best\", \"random\"])\n",
        "    \n",
        "    # Defining the classifier\n",
        "    classifier_tree = tree.DecisionTreeClassifier(max_depth = max_depth,\n",
        "                                                  min_samples_split = min_samples_split,\n",
        "                                                  min_samples_leaf = min_samples_leaf,\n",
        "                                                  criterion = criterion,\n",
        "                                                  splitter = splitter,\n",
        "                                                  random_state = nia)\n",
        "    \n",
        "    # Defining the pipeline\n",
        "    clf_tree = Pipeline(steps=[('preprocessor', preprocessor),\n",
        "                               ('classifier', classifier_tree)])\n",
        "\n",
        "    np.random.seed(nia)\n",
        "    # Scores\n",
        "    scores = cross_val_score(clf_tree, X_train, y_train, \n",
        "                             scoring='accuracy',\n",
        "                             cv=cv,\n",
        "                             verbose=1)\n",
        "    \n",
        "    inner_mse = scores.mean()\n",
        "    \n",
        "    return inner_mse"
      ],
      "id": "mzMAIfGVHMwr"
    },
    {
      "cell_type": "code",
      "execution_count": 83,
      "metadata": {
        "colab": {
          "base_uri": "https://localhost:8080/"
        },
        "id": "cJFMQNjeN6b7",
        "outputId": "97d5e040-9711-4d7e-a864-11001f4c2d0b",
        "scrolled": true
      },
      "outputs": [
        {
          "output_type": "stream",
          "name": "stderr",
          "text": [
            "\u001b[32m[I 2022-12-29 19:27:44,468]\u001b[0m A new study created in memory with name: no-name-595b80ab-3f22-4a5d-a037-b58ee327ded0\u001b[0m\n",
            "[Parallel(n_jobs=1)]: Using backend SequentialBackend with 1 concurrent workers.\n",
            "[Parallel(n_jobs=1)]: Done   3 out of   3 | elapsed:    0.1s finished\n",
            "\u001b[32m[I 2022-12-29 19:27:44,568]\u001b[0m Trial 0 finished with value: 0.7403508771929824 and parameters: {'max_depth': 10, 'min_samples_split': 9, 'min_samples_leaf': 1, 'criterion': 'gini', 'splitter': 'best'}. Best is trial 0 with value: 0.7403508771929824.\u001b[0m\n",
            "[Parallel(n_jobs=1)]: Using backend SequentialBackend with 1 concurrent workers.\n",
            "[Parallel(n_jobs=1)]: Done   3 out of   3 | elapsed:    0.1s finished\n",
            "\u001b[32m[I 2022-12-29 19:27:44,659]\u001b[0m Trial 1 finished with value: 0.75 and parameters: {'max_depth': 21, 'min_samples_split': 4, 'min_samples_leaf': 3, 'criterion': 'gini', 'splitter': 'random'}. Best is trial 1 with value: 0.75.\u001b[0m\n",
            "[Parallel(n_jobs=1)]: Using backend SequentialBackend with 1 concurrent workers.\n"
          ]
        },
        {
          "output_type": "stream",
          "name": "stdout",
          "text": [
            "Model fitting...\n"
          ]
        },
        {
          "output_type": "stream",
          "name": "stderr",
          "text": [
            "[Parallel(n_jobs=1)]: Done   3 out of   3 | elapsed:    0.1s finished\n",
            "\u001b[32m[I 2022-12-29 19:27:44,749]\u001b[0m Trial 2 finished with value: 0.7324561403508771 and parameters: {'max_depth': 15, 'min_samples_split': 2, 'min_samples_leaf': 2, 'criterion': 'gini', 'splitter': 'random'}. Best is trial 1 with value: 0.75.\u001b[0m\n",
            "[Parallel(n_jobs=1)]: Using backend SequentialBackend with 1 concurrent workers.\n",
            "[Parallel(n_jobs=1)]: Done   3 out of   3 | elapsed:    0.1s finished\n",
            "\u001b[32m[I 2022-12-29 19:27:44,841]\u001b[0m Trial 3 finished with value: 0.7289473684210526 and parameters: {'max_depth': 20, 'min_samples_split': 7, 'min_samples_leaf': 2, 'criterion': 'gini', 'splitter': 'best'}. Best is trial 1 with value: 0.75.\u001b[0m\n",
            "[Parallel(n_jobs=1)]: Using backend SequentialBackend with 1 concurrent workers.\n",
            "[Parallel(n_jobs=1)]: Done   3 out of   3 | elapsed:    0.1s finished\n",
            "\u001b[32m[I 2022-12-29 19:27:44,930]\u001b[0m Trial 4 finished with value: 0.7087719298245614 and parameters: {'max_depth': 19, 'min_samples_split': 3, 'min_samples_leaf': 4, 'criterion': 'entropy', 'splitter': 'random'}. Best is trial 1 with value: 0.75.\u001b[0m\n",
            "[Parallel(n_jobs=1)]: Using backend SequentialBackend with 1 concurrent workers.\n",
            "[Parallel(n_jobs=1)]: Done   3 out of   3 | elapsed:    0.1s finished\n",
            "\u001b[32m[I 2022-12-29 19:27:45,024]\u001b[0m Trial 5 finished with value: 0.7517543859649122 and parameters: {'max_depth': 17, 'min_samples_split': 9, 'min_samples_leaf': 1, 'criterion': 'gini', 'splitter': 'random'}. Best is trial 5 with value: 0.7517543859649122.\u001b[0m\n",
            "[Parallel(n_jobs=1)]: Using backend SequentialBackend with 1 concurrent workers.\n",
            "[Parallel(n_jobs=1)]: Done   3 out of   3 | elapsed:    0.1s finished\n",
            "\u001b[32m[I 2022-12-29 19:27:45,137]\u001b[0m Trial 6 finished with value: 0.7543859649122807 and parameters: {'max_depth': 22, 'min_samples_split': 10, 'min_samples_leaf': 4, 'criterion': 'entropy', 'splitter': 'best'}. Best is trial 6 with value: 0.7543859649122807.\u001b[0m\n",
            "[Parallel(n_jobs=1)]: Using backend SequentialBackend with 1 concurrent workers.\n",
            "[Parallel(n_jobs=1)]: Done   3 out of   3 | elapsed:    0.1s finished\n",
            "\u001b[32m[I 2022-12-29 19:27:45,241]\u001b[0m Trial 7 finished with value: 0.7605263157894737 and parameters: {'max_depth': 11, 'min_samples_split': 6, 'min_samples_leaf': 1, 'criterion': 'entropy', 'splitter': 'best'}. Best is trial 7 with value: 0.7605263157894737.\u001b[0m\n",
            "[Parallel(n_jobs=1)]: Using backend SequentialBackend with 1 concurrent workers.\n",
            "[Parallel(n_jobs=1)]: Done   3 out of   3 | elapsed:    0.1s finished\n",
            "\u001b[32m[I 2022-12-29 19:27:45,324]\u001b[0m Trial 8 finished with value: 0.7263157894736842 and parameters: {'max_depth': 12, 'min_samples_split': 8, 'min_samples_leaf': 3, 'criterion': 'gini', 'splitter': 'random'}. Best is trial 7 with value: 0.7605263157894737.\u001b[0m\n",
            "[Parallel(n_jobs=1)]: Using backend SequentialBackend with 1 concurrent workers.\n",
            "[Parallel(n_jobs=1)]: Done   3 out of   3 | elapsed:    0.1s finished\n",
            "\u001b[32m[I 2022-12-29 19:27:45,412]\u001b[0m Trial 9 finished with value: 0.7087719298245614 and parameters: {'max_depth': 25, 'min_samples_split': 4, 'min_samples_leaf': 4, 'criterion': 'entropy', 'splitter': 'random'}. Best is trial 7 with value: 0.7605263157894737.\u001b[0m\n",
            "[Parallel(n_jobs=1)]: Using backend SequentialBackend with 1 concurrent workers.\n",
            "[Parallel(n_jobs=1)]: Done   3 out of   3 | elapsed:    0.1s finished\n",
            "\u001b[32m[I 2022-12-29 19:27:45,535]\u001b[0m Trial 10 finished with value: 0.7728070175438596 and parameters: {'max_depth': 14, 'min_samples_split': 6, 'min_samples_leaf': 1, 'criterion': 'entropy', 'splitter': 'best'}. Best is trial 10 with value: 0.7728070175438596.\u001b[0m\n",
            "[Parallel(n_jobs=1)]: Using backend SequentialBackend with 1 concurrent workers.\n",
            "[Parallel(n_jobs=1)]: Done   3 out of   3 | elapsed:    0.1s finished\n",
            "\u001b[32m[I 2022-12-29 19:27:45,669]\u001b[0m Trial 11 finished with value: 0.7728070175438596 and parameters: {'max_depth': 14, 'min_samples_split': 6, 'min_samples_leaf': 1, 'criterion': 'entropy', 'splitter': 'best'}. Best is trial 10 with value: 0.7728070175438596.\u001b[0m\n",
            "[Parallel(n_jobs=1)]: Using backend SequentialBackend with 1 concurrent workers.\n",
            "[Parallel(n_jobs=1)]: Done   3 out of   3 | elapsed:    0.1s finished\n",
            "\u001b[32m[I 2022-12-29 19:27:45,780]\u001b[0m Trial 12 finished with value: 0.7350877192982456 and parameters: {'max_depth': 14, 'min_samples_split': 6, 'min_samples_leaf': 2, 'criterion': 'entropy', 'splitter': 'best'}. Best is trial 10 with value: 0.7728070175438596.\u001b[0m\n",
            "[Parallel(n_jobs=1)]: Using backend SequentialBackend with 1 concurrent workers.\n",
            "[Parallel(n_jobs=1)]: Done   3 out of   3 | elapsed:    0.1s finished\n",
            "\u001b[32m[I 2022-12-29 19:27:45,912]\u001b[0m Trial 13 finished with value: 0.781578947368421 and parameters: {'max_depth': 14, 'min_samples_split': 5, 'min_samples_leaf': 1, 'criterion': 'entropy', 'splitter': 'best'}. Best is trial 13 with value: 0.781578947368421.\u001b[0m\n",
            "[Parallel(n_jobs=1)]: Using backend SequentialBackend with 1 concurrent workers.\n",
            "[Parallel(n_jobs=1)]: Done   3 out of   3 | elapsed:    0.1s finished\n",
            "\u001b[32m[I 2022-12-29 19:27:46,043]\u001b[0m Trial 14 finished with value: 0.743859649122807 and parameters: {'max_depth': 16, 'min_samples_split': 5, 'min_samples_leaf': 2, 'criterion': 'entropy', 'splitter': 'best'}. Best is trial 13 with value: 0.781578947368421.\u001b[0m\n"
          ]
        },
        {
          "output_type": "stream",
          "name": "stdout",
          "text": [
            "\n",
            "Time spent: 1.5725 s\n"
          ]
        }
      ],
      "source": [
        "budget = 15\n",
        "study = optuna.create_study(direction = \"maximize\")\n",
        "\n",
        "print('Model fitting...')\n",
        "time_start= time()\n",
        "np.random.seed(nia)\n",
        "study.optimize(objective_optuna, n_trials = budget)\n",
        "time_end = time()\n",
        "time_optuna_tree = time_end-time_start\n",
        "print('')\n",
        "print(f'Time spent: {round(time_optuna_tree, 4)} s')"
      ],
      "id": "cJFMQNjeN6b7"
    },
    {
      "cell_type": "markdown",
      "source": [
        "Using the optuna approach for tunning, we obtain a similar accuracy: 0.7877. We can see that some of the value change but similarly than with the scikit optimize approach, the min_samples_leaf value is set to 1 once again.\n"
      ],
      "metadata": {
        "id": "gsXh6NbYUvnZ"
      },
      "id": "gsXh6NbYUvnZ"
    },
    {
      "cell_type": "code",
      "execution_count": 84,
      "metadata": {
        "colab": {
          "base_uri": "https://localhost:8080/"
        },
        "id": "HlecgPxzOBIJ",
        "outputId": "e7151878-2acb-4817-915e-e20b1d77de98"
      },
      "outputs": [
        {
          "output_type": "stream",
          "name": "stdout",
          "text": [
            "{'max_depth': 14, 'min_samples_split': 5, 'min_samples_leaf': 1, 'criterion': 'entropy', 'splitter': 'best'} 0.781578947368421\n"
          ]
        },
        {
          "output_type": "execute_result",
          "data": {
            "text/plain": [
              "0.781578947368421"
            ]
          },
          "metadata": {},
          "execution_count": 84
        }
      ],
      "source": [
        "# Best parameters from the halving random grid\n",
        "print(study.best_params, study.best_value)\n",
        "inner_eval_tree_optuna = study.best_value\n",
        "inner_eval_tree_optuna"
      ],
      "id": "HlecgPxzOBIJ"
    },
    {
      "cell_type": "markdown",
      "source": [
        "We use the following plots to once again adjust the range of the hyperparamters and also to adjust the number of trials. From the following graph we noticed that we can reduce the range of min_samples_leaf as it was always selecting 1 and the objective value (Accuracy) was highers for lower values in the hyperparameter. "
      ],
      "metadata": {
        "id": "nBj-_vD5WSvH"
      },
      "id": "nBj-_vD5WSvH"
    },
    {
      "cell_type": "code",
      "execution_count": 85,
      "metadata": {
        "colab": {
          "base_uri": "https://localhost:8080/",
          "height": 542
        },
        "id": "PVmLg5-t2FxG",
        "outputId": "95d85a63-339a-49b2-8110-2fc86656f544"
      },
      "outputs": [
        {
          "output_type": "display_data",
          "data": {
            "text/html": [
              "<html>\n",
              "<head><meta charset=\"utf-8\" /></head>\n",
              "<body>\n",
              "    <div>            <script src=\"https://cdnjs.cloudflare.com/ajax/libs/mathjax/2.7.5/MathJax.js?config=TeX-AMS-MML_SVG\"></script><script type=\"text/javascript\">if (window.MathJax) {MathJax.Hub.Config({SVG: {font: \"STIX-Web\"}});}</script>                <script type=\"text/javascript\">window.PlotlyConfig = {MathJaxConfig: 'local'};</script>\n",
              "        <script src=\"https://cdn.plot.ly/plotly-2.8.3.min.js\"></script>                <div id=\"c0a4f029-7316-4094-92c4-c68c38d8dc18\" class=\"plotly-graph-div\" style=\"height:525px; width:100%;\"></div>            <script type=\"text/javascript\">                                    window.PLOTLYENV=window.PLOTLYENV || {};                                    if (document.getElementById(\"c0a4f029-7316-4094-92c4-c68c38d8dc18\")) {                    Plotly.newPlot(                        \"c0a4f029-7316-4094-92c4-c68c38d8dc18\",                        [{\"dimensions\":[{\"label\":\"Objective Value\",\"range\":[0.7087719298245614,0.781578947368421],\"values\":[0.7403508771929824,0.75,0.7324561403508771,0.7289473684210526,0.7087719298245614,0.7517543859649122,0.7543859649122807,0.7605263157894737,0.7263157894736842,0.7087719298245614,0.7728070175438596,0.7728070175438596,0.7350877192982456,0.781578947368421,0.743859649122807]},{\"label\":\"criterion\",\"range\":[0,1],\"ticktext\":[\"gini\",\"entropy\"],\"tickvals\":[0,1],\"values\":[0,0,0,0,1,0,1,1,0,1,1,1,1,1,1]},{\"label\":\"max_depth\",\"range\":[10,25],\"values\":[10,21,15,20,19,17,22,11,12,25,14,14,14,14,16]},{\"label\":\"min_samples_leaf\",\"range\":[1,4],\"values\":[1,3,2,2,4,1,4,1,3,4,1,1,2,1,2]},{\"label\":\"min_samples_split\",\"range\":[2,10],\"values\":[9,4,2,7,3,9,10,6,8,4,6,6,6,5,5]},{\"label\":\"splitter\",\"range\":[0,1],\"ticktext\":[\"best\",\"random\"],\"tickvals\":[0,1],\"values\":[0,1,1,0,1,1,0,0,1,1,0,0,0,0,0]}],\"labelangle\":30,\"labelside\":\"bottom\",\"line\":{\"color\":[0.7403508771929824,0.75,0.7324561403508771,0.7289473684210526,0.7087719298245614,0.7517543859649122,0.7543859649122807,0.7605263157894737,0.7263157894736842,0.7087719298245614,0.7728070175438596,0.7728070175438596,0.7350877192982456,0.781578947368421,0.743859649122807],\"colorbar\":{\"title\":{\"text\":\"Objective Value\"}},\"colorscale\":[[0.0,\"rgb(247,251,255)\"],[0.125,\"rgb(222,235,247)\"],[0.25,\"rgb(198,219,239)\"],[0.375,\"rgb(158,202,225)\"],[0.5,\"rgb(107,174,214)\"],[0.625,\"rgb(66,146,198)\"],[0.75,\"rgb(33,113,181)\"],[0.875,\"rgb(8,81,156)\"],[1.0,\"rgb(8,48,107)\"]],\"reversescale\":false,\"showscale\":true},\"type\":\"parcoords\"}],                        {\"title\":{\"text\":\"Parallel Coordinate Plot\"},\"template\":{\"data\":{\"bar\":[{\"error_x\":{\"color\":\"#2a3f5f\"},\"error_y\":{\"color\":\"#2a3f5f\"},\"marker\":{\"line\":{\"color\":\"#E5ECF6\",\"width\":0.5},\"pattern\":{\"fillmode\":\"overlay\",\"size\":10,\"solidity\":0.2}},\"type\":\"bar\"}],\"barpolar\":[{\"marker\":{\"line\":{\"color\":\"#E5ECF6\",\"width\":0.5},\"pattern\":{\"fillmode\":\"overlay\",\"size\":10,\"solidity\":0.2}},\"type\":\"barpolar\"}],\"carpet\":[{\"aaxis\":{\"endlinecolor\":\"#2a3f5f\",\"gridcolor\":\"white\",\"linecolor\":\"white\",\"minorgridcolor\":\"white\",\"startlinecolor\":\"#2a3f5f\"},\"baxis\":{\"endlinecolor\":\"#2a3f5f\",\"gridcolor\":\"white\",\"linecolor\":\"white\",\"minorgridcolor\":\"white\",\"startlinecolor\":\"#2a3f5f\"},\"type\":\"carpet\"}],\"choropleth\":[{\"colorbar\":{\"outlinewidth\":0,\"ticks\":\"\"},\"type\":\"choropleth\"}],\"contour\":[{\"colorbar\":{\"outlinewidth\":0,\"ticks\":\"\"},\"colorscale\":[[0.0,\"#0d0887\"],[0.1111111111111111,\"#46039f\"],[0.2222222222222222,\"#7201a8\"],[0.3333333333333333,\"#9c179e\"],[0.4444444444444444,\"#bd3786\"],[0.5555555555555556,\"#d8576b\"],[0.6666666666666666,\"#ed7953\"],[0.7777777777777778,\"#fb9f3a\"],[0.8888888888888888,\"#fdca26\"],[1.0,\"#f0f921\"]],\"type\":\"contour\"}],\"contourcarpet\":[{\"colorbar\":{\"outlinewidth\":0,\"ticks\":\"\"},\"type\":\"contourcarpet\"}],\"heatmap\":[{\"colorbar\":{\"outlinewidth\":0,\"ticks\":\"\"},\"colorscale\":[[0.0,\"#0d0887\"],[0.1111111111111111,\"#46039f\"],[0.2222222222222222,\"#7201a8\"],[0.3333333333333333,\"#9c179e\"],[0.4444444444444444,\"#bd3786\"],[0.5555555555555556,\"#d8576b\"],[0.6666666666666666,\"#ed7953\"],[0.7777777777777778,\"#fb9f3a\"],[0.8888888888888888,\"#fdca26\"],[1.0,\"#f0f921\"]],\"type\":\"heatmap\"}],\"heatmapgl\":[{\"colorbar\":{\"outlinewidth\":0,\"ticks\":\"\"},\"colorscale\":[[0.0,\"#0d0887\"],[0.1111111111111111,\"#46039f\"],[0.2222222222222222,\"#7201a8\"],[0.3333333333333333,\"#9c179e\"],[0.4444444444444444,\"#bd3786\"],[0.5555555555555556,\"#d8576b\"],[0.6666666666666666,\"#ed7953\"],[0.7777777777777778,\"#fb9f3a\"],[0.8888888888888888,\"#fdca26\"],[1.0,\"#f0f921\"]],\"type\":\"heatmapgl\"}],\"histogram\":[{\"marker\":{\"pattern\":{\"fillmode\":\"overlay\",\"size\":10,\"solidity\":0.2}},\"type\":\"histogram\"}],\"histogram2d\":[{\"colorbar\":{\"outlinewidth\":0,\"ticks\":\"\"},\"colorscale\":[[0.0,\"#0d0887\"],[0.1111111111111111,\"#46039f\"],[0.2222222222222222,\"#7201a8\"],[0.3333333333333333,\"#9c179e\"],[0.4444444444444444,\"#bd3786\"],[0.5555555555555556,\"#d8576b\"],[0.6666666666666666,\"#ed7953\"],[0.7777777777777778,\"#fb9f3a\"],[0.8888888888888888,\"#fdca26\"],[1.0,\"#f0f921\"]],\"type\":\"histogram2d\"}],\"histogram2dcontour\":[{\"colorbar\":{\"outlinewidth\":0,\"ticks\":\"\"},\"colorscale\":[[0.0,\"#0d0887\"],[0.1111111111111111,\"#46039f\"],[0.2222222222222222,\"#7201a8\"],[0.3333333333333333,\"#9c179e\"],[0.4444444444444444,\"#bd3786\"],[0.5555555555555556,\"#d8576b\"],[0.6666666666666666,\"#ed7953\"],[0.7777777777777778,\"#fb9f3a\"],[0.8888888888888888,\"#fdca26\"],[1.0,\"#f0f921\"]],\"type\":\"histogram2dcontour\"}],\"mesh3d\":[{\"colorbar\":{\"outlinewidth\":0,\"ticks\":\"\"},\"type\":\"mesh3d\"}],\"parcoords\":[{\"line\":{\"colorbar\":{\"outlinewidth\":0,\"ticks\":\"\"}},\"type\":\"parcoords\"}],\"pie\":[{\"automargin\":true,\"type\":\"pie\"}],\"scatter\":[{\"marker\":{\"colorbar\":{\"outlinewidth\":0,\"ticks\":\"\"}},\"type\":\"scatter\"}],\"scatter3d\":[{\"line\":{\"colorbar\":{\"outlinewidth\":0,\"ticks\":\"\"}},\"marker\":{\"colorbar\":{\"outlinewidth\":0,\"ticks\":\"\"}},\"type\":\"scatter3d\"}],\"scattercarpet\":[{\"marker\":{\"colorbar\":{\"outlinewidth\":0,\"ticks\":\"\"}},\"type\":\"scattercarpet\"}],\"scattergeo\":[{\"marker\":{\"colorbar\":{\"outlinewidth\":0,\"ticks\":\"\"}},\"type\":\"scattergeo\"}],\"scattergl\":[{\"marker\":{\"colorbar\":{\"outlinewidth\":0,\"ticks\":\"\"}},\"type\":\"scattergl\"}],\"scattermapbox\":[{\"marker\":{\"colorbar\":{\"outlinewidth\":0,\"ticks\":\"\"}},\"type\":\"scattermapbox\"}],\"scatterpolar\":[{\"marker\":{\"colorbar\":{\"outlinewidth\":0,\"ticks\":\"\"}},\"type\":\"scatterpolar\"}],\"scatterpolargl\":[{\"marker\":{\"colorbar\":{\"outlinewidth\":0,\"ticks\":\"\"}},\"type\":\"scatterpolargl\"}],\"scatterternary\":[{\"marker\":{\"colorbar\":{\"outlinewidth\":0,\"ticks\":\"\"}},\"type\":\"scatterternary\"}],\"surface\":[{\"colorbar\":{\"outlinewidth\":0,\"ticks\":\"\"},\"colorscale\":[[0.0,\"#0d0887\"],[0.1111111111111111,\"#46039f\"],[0.2222222222222222,\"#7201a8\"],[0.3333333333333333,\"#9c179e\"],[0.4444444444444444,\"#bd3786\"],[0.5555555555555556,\"#d8576b\"],[0.6666666666666666,\"#ed7953\"],[0.7777777777777778,\"#fb9f3a\"],[0.8888888888888888,\"#fdca26\"],[1.0,\"#f0f921\"]],\"type\":\"surface\"}],\"table\":[{\"cells\":{\"fill\":{\"color\":\"#EBF0F8\"},\"line\":{\"color\":\"white\"}},\"header\":{\"fill\":{\"color\":\"#C8D4E3\"},\"line\":{\"color\":\"white\"}},\"type\":\"table\"}]},\"layout\":{\"annotationdefaults\":{\"arrowcolor\":\"#2a3f5f\",\"arrowhead\":0,\"arrowwidth\":1},\"autotypenumbers\":\"strict\",\"coloraxis\":{\"colorbar\":{\"outlinewidth\":0,\"ticks\":\"\"}},\"colorscale\":{\"diverging\":[[0,\"#8e0152\"],[0.1,\"#c51b7d\"],[0.2,\"#de77ae\"],[0.3,\"#f1b6da\"],[0.4,\"#fde0ef\"],[0.5,\"#f7f7f7\"],[0.6,\"#e6f5d0\"],[0.7,\"#b8e186\"],[0.8,\"#7fbc41\"],[0.9,\"#4d9221\"],[1,\"#276419\"]],\"sequential\":[[0.0,\"#0d0887\"],[0.1111111111111111,\"#46039f\"],[0.2222222222222222,\"#7201a8\"],[0.3333333333333333,\"#9c179e\"],[0.4444444444444444,\"#bd3786\"],[0.5555555555555556,\"#d8576b\"],[0.6666666666666666,\"#ed7953\"],[0.7777777777777778,\"#fb9f3a\"],[0.8888888888888888,\"#fdca26\"],[1.0,\"#f0f921\"]],\"sequentialminus\":[[0.0,\"#0d0887\"],[0.1111111111111111,\"#46039f\"],[0.2222222222222222,\"#7201a8\"],[0.3333333333333333,\"#9c179e\"],[0.4444444444444444,\"#bd3786\"],[0.5555555555555556,\"#d8576b\"],[0.6666666666666666,\"#ed7953\"],[0.7777777777777778,\"#fb9f3a\"],[0.8888888888888888,\"#fdca26\"],[1.0,\"#f0f921\"]]},\"colorway\":[\"#636efa\",\"#EF553B\",\"#00cc96\",\"#ab63fa\",\"#FFA15A\",\"#19d3f3\",\"#FF6692\",\"#B6E880\",\"#FF97FF\",\"#FECB52\"],\"font\":{\"color\":\"#2a3f5f\"},\"geo\":{\"bgcolor\":\"white\",\"lakecolor\":\"white\",\"landcolor\":\"#E5ECF6\",\"showlakes\":true,\"showland\":true,\"subunitcolor\":\"white\"},\"hoverlabel\":{\"align\":\"left\"},\"hovermode\":\"closest\",\"mapbox\":{\"style\":\"light\"},\"paper_bgcolor\":\"white\",\"plot_bgcolor\":\"#E5ECF6\",\"polar\":{\"angularaxis\":{\"gridcolor\":\"white\",\"linecolor\":\"white\",\"ticks\":\"\"},\"bgcolor\":\"#E5ECF6\",\"radialaxis\":{\"gridcolor\":\"white\",\"linecolor\":\"white\",\"ticks\":\"\"}},\"scene\":{\"xaxis\":{\"backgroundcolor\":\"#E5ECF6\",\"gridcolor\":\"white\",\"gridwidth\":2,\"linecolor\":\"white\",\"showbackground\":true,\"ticks\":\"\",\"zerolinecolor\":\"white\"},\"yaxis\":{\"backgroundcolor\":\"#E5ECF6\",\"gridcolor\":\"white\",\"gridwidth\":2,\"linecolor\":\"white\",\"showbackground\":true,\"ticks\":\"\",\"zerolinecolor\":\"white\"},\"zaxis\":{\"backgroundcolor\":\"#E5ECF6\",\"gridcolor\":\"white\",\"gridwidth\":2,\"linecolor\":\"white\",\"showbackground\":true,\"ticks\":\"\",\"zerolinecolor\":\"white\"}},\"shapedefaults\":{\"line\":{\"color\":\"#2a3f5f\"}},\"ternary\":{\"aaxis\":{\"gridcolor\":\"white\",\"linecolor\":\"white\",\"ticks\":\"\"},\"baxis\":{\"gridcolor\":\"white\",\"linecolor\":\"white\",\"ticks\":\"\"},\"bgcolor\":\"#E5ECF6\",\"caxis\":{\"gridcolor\":\"white\",\"linecolor\":\"white\",\"ticks\":\"\"}},\"title\":{\"x\":0.05},\"xaxis\":{\"automargin\":true,\"gridcolor\":\"white\",\"linecolor\":\"white\",\"ticks\":\"\",\"title\":{\"standoff\":15},\"zerolinecolor\":\"white\",\"zerolinewidth\":2},\"yaxis\":{\"automargin\":true,\"gridcolor\":\"white\",\"linecolor\":\"white\",\"ticks\":\"\",\"title\":{\"standoff\":15},\"zerolinecolor\":\"white\",\"zerolinewidth\":2}}}},                        {\"responsive\": true}                    ).then(function(){\n",
              "                            \n",
              "var gd = document.getElementById('c0a4f029-7316-4094-92c4-c68c38d8dc18');\n",
              "var x = new MutationObserver(function (mutations, observer) {{\n",
              "        var display = window.getComputedStyle(gd).display;\n",
              "        if (!display || display === 'none') {{\n",
              "            console.log([gd, 'removed!']);\n",
              "            Plotly.purge(gd);\n",
              "            observer.disconnect();\n",
              "        }}\n",
              "}});\n",
              "\n",
              "// Listen for the removal of the full notebook cells\n",
              "var notebookContainer = gd.closest('#notebook-container');\n",
              "if (notebookContainer) {{\n",
              "    x.observe(notebookContainer, {childList: true});\n",
              "}}\n",
              "\n",
              "// Listen for the clearing of the current output cell\n",
              "var outputEl = gd.closest('.output');\n",
              "if (outputEl) {{\n",
              "    x.observe(outputEl, {childList: true});\n",
              "}}\n",
              "\n",
              "                        })                };                            </script>        </div>\n",
              "</body>\n",
              "</html>"
            ]
          },
          "metadata": {}
        }
      ],
      "source": [
        "plot_parallel_coordinate(study)"
      ],
      "id": "PVmLg5-t2FxG"
    },
    {
      "cell_type": "code",
      "execution_count": 87,
      "metadata": {
        "colab": {
          "base_uri": "https://localhost:8080/",
          "height": 542
        },
        "id": "qViXCcMG2S1-",
        "outputId": "8a2989ce-94ed-44f0-d4b1-bf9a35318ee2"
      },
      "outputs": [
        {
          "output_type": "display_data",
          "data": {
            "text/html": [
              "<html>\n",
              "<head><meta charset=\"utf-8\" /></head>\n",
              "<body>\n",
              "    <div>            <script src=\"https://cdnjs.cloudflare.com/ajax/libs/mathjax/2.7.5/MathJax.js?config=TeX-AMS-MML_SVG\"></script><script type=\"text/javascript\">if (window.MathJax) {MathJax.Hub.Config({SVG: {font: \"STIX-Web\"}});}</script>                <script type=\"text/javascript\">window.PlotlyConfig = {MathJaxConfig: 'local'};</script>\n",
              "        <script src=\"https://cdn.plot.ly/plotly-2.8.3.min.js\"></script>                <div id=\"69645f6b-81df-4611-81d3-3d36dc661105\" class=\"plotly-graph-div\" style=\"height:525px; width:100%;\"></div>            <script type=\"text/javascript\">                                    window.PLOTLYENV=window.PLOTLYENV || {};                                    if (document.getElementById(\"69645f6b-81df-4611-81d3-3d36dc661105\")) {                    Plotly.newPlot(                        \"69645f6b-81df-4611-81d3-3d36dc661105\",                        [{\"type\":\"scatter\",\"xaxis\":\"x\",\"yaxis\":\"y\"},{\"colorbar\":{\"title\":{\"text\":\"Objective Value\"}},\"colorscale\":[[0.0,\"rgb(247,251,255)\"],[0.125,\"rgb(222,235,247)\"],[0.25,\"rgb(198,219,239)\"],[0.375,\"rgb(158,202,225)\"],[0.5,\"rgb(107,174,214)\"],[0.625,\"rgb(66,146,198)\"],[0.75,\"rgb(33,113,181)\"],[0.875,\"rgb(8,81,156)\"],[1.0,\"rgb(8,48,107)\"]],\"connectgaps\":true,\"contours\":{\"coloring\":\"heatmap\"},\"hoverinfo\":\"none\",\"line\":{\"smoothing\":1.3},\"reversescale\":false,\"showscale\":true,\"x\":[\"entropy\",\"gini\"],\"y\":[9.25,10,11,12,14,15,16,17,19,20,21,22,25,25.75],\"z\":[[null,null],[null,0.7403508771929824],[0.7605263157894737,null],[null,0.7263157894736842],[0.781578947368421,null],[null,0.7324561403508771],[0.743859649122807,null],[null,0.7517543859649122],[0.7087719298245614,null],[null,0.7289473684210526],[null,0.75],[0.7543859649122807,null],[0.7087719298245614,null],[null,null]],\"type\":\"contour\",\"xaxis\":\"x6\",\"yaxis\":\"y6\"},{\"marker\":{\"color\":\"black\",\"line\":{\"color\":\"Grey\",\"width\":2.0}},\"mode\":\"markers\",\"showlegend\":false,\"x\":[\"gini\",\"gini\",\"gini\",\"gini\",\"entropy\",\"gini\",\"entropy\",\"entropy\",\"gini\",\"entropy\",\"entropy\",\"entropy\",\"entropy\",\"entropy\",\"entropy\"],\"y\":[10,21,15,20,19,17,22,11,12,25,14,14,14,14,16],\"type\":\"scatter\",\"xaxis\":\"x6\",\"yaxis\":\"y6\"},{\"colorbar\":{\"title\":{\"text\":\"Objective Value\"}},\"colorscale\":[[0.0,\"rgb(247,251,255)\"],[0.125,\"rgb(222,235,247)\"],[0.25,\"rgb(198,219,239)\"],[0.375,\"rgb(158,202,225)\"],[0.5,\"rgb(107,174,214)\"],[0.625,\"rgb(66,146,198)\"],[0.75,\"rgb(33,113,181)\"],[0.875,\"rgb(8,81,156)\"],[1.0,\"rgb(8,48,107)\"]],\"connectgaps\":true,\"contours\":{\"coloring\":\"heatmap\"},\"hoverinfo\":\"none\",\"line\":{\"smoothing\":1.3},\"reversescale\":false,\"showscale\":false,\"x\":[\"entropy\",\"gini\"],\"y\":[0.85,1,2,3,4,4.15],\"z\":[[null,null],[0.781578947368421,0.7517543859649122],[0.743859649122807,0.7289473684210526],[null,0.7263157894736842],[0.7087719298245614,null],[null,null]],\"type\":\"contour\",\"xaxis\":\"x11\",\"yaxis\":\"y11\"},{\"marker\":{\"color\":\"black\",\"line\":{\"color\":\"Grey\",\"width\":2.0}},\"mode\":\"markers\",\"showlegend\":false,\"x\":[\"gini\",\"gini\",\"gini\",\"gini\",\"entropy\",\"gini\",\"entropy\",\"entropy\",\"gini\",\"entropy\",\"entropy\",\"entropy\",\"entropy\",\"entropy\",\"entropy\"],\"y\":[1,3,2,2,4,1,4,1,3,4,1,1,2,1,2],\"type\":\"scatter\",\"xaxis\":\"x11\",\"yaxis\":\"y11\"},{\"colorbar\":{\"title\":{\"text\":\"Objective Value\"}},\"colorscale\":[[0.0,\"rgb(247,251,255)\"],[0.125,\"rgb(222,235,247)\"],[0.25,\"rgb(198,219,239)\"],[0.375,\"rgb(158,202,225)\"],[0.5,\"rgb(107,174,214)\"],[0.625,\"rgb(66,146,198)\"],[0.75,\"rgb(33,113,181)\"],[0.875,\"rgb(8,81,156)\"],[1.0,\"rgb(8,48,107)\"]],\"connectgaps\":true,\"contours\":{\"coloring\":\"heatmap\"},\"hoverinfo\":\"none\",\"line\":{\"smoothing\":1.3},\"reversescale\":false,\"showscale\":false,\"x\":[\"entropy\",\"gini\"],\"y\":[1.6,2,3,4,5,6,7,8,9,10,10.4],\"z\":[[null,null],[null,0.7324561403508771],[0.7087719298245614,null],[0.7087719298245614,0.75],[0.743859649122807,null],[0.7350877192982456,null],[null,0.7289473684210526],[null,0.7263157894736842],[null,0.7517543859649122],[0.7543859649122807,null],[null,null]],\"type\":\"contour\",\"xaxis\":\"x16\",\"yaxis\":\"y16\"},{\"marker\":{\"color\":\"black\",\"line\":{\"color\":\"Grey\",\"width\":2.0}},\"mode\":\"markers\",\"showlegend\":false,\"x\":[\"gini\",\"gini\",\"gini\",\"gini\",\"entropy\",\"gini\",\"entropy\",\"entropy\",\"gini\",\"entropy\",\"entropy\",\"entropy\",\"entropy\",\"entropy\",\"entropy\"],\"y\":[9,4,2,7,3,9,10,6,8,4,6,6,6,5,5],\"type\":\"scatter\",\"xaxis\":\"x16\",\"yaxis\":\"y16\"},{\"colorbar\":{\"title\":{\"text\":\"Objective Value\"}},\"colorscale\":[[0.0,\"rgb(247,251,255)\"],[0.125,\"rgb(222,235,247)\"],[0.25,\"rgb(198,219,239)\"],[0.375,\"rgb(158,202,225)\"],[0.5,\"rgb(107,174,214)\"],[0.625,\"rgb(66,146,198)\"],[0.75,\"rgb(33,113,181)\"],[0.875,\"rgb(8,81,156)\"],[1.0,\"rgb(8,48,107)\"]],\"connectgaps\":true,\"contours\":{\"coloring\":\"heatmap\"},\"hoverinfo\":\"none\",\"line\":{\"smoothing\":1.3},\"reversescale\":false,\"showscale\":false,\"x\":[\"entropy\",\"gini\"],\"y\":[\"best\",\"random\"],\"z\":[[0.743859649122807,0.7289473684210526],[0.7087719298245614,0.7263157894736842]],\"type\":\"contour\",\"xaxis\":\"x21\",\"yaxis\":\"y21\"},{\"marker\":{\"color\":\"black\",\"line\":{\"color\":\"Grey\",\"width\":2.0}},\"mode\":\"markers\",\"showlegend\":false,\"x\":[\"gini\",\"gini\",\"gini\",\"gini\",\"entropy\",\"gini\",\"entropy\",\"entropy\",\"gini\",\"entropy\",\"entropy\",\"entropy\",\"entropy\",\"entropy\",\"entropy\"],\"y\":[\"best\",\"random\",\"random\",\"best\",\"random\",\"random\",\"best\",\"best\",\"random\",\"random\",\"best\",\"best\",\"best\",\"best\",\"best\"],\"type\":\"scatter\",\"xaxis\":\"x21\",\"yaxis\":\"y21\"},{\"colorbar\":{\"title\":{\"text\":\"Objective Value\"}},\"colorscale\":[[0.0,\"rgb(247,251,255)\"],[0.125,\"rgb(222,235,247)\"],[0.25,\"rgb(198,219,239)\"],[0.375,\"rgb(158,202,225)\"],[0.5,\"rgb(107,174,214)\"],[0.625,\"rgb(66,146,198)\"],[0.75,\"rgb(33,113,181)\"],[0.875,\"rgb(8,81,156)\"],[1.0,\"rgb(8,48,107)\"]],\"connectgaps\":true,\"contours\":{\"coloring\":\"heatmap\"},\"hoverinfo\":\"none\",\"line\":{\"smoothing\":1.3},\"reversescale\":false,\"showscale\":false,\"x\":[9.25,10,11,12,14,15,16,17,19,20,21,22,25,25.75],\"y\":[\"entropy\",\"gini\"],\"z\":[[null,null,0.7605263157894737,null,0.781578947368421,null,0.743859649122807,null,0.7087719298245614,null,null,0.7543859649122807,0.7087719298245614,null],[null,0.7403508771929824,null,0.7263157894736842,null,0.7324561403508771,null,0.7517543859649122,null,0.7289473684210526,0.75,null,null,null]],\"type\":\"contour\",\"xaxis\":\"x2\",\"yaxis\":\"y2\"},{\"marker\":{\"color\":\"black\",\"line\":{\"color\":\"Grey\",\"width\":2.0}},\"mode\":\"markers\",\"showlegend\":false,\"x\":[10,21,15,20,19,17,22,11,12,25,14,14,14,14,16],\"y\":[\"gini\",\"gini\",\"gini\",\"gini\",\"entropy\",\"gini\",\"entropy\",\"entropy\",\"gini\",\"entropy\",\"entropy\",\"entropy\",\"entropy\",\"entropy\",\"entropy\"],\"type\":\"scatter\",\"xaxis\":\"x2\",\"yaxis\":\"y2\"},{\"type\":\"scatter\",\"xaxis\":\"x7\",\"yaxis\":\"y7\"},{\"colorbar\":{\"title\":{\"text\":\"Objective Value\"}},\"colorscale\":[[0.0,\"rgb(247,251,255)\"],[0.125,\"rgb(222,235,247)\"],[0.25,\"rgb(198,219,239)\"],[0.375,\"rgb(158,202,225)\"],[0.5,\"rgb(107,174,214)\"],[0.625,\"rgb(66,146,198)\"],[0.75,\"rgb(33,113,181)\"],[0.875,\"rgb(8,81,156)\"],[1.0,\"rgb(8,48,107)\"]],\"connectgaps\":true,\"contours\":{\"coloring\":\"heatmap\"},\"hoverinfo\":\"none\",\"line\":{\"smoothing\":1.3},\"reversescale\":false,\"showscale\":false,\"x\":[9.25,10,11,12,14,15,16,17,19,20,21,22,25,25.75],\"y\":[0.85,1,2,3,4,4.15],\"z\":[[null,null,null,null,null,null,null,null,null,null,null,null,null,null],[null,0.7403508771929824,0.7605263157894737,null,0.781578947368421,null,null,0.7517543859649122,null,null,null,null,null,null],[null,null,null,null,0.7350877192982456,0.7324561403508771,0.743859649122807,null,null,0.7289473684210526,null,null,null,null],[null,null,null,0.7263157894736842,null,null,null,null,null,null,0.75,null,null,null],[null,null,null,null,null,null,null,null,0.7087719298245614,null,null,0.7543859649122807,0.7087719298245614,null],[null,null,null,null,null,null,null,null,null,null,null,null,null,null]],\"type\":\"contour\",\"xaxis\":\"x12\",\"yaxis\":\"y12\"},{\"marker\":{\"color\":\"black\",\"line\":{\"color\":\"Grey\",\"width\":2.0}},\"mode\":\"markers\",\"showlegend\":false,\"x\":[10,21,15,20,19,17,22,11,12,25,14,14,14,14,16],\"y\":[1,3,2,2,4,1,4,1,3,4,1,1,2,1,2],\"type\":\"scatter\",\"xaxis\":\"x12\",\"yaxis\":\"y12\"},{\"colorbar\":{\"title\":{\"text\":\"Objective Value\"}},\"colorscale\":[[0.0,\"rgb(247,251,255)\"],[0.125,\"rgb(222,235,247)\"],[0.25,\"rgb(198,219,239)\"],[0.375,\"rgb(158,202,225)\"],[0.5,\"rgb(107,174,214)\"],[0.625,\"rgb(66,146,198)\"],[0.75,\"rgb(33,113,181)\"],[0.875,\"rgb(8,81,156)\"],[1.0,\"rgb(8,48,107)\"]],\"connectgaps\":true,\"contours\":{\"coloring\":\"heatmap\"},\"hoverinfo\":\"none\",\"line\":{\"smoothing\":1.3},\"reversescale\":false,\"showscale\":false,\"x\":[9.25,10,11,12,14,15,16,17,19,20,21,22,25,25.75],\"y\":[1.6,2,3,4,5,6,7,8,9,10,10.4],\"z\":[[null,null,null,null,null,null,null,null,null,null,null,null,null,null],[null,null,null,null,null,0.7324561403508771,null,null,null,null,null,null,null,null],[null,null,null,null,null,null,null,null,0.7087719298245614,null,null,null,null,null],[null,null,null,null,null,null,null,null,null,null,0.75,null,0.7087719298245614,null],[null,null,null,null,0.781578947368421,null,0.743859649122807,null,null,null,null,null,null,null],[null,null,0.7605263157894737,null,0.7350877192982456,null,null,null,null,null,null,null,null,null],[null,null,null,null,null,null,null,null,null,0.7289473684210526,null,null,null,null],[null,null,null,0.7263157894736842,null,null,null,null,null,null,null,null,null,null],[null,0.7403508771929824,null,null,null,null,null,0.7517543859649122,null,null,null,null,null,null],[null,null,null,null,null,null,null,null,null,null,null,0.7543859649122807,null,null],[null,null,null,null,null,null,null,null,null,null,null,null,null,null]],\"type\":\"contour\",\"xaxis\":\"x17\",\"yaxis\":\"y17\"},{\"marker\":{\"color\":\"black\",\"line\":{\"color\":\"Grey\",\"width\":2.0}},\"mode\":\"markers\",\"showlegend\":false,\"x\":[10,21,15,20,19,17,22,11,12,25,14,14,14,14,16],\"y\":[9,4,2,7,3,9,10,6,8,4,6,6,6,5,5],\"type\":\"scatter\",\"xaxis\":\"x17\",\"yaxis\":\"y17\"},{\"colorbar\":{\"title\":{\"text\":\"Objective Value\"}},\"colorscale\":[[0.0,\"rgb(247,251,255)\"],[0.125,\"rgb(222,235,247)\"],[0.25,\"rgb(198,219,239)\"],[0.375,\"rgb(158,202,225)\"],[0.5,\"rgb(107,174,214)\"],[0.625,\"rgb(66,146,198)\"],[0.75,\"rgb(33,113,181)\"],[0.875,\"rgb(8,81,156)\"],[1.0,\"rgb(8,48,107)\"]],\"connectgaps\":true,\"contours\":{\"coloring\":\"heatmap\"},\"hoverinfo\":\"none\",\"line\":{\"smoothing\":1.3},\"reversescale\":false,\"showscale\":false,\"x\":[9.25,10,11,12,14,15,16,17,19,20,21,22,25,25.75],\"y\":[\"best\",\"random\"],\"z\":[[null,0.7403508771929824,0.7605263157894737,null,0.781578947368421,null,0.743859649122807,null,null,0.7289473684210526,null,0.7543859649122807,null,null],[null,null,null,0.7263157894736842,null,0.7324561403508771,null,0.7517543859649122,0.7087719298245614,null,0.75,null,0.7087719298245614,null]],\"type\":\"contour\",\"xaxis\":\"x22\",\"yaxis\":\"y22\"},{\"marker\":{\"color\":\"black\",\"line\":{\"color\":\"Grey\",\"width\":2.0}},\"mode\":\"markers\",\"showlegend\":false,\"x\":[10,21,15,20,19,17,22,11,12,25,14,14,14,14,16],\"y\":[\"best\",\"random\",\"random\",\"best\",\"random\",\"random\",\"best\",\"best\",\"random\",\"random\",\"best\",\"best\",\"best\",\"best\",\"best\"],\"type\":\"scatter\",\"xaxis\":\"x22\",\"yaxis\":\"y22\"},{\"colorbar\":{\"title\":{\"text\":\"Objective Value\"}},\"colorscale\":[[0.0,\"rgb(247,251,255)\"],[0.125,\"rgb(222,235,247)\"],[0.25,\"rgb(198,219,239)\"],[0.375,\"rgb(158,202,225)\"],[0.5,\"rgb(107,174,214)\"],[0.625,\"rgb(66,146,198)\"],[0.75,\"rgb(33,113,181)\"],[0.875,\"rgb(8,81,156)\"],[1.0,\"rgb(8,48,107)\"]],\"connectgaps\":true,\"contours\":{\"coloring\":\"heatmap\"},\"hoverinfo\":\"none\",\"line\":{\"smoothing\":1.3},\"reversescale\":false,\"showscale\":false,\"x\":[0.85,1,2,3,4,4.15],\"y\":[\"entropy\",\"gini\"],\"z\":[[null,0.781578947368421,0.743859649122807,null,0.7087719298245614,null],[null,0.7517543859649122,0.7289473684210526,0.7263157894736842,null,null]],\"type\":\"contour\",\"xaxis\":\"x3\",\"yaxis\":\"y3\"},{\"marker\":{\"color\":\"black\",\"line\":{\"color\":\"Grey\",\"width\":2.0}},\"mode\":\"markers\",\"showlegend\":false,\"x\":[1,3,2,2,4,1,4,1,3,4,1,1,2,1,2],\"y\":[\"gini\",\"gini\",\"gini\",\"gini\",\"entropy\",\"gini\",\"entropy\",\"entropy\",\"gini\",\"entropy\",\"entropy\",\"entropy\",\"entropy\",\"entropy\",\"entropy\"],\"type\":\"scatter\",\"xaxis\":\"x3\",\"yaxis\":\"y3\"},{\"colorbar\":{\"title\":{\"text\":\"Objective Value\"}},\"colorscale\":[[0.0,\"rgb(247,251,255)\"],[0.125,\"rgb(222,235,247)\"],[0.25,\"rgb(198,219,239)\"],[0.375,\"rgb(158,202,225)\"],[0.5,\"rgb(107,174,214)\"],[0.625,\"rgb(66,146,198)\"],[0.75,\"rgb(33,113,181)\"],[0.875,\"rgb(8,81,156)\"],[1.0,\"rgb(8,48,107)\"]],\"connectgaps\":true,\"contours\":{\"coloring\":\"heatmap\"},\"hoverinfo\":\"none\",\"line\":{\"smoothing\":1.3},\"reversescale\":false,\"showscale\":false,\"x\":[0.85,1,2,3,4,4.15],\"y\":[9.25,10,11,12,14,15,16,17,19,20,21,22,25,25.75],\"z\":[[null,null,null,null,null,null],[null,0.7403508771929824,null,null,null,null],[null,0.7605263157894737,null,null,null,null],[null,null,null,0.7263157894736842,null,null],[null,0.781578947368421,0.7350877192982456,null,null,null],[null,null,0.7324561403508771,null,null,null],[null,null,0.743859649122807,null,null,null],[null,0.7517543859649122,null,null,null,null],[null,null,null,null,0.7087719298245614,null],[null,null,0.7289473684210526,null,null,null],[null,null,null,0.75,null,null],[null,null,null,null,0.7543859649122807,null],[null,null,null,null,0.7087719298245614,null],[null,null,null,null,null,null]],\"type\":\"contour\",\"xaxis\":\"x8\",\"yaxis\":\"y8\"},{\"marker\":{\"color\":\"black\",\"line\":{\"color\":\"Grey\",\"width\":2.0}},\"mode\":\"markers\",\"showlegend\":false,\"x\":[1,3,2,2,4,1,4,1,3,4,1,1,2,1,2],\"y\":[10,21,15,20,19,17,22,11,12,25,14,14,14,14,16],\"type\":\"scatter\",\"xaxis\":\"x8\",\"yaxis\":\"y8\"},{\"type\":\"scatter\",\"xaxis\":\"x13\",\"yaxis\":\"y13\"},{\"colorbar\":{\"title\":{\"text\":\"Objective Value\"}},\"colorscale\":[[0.0,\"rgb(247,251,255)\"],[0.125,\"rgb(222,235,247)\"],[0.25,\"rgb(198,219,239)\"],[0.375,\"rgb(158,202,225)\"],[0.5,\"rgb(107,174,214)\"],[0.625,\"rgb(66,146,198)\"],[0.75,\"rgb(33,113,181)\"],[0.875,\"rgb(8,81,156)\"],[1.0,\"rgb(8,48,107)\"]],\"connectgaps\":true,\"contours\":{\"coloring\":\"heatmap\"},\"hoverinfo\":\"none\",\"line\":{\"smoothing\":1.3},\"reversescale\":false,\"showscale\":false,\"x\":[0.85,1,2,3,4,4.15],\"y\":[1.6,2,3,4,5,6,7,8,9,10,10.4],\"z\":[[null,null,null,null,null,null],[null,null,0.7324561403508771,null,null,null],[null,null,null,null,0.7087719298245614,null],[null,null,null,0.75,0.7087719298245614,null],[null,0.781578947368421,0.743859649122807,null,null,null],[null,0.7728070175438596,0.7350877192982456,null,null,null],[null,null,0.7289473684210526,null,null,null],[null,null,null,0.7263157894736842,null,null],[null,0.7517543859649122,null,null,null,null],[null,null,null,null,0.7543859649122807,null],[null,null,null,null,null,null]],\"type\":\"contour\",\"xaxis\":\"x18\",\"yaxis\":\"y18\"},{\"marker\":{\"color\":\"black\",\"line\":{\"color\":\"Grey\",\"width\":2.0}},\"mode\":\"markers\",\"showlegend\":false,\"x\":[1,3,2,2,4,1,4,1,3,4,1,1,2,1,2],\"y\":[9,4,2,7,3,9,10,6,8,4,6,6,6,5,5],\"type\":\"scatter\",\"xaxis\":\"x18\",\"yaxis\":\"y18\"},{\"colorbar\":{\"title\":{\"text\":\"Objective Value\"}},\"colorscale\":[[0.0,\"rgb(247,251,255)\"],[0.125,\"rgb(222,235,247)\"],[0.25,\"rgb(198,219,239)\"],[0.375,\"rgb(158,202,225)\"],[0.5,\"rgb(107,174,214)\"],[0.625,\"rgb(66,146,198)\"],[0.75,\"rgb(33,113,181)\"],[0.875,\"rgb(8,81,156)\"],[1.0,\"rgb(8,48,107)\"]],\"connectgaps\":true,\"contours\":{\"coloring\":\"heatmap\"},\"hoverinfo\":\"none\",\"line\":{\"smoothing\":1.3},\"reversescale\":false,\"showscale\":false,\"x\":[0.85,1,2,3,4,4.15],\"y\":[\"best\",\"random\"],\"z\":[[null,0.781578947368421,0.743859649122807,null,0.7543859649122807,null],[null,0.7517543859649122,0.7324561403508771,0.7263157894736842,0.7087719298245614,null]],\"type\":\"contour\",\"xaxis\":\"x23\",\"yaxis\":\"y23\"},{\"marker\":{\"color\":\"black\",\"line\":{\"color\":\"Grey\",\"width\":2.0}},\"mode\":\"markers\",\"showlegend\":false,\"x\":[1,3,2,2,4,1,4,1,3,4,1,1,2,1,2],\"y\":[\"best\",\"random\",\"random\",\"best\",\"random\",\"random\",\"best\",\"best\",\"random\",\"random\",\"best\",\"best\",\"best\",\"best\",\"best\"],\"type\":\"scatter\",\"xaxis\":\"x23\",\"yaxis\":\"y23\"},{\"colorbar\":{\"title\":{\"text\":\"Objective Value\"}},\"colorscale\":[[0.0,\"rgb(247,251,255)\"],[0.125,\"rgb(222,235,247)\"],[0.25,\"rgb(198,219,239)\"],[0.375,\"rgb(158,202,225)\"],[0.5,\"rgb(107,174,214)\"],[0.625,\"rgb(66,146,198)\"],[0.75,\"rgb(33,113,181)\"],[0.875,\"rgb(8,81,156)\"],[1.0,\"rgb(8,48,107)\"]],\"connectgaps\":true,\"contours\":{\"coloring\":\"heatmap\"},\"hoverinfo\":\"none\",\"line\":{\"smoothing\":1.3},\"reversescale\":false,\"showscale\":false,\"x\":[1.6,2,3,4,5,6,7,8,9,10,10.4],\"y\":[\"entropy\",\"gini\"],\"z\":[[null,null,0.7087719298245614,0.7087719298245614,0.743859649122807,0.7350877192982456,null,null,null,0.7543859649122807,null],[null,0.7324561403508771,null,0.75,null,null,0.7289473684210526,0.7263157894736842,0.7517543859649122,null,null]],\"type\":\"contour\",\"xaxis\":\"x4\",\"yaxis\":\"y4\"},{\"marker\":{\"color\":\"black\",\"line\":{\"color\":\"Grey\",\"width\":2.0}},\"mode\":\"markers\",\"showlegend\":false,\"x\":[9,4,2,7,3,9,10,6,8,4,6,6,6,5,5],\"y\":[\"gini\",\"gini\",\"gini\",\"gini\",\"entropy\",\"gini\",\"entropy\",\"entropy\",\"gini\",\"entropy\",\"entropy\",\"entropy\",\"entropy\",\"entropy\",\"entropy\"],\"type\":\"scatter\",\"xaxis\":\"x4\",\"yaxis\":\"y4\"},{\"colorbar\":{\"title\":{\"text\":\"Objective Value\"}},\"colorscale\":[[0.0,\"rgb(247,251,255)\"],[0.125,\"rgb(222,235,247)\"],[0.25,\"rgb(198,219,239)\"],[0.375,\"rgb(158,202,225)\"],[0.5,\"rgb(107,174,214)\"],[0.625,\"rgb(66,146,198)\"],[0.75,\"rgb(33,113,181)\"],[0.875,\"rgb(8,81,156)\"],[1.0,\"rgb(8,48,107)\"]],\"connectgaps\":true,\"contours\":{\"coloring\":\"heatmap\"},\"hoverinfo\":\"none\",\"line\":{\"smoothing\":1.3},\"reversescale\":false,\"showscale\":false,\"x\":[1.6,2,3,4,5,6,7,8,9,10,10.4],\"y\":[9.25,10,11,12,14,15,16,17,19,20,21,22,25,25.75],\"z\":[[null,null,null,null,null,null,null,null,null,null,null],[null,null,null,null,null,null,null,null,0.7403508771929824,null,null],[null,null,null,null,null,0.7605263157894737,null,null,null,null,null],[null,null,null,null,null,null,null,0.7263157894736842,null,null,null],[null,null,null,null,0.781578947368421,0.7350877192982456,null,null,null,null,null],[null,0.7324561403508771,null,null,null,null,null,null,null,null,null],[null,null,null,null,0.743859649122807,null,null,null,null,null,null],[null,null,null,null,null,null,null,null,0.7517543859649122,null,null],[null,null,0.7087719298245614,null,null,null,null,null,null,null,null],[null,null,null,null,null,null,0.7289473684210526,null,null,null,null],[null,null,null,0.75,null,null,null,null,null,null,null],[null,null,null,null,null,null,null,null,null,0.7543859649122807,null],[null,null,null,0.7087719298245614,null,null,null,null,null,null,null],[null,null,null,null,null,null,null,null,null,null,null]],\"type\":\"contour\",\"xaxis\":\"x9\",\"yaxis\":\"y9\"},{\"marker\":{\"color\":\"black\",\"line\":{\"color\":\"Grey\",\"width\":2.0}},\"mode\":\"markers\",\"showlegend\":false,\"x\":[9,4,2,7,3,9,10,6,8,4,6,6,6,5,5],\"y\":[10,21,15,20,19,17,22,11,12,25,14,14,14,14,16],\"type\":\"scatter\",\"xaxis\":\"x9\",\"yaxis\":\"y9\"},{\"colorbar\":{\"title\":{\"text\":\"Objective Value\"}},\"colorscale\":[[0.0,\"rgb(247,251,255)\"],[0.125,\"rgb(222,235,247)\"],[0.25,\"rgb(198,219,239)\"],[0.375,\"rgb(158,202,225)\"],[0.5,\"rgb(107,174,214)\"],[0.625,\"rgb(66,146,198)\"],[0.75,\"rgb(33,113,181)\"],[0.875,\"rgb(8,81,156)\"],[1.0,\"rgb(8,48,107)\"]],\"connectgaps\":true,\"contours\":{\"coloring\":\"heatmap\"},\"hoverinfo\":\"none\",\"line\":{\"smoothing\":1.3},\"reversescale\":false,\"showscale\":false,\"x\":[1.6,2,3,4,5,6,7,8,9,10,10.4],\"y\":[0.85,1,2,3,4,4.15],\"z\":[[null,null,null,null,null,null,null,null,null,null,null],[null,null,null,null,0.781578947368421,0.7728070175438596,null,null,0.7517543859649122,null,null],[null,0.7324561403508771,null,null,0.743859649122807,0.7350877192982456,0.7289473684210526,null,null,null,null],[null,null,null,0.75,null,null,null,0.7263157894736842,null,null,null],[null,null,0.7087719298245614,0.7087719298245614,null,null,null,null,null,0.7543859649122807,null],[null,null,null,null,null,null,null,null,null,null,null]],\"type\":\"contour\",\"xaxis\":\"x14\",\"yaxis\":\"y14\"},{\"marker\":{\"color\":\"black\",\"line\":{\"color\":\"Grey\",\"width\":2.0}},\"mode\":\"markers\",\"showlegend\":false,\"x\":[9,4,2,7,3,9,10,6,8,4,6,6,6,5,5],\"y\":[1,3,2,2,4,1,4,1,3,4,1,1,2,1,2],\"type\":\"scatter\",\"xaxis\":\"x14\",\"yaxis\":\"y14\"},{\"type\":\"scatter\",\"xaxis\":\"x19\",\"yaxis\":\"y19\"},{\"colorbar\":{\"title\":{\"text\":\"Objective Value\"}},\"colorscale\":[[0.0,\"rgb(247,251,255)\"],[0.125,\"rgb(222,235,247)\"],[0.25,\"rgb(198,219,239)\"],[0.375,\"rgb(158,202,225)\"],[0.5,\"rgb(107,174,214)\"],[0.625,\"rgb(66,146,198)\"],[0.75,\"rgb(33,113,181)\"],[0.875,\"rgb(8,81,156)\"],[1.0,\"rgb(8,48,107)\"]],\"connectgaps\":true,\"contours\":{\"coloring\":\"heatmap\"},\"hoverinfo\":\"none\",\"line\":{\"smoothing\":1.3},\"reversescale\":false,\"showscale\":false,\"x\":[1.6,2,3,4,5,6,7,8,9,10,10.4],\"y\":[\"best\",\"random\"],\"z\":[[null,null,null,null,0.743859649122807,0.7350877192982456,0.7289473684210526,null,0.7403508771929824,0.7543859649122807,null],[null,0.7324561403508771,0.7087719298245614,0.7087719298245614,null,null,null,0.7263157894736842,0.7517543859649122,null,null]],\"type\":\"contour\",\"xaxis\":\"x24\",\"yaxis\":\"y24\"},{\"marker\":{\"color\":\"black\",\"line\":{\"color\":\"Grey\",\"width\":2.0}},\"mode\":\"markers\",\"showlegend\":false,\"x\":[9,4,2,7,3,9,10,6,8,4,6,6,6,5,5],\"y\":[\"best\",\"random\",\"random\",\"best\",\"random\",\"random\",\"best\",\"best\",\"random\",\"random\",\"best\",\"best\",\"best\",\"best\",\"best\"],\"type\":\"scatter\",\"xaxis\":\"x24\",\"yaxis\":\"y24\"},{\"colorbar\":{\"title\":{\"text\":\"Objective Value\"}},\"colorscale\":[[0.0,\"rgb(247,251,255)\"],[0.125,\"rgb(222,235,247)\"],[0.25,\"rgb(198,219,239)\"],[0.375,\"rgb(158,202,225)\"],[0.5,\"rgb(107,174,214)\"],[0.625,\"rgb(66,146,198)\"],[0.75,\"rgb(33,113,181)\"],[0.875,\"rgb(8,81,156)\"],[1.0,\"rgb(8,48,107)\"]],\"connectgaps\":true,\"contours\":{\"coloring\":\"heatmap\"},\"hoverinfo\":\"none\",\"line\":{\"smoothing\":1.3},\"reversescale\":false,\"showscale\":false,\"x\":[\"best\",\"random\"],\"y\":[\"entropy\",\"gini\"],\"z\":[[0.743859649122807,0.7087719298245614],[0.7289473684210526,0.7263157894736842]],\"type\":\"contour\",\"xaxis\":\"x5\",\"yaxis\":\"y5\"},{\"marker\":{\"color\":\"black\",\"line\":{\"color\":\"Grey\",\"width\":2.0}},\"mode\":\"markers\",\"showlegend\":false,\"x\":[\"best\",\"random\",\"random\",\"best\",\"random\",\"random\",\"best\",\"best\",\"random\",\"random\",\"best\",\"best\",\"best\",\"best\",\"best\"],\"y\":[\"gini\",\"gini\",\"gini\",\"gini\",\"entropy\",\"gini\",\"entropy\",\"entropy\",\"gini\",\"entropy\",\"entropy\",\"entropy\",\"entropy\",\"entropy\",\"entropy\"],\"type\":\"scatter\",\"xaxis\":\"x5\",\"yaxis\":\"y5\"},{\"colorbar\":{\"title\":{\"text\":\"Objective Value\"}},\"colorscale\":[[0.0,\"rgb(247,251,255)\"],[0.125,\"rgb(222,235,247)\"],[0.25,\"rgb(198,219,239)\"],[0.375,\"rgb(158,202,225)\"],[0.5,\"rgb(107,174,214)\"],[0.625,\"rgb(66,146,198)\"],[0.75,\"rgb(33,113,181)\"],[0.875,\"rgb(8,81,156)\"],[1.0,\"rgb(8,48,107)\"]],\"connectgaps\":true,\"contours\":{\"coloring\":\"heatmap\"},\"hoverinfo\":\"none\",\"line\":{\"smoothing\":1.3},\"reversescale\":false,\"showscale\":false,\"x\":[\"best\",\"random\"],\"y\":[9.25,10,11,12,14,15,16,17,19,20,21,22,25,25.75],\"z\":[[null,null],[0.7403508771929824,null],[0.7605263157894737,null],[null,0.7263157894736842],[0.781578947368421,null],[null,0.7324561403508771],[0.743859649122807,null],[null,0.7517543859649122],[null,0.7087719298245614],[0.7289473684210526,null],[null,0.75],[0.7543859649122807,null],[null,0.7087719298245614],[null,null]],\"type\":\"contour\",\"xaxis\":\"x10\",\"yaxis\":\"y10\"},{\"marker\":{\"color\":\"black\",\"line\":{\"color\":\"Grey\",\"width\":2.0}},\"mode\":\"markers\",\"showlegend\":false,\"x\":[\"best\",\"random\",\"random\",\"best\",\"random\",\"random\",\"best\",\"best\",\"random\",\"random\",\"best\",\"best\",\"best\",\"best\",\"best\"],\"y\":[10,21,15,20,19,17,22,11,12,25,14,14,14,14,16],\"type\":\"scatter\",\"xaxis\":\"x10\",\"yaxis\":\"y10\"},{\"colorbar\":{\"title\":{\"text\":\"Objective Value\"}},\"colorscale\":[[0.0,\"rgb(247,251,255)\"],[0.125,\"rgb(222,235,247)\"],[0.25,\"rgb(198,219,239)\"],[0.375,\"rgb(158,202,225)\"],[0.5,\"rgb(107,174,214)\"],[0.625,\"rgb(66,146,198)\"],[0.75,\"rgb(33,113,181)\"],[0.875,\"rgb(8,81,156)\"],[1.0,\"rgb(8,48,107)\"]],\"connectgaps\":true,\"contours\":{\"coloring\":\"heatmap\"},\"hoverinfo\":\"none\",\"line\":{\"smoothing\":1.3},\"reversescale\":false,\"showscale\":false,\"x\":[\"best\",\"random\"],\"y\":[0.85,1,2,3,4,4.15],\"z\":[[null,null],[0.781578947368421,0.7517543859649122],[0.743859649122807,0.7324561403508771],[null,0.7263157894736842],[0.7543859649122807,0.7087719298245614],[null,null]],\"type\":\"contour\",\"xaxis\":\"x15\",\"yaxis\":\"y15\"},{\"marker\":{\"color\":\"black\",\"line\":{\"color\":\"Grey\",\"width\":2.0}},\"mode\":\"markers\",\"showlegend\":false,\"x\":[\"best\",\"random\",\"random\",\"best\",\"random\",\"random\",\"best\",\"best\",\"random\",\"random\",\"best\",\"best\",\"best\",\"best\",\"best\"],\"y\":[1,3,2,2,4,1,4,1,3,4,1,1,2,1,2],\"type\":\"scatter\",\"xaxis\":\"x15\",\"yaxis\":\"y15\"},{\"colorbar\":{\"title\":{\"text\":\"Objective Value\"}},\"colorscale\":[[0.0,\"rgb(247,251,255)\"],[0.125,\"rgb(222,235,247)\"],[0.25,\"rgb(198,219,239)\"],[0.375,\"rgb(158,202,225)\"],[0.5,\"rgb(107,174,214)\"],[0.625,\"rgb(66,146,198)\"],[0.75,\"rgb(33,113,181)\"],[0.875,\"rgb(8,81,156)\"],[1.0,\"rgb(8,48,107)\"]],\"connectgaps\":true,\"contours\":{\"coloring\":\"heatmap\"},\"hoverinfo\":\"none\",\"line\":{\"smoothing\":1.3},\"reversescale\":false,\"showscale\":false,\"x\":[\"best\",\"random\"],\"y\":[1.6,2,3,4,5,6,7,8,9,10,10.4],\"z\":[[null,null],[null,0.7324561403508771],[null,0.7087719298245614],[null,0.7087719298245614],[0.743859649122807,null],[0.7350877192982456,null],[0.7289473684210526,null],[null,0.7263157894736842],[0.7403508771929824,0.7517543859649122],[0.7543859649122807,null],[null,null]],\"type\":\"contour\",\"xaxis\":\"x20\",\"yaxis\":\"y20\"},{\"marker\":{\"color\":\"black\",\"line\":{\"color\":\"Grey\",\"width\":2.0}},\"mode\":\"markers\",\"showlegend\":false,\"x\":[\"best\",\"random\",\"random\",\"best\",\"random\",\"random\",\"best\",\"best\",\"random\",\"random\",\"best\",\"best\",\"best\",\"best\",\"best\"],\"y\":[9,4,2,7,3,9,10,6,8,4,6,6,6,5,5],\"type\":\"scatter\",\"xaxis\":\"x20\",\"yaxis\":\"y20\"},{\"type\":\"scatter\",\"xaxis\":\"x25\",\"yaxis\":\"y25\"}],                        {\"template\":{\"data\":{\"bar\":[{\"error_x\":{\"color\":\"#2a3f5f\"},\"error_y\":{\"color\":\"#2a3f5f\"},\"marker\":{\"line\":{\"color\":\"#E5ECF6\",\"width\":0.5},\"pattern\":{\"fillmode\":\"overlay\",\"size\":10,\"solidity\":0.2}},\"type\":\"bar\"}],\"barpolar\":[{\"marker\":{\"line\":{\"color\":\"#E5ECF6\",\"width\":0.5},\"pattern\":{\"fillmode\":\"overlay\",\"size\":10,\"solidity\":0.2}},\"type\":\"barpolar\"}],\"carpet\":[{\"aaxis\":{\"endlinecolor\":\"#2a3f5f\",\"gridcolor\":\"white\",\"linecolor\":\"white\",\"minorgridcolor\":\"white\",\"startlinecolor\":\"#2a3f5f\"},\"baxis\":{\"endlinecolor\":\"#2a3f5f\",\"gridcolor\":\"white\",\"linecolor\":\"white\",\"minorgridcolor\":\"white\",\"startlinecolor\":\"#2a3f5f\"},\"type\":\"carpet\"}],\"choropleth\":[{\"colorbar\":{\"outlinewidth\":0,\"ticks\":\"\"},\"type\":\"choropleth\"}],\"contour\":[{\"colorbar\":{\"outlinewidth\":0,\"ticks\":\"\"},\"colorscale\":[[0.0,\"#0d0887\"],[0.1111111111111111,\"#46039f\"],[0.2222222222222222,\"#7201a8\"],[0.3333333333333333,\"#9c179e\"],[0.4444444444444444,\"#bd3786\"],[0.5555555555555556,\"#d8576b\"],[0.6666666666666666,\"#ed7953\"],[0.7777777777777778,\"#fb9f3a\"],[0.8888888888888888,\"#fdca26\"],[1.0,\"#f0f921\"]],\"type\":\"contour\"}],\"contourcarpet\":[{\"colorbar\":{\"outlinewidth\":0,\"ticks\":\"\"},\"type\":\"contourcarpet\"}],\"heatmap\":[{\"colorbar\":{\"outlinewidth\":0,\"ticks\":\"\"},\"colorscale\":[[0.0,\"#0d0887\"],[0.1111111111111111,\"#46039f\"],[0.2222222222222222,\"#7201a8\"],[0.3333333333333333,\"#9c179e\"],[0.4444444444444444,\"#bd3786\"],[0.5555555555555556,\"#d8576b\"],[0.6666666666666666,\"#ed7953\"],[0.7777777777777778,\"#fb9f3a\"],[0.8888888888888888,\"#fdca26\"],[1.0,\"#f0f921\"]],\"type\":\"heatmap\"}],\"heatmapgl\":[{\"colorbar\":{\"outlinewidth\":0,\"ticks\":\"\"},\"colorscale\":[[0.0,\"#0d0887\"],[0.1111111111111111,\"#46039f\"],[0.2222222222222222,\"#7201a8\"],[0.3333333333333333,\"#9c179e\"],[0.4444444444444444,\"#bd3786\"],[0.5555555555555556,\"#d8576b\"],[0.6666666666666666,\"#ed7953\"],[0.7777777777777778,\"#fb9f3a\"],[0.8888888888888888,\"#fdca26\"],[1.0,\"#f0f921\"]],\"type\":\"heatmapgl\"}],\"histogram\":[{\"marker\":{\"pattern\":{\"fillmode\":\"overlay\",\"size\":10,\"solidity\":0.2}},\"type\":\"histogram\"}],\"histogram2d\":[{\"colorbar\":{\"outlinewidth\":0,\"ticks\":\"\"},\"colorscale\":[[0.0,\"#0d0887\"],[0.1111111111111111,\"#46039f\"],[0.2222222222222222,\"#7201a8\"],[0.3333333333333333,\"#9c179e\"],[0.4444444444444444,\"#bd3786\"],[0.5555555555555556,\"#d8576b\"],[0.6666666666666666,\"#ed7953\"],[0.7777777777777778,\"#fb9f3a\"],[0.8888888888888888,\"#fdca26\"],[1.0,\"#f0f921\"]],\"type\":\"histogram2d\"}],\"histogram2dcontour\":[{\"colorbar\":{\"outlinewidth\":0,\"ticks\":\"\"},\"colorscale\":[[0.0,\"#0d0887\"],[0.1111111111111111,\"#46039f\"],[0.2222222222222222,\"#7201a8\"],[0.3333333333333333,\"#9c179e\"],[0.4444444444444444,\"#bd3786\"],[0.5555555555555556,\"#d8576b\"],[0.6666666666666666,\"#ed7953\"],[0.7777777777777778,\"#fb9f3a\"],[0.8888888888888888,\"#fdca26\"],[1.0,\"#f0f921\"]],\"type\":\"histogram2dcontour\"}],\"mesh3d\":[{\"colorbar\":{\"outlinewidth\":0,\"ticks\":\"\"},\"type\":\"mesh3d\"}],\"parcoords\":[{\"line\":{\"colorbar\":{\"outlinewidth\":0,\"ticks\":\"\"}},\"type\":\"parcoords\"}],\"pie\":[{\"automargin\":true,\"type\":\"pie\"}],\"scatter\":[{\"marker\":{\"colorbar\":{\"outlinewidth\":0,\"ticks\":\"\"}},\"type\":\"scatter\"}],\"scatter3d\":[{\"line\":{\"colorbar\":{\"outlinewidth\":0,\"ticks\":\"\"}},\"marker\":{\"colorbar\":{\"outlinewidth\":0,\"ticks\":\"\"}},\"type\":\"scatter3d\"}],\"scattercarpet\":[{\"marker\":{\"colorbar\":{\"outlinewidth\":0,\"ticks\":\"\"}},\"type\":\"scattercarpet\"}],\"scattergeo\":[{\"marker\":{\"colorbar\":{\"outlinewidth\":0,\"ticks\":\"\"}},\"type\":\"scattergeo\"}],\"scattergl\":[{\"marker\":{\"colorbar\":{\"outlinewidth\":0,\"ticks\":\"\"}},\"type\":\"scattergl\"}],\"scattermapbox\":[{\"marker\":{\"colorbar\":{\"outlinewidth\":0,\"ticks\":\"\"}},\"type\":\"scattermapbox\"}],\"scatterpolar\":[{\"marker\":{\"colorbar\":{\"outlinewidth\":0,\"ticks\":\"\"}},\"type\":\"scatterpolar\"}],\"scatterpolargl\":[{\"marker\":{\"colorbar\":{\"outlinewidth\":0,\"ticks\":\"\"}},\"type\":\"scatterpolargl\"}],\"scatterternary\":[{\"marker\":{\"colorbar\":{\"outlinewidth\":0,\"ticks\":\"\"}},\"type\":\"scatterternary\"}],\"surface\":[{\"colorbar\":{\"outlinewidth\":0,\"ticks\":\"\"},\"colorscale\":[[0.0,\"#0d0887\"],[0.1111111111111111,\"#46039f\"],[0.2222222222222222,\"#7201a8\"],[0.3333333333333333,\"#9c179e\"],[0.4444444444444444,\"#bd3786\"],[0.5555555555555556,\"#d8576b\"],[0.6666666666666666,\"#ed7953\"],[0.7777777777777778,\"#fb9f3a\"],[0.8888888888888888,\"#fdca26\"],[1.0,\"#f0f921\"]],\"type\":\"surface\"}],\"table\":[{\"cells\":{\"fill\":{\"color\":\"#EBF0F8\"},\"line\":{\"color\":\"white\"}},\"header\":{\"fill\":{\"color\":\"#C8D4E3\"},\"line\":{\"color\":\"white\"}},\"type\":\"table\"}]},\"layout\":{\"annotationdefaults\":{\"arrowcolor\":\"#2a3f5f\",\"arrowhead\":0,\"arrowwidth\":1},\"autotypenumbers\":\"strict\",\"coloraxis\":{\"colorbar\":{\"outlinewidth\":0,\"ticks\":\"\"}},\"colorscale\":{\"diverging\":[[0,\"#8e0152\"],[0.1,\"#c51b7d\"],[0.2,\"#de77ae\"],[0.3,\"#f1b6da\"],[0.4,\"#fde0ef\"],[0.5,\"#f7f7f7\"],[0.6,\"#e6f5d0\"],[0.7,\"#b8e186\"],[0.8,\"#7fbc41\"],[0.9,\"#4d9221\"],[1,\"#276419\"]],\"sequential\":[[0.0,\"#0d0887\"],[0.1111111111111111,\"#46039f\"],[0.2222222222222222,\"#7201a8\"],[0.3333333333333333,\"#9c179e\"],[0.4444444444444444,\"#bd3786\"],[0.5555555555555556,\"#d8576b\"],[0.6666666666666666,\"#ed7953\"],[0.7777777777777778,\"#fb9f3a\"],[0.8888888888888888,\"#fdca26\"],[1.0,\"#f0f921\"]],\"sequentialminus\":[[0.0,\"#0d0887\"],[0.1111111111111111,\"#46039f\"],[0.2222222222222222,\"#7201a8\"],[0.3333333333333333,\"#9c179e\"],[0.4444444444444444,\"#bd3786\"],[0.5555555555555556,\"#d8576b\"],[0.6666666666666666,\"#ed7953\"],[0.7777777777777778,\"#fb9f3a\"],[0.8888888888888888,\"#fdca26\"],[1.0,\"#f0f921\"]]},\"colorway\":[\"#636efa\",\"#EF553B\",\"#00cc96\",\"#ab63fa\",\"#FFA15A\",\"#19d3f3\",\"#FF6692\",\"#B6E880\",\"#FF97FF\",\"#FECB52\"],\"font\":{\"color\":\"#2a3f5f\"},\"geo\":{\"bgcolor\":\"white\",\"lakecolor\":\"white\",\"landcolor\":\"#E5ECF6\",\"showlakes\":true,\"showland\":true,\"subunitcolor\":\"white\"},\"hoverlabel\":{\"align\":\"left\"},\"hovermode\":\"closest\",\"mapbox\":{\"style\":\"light\"},\"paper_bgcolor\":\"white\",\"plot_bgcolor\":\"#E5ECF6\",\"polar\":{\"angularaxis\":{\"gridcolor\":\"white\",\"linecolor\":\"white\",\"ticks\":\"\"},\"bgcolor\":\"#E5ECF6\",\"radialaxis\":{\"gridcolor\":\"white\",\"linecolor\":\"white\",\"ticks\":\"\"}},\"scene\":{\"xaxis\":{\"backgroundcolor\":\"#E5ECF6\",\"gridcolor\":\"white\",\"gridwidth\":2,\"linecolor\":\"white\",\"showbackground\":true,\"ticks\":\"\",\"zerolinecolor\":\"white\"},\"yaxis\":{\"backgroundcolor\":\"#E5ECF6\",\"gridcolor\":\"white\",\"gridwidth\":2,\"linecolor\":\"white\",\"showbackground\":true,\"ticks\":\"\",\"zerolinecolor\":\"white\"},\"zaxis\":{\"backgroundcolor\":\"#E5ECF6\",\"gridcolor\":\"white\",\"gridwidth\":2,\"linecolor\":\"white\",\"showbackground\":true,\"ticks\":\"\",\"zerolinecolor\":\"white\"}},\"shapedefaults\":{\"line\":{\"color\":\"#2a3f5f\"}},\"ternary\":{\"aaxis\":{\"gridcolor\":\"white\",\"linecolor\":\"white\",\"ticks\":\"\"},\"baxis\":{\"gridcolor\":\"white\",\"linecolor\":\"white\",\"ticks\":\"\"},\"bgcolor\":\"#E5ECF6\",\"caxis\":{\"gridcolor\":\"white\",\"linecolor\":\"white\",\"ticks\":\"\"}},\"title\":{\"x\":0.05},\"xaxis\":{\"automargin\":true,\"gridcolor\":\"white\",\"linecolor\":\"white\",\"ticks\":\"\",\"title\":{\"standoff\":15},\"zerolinecolor\":\"white\",\"zerolinewidth\":2},\"yaxis\":{\"automargin\":true,\"gridcolor\":\"white\",\"linecolor\":\"white\",\"ticks\":\"\",\"title\":{\"standoff\":15},\"zerolinecolor\":\"white\",\"zerolinewidth\":2}}},\"xaxis\":{\"anchor\":\"y\",\"domain\":[0.0,0.16799999999999998],\"matches\":\"x21\",\"showticklabels\":false,\"range\":[-0.05,1.05],\"type\":\"category\"},\"yaxis\":{\"anchor\":\"x\",\"domain\":[0.848,1.0],\"range\":[-0.05,1.05],\"type\":\"category\",\"title\":{\"text\":\"criterion\"}},\"xaxis2\":{\"anchor\":\"y2\",\"domain\":[0.208,0.376],\"matches\":\"x22\",\"showticklabels\":false,\"range\":[9.25,25.75]},\"yaxis2\":{\"anchor\":\"x2\",\"domain\":[0.848,1.0],\"matches\":\"y\",\"showticklabels\":false,\"range\":[-0.05,1.05],\"type\":\"category\"},\"xaxis3\":{\"anchor\":\"y3\",\"domain\":[0.416,0.584],\"matches\":\"x23\",\"showticklabels\":false,\"range\":[0.85,4.15]},\"yaxis3\":{\"anchor\":\"x3\",\"domain\":[0.848,1.0],\"matches\":\"y\",\"showticklabels\":false,\"range\":[-0.05,1.05],\"type\":\"category\"},\"xaxis4\":{\"anchor\":\"y4\",\"domain\":[0.624,0.792],\"matches\":\"x24\",\"showticklabels\":false,\"range\":[1.6,10.4]},\"yaxis4\":{\"anchor\":\"x4\",\"domain\":[0.848,1.0],\"matches\":\"y\",\"showticklabels\":false,\"range\":[-0.05,1.05],\"type\":\"category\"},\"xaxis5\":{\"anchor\":\"y5\",\"domain\":[0.832,1.0],\"matches\":\"x25\",\"showticklabels\":false,\"range\":[-0.05,1.05],\"type\":\"category\"},\"yaxis5\":{\"anchor\":\"x5\",\"domain\":[0.848,1.0],\"matches\":\"y\",\"showticklabels\":false,\"range\":[-0.05,1.05],\"type\":\"category\"},\"xaxis6\":{\"anchor\":\"y6\",\"domain\":[0.0,0.16799999999999998],\"matches\":\"x21\",\"showticklabels\":false,\"range\":[-0.05,1.05],\"type\":\"category\"},\"yaxis6\":{\"anchor\":\"x6\",\"domain\":[0.6359999999999999,0.7879999999999999],\"range\":[9.25,25.75],\"title\":{\"text\":\"max_depth\"}},\"xaxis7\":{\"anchor\":\"y7\",\"domain\":[0.208,0.376],\"matches\":\"x22\",\"showticklabels\":false,\"range\":[9.25,25.75]},\"yaxis7\":{\"anchor\":\"x7\",\"domain\":[0.6359999999999999,0.7879999999999999],\"matches\":\"y6\",\"showticklabels\":false,\"range\":[9.25,25.75]},\"xaxis8\":{\"anchor\":\"y8\",\"domain\":[0.416,0.584],\"matches\":\"x23\",\"showticklabels\":false,\"range\":[0.85,4.15]},\"yaxis8\":{\"anchor\":\"x8\",\"domain\":[0.6359999999999999,0.7879999999999999],\"matches\":\"y6\",\"showticklabels\":false,\"range\":[9.25,25.75]},\"xaxis9\":{\"anchor\":\"y9\",\"domain\":[0.624,0.792],\"matches\":\"x24\",\"showticklabels\":false,\"range\":[1.6,10.4]},\"yaxis9\":{\"anchor\":\"x9\",\"domain\":[0.6359999999999999,0.7879999999999999],\"matches\":\"y6\",\"showticklabels\":false,\"range\":[9.25,25.75]},\"xaxis10\":{\"anchor\":\"y10\",\"domain\":[0.832,1.0],\"matches\":\"x25\",\"showticklabels\":false,\"range\":[-0.05,1.05],\"type\":\"category\"},\"yaxis10\":{\"anchor\":\"x10\",\"domain\":[0.6359999999999999,0.7879999999999999],\"matches\":\"y6\",\"showticklabels\":false,\"range\":[9.25,25.75]},\"xaxis11\":{\"anchor\":\"y11\",\"domain\":[0.0,0.16799999999999998],\"matches\":\"x21\",\"showticklabels\":false,\"range\":[-0.05,1.05],\"type\":\"category\"},\"yaxis11\":{\"anchor\":\"x11\",\"domain\":[0.424,0.576],\"range\":[0.85,4.15],\"title\":{\"text\":\"min_samples_leaf\"}},\"xaxis12\":{\"anchor\":\"y12\",\"domain\":[0.208,0.376],\"matches\":\"x22\",\"showticklabels\":false,\"range\":[9.25,25.75]},\"yaxis12\":{\"anchor\":\"x12\",\"domain\":[0.424,0.576],\"matches\":\"y11\",\"showticklabels\":false,\"range\":[0.85,4.15]},\"xaxis13\":{\"anchor\":\"y13\",\"domain\":[0.416,0.584],\"matches\":\"x23\",\"showticklabels\":false,\"range\":[0.85,4.15]},\"yaxis13\":{\"anchor\":\"x13\",\"domain\":[0.424,0.576],\"matches\":\"y11\",\"showticklabels\":false,\"range\":[0.85,4.15]},\"xaxis14\":{\"anchor\":\"y14\",\"domain\":[0.624,0.792],\"matches\":\"x24\",\"showticklabels\":false,\"range\":[1.6,10.4]},\"yaxis14\":{\"anchor\":\"x14\",\"domain\":[0.424,0.576],\"matches\":\"y11\",\"showticklabels\":false,\"range\":[0.85,4.15]},\"xaxis15\":{\"anchor\":\"y15\",\"domain\":[0.832,1.0],\"matches\":\"x25\",\"showticklabels\":false,\"range\":[-0.05,1.05],\"type\":\"category\"},\"yaxis15\":{\"anchor\":\"x15\",\"domain\":[0.424,0.576],\"matches\":\"y11\",\"showticklabels\":false,\"range\":[0.85,4.15]},\"xaxis16\":{\"anchor\":\"y16\",\"domain\":[0.0,0.16799999999999998],\"matches\":\"x21\",\"showticklabels\":false,\"range\":[-0.05,1.05],\"type\":\"category\"},\"yaxis16\":{\"anchor\":\"x16\",\"domain\":[0.212,0.364],\"range\":[1.6,10.4],\"title\":{\"text\":\"min_samples_split\"}},\"xaxis17\":{\"anchor\":\"y17\",\"domain\":[0.208,0.376],\"matches\":\"x22\",\"showticklabels\":false,\"range\":[9.25,25.75]},\"yaxis17\":{\"anchor\":\"x17\",\"domain\":[0.212,0.364],\"matches\":\"y16\",\"showticklabels\":false,\"range\":[1.6,10.4]},\"xaxis18\":{\"anchor\":\"y18\",\"domain\":[0.416,0.584],\"matches\":\"x23\",\"showticklabels\":false,\"range\":[0.85,4.15]},\"yaxis18\":{\"anchor\":\"x18\",\"domain\":[0.212,0.364],\"matches\":\"y16\",\"showticklabels\":false,\"range\":[1.6,10.4]},\"xaxis19\":{\"anchor\":\"y19\",\"domain\":[0.624,0.792],\"matches\":\"x24\",\"showticklabels\":false,\"range\":[1.6,10.4]},\"yaxis19\":{\"anchor\":\"x19\",\"domain\":[0.212,0.364],\"matches\":\"y16\",\"showticklabels\":false,\"range\":[1.6,10.4]},\"xaxis20\":{\"anchor\":\"y20\",\"domain\":[0.832,1.0],\"matches\":\"x25\",\"showticklabels\":false,\"range\":[-0.05,1.05],\"type\":\"category\"},\"yaxis20\":{\"anchor\":\"x20\",\"domain\":[0.212,0.364],\"matches\":\"y16\",\"showticklabels\":false,\"range\":[1.6,10.4]},\"xaxis21\":{\"anchor\":\"y21\",\"domain\":[0.0,0.16799999999999998],\"range\":[-0.05,1.05],\"type\":\"category\",\"title\":{\"text\":\"criterion\"}},\"yaxis21\":{\"anchor\":\"x21\",\"domain\":[0.0,0.152],\"range\":[-0.05,1.05],\"type\":\"category\",\"title\":{\"text\":\"splitter\"}},\"xaxis22\":{\"anchor\":\"y22\",\"domain\":[0.208,0.376],\"range\":[9.25,25.75],\"title\":{\"text\":\"max_depth\"}},\"yaxis22\":{\"anchor\":\"x22\",\"domain\":[0.0,0.152],\"matches\":\"y21\",\"showticklabels\":false,\"range\":[-0.05,1.05],\"type\":\"category\"},\"xaxis23\":{\"anchor\":\"y23\",\"domain\":[0.416,0.584],\"range\":[0.85,4.15],\"title\":{\"text\":\"min_samples_leaf\"}},\"yaxis23\":{\"anchor\":\"x23\",\"domain\":[0.0,0.152],\"matches\":\"y21\",\"showticklabels\":false,\"range\":[-0.05,1.05],\"type\":\"category\"},\"xaxis24\":{\"anchor\":\"y24\",\"domain\":[0.624,0.792],\"range\":[1.6,10.4],\"title\":{\"text\":\"min_samples_split\"}},\"yaxis24\":{\"anchor\":\"x24\",\"domain\":[0.0,0.152],\"matches\":\"y21\",\"showticklabels\":false,\"range\":[-0.05,1.05],\"type\":\"category\"},\"xaxis25\":{\"anchor\":\"y25\",\"domain\":[0.832,1.0],\"range\":[-0.05,1.05],\"type\":\"category\",\"title\":{\"text\":\"splitter\"}},\"yaxis25\":{\"anchor\":\"x25\",\"domain\":[0.0,0.152],\"matches\":\"y21\",\"showticklabels\":false,\"range\":[-0.05,1.05],\"type\":\"category\"},\"title\":{\"text\":\"Contour Plot\"}},                        {\"responsive\": true}                    ).then(function(){\n",
              "                            \n",
              "var gd = document.getElementById('69645f6b-81df-4611-81d3-3d36dc661105');\n",
              "var x = new MutationObserver(function (mutations, observer) {{\n",
              "        var display = window.getComputedStyle(gd).display;\n",
              "        if (!display || display === 'none') {{\n",
              "            console.log([gd, 'removed!']);\n",
              "            Plotly.purge(gd);\n",
              "            observer.disconnect();\n",
              "        }}\n",
              "}});\n",
              "\n",
              "// Listen for the removal of the full notebook cells\n",
              "var notebookContainer = gd.closest('#notebook-container');\n",
              "if (notebookContainer) {{\n",
              "    x.observe(notebookContainer, {childList: true});\n",
              "}}\n",
              "\n",
              "// Listen for the clearing of the current output cell\n",
              "var outputEl = gd.closest('.output');\n",
              "if (outputEl) {{\n",
              "    x.observe(outputEl, {childList: true});\n",
              "}}\n",
              "\n",
              "                        })                };                            </script>        </div>\n",
              "</body>\n",
              "</html>"
            ]
          },
          "metadata": {}
        }
      ],
      "source": [
        "plot_contour(study)"
      ],
      "id": "qViXCcMG2S1-"
    },
    {
      "cell_type": "code",
      "execution_count": 86,
      "metadata": {
        "colab": {
          "base_uri": "https://localhost:8080/",
          "height": 542
        },
        "id": "XfuziZ8Hx8lA",
        "outputId": "217949c0-66f5-4918-d01a-0855e9ad0bfe"
      },
      "outputs": [
        {
          "output_type": "display_data",
          "data": {
            "text/html": [
              "<html>\n",
              "<head><meta charset=\"utf-8\" /></head>\n",
              "<body>\n",
              "    <div>            <script src=\"https://cdnjs.cloudflare.com/ajax/libs/mathjax/2.7.5/MathJax.js?config=TeX-AMS-MML_SVG\"></script><script type=\"text/javascript\">if (window.MathJax) {MathJax.Hub.Config({SVG: {font: \"STIX-Web\"}});}</script>                <script type=\"text/javascript\">window.PlotlyConfig = {MathJaxConfig: 'local'};</script>\n",
              "        <script src=\"https://cdn.plot.ly/plotly-2.8.3.min.js\"></script>                <div id=\"1c5b5c6f-bb5d-4316-a4c9-a170fcec75e3\" class=\"plotly-graph-div\" style=\"height:525px; width:100%;\"></div>            <script type=\"text/javascript\">                                    window.PLOTLYENV=window.PLOTLYENV || {};                                    if (document.getElementById(\"1c5b5c6f-bb5d-4316-a4c9-a170fcec75e3\")) {                    Plotly.newPlot(                        \"1c5b5c6f-bb5d-4316-a4c9-a170fcec75e3\",                        [{\"mode\":\"markers\",\"name\":\"Objective Value\",\"x\":[0,1,2,3,4,5,6,7,8,9,10,11,12,13,14],\"y\":[0.7403508771929824,0.75,0.7324561403508771,0.7289473684210526,0.7087719298245614,0.7517543859649122,0.7543859649122807,0.7605263157894737,0.7263157894736842,0.7087719298245614,0.7728070175438596,0.7728070175438596,0.7350877192982456,0.781578947368421,0.743859649122807],\"type\":\"scatter\"},{\"name\":\"Best Value\",\"x\":[0,1,2,3,4,5,6,7,8,9,10,11,12,13,14],\"y\":[0.7403508771929824,0.75,0.75,0.75,0.75,0.7517543859649122,0.7543859649122807,0.7605263157894737,0.7605263157894737,0.7605263157894737,0.7728070175438596,0.7728070175438596,0.7728070175438596,0.781578947368421,0.781578947368421],\"type\":\"scatter\"}],                        {\"title\":{\"text\":\"Optimization History Plot\"},\"xaxis\":{\"title\":{\"text\":\"Trial\"}},\"yaxis\":{\"title\":{\"text\":\"Objective Value\"}},\"template\":{\"data\":{\"bar\":[{\"error_x\":{\"color\":\"#2a3f5f\"},\"error_y\":{\"color\":\"#2a3f5f\"},\"marker\":{\"line\":{\"color\":\"#E5ECF6\",\"width\":0.5},\"pattern\":{\"fillmode\":\"overlay\",\"size\":10,\"solidity\":0.2}},\"type\":\"bar\"}],\"barpolar\":[{\"marker\":{\"line\":{\"color\":\"#E5ECF6\",\"width\":0.5},\"pattern\":{\"fillmode\":\"overlay\",\"size\":10,\"solidity\":0.2}},\"type\":\"barpolar\"}],\"carpet\":[{\"aaxis\":{\"endlinecolor\":\"#2a3f5f\",\"gridcolor\":\"white\",\"linecolor\":\"white\",\"minorgridcolor\":\"white\",\"startlinecolor\":\"#2a3f5f\"},\"baxis\":{\"endlinecolor\":\"#2a3f5f\",\"gridcolor\":\"white\",\"linecolor\":\"white\",\"minorgridcolor\":\"white\",\"startlinecolor\":\"#2a3f5f\"},\"type\":\"carpet\"}],\"choropleth\":[{\"colorbar\":{\"outlinewidth\":0,\"ticks\":\"\"},\"type\":\"choropleth\"}],\"contour\":[{\"colorbar\":{\"outlinewidth\":0,\"ticks\":\"\"},\"colorscale\":[[0.0,\"#0d0887\"],[0.1111111111111111,\"#46039f\"],[0.2222222222222222,\"#7201a8\"],[0.3333333333333333,\"#9c179e\"],[0.4444444444444444,\"#bd3786\"],[0.5555555555555556,\"#d8576b\"],[0.6666666666666666,\"#ed7953\"],[0.7777777777777778,\"#fb9f3a\"],[0.8888888888888888,\"#fdca26\"],[1.0,\"#f0f921\"]],\"type\":\"contour\"}],\"contourcarpet\":[{\"colorbar\":{\"outlinewidth\":0,\"ticks\":\"\"},\"type\":\"contourcarpet\"}],\"heatmap\":[{\"colorbar\":{\"outlinewidth\":0,\"ticks\":\"\"},\"colorscale\":[[0.0,\"#0d0887\"],[0.1111111111111111,\"#46039f\"],[0.2222222222222222,\"#7201a8\"],[0.3333333333333333,\"#9c179e\"],[0.4444444444444444,\"#bd3786\"],[0.5555555555555556,\"#d8576b\"],[0.6666666666666666,\"#ed7953\"],[0.7777777777777778,\"#fb9f3a\"],[0.8888888888888888,\"#fdca26\"],[1.0,\"#f0f921\"]],\"type\":\"heatmap\"}],\"heatmapgl\":[{\"colorbar\":{\"outlinewidth\":0,\"ticks\":\"\"},\"colorscale\":[[0.0,\"#0d0887\"],[0.1111111111111111,\"#46039f\"],[0.2222222222222222,\"#7201a8\"],[0.3333333333333333,\"#9c179e\"],[0.4444444444444444,\"#bd3786\"],[0.5555555555555556,\"#d8576b\"],[0.6666666666666666,\"#ed7953\"],[0.7777777777777778,\"#fb9f3a\"],[0.8888888888888888,\"#fdca26\"],[1.0,\"#f0f921\"]],\"type\":\"heatmapgl\"}],\"histogram\":[{\"marker\":{\"pattern\":{\"fillmode\":\"overlay\",\"size\":10,\"solidity\":0.2}},\"type\":\"histogram\"}],\"histogram2d\":[{\"colorbar\":{\"outlinewidth\":0,\"ticks\":\"\"},\"colorscale\":[[0.0,\"#0d0887\"],[0.1111111111111111,\"#46039f\"],[0.2222222222222222,\"#7201a8\"],[0.3333333333333333,\"#9c179e\"],[0.4444444444444444,\"#bd3786\"],[0.5555555555555556,\"#d8576b\"],[0.6666666666666666,\"#ed7953\"],[0.7777777777777778,\"#fb9f3a\"],[0.8888888888888888,\"#fdca26\"],[1.0,\"#f0f921\"]],\"type\":\"histogram2d\"}],\"histogram2dcontour\":[{\"colorbar\":{\"outlinewidth\":0,\"ticks\":\"\"},\"colorscale\":[[0.0,\"#0d0887\"],[0.1111111111111111,\"#46039f\"],[0.2222222222222222,\"#7201a8\"],[0.3333333333333333,\"#9c179e\"],[0.4444444444444444,\"#bd3786\"],[0.5555555555555556,\"#d8576b\"],[0.6666666666666666,\"#ed7953\"],[0.7777777777777778,\"#fb9f3a\"],[0.8888888888888888,\"#fdca26\"],[1.0,\"#f0f921\"]],\"type\":\"histogram2dcontour\"}],\"mesh3d\":[{\"colorbar\":{\"outlinewidth\":0,\"ticks\":\"\"},\"type\":\"mesh3d\"}],\"parcoords\":[{\"line\":{\"colorbar\":{\"outlinewidth\":0,\"ticks\":\"\"}},\"type\":\"parcoords\"}],\"pie\":[{\"automargin\":true,\"type\":\"pie\"}],\"scatter\":[{\"marker\":{\"colorbar\":{\"outlinewidth\":0,\"ticks\":\"\"}},\"type\":\"scatter\"}],\"scatter3d\":[{\"line\":{\"colorbar\":{\"outlinewidth\":0,\"ticks\":\"\"}},\"marker\":{\"colorbar\":{\"outlinewidth\":0,\"ticks\":\"\"}},\"type\":\"scatter3d\"}],\"scattercarpet\":[{\"marker\":{\"colorbar\":{\"outlinewidth\":0,\"ticks\":\"\"}},\"type\":\"scattercarpet\"}],\"scattergeo\":[{\"marker\":{\"colorbar\":{\"outlinewidth\":0,\"ticks\":\"\"}},\"type\":\"scattergeo\"}],\"scattergl\":[{\"marker\":{\"colorbar\":{\"outlinewidth\":0,\"ticks\":\"\"}},\"type\":\"scattergl\"}],\"scattermapbox\":[{\"marker\":{\"colorbar\":{\"outlinewidth\":0,\"ticks\":\"\"}},\"type\":\"scattermapbox\"}],\"scatterpolar\":[{\"marker\":{\"colorbar\":{\"outlinewidth\":0,\"ticks\":\"\"}},\"type\":\"scatterpolar\"}],\"scatterpolargl\":[{\"marker\":{\"colorbar\":{\"outlinewidth\":0,\"ticks\":\"\"}},\"type\":\"scatterpolargl\"}],\"scatterternary\":[{\"marker\":{\"colorbar\":{\"outlinewidth\":0,\"ticks\":\"\"}},\"type\":\"scatterternary\"}],\"surface\":[{\"colorbar\":{\"outlinewidth\":0,\"ticks\":\"\"},\"colorscale\":[[0.0,\"#0d0887\"],[0.1111111111111111,\"#46039f\"],[0.2222222222222222,\"#7201a8\"],[0.3333333333333333,\"#9c179e\"],[0.4444444444444444,\"#bd3786\"],[0.5555555555555556,\"#d8576b\"],[0.6666666666666666,\"#ed7953\"],[0.7777777777777778,\"#fb9f3a\"],[0.8888888888888888,\"#fdca26\"],[1.0,\"#f0f921\"]],\"type\":\"surface\"}],\"table\":[{\"cells\":{\"fill\":{\"color\":\"#EBF0F8\"},\"line\":{\"color\":\"white\"}},\"header\":{\"fill\":{\"color\":\"#C8D4E3\"},\"line\":{\"color\":\"white\"}},\"type\":\"table\"}]},\"layout\":{\"annotationdefaults\":{\"arrowcolor\":\"#2a3f5f\",\"arrowhead\":0,\"arrowwidth\":1},\"autotypenumbers\":\"strict\",\"coloraxis\":{\"colorbar\":{\"outlinewidth\":0,\"ticks\":\"\"}},\"colorscale\":{\"diverging\":[[0,\"#8e0152\"],[0.1,\"#c51b7d\"],[0.2,\"#de77ae\"],[0.3,\"#f1b6da\"],[0.4,\"#fde0ef\"],[0.5,\"#f7f7f7\"],[0.6,\"#e6f5d0\"],[0.7,\"#b8e186\"],[0.8,\"#7fbc41\"],[0.9,\"#4d9221\"],[1,\"#276419\"]],\"sequential\":[[0.0,\"#0d0887\"],[0.1111111111111111,\"#46039f\"],[0.2222222222222222,\"#7201a8\"],[0.3333333333333333,\"#9c179e\"],[0.4444444444444444,\"#bd3786\"],[0.5555555555555556,\"#d8576b\"],[0.6666666666666666,\"#ed7953\"],[0.7777777777777778,\"#fb9f3a\"],[0.8888888888888888,\"#fdca26\"],[1.0,\"#f0f921\"]],\"sequentialminus\":[[0.0,\"#0d0887\"],[0.1111111111111111,\"#46039f\"],[0.2222222222222222,\"#7201a8\"],[0.3333333333333333,\"#9c179e\"],[0.4444444444444444,\"#bd3786\"],[0.5555555555555556,\"#d8576b\"],[0.6666666666666666,\"#ed7953\"],[0.7777777777777778,\"#fb9f3a\"],[0.8888888888888888,\"#fdca26\"],[1.0,\"#f0f921\"]]},\"colorway\":[\"#636efa\",\"#EF553B\",\"#00cc96\",\"#ab63fa\",\"#FFA15A\",\"#19d3f3\",\"#FF6692\",\"#B6E880\",\"#FF97FF\",\"#FECB52\"],\"font\":{\"color\":\"#2a3f5f\"},\"geo\":{\"bgcolor\":\"white\",\"lakecolor\":\"white\",\"landcolor\":\"#E5ECF6\",\"showlakes\":true,\"showland\":true,\"subunitcolor\":\"white\"},\"hoverlabel\":{\"align\":\"left\"},\"hovermode\":\"closest\",\"mapbox\":{\"style\":\"light\"},\"paper_bgcolor\":\"white\",\"plot_bgcolor\":\"#E5ECF6\",\"polar\":{\"angularaxis\":{\"gridcolor\":\"white\",\"linecolor\":\"white\",\"ticks\":\"\"},\"bgcolor\":\"#E5ECF6\",\"radialaxis\":{\"gridcolor\":\"white\",\"linecolor\":\"white\",\"ticks\":\"\"}},\"scene\":{\"xaxis\":{\"backgroundcolor\":\"#E5ECF6\",\"gridcolor\":\"white\",\"gridwidth\":2,\"linecolor\":\"white\",\"showbackground\":true,\"ticks\":\"\",\"zerolinecolor\":\"white\"},\"yaxis\":{\"backgroundcolor\":\"#E5ECF6\",\"gridcolor\":\"white\",\"gridwidth\":2,\"linecolor\":\"white\",\"showbackground\":true,\"ticks\":\"\",\"zerolinecolor\":\"white\"},\"zaxis\":{\"backgroundcolor\":\"#E5ECF6\",\"gridcolor\":\"white\",\"gridwidth\":2,\"linecolor\":\"white\",\"showbackground\":true,\"ticks\":\"\",\"zerolinecolor\":\"white\"}},\"shapedefaults\":{\"line\":{\"color\":\"#2a3f5f\"}},\"ternary\":{\"aaxis\":{\"gridcolor\":\"white\",\"linecolor\":\"white\",\"ticks\":\"\"},\"baxis\":{\"gridcolor\":\"white\",\"linecolor\":\"white\",\"ticks\":\"\"},\"bgcolor\":\"#E5ECF6\",\"caxis\":{\"gridcolor\":\"white\",\"linecolor\":\"white\",\"ticks\":\"\"}},\"title\":{\"x\":0.05},\"xaxis\":{\"automargin\":true,\"gridcolor\":\"white\",\"linecolor\":\"white\",\"ticks\":\"\",\"title\":{\"standoff\":15},\"zerolinecolor\":\"white\",\"zerolinewidth\":2},\"yaxis\":{\"automargin\":true,\"gridcolor\":\"white\",\"linecolor\":\"white\",\"ticks\":\"\",\"title\":{\"standoff\":15},\"zerolinecolor\":\"white\",\"zerolinewidth\":2}}}},                        {\"responsive\": true}                    ).then(function(){\n",
              "                            \n",
              "var gd = document.getElementById('1c5b5c6f-bb5d-4316-a4c9-a170fcec75e3');\n",
              "var x = new MutationObserver(function (mutations, observer) {{\n",
              "        var display = window.getComputedStyle(gd).display;\n",
              "        if (!display || display === 'none') {{\n",
              "            console.log([gd, 'removed!']);\n",
              "            Plotly.purge(gd);\n",
              "            observer.disconnect();\n",
              "        }}\n",
              "}});\n",
              "\n",
              "// Listen for the removal of the full notebook cells\n",
              "var notebookContainer = gd.closest('#notebook-container');\n",
              "if (notebookContainer) {{\n",
              "    x.observe(notebookContainer, {childList: true});\n",
              "}}\n",
              "\n",
              "// Listen for the clearing of the current output cell\n",
              "var outputEl = gd.closest('.output');\n",
              "if (outputEl) {{\n",
              "    x.observe(outputEl, {childList: true});\n",
              "}}\n",
              "\n",
              "                        })                };                            </script>        </div>\n",
              "</body>\n",
              "</html>"
            ]
          },
          "metadata": {}
        }
      ],
      "source": [
        "plot_optimization_history(study)"
      ],
      "id": "XfuziZ8Hx8lA"
    },
    {
      "cell_type": "markdown",
      "metadata": {
        "id": "ovjbmZtRHHOC"
      },
      "source": [
        " ##### b.4. Halving Random Search"
      ],
      "id": "ovjbmZtRHHOC"
    },
    {
      "cell_type": "code",
      "execution_count": 108,
      "metadata": {
        "colab": {
          "base_uri": "https://localhost:8080/"
        },
        "id": "uwBJ1vJs2gk2",
        "outputId": "88f8fd9a-6fbd-4f65-b391-8047421604ed",
        "scrolled": false
      },
      "outputs": [
        {
          "output_type": "stream",
          "name": "stdout",
          "text": [
            "Model fitting...\n",
            "n_iterations: 5\n",
            "n_required_iterations: 5\n",
            "n_possible_iterations: 5\n",
            "min_resources_: 12\n",
            "max_resources_: 1140\n",
            "aggressive_elimination: False\n",
            "factor: 3\n",
            "----------\n",
            "iter: 0\n",
            "n_candidates: 95\n",
            "n_resources: 12\n",
            "Fitting 3 folds for each of 95 candidates, totalling 285 fits\n",
            "----------\n",
            "iter: 1\n",
            "n_candidates: 32\n",
            "n_resources: 36\n",
            "Fitting 3 folds for each of 32 candidates, totalling 96 fits\n",
            "----------\n",
            "iter: 2\n",
            "n_candidates: 11\n",
            "n_resources: 108\n",
            "Fitting 3 folds for each of 11 candidates, totalling 33 fits\n",
            "----------\n",
            "iter: 3\n",
            "n_candidates: 4\n",
            "n_resources: 324\n",
            "Fitting 3 folds for each of 4 candidates, totalling 12 fits\n",
            "----------\n",
            "iter: 4\n",
            "n_candidates: 2\n",
            "n_resources: 972\n",
            "Fitting 3 folds for each of 2 candidates, totalling 6 fits\n",
            "\n",
            "Time spent: 11.3681 s\n"
          ]
        }
      ],
      "source": [
        "# List Hyperparameters that we want to tune.\n",
        "np.random.seed(nia)\n",
        "max_depth = [int(x) for x in np.linspace(14, 25, num = 11)]          # Default None\n",
        "min_samples_leaf = [int(x) for x in np.linspace(1, 3, num = 4)]      # Default 1\n",
        "min_samples_split = [int(x) for x in np.linspace(2, 8, num = 7)]     # Default 2\n",
        "criterion = [\"gini\", \"entropy\"]                                      # Default Gini\n",
        "splitter = [\"best\", \"random\"]                                        # Default Best\n",
        "\n",
        "param_randomgrid_tree = dict(classifier__max_depth = max_depth, \n",
        "                             classifier__min_samples_leaf = min_samples_leaf,\n",
        "                             classifier__min_samples_split = min_samples_split,\n",
        "                             classifier__criterion = criterion,\n",
        "                             classifier__splitter = splitter)\n",
        "\n",
        "# Defining the random search\n",
        "hrandomgrid_tree = HalvingRandomSearchCV(clf_tree_pipeline,\n",
        "                                         param_randomgrid_tree,\n",
        "                                         scoring = 'accuracy',\n",
        "                                         cv = cv,\n",
        "                                         verbose=1)\n",
        "\n",
        "print('Model fitting...')\n",
        "time_start = time()\n",
        "np.random.seed(nia)\n",
        "hrandomgrid_tree_fit = hrandomgrid_tree.fit(X_train, y_train)\n",
        "time_end = time()\n",
        "time_hrs_tree = time_end-time_start\n",
        "print('')\n",
        "print(f'Time spent: {round(time_hrs_tree, 4)} s')"
      ],
      "id": "uwBJ1vJs2gk2"
    },
    {
      "cell_type": "markdown",
      "source": [
        "Using this method we are obtaining the lowest accuracy (0.76). We tried different factor values in the factor argument in HalvingRandomSearchCV. We obtained again the min_samples_leaf as 1."
      ],
      "metadata": {
        "id": "gATVQcDWYpgo"
      },
      "id": "gATVQcDWYpgo"
    },
    {
      "cell_type": "code",
      "execution_count": 109,
      "metadata": {
        "colab": {
          "base_uri": "https://localhost:8080/"
        },
        "id": "3d22cfed",
        "outputId": "fd3e5226-7a1d-46ac-961a-3c5c1b002318"
      },
      "outputs": [
        {
          "output_type": "stream",
          "name": "stdout",
          "text": [
            "{'classifier__splitter': 'random', 'classifier__min_samples_split': 3, 'classifier__min_samples_leaf': 1, 'classifier__max_depth': 23, 'classifier__criterion': 'entropy'} 0.7633744855967078\n"
          ]
        },
        {
          "output_type": "execute_result",
          "data": {
            "text/plain": [
              "0.7633744855967078"
            ]
          },
          "metadata": {},
          "execution_count": 109
        }
      ],
      "source": [
        "# Best parameters from the halving random grid\n",
        "print(hrandomgrid_tree_fit.best_params_, hrandomgrid_tree_fit.best_score_)\n",
        "inner_eval_tree_hrs = hrandomgrid_tree_fit.best_score_\n",
        "inner_eval_tree_hrs"
      ],
      "id": "3d22cfed"
    },
    {
      "cell_type": "markdown",
      "metadata": {
        "id": "ZrPVw1sO_A7_"
      },
      "source": [
        "#### c. Summary of the HPO"
      ],
      "id": "ZrPVw1sO_A7_"
    },
    {
      "cell_type": "code",
      "execution_count": 110,
      "metadata": {
        "id": "TlibduWhBYmf"
      },
      "outputs": [],
      "source": [
        "# Methods\n",
        "methods = ['KNN - No HPO',\n",
        "           'KNN - Grid Search',\n",
        "           'Tree - No HPO',\n",
        "           'Tree - Random Search',\n",
        "           'Tree - Scikit Optimize (Complete)',\n",
        "           'Tree - Scikit Optimize (Simple)',\n",
        "           'Tree - Optuna',\n",
        "           'Tree - Halving Random Search']\n",
        "# Accuracies obtained\n",
        "accuracies = [scores_knn.mean(), inner_eval_knn,\n",
        "                  scores_tree.mean(), inner_eval_tree_rs, inner_eval_tree_so, inner_eval_tree_so_s, \n",
        "                  inner_eval_tree_optuna, inner_eval_tree_hrs]\n",
        "# Times\n",
        "times = [time_scores_knn, time_grid_knn,\n",
        "             time_scores_tree, time_rs_tree, time_so_tree, time_so_tree_s, \n",
        "             time_optuna_tree, time_hrs_tree]"
      ],
      "id": "TlibduWhBYmf"
    },
    {
      "cell_type": "markdown",
      "source": [
        "The following table and plots show the accuracies obtained in the previous methos using default or HPO methodology. Also, there are the times of the fitting and cross validation process for each one.\n",
        "\n",
        "We obtained a highest accuracy (0.819) using the KNN method and with the parameters obtained from the grid search, compared with the lowest accuracy (0.66) that was obtained fitting KNN but with default hyperparameters.\n",
        "\n",
        "The hyperparameters tunning approaches that took more time were Scikit optimize (more than one minute) and Halving random search (approx. 11 seconds)."
      ],
      "metadata": {
        "id": "P0bmUT-Jabah"
      },
      "id": "P0bmUT-Jabah"
    },
    {
      "cell_type": "code",
      "source": [
        "summary_4c = pd.DataFrame({'methods': methods, 'accuracies': accuracies, 'times': times}).sort_values('accuracies', ascending=False)\n",
        "\n",
        "cm = sns.color_palette(\"Blues\", as_cmap=True) \n",
        "display(summary_4c.style.background_gradient(cmap=cm, axis=0))"
      ],
      "metadata": {
        "colab": {
          "base_uri": "https://localhost:8080/",
          "height": 300
        },
        "id": "VI3u1MVbZO0O",
        "outputId": "ffb2c487-b5dd-42bd-f56e-0bbc6def3b3a"
      },
      "id": "VI3u1MVbZO0O",
      "execution_count": 121,
      "outputs": [
        {
          "output_type": "display_data",
          "data": {
            "text/plain": [
              "<pandas.io.formats.style.Styler at 0x7fe6c2b6bd90>"
            ],
            "text/html": [
              "<style type=\"text/css\">\n",
              "#T_a5165_row0_col1, #T_a5165_row3_col2 {\n",
              "  background-color: #08306b;\n",
              "  color: #f1f1f1;\n",
              "}\n",
              "#T_a5165_row0_col2 {\n",
              "  background-color: #eef5fc;\n",
              "  color: #000000;\n",
              "}\n",
              "#T_a5165_row1_col1, #T_a5165_row2_col1 {\n",
              "  background-color: #0a539e;\n",
              "  color: #f1f1f1;\n",
              "}\n",
              "#T_a5165_row1_col2 {\n",
              "  background-color: #ebf3fb;\n",
              "  color: #000000;\n",
              "}\n",
              "#T_a5165_row2_col2 {\n",
              "  background-color: #08478d;\n",
              "  color: #f1f1f1;\n",
              "}\n",
              "#T_a5165_row3_col1 {\n",
              "  background-color: #115ca5;\n",
              "  color: #f1f1f1;\n",
              "}\n",
              "#T_a5165_row4_col1 {\n",
              "  background-color: #2070b4;\n",
              "  color: #f1f1f1;\n",
              "}\n",
              "#T_a5165_row4_col2 {\n",
              "  background-color: #f3f8fe;\n",
              "  color: #000000;\n",
              "}\n",
              "#T_a5165_row5_col1 {\n",
              "  background-color: #3080bd;\n",
              "  color: #f1f1f1;\n",
              "}\n",
              "#T_a5165_row5_col2, #T_a5165_row7_col1, #T_a5165_row7_col2 {\n",
              "  background-color: #f7fbff;\n",
              "  color: #000000;\n",
              "}\n",
              "#T_a5165_row6_col1 {\n",
              "  background-color: #4090c5;\n",
              "  color: #f1f1f1;\n",
              "}\n",
              "#T_a5165_row6_col2 {\n",
              "  background-color: #d9e8f5;\n",
              "  color: #000000;\n",
              "}\n",
              "</style>\n",
              "<table id=\"T_a5165_\" class=\"dataframe\">\n",
              "  <thead>\n",
              "    <tr>\n",
              "      <th class=\"blank level0\" >&nbsp;</th>\n",
              "      <th class=\"col_heading level0 col0\" >methods</th>\n",
              "      <th class=\"col_heading level0 col1\" >accuracies</th>\n",
              "      <th class=\"col_heading level0 col2\" >times</th>\n",
              "    </tr>\n",
              "  </thead>\n",
              "  <tbody>\n",
              "    <tr>\n",
              "      <th id=\"T_a5165_level0_row0\" class=\"row_heading level0 row0\" >1</th>\n",
              "      <td id=\"T_a5165_row0_col0\" class=\"data row0 col0\" >KNN - Grid Search</td>\n",
              "      <td id=\"T_a5165_row0_col1\" class=\"data row0 col1\" >0.819298</td>\n",
              "      <td id=\"T_a5165_row0_col2\" class=\"data row0 col2\" >3.433677</td>\n",
              "    </tr>\n",
              "    <tr>\n",
              "      <th id=\"T_a5165_level0_row1\" class=\"row_heading level0 row1\" >3</th>\n",
              "      <td id=\"T_a5165_row1_col0\" class=\"data row1 col0\" >Tree - Random Search</td>\n",
              "      <td id=\"T_a5165_row1_col1\" class=\"data row1 col1\" >0.799123</td>\n",
              "      <td id=\"T_a5165_row1_col2\" class=\"data row1 col2\" >4.565289</td>\n",
              "    </tr>\n",
              "    <tr>\n",
              "      <th id=\"T_a5165_level0_row2\" class=\"row_heading level0 row2\" >5</th>\n",
              "      <td id=\"T_a5165_row2_col0\" class=\"data row2 col0\" >Tree - Scikit Optimize (Simple)</td>\n",
              "      <td id=\"T_a5165_row2_col1\" class=\"data row2 col1\" >0.799123</td>\n",
              "      <td id=\"T_a5165_row2_col2\" class=\"data row2 col2\" >68.154346</td>\n",
              "    </tr>\n",
              "    <tr>\n",
              "      <th id=\"T_a5165_level0_row3\" class=\"row_heading level0 row3\" >4</th>\n",
              "      <td id=\"T_a5165_row3_col0\" class=\"data row3 col0\" >Tree - Scikit Optimize (Complete)</td>\n",
              "      <td id=\"T_a5165_row3_col1\" class=\"data row3 col1\" >0.793860</td>\n",
              "      <td id=\"T_a5165_row3_col2\" class=\"data row3 col2\" >74.828900</td>\n",
              "    </tr>\n",
              "    <tr>\n",
              "      <th id=\"T_a5165_level0_row4\" class=\"row_heading level0 row4\" >6</th>\n",
              "      <td id=\"T_a5165_row4_col0\" class=\"data row4 col0\" >Tree - Optuna</td>\n",
              "      <td id=\"T_a5165_row4_col1\" class=\"data row4 col1\" >0.781579</td>\n",
              "      <td id=\"T_a5165_row4_col2\" class=\"data row4 col2\" >1.572481</td>\n",
              "    </tr>\n",
              "    <tr>\n",
              "      <th id=\"T_a5165_level0_row5\" class=\"row_heading level0 row5\" >2</th>\n",
              "      <td id=\"T_a5165_row5_col0\" class=\"data row5 col0\" >Tree - No HPO</td>\n",
              "      <td id=\"T_a5165_row5_col1\" class=\"data row5 col1\" >0.772807</td>\n",
              "      <td id=\"T_a5165_row5_col2\" class=\"data row5 col2\" >0.108404</td>\n",
              "    </tr>\n",
              "    <tr>\n",
              "      <th id=\"T_a5165_level0_row6\" class=\"row_heading level0 row6\" >7</th>\n",
              "      <td id=\"T_a5165_row6_col0\" class=\"data row6 col0\" >Tree - Halving Random Search</td>\n",
              "      <td id=\"T_a5165_row6_col1\" class=\"data row6 col1\" >0.763374</td>\n",
              "      <td id=\"T_a5165_row6_col2\" class=\"data row6 col2\" >11.368088</td>\n",
              "    </tr>\n",
              "    <tr>\n",
              "      <th id=\"T_a5165_level0_row7\" class=\"row_heading level0 row7\" >0</th>\n",
              "      <td id=\"T_a5165_row7_col0\" class=\"data row7 col0\" >KNN - No HPO</td>\n",
              "      <td id=\"T_a5165_row7_col1\" class=\"data row7 col1\" >0.668421</td>\n",
              "      <td id=\"T_a5165_row7_col2\" class=\"data row7 col2\" >0.188068</td>\n",
              "    </tr>\n",
              "  </tbody>\n",
              "</table>\n"
            ]
          },
          "metadata": {}
        }
      ]
    },
    {
      "cell_type": "code",
      "execution_count": 111,
      "metadata": {
        "colab": {
          "base_uri": "https://localhost:8080/",
          "height": 448
        },
        "id": "qZJloJGYEU1v",
        "outputId": "f0af33d1-4437-49a0-cb4f-b50adf929bd2"
      },
      "outputs": [
        {
          "output_type": "display_data",
          "data": {
            "text/plain": [
              "<Figure size 432x288 with 2 Axes>"
            ],
            "image/png": "[encoded data removed]"
          },
          "metadata": {
            "needs_background": "light"
          }
        }
      ],
      "source": [
        "fig, (ax1, ax2) = plt.subplots(1, 2)\n",
        "fig.suptitle('HPO')\n",
        "\n",
        "ax1.title.set_text('Accuracy')\n",
        "ax1.bar(methods, accuracies)\n",
        "ax1.tick_params(labelrotation=90)\n",
        "\n",
        "ax2.title.set_text('Execution time')\n",
        "ax2.bar(methods, times)\n",
        "ax2.tick_params(labelrotation=90)"
      ],
      "id": "qZJloJGYEU1v"
    },
    {
      "cell_type": "markdown",
      "metadata": {
        "id": "fOw6VXl6_Jgk"
      },
      "source": [
        "### 5. Advanced methods"
      ],
      "id": "fOw6VXl6_Jgk"
    },
    {
      "cell_type": "markdown",
      "metadata": {
        "id": "-xTXikys_Qvk"
      },
      "source": [
        "#### a. Random Forests: Comparison with default hyperparameters and HPO: Halving Random Search"
      ],
      "id": "-xTXikys_Qvk"
    },
    {
      "cell_type": "markdown",
      "metadata": {
        "id": "O-n_vCBYHlJC"
      },
      "source": [
        "##### a.1 Default hyperparameters"
      ],
      "id": "O-n_vCBYHlJC"
    },
    {
      "cell_type": "markdown",
      "metadata": {
        "id": "cG7Obb0dICzK"
      },
      "source": [
        "We chose the random forest method, the mean accuracy using the default hyperparameters, in the inner evaluation is 0.86 with an statard deviation of 0.02. This accuracy is higher than the previous fitted methods. Fitting this method doesn't take too long (approx. 1.7 s)"
      ],
      "id": "cG7Obb0dICzK"
    },
    {
      "cell_type": "code",
      "execution_count": 122,
      "metadata": {
        "colab": {
          "base_uri": "https://localhost:8080/",
          "height": 227
        },
        "id": "5d__tNOrKd9L",
        "outputId": "12bb49c1-0c66-48d2-a589-09fbc7d51f21"
      },
      "outputs": [
        {
          "output_type": "execute_result",
          "data": {
            "text/plain": [
              "Pipeline(steps=[('preprocessor',\n",
              "                 ColumnTransformer(transformers=[('numerical',\n",
              "                                                  Pipeline(steps=[('imputer',\n",
              "                                                                   SimpleImputer(strategy='median')),\n",
              "                                                                  ('scale',\n",
              "                                                                   StandardScaler())]),\n",
              "                                                  ['hrs', 'absences',\n",
              "                                                   'JobInvolvement',\n",
              "                                                   'PerformanceRating',\n",
              "                                                   'EnvironmentSatisfaction',\n",
              "                                                   'JobSatisfaction',\n",
              "                                                   'WorkLifeBalance', 'Age',\n",
              "                                                   'DistanceFromHome',\n",
              "                                                   'Education', 'JobLevel',\n",
              "                                                   'MonthlyIncome',\n",
              "                                                   'N...\n",
              "                                                   'YearsSinceLastPromotion',\n",
              "                                                   'YearsWithCurrManager']),\n",
              "                                                 ('categorical',\n",
              "                                                  Pipeline(steps=[('imputer',\n",
              "                                                                   SimpleImputer(fill_value='missing',\n",
              "                                                                                 strategy='most_frequent')),\n",
              "                                                                  ('onehot',\n",
              "                                                                   OneHotEncoder(handle_unknown='ignore'))]),\n",
              "                                                  ['BusinessTravel',\n",
              "                                                   'Department',\n",
              "                                                   'EducationField', 'Gender',\n",
              "                                                   'JobRole',\n",
              "                                                   'MaritalStatus'])])),\n",
              "                ('classifier', RandomForestClassifier(random_state=100435291))])"
            ],
            "text/html": [
              "<style>#sk-fc67ef81-5534-4e06-9ece-d492d772b278 {color: black;background-color: white;}#sk-fc67ef81-5534-4e06-9ece-d492d772b278 pre{padding: 0;}#sk-fc67ef81-5534-4e06-9ece-d492d772b278 div.sk-toggleable {background-color: white;}#sk-fc67ef81-5534-4e06-9ece-d492d772b278 label.sk-toggleable__label {cursor: pointer;display: block;width: 100%;margin-bottom: 0;padding: 0.3em;box-sizing: border-box;text-align: center;}#sk-fc67ef81-5534-4e06-9ece-d492d772b278 label.sk-toggleable__label-arrow:before {content: \"▸\";float: left;margin-right: 0.25em;color: #696969;}#sk-fc67ef81-5534-4e06-9ece-d492d772b278 label.sk-toggleable__label-arrow:hover:before {color: black;}#sk-fc67ef81-5534-4e06-9ece-d492d772b278 div.sk-estimator:hover label.sk-toggleable__label-arrow:before {color: black;}#sk-fc67ef81-5534-4e06-9ece-d492d772b278 div.sk-toggleable__content {max-height: 0;max-width: 0;overflow: hidden;text-align: left;background-color: #f0f8ff;}#sk-fc67ef81-5534-4e06-9ece-d492d772b278 div.sk-toggleable__content pre {margin: 0.2em;color: black;border-radius: 0.25em;background-color: #f0f8ff;}#sk-fc67ef81-5534-4e06-9ece-d492d772b278 input.sk-toggleable__control:checked~div.sk-toggleable__content {max-height: 200px;max-width: 100%;overflow: auto;}#sk-fc67ef81-5534-4e06-9ece-d492d772b278 input.sk-toggleable__control:checked~label.sk-toggleable__label-arrow:before {content: \"▾\";}#sk-fc67ef81-5534-4e06-9ece-d492d772b278 div.sk-estimator input.sk-toggleable__control:checked~label.sk-toggleable__label {background-color: #d4ebff;}#sk-fc67ef81-5534-4e06-9ece-d492d772b278 div.sk-label input.sk-toggleable__control:checked~label.sk-toggleable__label {background-color: #d4ebff;}#sk-fc67ef81-5534-4e06-9ece-d492d772b278 input.sk-hidden--visually {border: 0;clip: rect(1px 1px 1px 1px);clip: rect(1px, 1px, 1px, 1px);height: 1px;margin: -1px;overflow: hidden;padding: 0;position: absolute;width: 1px;}#sk-fc67ef81-5534-4e06-9ece-d492d772b278 div.sk-estimator {font-family: monospace;background-color: #f0f8ff;border: 1px dotted black;border-radius: 0.25em;box-sizing: border-box;margin-bottom: 0.5em;}#sk-fc67ef81-5534-4e06-9ece-d492d772b278 div.sk-estimator:hover {background-color: #d4ebff;}#sk-fc67ef81-5534-4e06-9ece-d492d772b278 div.sk-parallel-item::after {content: \"\";width: 100%;border-bottom: 1px solid gray;flex-grow: 1;}#sk-fc67ef81-5534-4e06-9ece-d492d772b278 div.sk-label:hover label.sk-toggleable__label {background-color: #d4ebff;}#sk-fc67ef81-5534-4e06-9ece-d492d772b278 div.sk-serial::before {content: \"\";position: absolute;border-left: 1px solid gray;box-sizing: border-box;top: 2em;bottom: 0;left: 50%;}#sk-fc67ef81-5534-4e06-9ece-d492d772b278 div.sk-serial {display: flex;flex-direction: column;align-items: center;background-color: white;padding-right: 0.2em;padding-left: 0.2em;}#sk-fc67ef81-5534-4e06-9ece-d492d772b278 div.sk-item {z-index: 1;}#sk-fc67ef81-5534-4e06-9ece-d492d772b278 div.sk-parallel {display: flex;align-items: stretch;justify-content: center;background-color: white;}#sk-fc67ef81-5534-4e06-9ece-d492d772b278 div.sk-parallel::before {content: \"\";position: absolute;border-left: 1px solid gray;box-sizing: border-box;top: 2em;bottom: 0;left: 50%;}#sk-fc67ef81-5534-4e06-9ece-d492d772b278 div.sk-parallel-item {display: flex;flex-direction: column;position: relative;background-color: white;}#sk-fc67ef81-5534-4e06-9ece-d492d772b278 div.sk-parallel-item:first-child::after {align-self: flex-end;width: 50%;}#sk-fc67ef81-5534-4e06-9ece-d492d772b278 div.sk-parallel-item:last-child::after {align-self: flex-start;width: 50%;}#sk-fc67ef81-5534-4e06-9ece-d492d772b278 div.sk-parallel-item:only-child::after {width: 0;}#sk-fc67ef81-5534-4e06-9ece-d492d772b278 div.sk-dashed-wrapped {border: 1px dashed gray;margin: 0 0.4em 0.5em 0.4em;box-sizing: border-box;padding-bottom: 0.4em;background-color: white;position: relative;}#sk-fc67ef81-5534-4e06-9ece-d492d772b278 div.sk-label label {font-family: monospace;font-weight: bold;background-color: white;display: inline-block;line-height: 1.2em;}#sk-fc67ef81-5534-4e06-9ece-d492d772b278 div.sk-label-container {position: relative;z-index: 2;text-align: center;}#sk-fc67ef81-5534-4e06-9ece-d492d772b278 div.sk-container {/* jupyter's `normalize.less` sets `[hidden] { display: none; }` but bootstrap.min.css set `[hidden] { display: none !important; }` so we also need the `!important` here to be able to override the default hidden behavior on the sphinx rendered scikit-learn.org. See: https://github.com/scikit-learn/scikit-learn/issues/21755 */display: inline-block !important;position: relative;}#sk-fc67ef81-5534-4e06-9ece-d492d772b278 div.sk-text-repr-fallback {display: none;}</style><div id=\"sk-fc67ef81-5534-4e06-9ece-d492d772b278\" class=\"sk-top-container\"><div class=\"sk-text-repr-fallback\"><pre>Pipeline(steps=[(&#x27;preprocessor&#x27;,\n",
              "                 ColumnTransformer(transformers=[(&#x27;numerical&#x27;,\n",
              "                                                  Pipeline(steps=[(&#x27;imputer&#x27;,\n",
              "                                                                   SimpleImputer(strategy=&#x27;median&#x27;)),\n",
              "                                                                  (&#x27;scale&#x27;,\n",
              "                                                                   StandardScaler())]),\n",
              "                                                  [&#x27;hrs&#x27;, &#x27;absences&#x27;,\n",
              "                                                   &#x27;JobInvolvement&#x27;,\n",
              "                                                   &#x27;PerformanceRating&#x27;,\n",
              "                                                   &#x27;EnvironmentSatisfaction&#x27;,\n",
              "                                                   &#x27;JobSatisfaction&#x27;,\n",
              "                                                   &#x27;WorkLifeBalance&#x27;, &#x27;Age&#x27;,\n",
              "                                                   &#x27;DistanceFromHome&#x27;,\n",
              "                                                   &#x27;Education&#x27;, &#x27;JobLevel&#x27;,\n",
              "                                                   &#x27;MonthlyIncome&#x27;,\n",
              "                                                   &#x27;N...\n",
              "                                                   &#x27;YearsSinceLastPromotion&#x27;,\n",
              "                                                   &#x27;YearsWithCurrManager&#x27;]),\n",
              "                                                 (&#x27;categorical&#x27;,\n",
              "                                                  Pipeline(steps=[(&#x27;imputer&#x27;,\n",
              "                                                                   SimpleImputer(fill_value=&#x27;missing&#x27;,\n",
              "                                                                                 strategy=&#x27;most_frequent&#x27;)),\n",
              "                                                                  (&#x27;onehot&#x27;,\n",
              "                                                                   OneHotEncoder(handle_unknown=&#x27;ignore&#x27;))]),\n",
              "                                                  [&#x27;BusinessTravel&#x27;,\n",
              "                                                   &#x27;Department&#x27;,\n",
              "                                                   &#x27;EducationField&#x27;, &#x27;Gender&#x27;,\n",
              "                                                   &#x27;JobRole&#x27;,\n",
              "                                                   &#x27;MaritalStatus&#x27;])])),\n",
              "                (&#x27;classifier&#x27;, RandomForestClassifier(random_state=100435291))])</pre><b>Please rerun this cell to show the HTML repr or trust the notebook.</b></div><div class=\"sk-container\" hidden><div class=\"sk-item sk-dashed-wrapped\"><div class=\"sk-label-container\"><div class=\"sk-label sk-toggleable\"><input class=\"sk-toggleable__control sk-hidden--visually\" id=\"3a94df46-c13d-4741-bb81-c66cc71a89fa\" type=\"checkbox\" ><label for=\"3a94df46-c13d-4741-bb81-c66cc71a89fa\" class=\"sk-toggleable__label sk-toggleable__label-arrow\">Pipeline</label><div class=\"sk-toggleable__content\"><pre>Pipeline(steps=[(&#x27;preprocessor&#x27;,\n",
              "                 ColumnTransformer(transformers=[(&#x27;numerical&#x27;,\n",
              "                                                  Pipeline(steps=[(&#x27;imputer&#x27;,\n",
              "                                                                   SimpleImputer(strategy=&#x27;median&#x27;)),\n",
              "                                                                  (&#x27;scale&#x27;,\n",
              "                                                                   StandardScaler())]),\n",
              "                                                  [&#x27;hrs&#x27;, &#x27;absences&#x27;,\n",
              "                                                   &#x27;JobInvolvement&#x27;,\n",
              "                                                   &#x27;PerformanceRating&#x27;,\n",
              "                                                   &#x27;EnvironmentSatisfaction&#x27;,\n",
              "                                                   &#x27;JobSatisfaction&#x27;,\n",
              "                                                   &#x27;WorkLifeBalance&#x27;, &#x27;Age&#x27;,\n",
              "                                                   &#x27;DistanceFromHome&#x27;,\n",
              "                                                   &#x27;Education&#x27;, &#x27;JobLevel&#x27;,\n",
              "                                                   &#x27;MonthlyIncome&#x27;,\n",
              "                                                   &#x27;N...\n",
              "                                                   &#x27;YearsSinceLastPromotion&#x27;,\n",
              "                                                   &#x27;YearsWithCurrManager&#x27;]),\n",
              "                                                 (&#x27;categorical&#x27;,\n",
              "                                                  Pipeline(steps=[(&#x27;imputer&#x27;,\n",
              "                                                                   SimpleImputer(fill_value=&#x27;missing&#x27;,\n",
              "                                                                                 strategy=&#x27;most_frequent&#x27;)),\n",
              "                                                                  (&#x27;onehot&#x27;,\n",
              "                                                                   OneHotEncoder(handle_unknown=&#x27;ignore&#x27;))]),\n",
              "                                                  [&#x27;BusinessTravel&#x27;,\n",
              "                                                   &#x27;Department&#x27;,\n",
              "                                                   &#x27;EducationField&#x27;, &#x27;Gender&#x27;,\n",
              "                                                   &#x27;JobRole&#x27;,\n",
              "                                                   &#x27;MaritalStatus&#x27;])])),\n",
              "                (&#x27;classifier&#x27;, RandomForestClassifier(random_state=100435291))])</pre></div></div></div><div class=\"sk-serial\"><div class=\"sk-item sk-dashed-wrapped\"><div class=\"sk-label-container\"><div class=\"sk-label sk-toggleable\"><input class=\"sk-toggleable__control sk-hidden--visually\" id=\"d0e73125-8c87-4926-b1f6-939dc71ae2db\" type=\"checkbox\" ><label for=\"d0e73125-8c87-4926-b1f6-939dc71ae2db\" class=\"sk-toggleable__label sk-toggleable__label-arrow\">preprocessor: ColumnTransformer</label><div class=\"sk-toggleable__content\"><pre>ColumnTransformer(transformers=[(&#x27;numerical&#x27;,\n",
              "                                 Pipeline(steps=[(&#x27;imputer&#x27;,\n",
              "                                                  SimpleImputer(strategy=&#x27;median&#x27;)),\n",
              "                                                 (&#x27;scale&#x27;, StandardScaler())]),\n",
              "                                 [&#x27;hrs&#x27;, &#x27;absences&#x27;, &#x27;JobInvolvement&#x27;,\n",
              "                                  &#x27;PerformanceRating&#x27;,\n",
              "                                  &#x27;EnvironmentSatisfaction&#x27;, &#x27;JobSatisfaction&#x27;,\n",
              "                                  &#x27;WorkLifeBalance&#x27;, &#x27;Age&#x27;, &#x27;DistanceFromHome&#x27;,\n",
              "                                  &#x27;Education&#x27;, &#x27;JobLevel&#x27;, &#x27;MonthlyIncome&#x27;,\n",
              "                                  &#x27;NumCompaniesWorked&#x27;, &#x27;PercentSalar...\n",
              "                                  &#x27;StockOptionLevel&#x27;, &#x27;TotalWorkingYears&#x27;,\n",
              "                                  &#x27;TrainingTimesLastYear&#x27;, &#x27;YearsAtCompany&#x27;,\n",
              "                                  &#x27;YearsSinceLastPromotion&#x27;,\n",
              "                                  &#x27;YearsWithCurrManager&#x27;]),\n",
              "                                (&#x27;categorical&#x27;,\n",
              "                                 Pipeline(steps=[(&#x27;imputer&#x27;,\n",
              "                                                  SimpleImputer(fill_value=&#x27;missing&#x27;,\n",
              "                                                                strategy=&#x27;most_frequent&#x27;)),\n",
              "                                                 (&#x27;onehot&#x27;,\n",
              "                                                  OneHotEncoder(handle_unknown=&#x27;ignore&#x27;))]),\n",
              "                                 [&#x27;BusinessTravel&#x27;, &#x27;Department&#x27;,\n",
              "                                  &#x27;EducationField&#x27;, &#x27;Gender&#x27;, &#x27;JobRole&#x27;,\n",
              "                                  &#x27;MaritalStatus&#x27;])])</pre></div></div></div><div class=\"sk-parallel\"><div class=\"sk-parallel-item\"><div class=\"sk-item\"><div class=\"sk-label-container\"><div class=\"sk-label sk-toggleable\"><input class=\"sk-toggleable__control sk-hidden--visually\" id=\"789914b2-ba5a-40e9-95e9-560d7e3f4937\" type=\"checkbox\" ><label for=\"789914b2-ba5a-40e9-95e9-560d7e3f4937\" class=\"sk-toggleable__label sk-toggleable__label-arrow\">numerical</label><div class=\"sk-toggleable__content\"><pre>[&#x27;hrs&#x27;, &#x27;absences&#x27;, &#x27;JobInvolvement&#x27;, &#x27;PerformanceRating&#x27;, &#x27;EnvironmentSatisfaction&#x27;, &#x27;JobSatisfaction&#x27;, &#x27;WorkLifeBalance&#x27;, &#x27;Age&#x27;, &#x27;DistanceFromHome&#x27;, &#x27;Education&#x27;, &#x27;JobLevel&#x27;, &#x27;MonthlyIncome&#x27;, &#x27;NumCompaniesWorked&#x27;, &#x27;PercentSalaryHike&#x27;, &#x27;StockOptionLevel&#x27;, &#x27;TotalWorkingYears&#x27;, &#x27;TrainingTimesLastYear&#x27;, &#x27;YearsAtCompany&#x27;, &#x27;YearsSinceLastPromotion&#x27;, &#x27;YearsWithCurrManager&#x27;]</pre></div></div></div><div class=\"sk-serial\"><div class=\"sk-item\"><div class=\"sk-serial\"><div class=\"sk-item\"><div class=\"sk-estimator sk-toggleable\"><input class=\"sk-toggleable__control sk-hidden--visually\" id=\"f668bcb4-4469-4ada-821f-b2d947c09eed\" type=\"checkbox\" ><label for=\"f668bcb4-4469-4ada-821f-b2d947c09eed\" class=\"sk-toggleable__label sk-toggleable__label-arrow\">SimpleImputer</label><div class=\"sk-toggleable__content\"><pre>SimpleImputer(strategy=&#x27;median&#x27;)</pre></div></div></div><div class=\"sk-item\"><div class=\"sk-estimator sk-toggleable\"><input class=\"sk-toggleable__control sk-hidden--visually\" id=\"75d2dbc4-fd74-446e-a07e-19145a2f000f\" type=\"checkbox\" ><label for=\"75d2dbc4-fd74-446e-a07e-19145a2f000f\" class=\"sk-toggleable__label sk-toggleable__label-arrow\">StandardScaler</label><div class=\"sk-toggleable__content\"><pre>StandardScaler()</pre></div></div></div></div></div></div></div></div><div class=\"sk-parallel-item\"><div class=\"sk-item\"><div class=\"sk-label-container\"><div class=\"sk-label sk-toggleable\"><input class=\"sk-toggleable__control sk-hidden--visually\" id=\"22ddec3f-f295-45e8-be5d-b4b37cdcab80\" type=\"checkbox\" ><label for=\"22ddec3f-f295-45e8-be5d-b4b37cdcab80\" class=\"sk-toggleable__label sk-toggleable__label-arrow\">categorical</label><div class=\"sk-toggleable__content\"><pre>[&#x27;BusinessTravel&#x27;, &#x27;Department&#x27;, &#x27;EducationField&#x27;, &#x27;Gender&#x27;, &#x27;JobRole&#x27;, &#x27;MaritalStatus&#x27;]</pre></div></div></div><div class=\"sk-serial\"><div class=\"sk-item\"><div class=\"sk-serial\"><div class=\"sk-item\"><div class=\"sk-estimator sk-toggleable\"><input class=\"sk-toggleable__control sk-hidden--visually\" id=\"9945c3d3-5d05-4049-88a1-a00f828a18e1\" type=\"checkbox\" ><label for=\"9945c3d3-5d05-4049-88a1-a00f828a18e1\" class=\"sk-toggleable__label sk-toggleable__label-arrow\">SimpleImputer</label><div class=\"sk-toggleable__content\"><pre>SimpleImputer(fill_value=&#x27;missing&#x27;, strategy=&#x27;most_frequent&#x27;)</pre></div></div></div><div class=\"sk-item\"><div class=\"sk-estimator sk-toggleable\"><input class=\"sk-toggleable__control sk-hidden--visually\" id=\"2ee2fdde-aaf0-43f2-afdc-63fe3f0e9aa1\" type=\"checkbox\" ><label for=\"2ee2fdde-aaf0-43f2-afdc-63fe3f0e9aa1\" class=\"sk-toggleable__label sk-toggleable__label-arrow\">OneHotEncoder</label><div class=\"sk-toggleable__content\"><pre>OneHotEncoder(handle_unknown=&#x27;ignore&#x27;)</pre></div></div></div></div></div></div></div></div></div></div><div class=\"sk-item\"><div class=\"sk-estimator sk-toggleable\"><input class=\"sk-toggleable__control sk-hidden--visually\" id=\"60ada45c-c835-4edb-82c7-99f27f6ba81d\" type=\"checkbox\" ><label for=\"60ada45c-c835-4edb-82c7-99f27f6ba81d\" class=\"sk-toggleable__label sk-toggleable__label-arrow\">RandomForestClassifier</label><div class=\"sk-toggleable__content\"><pre>RandomForestClassifier(random_state=100435291)</pre></div></div></div></div></div></div></div>"
            ]
          },
          "metadata": {},
          "execution_count": 122
        }
      ],
      "source": [
        "# Default hyperparameters\n",
        "\n",
        "# Defining the classifier\n",
        "classifier_rf = RandomForestClassifier(random_state= nia)\n",
        "\n",
        "# Defining the pipeline\n",
        "clf_rf = Pipeline(steps=[('preprocessor', preprocessor),\n",
        "                         ('classifier', classifier_rf)])\n",
        "\n",
        "clf_rf"
      ],
      "id": "5d__tNOrKd9L"
    },
    {
      "cell_type": "code",
      "execution_count": 123,
      "metadata": {
        "colab": {
          "base_uri": "https://localhost:8080/"
        },
        "id": "032zL2AjLjE8",
        "outputId": "eefc39d2-eb38-4a0c-f8dd-5b73703e03e7"
      },
      "outputs": [
        {
          "output_type": "stream",
          "name": "stdout",
          "text": [
            "All the accuracies are: [0.87631579 0.86315789 0.83684211]\n",
            "And the average crossvalidation accuracy is: 0.86 +- 0.02\n",
            "Time spent in the cross validation scoring: 1.7214 s\n"
          ]
        }
      ],
      "source": [
        "# Accuracy of Random Forest classifier\n",
        "time_start = time()\n",
        "scores_rf = cross_val_score(clf_rf, X_train, y_train, scoring='accuracy', cv = cv) \n",
        "time_end = time()\n",
        "time_scores_rf = time_end-time_start\n",
        "\n",
        "print(f\"All the accuracies are: {scores_rf}\")\n",
        "print(f\"And the average crossvalidation accuracy is: {scores_rf.mean():.2f} +- {scores_rf.std():.2f}\")\n",
        "print(f'Time spent in the cross validation scoring: {round(time_scores_rf, 4)} s')"
      ],
      "id": "032zL2AjLjE8"
    },
    {
      "cell_type": "markdown",
      "metadata": {
        "id": "5dWSEhceIw2v"
      },
      "source": [
        "##### a.2 HPO: Halving Random Search"
      ],
      "id": "5dWSEhceIw2v"
    },
    {
      "cell_type": "code",
      "execution_count": 129,
      "metadata": {
        "colab": {
          "base_uri": "https://localhost:8080/"
        },
        "id": "OKJwo-a83TDO",
        "outputId": "8632f6bf-659b-4699-df4a-28adcdfd3bf7"
      },
      "outputs": [
        {
          "output_type": "stream",
          "name": "stdout",
          "text": [
            "Model fitting...\n",
            "n_iterations: 5\n",
            "n_required_iterations: 5\n",
            "n_possible_iterations: 5\n",
            "min_resources_: 12\n",
            "max_resources_: 1140\n",
            "aggressive_elimination: False\n",
            "factor: 3\n",
            "----------\n",
            "iter: 0\n",
            "n_candidates: 95\n",
            "n_resources: 12\n",
            "Fitting 3 folds for each of 95 candidates, totalling 285 fits\n",
            "----------\n",
            "iter: 1\n",
            "n_candidates: 32\n",
            "n_resources: 36\n",
            "Fitting 3 folds for each of 32 candidates, totalling 96 fits\n",
            "----------\n",
            "iter: 2\n",
            "n_candidates: 11\n",
            "n_resources: 108\n",
            "Fitting 3 folds for each of 11 candidates, totalling 33 fits\n",
            "----------\n",
            "iter: 3\n",
            "n_candidates: 4\n",
            "n_resources: 324\n",
            "Fitting 3 folds for each of 4 candidates, totalling 12 fits\n",
            "----------\n",
            "iter: 4\n",
            "n_candidates: 2\n",
            "n_resources: 972\n",
            "Fitting 3 folds for each of 2 candidates, totalling 6 fits\n",
            "\n",
            "Time spent in the cross validation: 106.3924 s\n"
          ]
        }
      ],
      "source": [
        "# HPO Hyperparameter tuning of Random Forest\n",
        "\n",
        "# List Hyperparameters that we want to tune.\n",
        "max_depth = [int(x) for x in np.linspace(10, 20, num = 5)]           # Default None\n",
        "min_samples_split = [int(x) for x in np.linspace(2, 10, num = 5)]    # Default 2\n",
        "min_samples_leaf = [int(x) for x in np.linspace(1, 10, num = 5)]     # Default 1\n",
        "n_estimators = [50, 100, 150, 200]                                   # Default 100\n",
        "criterion = ['gini', 'entropy']                                      # Default Gini\n",
        "\n",
        "param_randomgrid_rf = dict(classifier__max_depth = max_depth, \n",
        "                           classifier__min_samples_leaf = min_samples_leaf,\n",
        "                           classifier__min_samples_split = min_samples_split,\n",
        "                           classifier__n_estimators = n_estimators,\n",
        "                           classifier__criterion = criterion)\n",
        "\n",
        "# Defining the random search\n",
        "hrandomgrid_rf = HalvingRandomSearchCV(clf_rf,\n",
        "                                       param_randomgrid_rf,\n",
        "                                       scoring = 'accuracy',\n",
        "                                       cv = cv,\n",
        "                                       verbose=1)\n",
        "\n",
        "print('Model fitting...')\n",
        "time_start = time()\n",
        "np.random.seed(nia)\n",
        "hrandomgrid_rf_fit = hrandomgrid_rf.fit(X_train, y_train)\n",
        "time_end = time()\n",
        "time_rf_hpo = time_end-time_start\n",
        "print('')\n",
        "print(f'Time spent in the cross validation: {round(time_rf_hpo, 4)} s')"
      ],
      "id": "OKJwo-a83TDO"
    },
    {
      "cell_type": "markdown",
      "source": [
        "We obtained a lower accuracy while tunning the hyperparameters with the Halving Random Search approach, even when increasing the number of trees in the forest. We consider that the default value of 100 for the n_estimator hyperparameter is good enoguh to get an accuracy of 0.86."
      ],
      "metadata": {
        "id": "EH84nOU9drxd"
      },
      "id": "EH84nOU9drxd"
    },
    {
      "cell_type": "code",
      "source": [
        "# Best parameters from the grid\n",
        "print(hrandomgrid_rf_fit.best_params_, hrandomgrid_rf_fit.best_score_)\n",
        "inner_eval_rf = hrandomgrid_rf_fit.best_score_\n",
        "inner_eval_rf"
      ],
      "metadata": {
        "colab": {
          "base_uri": "https://localhost:8080/"
        },
        "id": "T8q6vEOrbsN0",
        "outputId": "0c9521ef-83c0-4d46-a644-cc0b58c08f65"
      },
      "id": "T8q6vEOrbsN0",
      "execution_count": 131,
      "outputs": [
        {
          "output_type": "stream",
          "name": "stdout",
          "text": [
            "{'classifier__n_estimators': 150, 'classifier__min_samples_split': 8, 'classifier__min_samples_leaf': 1, 'classifier__max_depth': 12, 'classifier__criterion': 'gini'} 0.8353909465020576\n"
          ]
        },
        {
          "output_type": "execute_result",
          "data": {
            "text/plain": [
              "0.8353909465020576"
            ]
          },
          "metadata": {},
          "execution_count": 131
        }
      ]
    },
    {
      "cell_type": "markdown",
      "metadata": {
        "id": "NIjOlDu9NjPl"
      },
      "source": [
        "#### b. Gradient Boosting and HPO: Optuna"
      ],
      "id": "NIjOlDu9NjPl"
    },
    {
      "cell_type": "markdown",
      "metadata": {
        "id": "awdmIZ6sSccR"
      },
      "source": [
        "Gradient Boosting automatically imputes missing data, therefore it is not necessary to include an imputer in the pipeline at the transformation of the columns."
      ],
      "id": "awdmIZ6sSccR"
    },
    {
      "cell_type": "markdown",
      "metadata": {
        "id": "afbc1992"
      },
      "source": [
        "##### b.1 Default hyperparameters"
      ],
      "id": "afbc1992"
    },
    {
      "cell_type": "code",
      "execution_count": 132,
      "metadata": {
        "colab": {
          "base_uri": "https://localhost:8080/",
          "height": 227
        },
        "id": "zBf96iQaOnAN",
        "outputId": "801bd88e-6a2f-47a9-9d0d-e9f172f7c463"
      },
      "outputs": [
        {
          "output_type": "execute_result",
          "data": {
            "text/plain": [
              "Pipeline(steps=[('preprocessor',\n",
              "                 ColumnTransformer(transformers=[('numerical',\n",
              "                                                  Pipeline(steps=[('imputer',\n",
              "                                                                   SimpleImputer(strategy='median')),\n",
              "                                                                  ('scale',\n",
              "                                                                   StandardScaler())]),\n",
              "                                                  ['hrs', 'absences',\n",
              "                                                   'JobInvolvement',\n",
              "                                                   'PerformanceRating',\n",
              "                                                   'EnvironmentSatisfaction',\n",
              "                                                   'JobSatisfaction',\n",
              "                                                   'WorkLifeBalance', 'Age',\n",
              "                                                   'DistanceFromHome',\n",
              "                                                   'Education', 'JobLevel',\n",
              "                                                   'MonthlyIncome',\n",
              "                                                   'N...\n",
              "                                                   'YearsSinceLastPromotion',\n",
              "                                                   'YearsWithCurrManager']),\n",
              "                                                 ('categorical',\n",
              "                                                  Pipeline(steps=[('imputer',\n",
              "                                                                   SimpleImputer(fill_value='missing',\n",
              "                                                                                 strategy='most_frequent')),\n",
              "                                                                  ('onehot',\n",
              "                                                                   OneHotEncoder(handle_unknown='ignore'))]),\n",
              "                                                  ['BusinessTravel',\n",
              "                                                   'Department',\n",
              "                                                   'EducationField', 'Gender',\n",
              "                                                   'JobRole',\n",
              "                                                   'MaritalStatus'])])),\n",
              "                ('classifier',\n",
              "                 HistGradientBoostingClassifier(random_state=100435291))])"
            ],
            "text/html": [
              "<style>#sk-ccd06972-496e-4cd9-b8a0-6098718f22cd {color: black;background-color: white;}#sk-ccd06972-496e-4cd9-b8a0-6098718f22cd pre{padding: 0;}#sk-ccd06972-496e-4cd9-b8a0-6098718f22cd div.sk-toggleable {background-color: white;}#sk-ccd06972-496e-4cd9-b8a0-6098718f22cd label.sk-toggleable__label {cursor: pointer;display: block;width: 100%;margin-bottom: 0;padding: 0.3em;box-sizing: border-box;text-align: center;}#sk-ccd06972-496e-4cd9-b8a0-6098718f22cd label.sk-toggleable__label-arrow:before {content: \"▸\";float: left;margin-right: 0.25em;color: #696969;}#sk-ccd06972-496e-4cd9-b8a0-6098718f22cd label.sk-toggleable__label-arrow:hover:before {color: black;}#sk-ccd06972-496e-4cd9-b8a0-6098718f22cd div.sk-estimator:hover label.sk-toggleable__label-arrow:before {color: black;}#sk-ccd06972-496e-4cd9-b8a0-6098718f22cd div.sk-toggleable__content {max-height: 0;max-width: 0;overflow: hidden;text-align: left;background-color: #f0f8ff;}#sk-ccd06972-496e-4cd9-b8a0-6098718f22cd div.sk-toggleable__content pre {margin: 0.2em;color: black;border-radius: 0.25em;background-color: #f0f8ff;}#sk-ccd06972-496e-4cd9-b8a0-6098718f22cd input.sk-toggleable__control:checked~div.sk-toggleable__content {max-height: 200px;max-width: 100%;overflow: auto;}#sk-ccd06972-496e-4cd9-b8a0-6098718f22cd input.sk-toggleable__control:checked~label.sk-toggleable__label-arrow:before {content: \"▾\";}#sk-ccd06972-496e-4cd9-b8a0-6098718f22cd div.sk-estimator input.sk-toggleable__control:checked~label.sk-toggleable__label {background-color: #d4ebff;}#sk-ccd06972-496e-4cd9-b8a0-6098718f22cd div.sk-label input.sk-toggleable__control:checked~label.sk-toggleable__label {background-color: #d4ebff;}#sk-ccd06972-496e-4cd9-b8a0-6098718f22cd input.sk-hidden--visually {border: 0;clip: rect(1px 1px 1px 1px);clip: rect(1px, 1px, 1px, 1px);height: 1px;margin: -1px;overflow: hidden;padding: 0;position: absolute;width: 1px;}#sk-ccd06972-496e-4cd9-b8a0-6098718f22cd div.sk-estimator {font-family: monospace;background-color: #f0f8ff;border: 1px dotted black;border-radius: 0.25em;box-sizing: border-box;margin-bottom: 0.5em;}#sk-ccd06972-496e-4cd9-b8a0-6098718f22cd div.sk-estimator:hover {background-color: #d4ebff;}#sk-ccd06972-496e-4cd9-b8a0-6098718f22cd div.sk-parallel-item::after {content: \"\";width: 100%;border-bottom: 1px solid gray;flex-grow: 1;}#sk-ccd06972-496e-4cd9-b8a0-6098718f22cd div.sk-label:hover label.sk-toggleable__label {background-color: #d4ebff;}#sk-ccd06972-496e-4cd9-b8a0-6098718f22cd div.sk-serial::before {content: \"\";position: absolute;border-left: 1px solid gray;box-sizing: border-box;top: 2em;bottom: 0;left: 50%;}#sk-ccd06972-496e-4cd9-b8a0-6098718f22cd div.sk-serial {display: flex;flex-direction: column;align-items: center;background-color: white;padding-right: 0.2em;padding-left: 0.2em;}#sk-ccd06972-496e-4cd9-b8a0-6098718f22cd div.sk-item {z-index: 1;}#sk-ccd06972-496e-4cd9-b8a0-6098718f22cd div.sk-parallel {display: flex;align-items: stretch;justify-content: center;background-color: white;}#sk-ccd06972-496e-4cd9-b8a0-6098718f22cd div.sk-parallel::before {content: \"\";position: absolute;border-left: 1px solid gray;box-sizing: border-box;top: 2em;bottom: 0;left: 50%;}#sk-ccd06972-496e-4cd9-b8a0-6098718f22cd div.sk-parallel-item {display: flex;flex-direction: column;position: relative;background-color: white;}#sk-ccd06972-496e-4cd9-b8a0-6098718f22cd div.sk-parallel-item:first-child::after {align-self: flex-end;width: 50%;}#sk-ccd06972-496e-4cd9-b8a0-6098718f22cd div.sk-parallel-item:last-child::after {align-self: flex-start;width: 50%;}#sk-ccd06972-496e-4cd9-b8a0-6098718f22cd div.sk-parallel-item:only-child::after {width: 0;}#sk-ccd06972-496e-4cd9-b8a0-6098718f22cd div.sk-dashed-wrapped {border: 1px dashed gray;margin: 0 0.4em 0.5em 0.4em;box-sizing: border-box;padding-bottom: 0.4em;background-color: white;position: relative;}#sk-ccd06972-496e-4cd9-b8a0-6098718f22cd div.sk-label label {font-family: monospace;font-weight: bold;background-color: white;display: inline-block;line-height: 1.2em;}#sk-ccd06972-496e-4cd9-b8a0-6098718f22cd div.sk-label-container {position: relative;z-index: 2;text-align: center;}#sk-ccd06972-496e-4cd9-b8a0-6098718f22cd div.sk-container {/* jupyter's `normalize.less` sets `[hidden] { display: none; }` but bootstrap.min.css set `[hidden] { display: none !important; }` so we also need the `!important` here to be able to override the default hidden behavior on the sphinx rendered scikit-learn.org. See: https://github.com/scikit-learn/scikit-learn/issues/21755 */display: inline-block !important;position: relative;}#sk-ccd06972-496e-4cd9-b8a0-6098718f22cd div.sk-text-repr-fallback {display: none;}</style><div id=\"sk-ccd06972-496e-4cd9-b8a0-6098718f22cd\" class=\"sk-top-container\"><div class=\"sk-text-repr-fallback\"><pre>Pipeline(steps=[(&#x27;preprocessor&#x27;,\n",
              "                 ColumnTransformer(transformers=[(&#x27;numerical&#x27;,\n",
              "                                                  Pipeline(steps=[(&#x27;imputer&#x27;,\n",
              "                                                                   SimpleImputer(strategy=&#x27;median&#x27;)),\n",
              "                                                                  (&#x27;scale&#x27;,\n",
              "                                                                   StandardScaler())]),\n",
              "                                                  [&#x27;hrs&#x27;, &#x27;absences&#x27;,\n",
              "                                                   &#x27;JobInvolvement&#x27;,\n",
              "                                                   &#x27;PerformanceRating&#x27;,\n",
              "                                                   &#x27;EnvironmentSatisfaction&#x27;,\n",
              "                                                   &#x27;JobSatisfaction&#x27;,\n",
              "                                                   &#x27;WorkLifeBalance&#x27;, &#x27;Age&#x27;,\n",
              "                                                   &#x27;DistanceFromHome&#x27;,\n",
              "                                                   &#x27;Education&#x27;, &#x27;JobLevel&#x27;,\n",
              "                                                   &#x27;MonthlyIncome&#x27;,\n",
              "                                                   &#x27;N...\n",
              "                                                   &#x27;YearsSinceLastPromotion&#x27;,\n",
              "                                                   &#x27;YearsWithCurrManager&#x27;]),\n",
              "                                                 (&#x27;categorical&#x27;,\n",
              "                                                  Pipeline(steps=[(&#x27;imputer&#x27;,\n",
              "                                                                   SimpleImputer(fill_value=&#x27;missing&#x27;,\n",
              "                                                                                 strategy=&#x27;most_frequent&#x27;)),\n",
              "                                                                  (&#x27;onehot&#x27;,\n",
              "                                                                   OneHotEncoder(handle_unknown=&#x27;ignore&#x27;))]),\n",
              "                                                  [&#x27;BusinessTravel&#x27;,\n",
              "                                                   &#x27;Department&#x27;,\n",
              "                                                   &#x27;EducationField&#x27;, &#x27;Gender&#x27;,\n",
              "                                                   &#x27;JobRole&#x27;,\n",
              "                                                   &#x27;MaritalStatus&#x27;])])),\n",
              "                (&#x27;classifier&#x27;,\n",
              "                 HistGradientBoostingClassifier(random_state=100435291))])</pre><b>Please rerun this cell to show the HTML repr or trust the notebook.</b></div><div class=\"sk-container\" hidden><div class=\"sk-item sk-dashed-wrapped\"><div class=\"sk-label-container\"><div class=\"sk-label sk-toggleable\"><input class=\"sk-toggleable__control sk-hidden--visually\" id=\"bdc3301b-b79b-45b5-8630-e0b27a6c83f1\" type=\"checkbox\" ><label for=\"bdc3301b-b79b-45b5-8630-e0b27a6c83f1\" class=\"sk-toggleable__label sk-toggleable__label-arrow\">Pipeline</label><div class=\"sk-toggleable__content\"><pre>Pipeline(steps=[(&#x27;preprocessor&#x27;,\n",
              "                 ColumnTransformer(transformers=[(&#x27;numerical&#x27;,\n",
              "                                                  Pipeline(steps=[(&#x27;imputer&#x27;,\n",
              "                                                                   SimpleImputer(strategy=&#x27;median&#x27;)),\n",
              "                                                                  (&#x27;scale&#x27;,\n",
              "                                                                   StandardScaler())]),\n",
              "                                                  [&#x27;hrs&#x27;, &#x27;absences&#x27;,\n",
              "                                                   &#x27;JobInvolvement&#x27;,\n",
              "                                                   &#x27;PerformanceRating&#x27;,\n",
              "                                                   &#x27;EnvironmentSatisfaction&#x27;,\n",
              "                                                   &#x27;JobSatisfaction&#x27;,\n",
              "                                                   &#x27;WorkLifeBalance&#x27;, &#x27;Age&#x27;,\n",
              "                                                   &#x27;DistanceFromHome&#x27;,\n",
              "                                                   &#x27;Education&#x27;, &#x27;JobLevel&#x27;,\n",
              "                                                   &#x27;MonthlyIncome&#x27;,\n",
              "                                                   &#x27;N...\n",
              "                                                   &#x27;YearsSinceLastPromotion&#x27;,\n",
              "                                                   &#x27;YearsWithCurrManager&#x27;]),\n",
              "                                                 (&#x27;categorical&#x27;,\n",
              "                                                  Pipeline(steps=[(&#x27;imputer&#x27;,\n",
              "                                                                   SimpleImputer(fill_value=&#x27;missing&#x27;,\n",
              "                                                                                 strategy=&#x27;most_frequent&#x27;)),\n",
              "                                                                  (&#x27;onehot&#x27;,\n",
              "                                                                   OneHotEncoder(handle_unknown=&#x27;ignore&#x27;))]),\n",
              "                                                  [&#x27;BusinessTravel&#x27;,\n",
              "                                                   &#x27;Department&#x27;,\n",
              "                                                   &#x27;EducationField&#x27;, &#x27;Gender&#x27;,\n",
              "                                                   &#x27;JobRole&#x27;,\n",
              "                                                   &#x27;MaritalStatus&#x27;])])),\n",
              "                (&#x27;classifier&#x27;,\n",
              "                 HistGradientBoostingClassifier(random_state=100435291))])</pre></div></div></div><div class=\"sk-serial\"><div class=\"sk-item sk-dashed-wrapped\"><div class=\"sk-label-container\"><div class=\"sk-label sk-toggleable\"><input class=\"sk-toggleable__control sk-hidden--visually\" id=\"26a42d61-8d1c-4b57-87d0-53d053118377\" type=\"checkbox\" ><label for=\"26a42d61-8d1c-4b57-87d0-53d053118377\" class=\"sk-toggleable__label sk-toggleable__label-arrow\">preprocessor: ColumnTransformer</label><div class=\"sk-toggleable__content\"><pre>ColumnTransformer(transformers=[(&#x27;numerical&#x27;,\n",
              "                                 Pipeline(steps=[(&#x27;imputer&#x27;,\n",
              "                                                  SimpleImputer(strategy=&#x27;median&#x27;)),\n",
              "                                                 (&#x27;scale&#x27;, StandardScaler())]),\n",
              "                                 [&#x27;hrs&#x27;, &#x27;absences&#x27;, &#x27;JobInvolvement&#x27;,\n",
              "                                  &#x27;PerformanceRating&#x27;,\n",
              "                                  &#x27;EnvironmentSatisfaction&#x27;, &#x27;JobSatisfaction&#x27;,\n",
              "                                  &#x27;WorkLifeBalance&#x27;, &#x27;Age&#x27;, &#x27;DistanceFromHome&#x27;,\n",
              "                                  &#x27;Education&#x27;, &#x27;JobLevel&#x27;, &#x27;MonthlyIncome&#x27;,\n",
              "                                  &#x27;NumCompaniesWorked&#x27;, &#x27;PercentSalar...\n",
              "                                  &#x27;StockOptionLevel&#x27;, &#x27;TotalWorkingYears&#x27;,\n",
              "                                  &#x27;TrainingTimesLastYear&#x27;, &#x27;YearsAtCompany&#x27;,\n",
              "                                  &#x27;YearsSinceLastPromotion&#x27;,\n",
              "                                  &#x27;YearsWithCurrManager&#x27;]),\n",
              "                                (&#x27;categorical&#x27;,\n",
              "                                 Pipeline(steps=[(&#x27;imputer&#x27;,\n",
              "                                                  SimpleImputer(fill_value=&#x27;missing&#x27;,\n",
              "                                                                strategy=&#x27;most_frequent&#x27;)),\n",
              "                                                 (&#x27;onehot&#x27;,\n",
              "                                                  OneHotEncoder(handle_unknown=&#x27;ignore&#x27;))]),\n",
              "                                 [&#x27;BusinessTravel&#x27;, &#x27;Department&#x27;,\n",
              "                                  &#x27;EducationField&#x27;, &#x27;Gender&#x27;, &#x27;JobRole&#x27;,\n",
              "                                  &#x27;MaritalStatus&#x27;])])</pre></div></div></div><div class=\"sk-parallel\"><div class=\"sk-parallel-item\"><div class=\"sk-item\"><div class=\"sk-label-container\"><div class=\"sk-label sk-toggleable\"><input class=\"sk-toggleable__control sk-hidden--visually\" id=\"0fb831f8-cc66-44e1-8b60-f5109e22b036\" type=\"checkbox\" ><label for=\"0fb831f8-cc66-44e1-8b60-f5109e22b036\" class=\"sk-toggleable__label sk-toggleable__label-arrow\">numerical</label><div class=\"sk-toggleable__content\"><pre>[&#x27;hrs&#x27;, &#x27;absences&#x27;, &#x27;JobInvolvement&#x27;, &#x27;PerformanceRating&#x27;, &#x27;EnvironmentSatisfaction&#x27;, &#x27;JobSatisfaction&#x27;, &#x27;WorkLifeBalance&#x27;, &#x27;Age&#x27;, &#x27;DistanceFromHome&#x27;, &#x27;Education&#x27;, &#x27;JobLevel&#x27;, &#x27;MonthlyIncome&#x27;, &#x27;NumCompaniesWorked&#x27;, &#x27;PercentSalaryHike&#x27;, &#x27;StockOptionLevel&#x27;, &#x27;TotalWorkingYears&#x27;, &#x27;TrainingTimesLastYear&#x27;, &#x27;YearsAtCompany&#x27;, &#x27;YearsSinceLastPromotion&#x27;, &#x27;YearsWithCurrManager&#x27;]</pre></div></div></div><div class=\"sk-serial\"><div class=\"sk-item\"><div class=\"sk-serial\"><div class=\"sk-item\"><div class=\"sk-estimator sk-toggleable\"><input class=\"sk-toggleable__control sk-hidden--visually\" id=\"04a37ddc-2ca5-4883-8aa7-430850f60ea5\" type=\"checkbox\" ><label for=\"04a37ddc-2ca5-4883-8aa7-430850f60ea5\" class=\"sk-toggleable__label sk-toggleable__label-arrow\">SimpleImputer</label><div class=\"sk-toggleable__content\"><pre>SimpleImputer(strategy=&#x27;median&#x27;)</pre></div></div></div><div class=\"sk-item\"><div class=\"sk-estimator sk-toggleable\"><input class=\"sk-toggleable__control sk-hidden--visually\" id=\"c16c86d6-99f5-4617-ab55-341356bff694\" type=\"checkbox\" ><label for=\"c16c86d6-99f5-4617-ab55-341356bff694\" class=\"sk-toggleable__label sk-toggleable__label-arrow\">StandardScaler</label><div class=\"sk-toggleable__content\"><pre>StandardScaler()</pre></div></div></div></div></div></div></div></div><div class=\"sk-parallel-item\"><div class=\"sk-item\"><div class=\"sk-label-container\"><div class=\"sk-label sk-toggleable\"><input class=\"sk-toggleable__control sk-hidden--visually\" id=\"8f246770-16a0-4ed4-a0a3-478fa4a5df60\" type=\"checkbox\" ><label for=\"8f246770-16a0-4ed4-a0a3-478fa4a5df60\" class=\"sk-toggleable__label sk-toggleable__label-arrow\">categorical</label><div class=\"sk-toggleable__content\"><pre>[&#x27;BusinessTravel&#x27;, &#x27;Department&#x27;, &#x27;EducationField&#x27;, &#x27;Gender&#x27;, &#x27;JobRole&#x27;, &#x27;MaritalStatus&#x27;]</pre></div></div></div><div class=\"sk-serial\"><div class=\"sk-item\"><div class=\"sk-serial\"><div class=\"sk-item\"><div class=\"sk-estimator sk-toggleable\"><input class=\"sk-toggleable__control sk-hidden--visually\" id=\"707de01a-160c-4271-89fa-d8188d85d642\" type=\"checkbox\" ><label for=\"707de01a-160c-4271-89fa-d8188d85d642\" class=\"sk-toggleable__label sk-toggleable__label-arrow\">SimpleImputer</label><div class=\"sk-toggleable__content\"><pre>SimpleImputer(fill_value=&#x27;missing&#x27;, strategy=&#x27;most_frequent&#x27;)</pre></div></div></div><div class=\"sk-item\"><div class=\"sk-estimator sk-toggleable\"><input class=\"sk-toggleable__control sk-hidden--visually\" id=\"8abd9974-831c-4747-82a3-3361445a48c5\" type=\"checkbox\" ><label for=\"8abd9974-831c-4747-82a3-3361445a48c5\" class=\"sk-toggleable__label sk-toggleable__label-arrow\">OneHotEncoder</label><div class=\"sk-toggleable__content\"><pre>OneHotEncoder(handle_unknown=&#x27;ignore&#x27;)</pre></div></div></div></div></div></div></div></div></div></div><div class=\"sk-item\"><div class=\"sk-estimator sk-toggleable\"><input class=\"sk-toggleable__control sk-hidden--visually\" id=\"572aa8a9-e50e-4be8-a8cd-a8a4227e6c14\" type=\"checkbox\" ><label for=\"572aa8a9-e50e-4be8-a8cd-a8a4227e6c14\" class=\"sk-toggleable__label sk-toggleable__label-arrow\">HistGradientBoostingClassifier</label><div class=\"sk-toggleable__content\"><pre>HistGradientBoostingClassifier(random_state=100435291)</pre></div></div></div></div></div></div></div>"
            ]
          },
          "metadata": {},
          "execution_count": 132
        }
      ],
      "source": [
        "# Default hyperparameters\n",
        "\n",
        "# Defining the categorical transformer\n",
        "categorical_transformer_hgb = Pipeline(steps = [('onehot', OneHotEncoder(handle_unknown='ignore'))]) \n",
        "\n",
        "# Defining the numerical transformer\n",
        "numerical_transformer_hgb = Pipeline(steps = [('scale', StandardScaler())])\n",
        "\n",
        "# Defining the preprocessor\n",
        "preprocessor_hgb = ColumnTransformer(transformers=[('numerical', numerical_transformer_hgb, numerical_features),\n",
        "                                               ('categorical', categorical_transformer_hgb, categorical_features)])\n",
        "\n",
        "# Defining the classifier\n",
        "classifier_hgb = HistGradientBoostingClassifier(random_state= nia)\n",
        "\n",
        "# Defining the pipeline\n",
        "clf_hgb = Pipeline(steps=[('preprocessor', preprocessor),\n",
        "                          ('classifier', classifier_hgb)])\n",
        "\n",
        "clf_hgb"
      ],
      "id": "zBf96iQaOnAN"
    },
    {
      "cell_type": "markdown",
      "metadata": {
        "id": "lJ4FXhBUKh-g"
      },
      "source": [
        "The mean accuracy using the default hyperparameters, in the inner evaluation is 0.83 with a standard deviation of 0.02."
      ],
      "id": "lJ4FXhBUKh-g"
    },
    {
      "cell_type": "code",
      "execution_count": 133,
      "metadata": {
        "colab": {
          "base_uri": "https://localhost:8080/"
        },
        "id": "Ym1HfhQSPgoy",
        "outputId": "bc4a10cf-dc6a-41bf-ade9-1ae889956bad"
      },
      "outputs": [
        {
          "output_type": "stream",
          "name": "stdout",
          "text": [
            "All the accuracies are: [0.84210526 0.85       0.79736842]\n",
            "And the average crossvalidation accuracy is: 0.83 +- 0.02\n",
            "Time spent in the cross validation scoring: 2.1681 s\n"
          ]
        }
      ],
      "source": [
        "# Accuracy of HistGradientBoosting classifier\n",
        "time_start = time()\n",
        "scores_hgb = cross_val_score(clf_hgb, X_train, y_train, scoring='accuracy', cv = cv)\n",
        "time_end = time()\n",
        "time_scores_hgb = time_end-time_start\n",
        "\n",
        "print(f\"All the accuracies are: {scores_hgb}\")\n",
        "print(f\"And the average crossvalidation accuracy is: {scores_hgb.mean():.2f} +- {scores_hgb.std():.2f}\")\n",
        "print(f'Time spent in the cross validation scoring: {round(time_scores_hgb, 4)} s')"
      ],
      "id": "Ym1HfhQSPgoy"
    },
    {
      "cell_type": "markdown",
      "metadata": {
        "id": "KtZYpw2xR1ZP"
      },
      "source": [
        "##### b.2 HPO: Optuna"
      ],
      "id": "KtZYpw2xR1ZP"
    },
    {
      "cell_type": "markdown",
      "source": [
        "We will use Optuna to tune the hyperparameters, using the pruning unpromising trials feature. This feature automatically stops unpromising trials at early stage and we can notice that when the trial appears as 'prunned' in the output.\n"
      ],
      "metadata": {
        "id": "SNXm4S-Af2XT"
      },
      "id": "SNXm4S-Af2XT"
    },
    {
      "cell_type": "code",
      "execution_count": 137,
      "metadata": {
        "id": "wMw7GVJGh5FG"
      },
      "outputs": [],
      "source": [
        "def objective_optuna_pruning(trial):\n",
        "    \n",
        "    # Range of hyperparameters\n",
        "    max_iter = trial.suggest_int(\"max_iter\", 150, 250)#, step=10)             # Default 100\n",
        "    learning_rate = trial.suggest_float(\"learning_rate\", 0.1, 0.5)            # Default 0.1\n",
        "    max_depth = trial.suggest_int(\"max_depth\", 20, 40)#, step=2)              # Default None\n",
        "    max_leaf_nodes = trial.suggest_int(\"max_leaf_nodes\", 10, 30)              # Default 31\n",
        "\n",
        "    # Defining the classifier\n",
        "    classifier_hgb = HistGradientBoostingClassifier(max_depth = max_depth,\n",
        "                                                    max_iter = max_iter,\n",
        "                                                    learning_rate = learning_rate,\n",
        "                                                    max_leaf_nodes = max_leaf_nodes,\n",
        "                                                    random_state = nia)\n",
        "    \n",
        "    # Defining the pipeline\n",
        "    clf_hgb = Pipeline(steps=[('preprocessor', preprocessor),\n",
        "                              ('classifier', classifier_hgb)])\n",
        "\n",
        "    for step in range(20):\n",
        "\n",
        "        # Scores\n",
        "        scores = cross_val_score(clf_hgb, X_train, y_train, \n",
        "                                 scoring='accuracy',\n",
        "                                 cv=cv)#, verbose=1)\n",
        "        \n",
        "        inner_mse = scores.mean()\n",
        "        trial.report(inner_mse, step)\n",
        "\n",
        "        # Handle pruning based on the intermediate value.\n",
        "        if trial.should_prune():\n",
        "            raise optuna.TrialPruned(f\"Trial was pruned at step {step}.\")\n",
        "\n",
        "    return inner_mse"
      ],
      "id": "wMw7GVJGh5FG"
    },
    {
      "cell_type": "code",
      "execution_count": 138,
      "metadata": {
        "colab": {
          "base_uri": "https://localhost:8080/"
        },
        "id": "3qINxRnKR-Ch",
        "outputId": "0b56c019-f9e0-4be4-9836-4be0ec29d6ac",
        "scrolled": true
      },
      "outputs": [
        {
          "output_type": "stream",
          "name": "stderr",
          "text": [
            "\u001b[32m[I 2022-12-29 20:07:11,902]\u001b[0m A new study created in memory with name: no-name-4e741c38-c6da-4f76-a1a1-b02913b6574d\u001b[0m\n"
          ]
        },
        {
          "output_type": "stream",
          "name": "stdout",
          "text": [
            "Model fitting...\n"
          ]
        },
        {
          "output_type": "stream",
          "name": "stderr",
          "text": [
            "\u001b[32m[I 2022-12-29 20:07:49,261]\u001b[0m Trial 0 finished with value: 0.8543859649122808 and parameters: {'max_iter': 213, 'learning_rate': 0.22073367118351805, 'max_depth': 33, 'max_leaf_nodes': 15}. Best is trial 0 with value: 0.8543859649122808.\u001b[0m\n",
            "\u001b[32m[I 2022-12-29 20:08:42,807]\u001b[0m Trial 1 finished with value: 0.8552631578947368 and parameters: {'max_iter': 187, 'learning_rate': 0.2972413491395439, 'max_depth': 39, 'max_leaf_nodes': 24}. Best is trial 1 with value: 0.8552631578947368.\u001b[0m\n",
            "\u001b[32m[I 2022-12-29 20:09:27,939]\u001b[0m Trial 2 finished with value: 0.8421052631578947 and parameters: {'max_iter': 244, 'learning_rate': 0.10466841242878529, 'max_depth': 40, 'max_leaf_nodes': 13}. Best is trial 1 with value: 0.8552631578947368.\u001b[0m\n",
            "\u001b[32m[I 2022-12-29 20:10:09,269]\u001b[0m Trial 3 finished with value: 0.8482456140350877 and parameters: {'max_iter': 189, 'learning_rate': 0.4284950721728631, 'max_depth': 26, 'max_leaf_nodes': 25}. Best is trial 1 with value: 0.8552631578947368.\u001b[0m\n",
            "\u001b[32m[I 2022-12-29 20:10:45,211]\u001b[0m Trial 4 finished with value: 0.8482456140350877 and parameters: {'max_iter': 183, 'learning_rate': 0.32897027836912995, 'max_depth': 23, 'max_leaf_nodes': 14}. Best is trial 1 with value: 0.8552631578947368.\u001b[0m\n",
            "\u001b[32m[I 2022-12-29 20:10:46,864]\u001b[0m Trial 5 pruned. Trial was pruned at step 0.\u001b[0m\n",
            "\u001b[32m[I 2022-12-29 20:11:22,605]\u001b[0m Trial 6 finished with value: 0.85 and parameters: {'max_iter': 216, 'learning_rate': 0.41502972815120065, 'max_depth': 26, 'max_leaf_nodes': 23}. Best is trial 1 with value: 0.8552631578947368.\u001b[0m\n",
            "\u001b[32m[I 2022-12-29 20:11:24,078]\u001b[0m Trial 7 pruned. Trial was pruned at step 0.\u001b[0m\n",
            "\u001b[32m[I 2022-12-29 20:11:25,592]\u001b[0m Trial 8 pruned. Trial was pruned at step 0.\u001b[0m\n",
            "\u001b[32m[I 2022-12-29 20:12:27,803]\u001b[0m Trial 9 finished with value: 0.8508771929824562 and parameters: {'max_iter': 228, 'learning_rate': 0.21229010132834814, 'max_depth': 22, 'max_leaf_nodes': 30}. Best is trial 1 with value: 0.8552631578947368.\u001b[0m\n"
          ]
        },
        {
          "output_type": "stream",
          "name": "stdout",
          "text": [
            "\n",
            "Time spent in the cross validation: 315.8985 s\n"
          ]
        }
      ],
      "source": [
        "# Set up the median stopping rule as the pruning condition.\n",
        "budget = 10\n",
        "study_pruning = optuna.create_study(pruner=optuna.pruners.MedianPruner(), direction = \"maximize\")\n",
        "\n",
        "print('Model fitting...')\n",
        "time_start= time()\n",
        "np.random.seed(nia)\n",
        "study_pruning.optimize(objective_optuna_pruning, n_trials = budget)\n",
        "time_end = time()\n",
        "time_hgb_optuna_prun = time_end-time_start\n",
        "print('')\n",
        "print(f'Time spent in the cross validation: {round(time_hgb_optuna_prun, 4)} s')"
      ],
      "id": "3qINxRnKR-Ch"
    },
    {
      "cell_type": "code",
      "execution_count": 139,
      "metadata": {
        "colab": {
          "base_uri": "https://localhost:8080/"
        },
        "id": "ytliWc6cR-Og",
        "outputId": "2163decf-4991-4457-d922-156cac3de09f"
      },
      "outputs": [
        {
          "output_type": "stream",
          "name": "stdout",
          "text": [
            "{'max_iter': 187, 'learning_rate': 0.2972413491395439, 'max_depth': 39, 'max_leaf_nodes': 24} 0.8552631578947368\n"
          ]
        },
        {
          "output_type": "execute_result",
          "data": {
            "text/plain": [
              "0.8552631578947368"
            ]
          },
          "metadata": {},
          "execution_count": 139
        }
      ],
      "source": [
        "# Best parameters from the halving random grid\n",
        "print(study_pruning.best_params, study_pruning.best_value)\n",
        "inner_eval_hgb_optuna = study_pruning.best_value\n",
        "inner_eval_hgb_optuna"
      ],
      "id": "ytliWc6cR-Og"
    },
    {
      "cell_type": "code",
      "execution_count": 141,
      "metadata": {
        "colab": {
          "base_uri": "https://localhost:8080/",
          "height": 542
        },
        "id": "WdtlJTvqSQh6",
        "outputId": "d71576ba-d0ab-4660-ac27-e21cdcde224f"
      },
      "outputs": [
        {
          "output_type": "display_data",
          "data": {
            "text/html": [
              "<html>\n",
              "<head><meta charset=\"utf-8\" /></head>\n",
              "<body>\n",
              "    <div>            <script src=\"https://cdnjs.cloudflare.com/ajax/libs/mathjax/2.7.5/MathJax.js?config=TeX-AMS-MML_SVG\"></script><script type=\"text/javascript\">if (window.MathJax) {MathJax.Hub.Config({SVG: {font: \"STIX-Web\"}});}</script>                <script type=\"text/javascript\">window.PlotlyConfig = {MathJaxConfig: 'local'};</script>\n",
              "        <script src=\"https://cdn.plot.ly/plotly-2.8.3.min.js\"></script>                <div id=\"2c378631-1ce1-4cb5-ad5f-ae38a85a48bc\" class=\"plotly-graph-div\" style=\"height:525px; width:100%;\"></div>            <script type=\"text/javascript\">                                    window.PLOTLYENV=window.PLOTLYENV || {};                                    if (document.getElementById(\"2c378631-1ce1-4cb5-ad5f-ae38a85a48bc\")) {                    Plotly.newPlot(                        \"2c378631-1ce1-4cb5-ad5f-ae38a85a48bc\",                        [{\"mode\":\"markers\",\"name\":\"Objective Value\",\"x\":[0,1,2,3,4,6,9],\"y\":[0.8543859649122808,0.8552631578947368,0.8421052631578947,0.8482456140350877,0.8482456140350877,0.85,0.8508771929824562],\"type\":\"scatter\"},{\"name\":\"Best Value\",\"x\":[0,1,2,3,4,6,9],\"y\":[0.8543859649122808,0.8552631578947368,0.8552631578947368,0.8552631578947368,0.8552631578947368,0.8552631578947368,0.8552631578947368],\"type\":\"scatter\"}],                        {\"title\":{\"text\":\"Optimization History Plot\"},\"xaxis\":{\"title\":{\"text\":\"Trial\"}},\"yaxis\":{\"title\":{\"text\":\"Objective Value\"}},\"template\":{\"data\":{\"bar\":[{\"error_x\":{\"color\":\"#2a3f5f\"},\"error_y\":{\"color\":\"#2a3f5f\"},\"marker\":{\"line\":{\"color\":\"#E5ECF6\",\"width\":0.5},\"pattern\":{\"fillmode\":\"overlay\",\"size\":10,\"solidity\":0.2}},\"type\":\"bar\"}],\"barpolar\":[{\"marker\":{\"line\":{\"color\":\"#E5ECF6\",\"width\":0.5},\"pattern\":{\"fillmode\":\"overlay\",\"size\":10,\"solidity\":0.2}},\"type\":\"barpolar\"}],\"carpet\":[{\"aaxis\":{\"endlinecolor\":\"#2a3f5f\",\"gridcolor\":\"white\",\"linecolor\":\"white\",\"minorgridcolor\":\"white\",\"startlinecolor\":\"#2a3f5f\"},\"baxis\":{\"endlinecolor\":\"#2a3f5f\",\"gridcolor\":\"white\",\"linecolor\":\"white\",\"minorgridcolor\":\"white\",\"startlinecolor\":\"#2a3f5f\"},\"type\":\"carpet\"}],\"choropleth\":[{\"colorbar\":{\"outlinewidth\":0,\"ticks\":\"\"},\"type\":\"choropleth\"}],\"contour\":[{\"colorbar\":{\"outlinewidth\":0,\"ticks\":\"\"},\"colorscale\":[[0.0,\"#0d0887\"],[0.1111111111111111,\"#46039f\"],[0.2222222222222222,\"#7201a8\"],[0.3333333333333333,\"#9c179e\"],[0.4444444444444444,\"#bd3786\"],[0.5555555555555556,\"#d8576b\"],[0.6666666666666666,\"#ed7953\"],[0.7777777777777778,\"#fb9f3a\"],[0.8888888888888888,\"#fdca26\"],[1.0,\"#f0f921\"]],\"type\":\"contour\"}],\"contourcarpet\":[{\"colorbar\":{\"outlinewidth\":0,\"ticks\":\"\"},\"type\":\"contourcarpet\"}],\"heatmap\":[{\"colorbar\":{\"outlinewidth\":0,\"ticks\":\"\"},\"colorscale\":[[0.0,\"#0d0887\"],[0.1111111111111111,\"#46039f\"],[0.2222222222222222,\"#7201a8\"],[0.3333333333333333,\"#9c179e\"],[0.4444444444444444,\"#bd3786\"],[0.5555555555555556,\"#d8576b\"],[0.6666666666666666,\"#ed7953\"],[0.7777777777777778,\"#fb9f3a\"],[0.8888888888888888,\"#fdca26\"],[1.0,\"#f0f921\"]],\"type\":\"heatmap\"}],\"heatmapgl\":[{\"colorbar\":{\"outlinewidth\":0,\"ticks\":\"\"},\"colorscale\":[[0.0,\"#0d0887\"],[0.1111111111111111,\"#46039f\"],[0.2222222222222222,\"#7201a8\"],[0.3333333333333333,\"#9c179e\"],[0.4444444444444444,\"#bd3786\"],[0.5555555555555556,\"#d8576b\"],[0.6666666666666666,\"#ed7953\"],[0.7777777777777778,\"#fb9f3a\"],[0.8888888888888888,\"#fdca26\"],[1.0,\"#f0f921\"]],\"type\":\"heatmapgl\"}],\"histogram\":[{\"marker\":{\"pattern\":{\"fillmode\":\"overlay\",\"size\":10,\"solidity\":0.2}},\"type\":\"histogram\"}],\"histogram2d\":[{\"colorbar\":{\"outlinewidth\":0,\"ticks\":\"\"},\"colorscale\":[[0.0,\"#0d0887\"],[0.1111111111111111,\"#46039f\"],[0.2222222222222222,\"#7201a8\"],[0.3333333333333333,\"#9c179e\"],[0.4444444444444444,\"#bd3786\"],[0.5555555555555556,\"#d8576b\"],[0.6666666666666666,\"#ed7953\"],[0.7777777777777778,\"#fb9f3a\"],[0.8888888888888888,\"#fdca26\"],[1.0,\"#f0f921\"]],\"type\":\"histogram2d\"}],\"histogram2dcontour\":[{\"colorbar\":{\"outlinewidth\":0,\"ticks\":\"\"},\"colorscale\":[[0.0,\"#0d0887\"],[0.1111111111111111,\"#46039f\"],[0.2222222222222222,\"#7201a8\"],[0.3333333333333333,\"#9c179e\"],[0.4444444444444444,\"#bd3786\"],[0.5555555555555556,\"#d8576b\"],[0.6666666666666666,\"#ed7953\"],[0.7777777777777778,\"#fb9f3a\"],[0.8888888888888888,\"#fdca26\"],[1.0,\"#f0f921\"]],\"type\":\"histogram2dcontour\"}],\"mesh3d\":[{\"colorbar\":{\"outlinewidth\":0,\"ticks\":\"\"},\"type\":\"mesh3d\"}],\"parcoords\":[{\"line\":{\"colorbar\":{\"outlinewidth\":0,\"ticks\":\"\"}},\"type\":\"parcoords\"}],\"pie\":[{\"automargin\":true,\"type\":\"pie\"}],\"scatter\":[{\"marker\":{\"colorbar\":{\"outlinewidth\":0,\"ticks\":\"\"}},\"type\":\"scatter\"}],\"scatter3d\":[{\"line\":{\"colorbar\":{\"outlinewidth\":0,\"ticks\":\"\"}},\"marker\":{\"colorbar\":{\"outlinewidth\":0,\"ticks\":\"\"}},\"type\":\"scatter3d\"}],\"scattercarpet\":[{\"marker\":{\"colorbar\":{\"outlinewidth\":0,\"ticks\":\"\"}},\"type\":\"scattercarpet\"}],\"scattergeo\":[{\"marker\":{\"colorbar\":{\"outlinewidth\":0,\"ticks\":\"\"}},\"type\":\"scattergeo\"}],\"scattergl\":[{\"marker\":{\"colorbar\":{\"outlinewidth\":0,\"ticks\":\"\"}},\"type\":\"scattergl\"}],\"scattermapbox\":[{\"marker\":{\"colorbar\":{\"outlinewidth\":0,\"ticks\":\"\"}},\"type\":\"scattermapbox\"}],\"scatterpolar\":[{\"marker\":{\"colorbar\":{\"outlinewidth\":0,\"ticks\":\"\"}},\"type\":\"scatterpolar\"}],\"scatterpolargl\":[{\"marker\":{\"colorbar\":{\"outlinewidth\":0,\"ticks\":\"\"}},\"type\":\"scatterpolargl\"}],\"scatterternary\":[{\"marker\":{\"colorbar\":{\"outlinewidth\":0,\"ticks\":\"\"}},\"type\":\"scatterternary\"}],\"surface\":[{\"colorbar\":{\"outlinewidth\":0,\"ticks\":\"\"},\"colorscale\":[[0.0,\"#0d0887\"],[0.1111111111111111,\"#46039f\"],[0.2222222222222222,\"#7201a8\"],[0.3333333333333333,\"#9c179e\"],[0.4444444444444444,\"#bd3786\"],[0.5555555555555556,\"#d8576b\"],[0.6666666666666666,\"#ed7953\"],[0.7777777777777778,\"#fb9f3a\"],[0.8888888888888888,\"#fdca26\"],[1.0,\"#f0f921\"]],\"type\":\"surface\"}],\"table\":[{\"cells\":{\"fill\":{\"color\":\"#EBF0F8\"},\"line\":{\"color\":\"white\"}},\"header\":{\"fill\":{\"color\":\"#C8D4E3\"},\"line\":{\"color\":\"white\"}},\"type\":\"table\"}]},\"layout\":{\"annotationdefaults\":{\"arrowcolor\":\"#2a3f5f\",\"arrowhead\":0,\"arrowwidth\":1},\"autotypenumbers\":\"strict\",\"coloraxis\":{\"colorbar\":{\"outlinewidth\":0,\"ticks\":\"\"}},\"colorscale\":{\"diverging\":[[0,\"#8e0152\"],[0.1,\"#c51b7d\"],[0.2,\"#de77ae\"],[0.3,\"#f1b6da\"],[0.4,\"#fde0ef\"],[0.5,\"#f7f7f7\"],[0.6,\"#e6f5d0\"],[0.7,\"#b8e186\"],[0.8,\"#7fbc41\"],[0.9,\"#4d9221\"],[1,\"#276419\"]],\"sequential\":[[0.0,\"#0d0887\"],[0.1111111111111111,\"#46039f\"],[0.2222222222222222,\"#7201a8\"],[0.3333333333333333,\"#9c179e\"],[0.4444444444444444,\"#bd3786\"],[0.5555555555555556,\"#d8576b\"],[0.6666666666666666,\"#ed7953\"],[0.7777777777777778,\"#fb9f3a\"],[0.8888888888888888,\"#fdca26\"],[1.0,\"#f0f921\"]],\"sequentialminus\":[[0.0,\"#0d0887\"],[0.1111111111111111,\"#46039f\"],[0.2222222222222222,\"#7201a8\"],[0.3333333333333333,\"#9c179e\"],[0.4444444444444444,\"#bd3786\"],[0.5555555555555556,\"#d8576b\"],[0.6666666666666666,\"#ed7953\"],[0.7777777777777778,\"#fb9f3a\"],[0.8888888888888888,\"#fdca26\"],[1.0,\"#f0f921\"]]},\"colorway\":[\"#636efa\",\"#EF553B\",\"#00cc96\",\"#ab63fa\",\"#FFA15A\",\"#19d3f3\",\"#FF6692\",\"#B6E880\",\"#FF97FF\",\"#FECB52\"],\"font\":{\"color\":\"#2a3f5f\"},\"geo\":{\"bgcolor\":\"white\",\"lakecolor\":\"white\",\"landcolor\":\"#E5ECF6\",\"showlakes\":true,\"showland\":true,\"subunitcolor\":\"white\"},\"hoverlabel\":{\"align\":\"left\"},\"hovermode\":\"closest\",\"mapbox\":{\"style\":\"light\"},\"paper_bgcolor\":\"white\",\"plot_bgcolor\":\"#E5ECF6\",\"polar\":{\"angularaxis\":{\"gridcolor\":\"white\",\"linecolor\":\"white\",\"ticks\":\"\"},\"bgcolor\":\"#E5ECF6\",\"radialaxis\":{\"gridcolor\":\"white\",\"linecolor\":\"white\",\"ticks\":\"\"}},\"scene\":{\"xaxis\":{\"backgroundcolor\":\"#E5ECF6\",\"gridcolor\":\"white\",\"gridwidth\":2,\"linecolor\":\"white\",\"showbackground\":true,\"ticks\":\"\",\"zerolinecolor\":\"white\"},\"yaxis\":{\"backgroundcolor\":\"#E5ECF6\",\"gridcolor\":\"white\",\"gridwidth\":2,\"linecolor\":\"white\",\"showbackground\":true,\"ticks\":\"\",\"zerolinecolor\":\"white\"},\"zaxis\":{\"backgroundcolor\":\"#E5ECF6\",\"gridcolor\":\"white\",\"gridwidth\":2,\"linecolor\":\"white\",\"showbackground\":true,\"ticks\":\"\",\"zerolinecolor\":\"white\"}},\"shapedefaults\":{\"line\":{\"color\":\"#2a3f5f\"}},\"ternary\":{\"aaxis\":{\"gridcolor\":\"white\",\"linecolor\":\"white\",\"ticks\":\"\"},\"baxis\":{\"gridcolor\":\"white\",\"linecolor\":\"white\",\"ticks\":\"\"},\"bgcolor\":\"#E5ECF6\",\"caxis\":{\"gridcolor\":\"white\",\"linecolor\":\"white\",\"ticks\":\"\"}},\"title\":{\"x\":0.05},\"xaxis\":{\"automargin\":true,\"gridcolor\":\"white\",\"linecolor\":\"white\",\"ticks\":\"\",\"title\":{\"standoff\":15},\"zerolinecolor\":\"white\",\"zerolinewidth\":2},\"yaxis\":{\"automargin\":true,\"gridcolor\":\"white\",\"linecolor\":\"white\",\"ticks\":\"\",\"title\":{\"standoff\":15},\"zerolinecolor\":\"white\",\"zerolinewidth\":2}}}},                        {\"responsive\": true}                    ).then(function(){\n",
              "                            \n",
              "var gd = document.getElementById('2c378631-1ce1-4cb5-ad5f-ae38a85a48bc');\n",
              "var x = new MutationObserver(function (mutations, observer) {{\n",
              "        var display = window.getComputedStyle(gd).display;\n",
              "        if (!display || display === 'none') {{\n",
              "            console.log([gd, 'removed!']);\n",
              "            Plotly.purge(gd);\n",
              "            observer.disconnect();\n",
              "        }}\n",
              "}});\n",
              "\n",
              "// Listen for the removal of the full notebook cells\n",
              "var notebookContainer = gd.closest('#notebook-container');\n",
              "if (notebookContainer) {{\n",
              "    x.observe(notebookContainer, {childList: true});\n",
              "}}\n",
              "\n",
              "// Listen for the clearing of the current output cell\n",
              "var outputEl = gd.closest('.output');\n",
              "if (outputEl) {{\n",
              "    x.observe(outputEl, {childList: true});\n",
              "}}\n",
              "\n",
              "                        })                };                            </script>        </div>\n",
              "</body>\n",
              "</html>"
            ]
          },
          "metadata": {}
        }
      ],
      "source": [
        "plot_optimization_history(study_pruning)"
      ],
      "id": "WdtlJTvqSQh6"
    },
    {
      "cell_type": "code",
      "execution_count": 142,
      "metadata": {
        "colab": {
          "base_uri": "https://localhost:8080/",
          "height": 542
        },
        "id": "p2k_s1WQSQLr",
        "outputId": "0aa153ad-a07d-4127-c4be-ef28cba5f194"
      },
      "outputs": [
        {
          "output_type": "display_data",
          "data": {
            "text/html": [
              "<html>\n",
              "<head><meta charset=\"utf-8\" /></head>\n",
              "<body>\n",
              "    <div>            <script src=\"https://cdnjs.cloudflare.com/ajax/libs/mathjax/2.7.5/MathJax.js?config=TeX-AMS-MML_SVG\"></script><script type=\"text/javascript\">if (window.MathJax) {MathJax.Hub.Config({SVG: {font: \"STIX-Web\"}});}</script>                <script type=\"text/javascript\">window.PlotlyConfig = {MathJaxConfig: 'local'};</script>\n",
              "        <script src=\"https://cdn.plot.ly/plotly-2.8.3.min.js\"></script>                <div id=\"62011925-7e5f-4a19-aa7b-95d0f169d04f\" class=\"plotly-graph-div\" style=\"height:525px; width:100%;\"></div>            <script type=\"text/javascript\">                                    window.PLOTLYENV=window.PLOTLYENV || {};                                    if (document.getElementById(\"62011925-7e5f-4a19-aa7b-95d0f169d04f\")) {                    Plotly.newPlot(                        \"62011925-7e5f-4a19-aa7b-95d0f169d04f\",                        [{\"dimensions\":[{\"label\":\"Objective Value\",\"range\":[0.8421052631578947,0.8552631578947368],\"values\":[0.8543859649122808,0.8552631578947368,0.8421052631578947,0.8482456140350877,0.8482456140350877,0.85,0.8508771929824562]},{\"label\":\"learning_rate\",\"range\":[0.10466841242878529,0.4284950721728631],\"values\":[0.22073367118351805,0.2972413491395439,0.10466841242878529,0.4284950721728631,0.32897027836912995,0.41502972815120065,0.21229010132834814]},{\"label\":\"max_depth\",\"range\":[22,40],\"values\":[33,39,40,26,23,26,22]},{\"label\":\"max_iter\",\"range\":[183,244],\"values\":[213,187,244,189,183,216,228]},{\"label\":\"max_leaf_nodes\",\"range\":[13,30],\"values\":[15,24,13,25,14,23,30]}],\"labelangle\":30,\"labelside\":\"bottom\",\"line\":{\"color\":[0.8543859649122808,0.8552631578947368,0.8421052631578947,0.8482456140350877,0.8482456140350877,0.85,0.8508771929824562],\"colorbar\":{\"title\":{\"text\":\"Objective Value\"}},\"colorscale\":[[0.0,\"rgb(247,251,255)\"],[0.125,\"rgb(222,235,247)\"],[0.25,\"rgb(198,219,239)\"],[0.375,\"rgb(158,202,225)\"],[0.5,\"rgb(107,174,214)\"],[0.625,\"rgb(66,146,198)\"],[0.75,\"rgb(33,113,181)\"],[0.875,\"rgb(8,81,156)\"],[1.0,\"rgb(8,48,107)\"]],\"reversescale\":false,\"showscale\":true},\"type\":\"parcoords\"}],                        {\"title\":{\"text\":\"Parallel Coordinate Plot\"},\"template\":{\"data\":{\"bar\":[{\"error_x\":{\"color\":\"#2a3f5f\"},\"error_y\":{\"color\":\"#2a3f5f\"},\"marker\":{\"line\":{\"color\":\"#E5ECF6\",\"width\":0.5},\"pattern\":{\"fillmode\":\"overlay\",\"size\":10,\"solidity\":0.2}},\"type\":\"bar\"}],\"barpolar\":[{\"marker\":{\"line\":{\"color\":\"#E5ECF6\",\"width\":0.5},\"pattern\":{\"fillmode\":\"overlay\",\"size\":10,\"solidity\":0.2}},\"type\":\"barpolar\"}],\"carpet\":[{\"aaxis\":{\"endlinecolor\":\"#2a3f5f\",\"gridcolor\":\"white\",\"linecolor\":\"white\",\"minorgridcolor\":\"white\",\"startlinecolor\":\"#2a3f5f\"},\"baxis\":{\"endlinecolor\":\"#2a3f5f\",\"gridcolor\":\"white\",\"linecolor\":\"white\",\"minorgridcolor\":\"white\",\"startlinecolor\":\"#2a3f5f\"},\"type\":\"carpet\"}],\"choropleth\":[{\"colorbar\":{\"outlinewidth\":0,\"ticks\":\"\"},\"type\":\"choropleth\"}],\"contour\":[{\"colorbar\":{\"outlinewidth\":0,\"ticks\":\"\"},\"colorscale\":[[0.0,\"#0d0887\"],[0.1111111111111111,\"#46039f\"],[0.2222222222222222,\"#7201a8\"],[0.3333333333333333,\"#9c179e\"],[0.4444444444444444,\"#bd3786\"],[0.5555555555555556,\"#d8576b\"],[0.6666666666666666,\"#ed7953\"],[0.7777777777777778,\"#fb9f3a\"],[0.8888888888888888,\"#fdca26\"],[1.0,\"#f0f921\"]],\"type\":\"contour\"}],\"contourcarpet\":[{\"colorbar\":{\"outlinewidth\":0,\"ticks\":\"\"},\"type\":\"contourcarpet\"}],\"heatmap\":[{\"colorbar\":{\"outlinewidth\":0,\"ticks\":\"\"},\"colorscale\":[[0.0,\"#0d0887\"],[0.1111111111111111,\"#46039f\"],[0.2222222222222222,\"#7201a8\"],[0.3333333333333333,\"#9c179e\"],[0.4444444444444444,\"#bd3786\"],[0.5555555555555556,\"#d8576b\"],[0.6666666666666666,\"#ed7953\"],[0.7777777777777778,\"#fb9f3a\"],[0.8888888888888888,\"#fdca26\"],[1.0,\"#f0f921\"]],\"type\":\"heatmap\"}],\"heatmapgl\":[{\"colorbar\":{\"outlinewidth\":0,\"ticks\":\"\"},\"colorscale\":[[0.0,\"#0d0887\"],[0.1111111111111111,\"#46039f\"],[0.2222222222222222,\"#7201a8\"],[0.3333333333333333,\"#9c179e\"],[0.4444444444444444,\"#bd3786\"],[0.5555555555555556,\"#d8576b\"],[0.6666666666666666,\"#ed7953\"],[0.7777777777777778,\"#fb9f3a\"],[0.8888888888888888,\"#fdca26\"],[1.0,\"#f0f921\"]],\"type\":\"heatmapgl\"}],\"histogram\":[{\"marker\":{\"pattern\":{\"fillmode\":\"overlay\",\"size\":10,\"solidity\":0.2}},\"type\":\"histogram\"}],\"histogram2d\":[{\"colorbar\":{\"outlinewidth\":0,\"ticks\":\"\"},\"colorscale\":[[0.0,\"#0d0887\"],[0.1111111111111111,\"#46039f\"],[0.2222222222222222,\"#7201a8\"],[0.3333333333333333,\"#9c179e\"],[0.4444444444444444,\"#bd3786\"],[0.5555555555555556,\"#d8576b\"],[0.6666666666666666,\"#ed7953\"],[0.7777777777777778,\"#fb9f3a\"],[0.8888888888888888,\"#fdca26\"],[1.0,\"#f0f921\"]],\"type\":\"histogram2d\"}],\"histogram2dcontour\":[{\"colorbar\":{\"outlinewidth\":0,\"ticks\":\"\"},\"colorscale\":[[0.0,\"#0d0887\"],[0.1111111111111111,\"#46039f\"],[0.2222222222222222,\"#7201a8\"],[0.3333333333333333,\"#9c179e\"],[0.4444444444444444,\"#bd3786\"],[0.5555555555555556,\"#d8576b\"],[0.6666666666666666,\"#ed7953\"],[0.7777777777777778,\"#fb9f3a\"],[0.8888888888888888,\"#fdca26\"],[1.0,\"#f0f921\"]],\"type\":\"histogram2dcontour\"}],\"mesh3d\":[{\"colorbar\":{\"outlinewidth\":0,\"ticks\":\"\"},\"type\":\"mesh3d\"}],\"parcoords\":[{\"line\":{\"colorbar\":{\"outlinewidth\":0,\"ticks\":\"\"}},\"type\":\"parcoords\"}],\"pie\":[{\"automargin\":true,\"type\":\"pie\"}],\"scatter\":[{\"marker\":{\"colorbar\":{\"outlinewidth\":0,\"ticks\":\"\"}},\"type\":\"scatter\"}],\"scatter3d\":[{\"line\":{\"colorbar\":{\"outlinewidth\":0,\"ticks\":\"\"}},\"marker\":{\"colorbar\":{\"outlinewidth\":0,\"ticks\":\"\"}},\"type\":\"scatter3d\"}],\"scattercarpet\":[{\"marker\":{\"colorbar\":{\"outlinewidth\":0,\"ticks\":\"\"}},\"type\":\"scattercarpet\"}],\"scattergeo\":[{\"marker\":{\"colorbar\":{\"outlinewidth\":0,\"ticks\":\"\"}},\"type\":\"scattergeo\"}],\"scattergl\":[{\"marker\":{\"colorbar\":{\"outlinewidth\":0,\"ticks\":\"\"}},\"type\":\"scattergl\"}],\"scattermapbox\":[{\"marker\":{\"colorbar\":{\"outlinewidth\":0,\"ticks\":\"\"}},\"type\":\"scattermapbox\"}],\"scatterpolar\":[{\"marker\":{\"colorbar\":{\"outlinewidth\":0,\"ticks\":\"\"}},\"type\":\"scatterpolar\"}],\"scatterpolargl\":[{\"marker\":{\"colorbar\":{\"outlinewidth\":0,\"ticks\":\"\"}},\"type\":\"scatterpolargl\"}],\"scatterternary\":[{\"marker\":{\"colorbar\":{\"outlinewidth\":0,\"ticks\":\"\"}},\"type\":\"scatterternary\"}],\"surface\":[{\"colorbar\":{\"outlinewidth\":0,\"ticks\":\"\"},\"colorscale\":[[0.0,\"#0d0887\"],[0.1111111111111111,\"#46039f\"],[0.2222222222222222,\"#7201a8\"],[0.3333333333333333,\"#9c179e\"],[0.4444444444444444,\"#bd3786\"],[0.5555555555555556,\"#d8576b\"],[0.6666666666666666,\"#ed7953\"],[0.7777777777777778,\"#fb9f3a\"],[0.8888888888888888,\"#fdca26\"],[1.0,\"#f0f921\"]],\"type\":\"surface\"}],\"table\":[{\"cells\":{\"fill\":{\"color\":\"#EBF0F8\"},\"line\":{\"color\":\"white\"}},\"header\":{\"fill\":{\"color\":\"#C8D4E3\"},\"line\":{\"color\":\"white\"}},\"type\":\"table\"}]},\"layout\":{\"annotationdefaults\":{\"arrowcolor\":\"#2a3f5f\",\"arrowhead\":0,\"arrowwidth\":1},\"autotypenumbers\":\"strict\",\"coloraxis\":{\"colorbar\":{\"outlinewidth\":0,\"ticks\":\"\"}},\"colorscale\":{\"diverging\":[[0,\"#8e0152\"],[0.1,\"#c51b7d\"],[0.2,\"#de77ae\"],[0.3,\"#f1b6da\"],[0.4,\"#fde0ef\"],[0.5,\"#f7f7f7\"],[0.6,\"#e6f5d0\"],[0.7,\"#b8e186\"],[0.8,\"#7fbc41\"],[0.9,\"#4d9221\"],[1,\"#276419\"]],\"sequential\":[[0.0,\"#0d0887\"],[0.1111111111111111,\"#46039f\"],[0.2222222222222222,\"#7201a8\"],[0.3333333333333333,\"#9c179e\"],[0.4444444444444444,\"#bd3786\"],[0.5555555555555556,\"#d8576b\"],[0.6666666666666666,\"#ed7953\"],[0.7777777777777778,\"#fb9f3a\"],[0.8888888888888888,\"#fdca26\"],[1.0,\"#f0f921\"]],\"sequentialminus\":[[0.0,\"#0d0887\"],[0.1111111111111111,\"#46039f\"],[0.2222222222222222,\"#7201a8\"],[0.3333333333333333,\"#9c179e\"],[0.4444444444444444,\"#bd3786\"],[0.5555555555555556,\"#d8576b\"],[0.6666666666666666,\"#ed7953\"],[0.7777777777777778,\"#fb9f3a\"],[0.8888888888888888,\"#fdca26\"],[1.0,\"#f0f921\"]]},\"colorway\":[\"#636efa\",\"#EF553B\",\"#00cc96\",\"#ab63fa\",\"#FFA15A\",\"#19d3f3\",\"#FF6692\",\"#B6E880\",\"#FF97FF\",\"#FECB52\"],\"font\":{\"color\":\"#2a3f5f\"},\"geo\":{\"bgcolor\":\"white\",\"lakecolor\":\"white\",\"landcolor\":\"#E5ECF6\",\"showlakes\":true,\"showland\":true,\"subunitcolor\":\"white\"},\"hoverlabel\":{\"align\":\"left\"},\"hovermode\":\"closest\",\"mapbox\":{\"style\":\"light\"},\"paper_bgcolor\":\"white\",\"plot_bgcolor\":\"#E5ECF6\",\"polar\":{\"angularaxis\":{\"gridcolor\":\"white\",\"linecolor\":\"white\",\"ticks\":\"\"},\"bgcolor\":\"#E5ECF6\",\"radialaxis\":{\"gridcolor\":\"white\",\"linecolor\":\"white\",\"ticks\":\"\"}},\"scene\":{\"xaxis\":{\"backgroundcolor\":\"#E5ECF6\",\"gridcolor\":\"white\",\"gridwidth\":2,\"linecolor\":\"white\",\"showbackground\":true,\"ticks\":\"\",\"zerolinecolor\":\"white\"},\"yaxis\":{\"backgroundcolor\":\"#E5ECF6\",\"gridcolor\":\"white\",\"gridwidth\":2,\"linecolor\":\"white\",\"showbackground\":true,\"ticks\":\"\",\"zerolinecolor\":\"white\"},\"zaxis\":{\"backgroundcolor\":\"#E5ECF6\",\"gridcolor\":\"white\",\"gridwidth\":2,\"linecolor\":\"white\",\"showbackground\":true,\"ticks\":\"\",\"zerolinecolor\":\"white\"}},\"shapedefaults\":{\"line\":{\"color\":\"#2a3f5f\"}},\"ternary\":{\"aaxis\":{\"gridcolor\":\"white\",\"linecolor\":\"white\",\"ticks\":\"\"},\"baxis\":{\"gridcolor\":\"white\",\"linecolor\":\"white\",\"ticks\":\"\"},\"bgcolor\":\"#E5ECF6\",\"caxis\":{\"gridcolor\":\"white\",\"linecolor\":\"white\",\"ticks\":\"\"}},\"title\":{\"x\":0.05},\"xaxis\":{\"automargin\":true,\"gridcolor\":\"white\",\"linecolor\":\"white\",\"ticks\":\"\",\"title\":{\"standoff\":15},\"zerolinecolor\":\"white\",\"zerolinewidth\":2},\"yaxis\":{\"automargin\":true,\"gridcolor\":\"white\",\"linecolor\":\"white\",\"ticks\":\"\",\"title\":{\"standoff\":15},\"zerolinecolor\":\"white\",\"zerolinewidth\":2}}}},                        {\"responsive\": true}                    ).then(function(){\n",
              "                            \n",
              "var gd = document.getElementById('62011925-7e5f-4a19-aa7b-95d0f169d04f');\n",
              "var x = new MutationObserver(function (mutations, observer) {{\n",
              "        var display = window.getComputedStyle(gd).display;\n",
              "        if (!display || display === 'none') {{\n",
              "            console.log([gd, 'removed!']);\n",
              "            Plotly.purge(gd);\n",
              "            observer.disconnect();\n",
              "        }}\n",
              "}});\n",
              "\n",
              "// Listen for the removal of the full notebook cells\n",
              "var notebookContainer = gd.closest('#notebook-container');\n",
              "if (notebookContainer) {{\n",
              "    x.observe(notebookContainer, {childList: true});\n",
              "}}\n",
              "\n",
              "// Listen for the clearing of the current output cell\n",
              "var outputEl = gd.closest('.output');\n",
              "if (outputEl) {{\n",
              "    x.observe(outputEl, {childList: true});\n",
              "}}\n",
              "\n",
              "                        })                };                            </script>        </div>\n",
              "</body>\n",
              "</html>"
            ]
          },
          "metadata": {}
        }
      ],
      "source": [
        "plot_parallel_coordinate(study_pruning)"
      ],
      "id": "p2k_s1WQSQLr"
    },
    {
      "cell_type": "code",
      "execution_count": 143,
      "metadata": {
        "colab": {
          "base_uri": "https://localhost:8080/",
          "height": 542
        },
        "id": "Jggc0DzAR-ZA",
        "outputId": "aa6e71e4-5593-410c-bb3c-4e5bfac41891"
      },
      "outputs": [
        {
          "output_type": "display_data",
          "data": {
            "text/html": [
              "<html>\n",
              "<head><meta charset=\"utf-8\" /></head>\n",
              "<body>\n",
              "    <div>            <script src=\"https://cdnjs.cloudflare.com/ajax/libs/mathjax/2.7.5/MathJax.js?config=TeX-AMS-MML_SVG\"></script><script type=\"text/javascript\">if (window.MathJax) {MathJax.Hub.Config({SVG: {font: \"STIX-Web\"}});}</script>                <script type=\"text/javascript\">window.PlotlyConfig = {MathJaxConfig: 'local'};</script>\n",
              "        <script src=\"https://cdn.plot.ly/plotly-2.8.3.min.js\"></script>                <div id=\"43969377-76a8-451f-9fa1-904262fd7fba\" class=\"plotly-graph-div\" style=\"height:525px; width:100%;\"></div>            <script type=\"text/javascript\">                                    window.PLOTLYENV=window.PLOTLYENV || {};                                    if (document.getElementById(\"43969377-76a8-451f-9fa1-904262fd7fba\")) {                    Plotly.newPlot(                        \"43969377-76a8-451f-9fa1-904262fd7fba\",                        [{\"type\":\"scatter\",\"xaxis\":\"x\",\"yaxis\":\"y\"},{\"colorbar\":{\"title\":{\"text\":\"Objective Value\"}},\"colorscale\":[[0.0,\"rgb(247,251,255)\"],[0.125,\"rgb(222,235,247)\"],[0.25,\"rgb(198,219,239)\"],[0.375,\"rgb(158,202,225)\"],[0.5,\"rgb(107,174,214)\"],[0.625,\"rgb(66,146,198)\"],[0.75,\"rgb(33,113,181)\"],[0.875,\"rgb(8,81,156)\"],[1.0,\"rgb(8,48,107)\"]],\"connectgaps\":true,\"contours\":{\"coloring\":\"heatmap\"},\"hoverinfo\":\"none\",\"line\":{\"smoothing\":1.3},\"reversescale\":false,\"showscale\":true,\"x\":[0.0884770794415814,0.10466841242878529,0.21229010132834814,0.22073367118351805,0.2972413491395439,0.32897027836912995,0.41502972815120065,0.4284950721728631,0.44468640516006697],\"y\":[21.1,22,23,26,33,39,40,40.9],\"z\":[[null,null,null,null,null,null,null,null,null],[null,null,0.8508771929824562,null,null,null,null,null,null],[null,null,null,null,null,0.8482456140350877,null,null,null],[null,null,null,null,null,null,0.85,0.8482456140350877,null],[null,null,null,0.8543859649122808,null,null,null,null,null],[null,null,null,null,0.8552631578947368,null,null,null,null],[null,0.8421052631578947,null,null,null,null,null,null,null],[null,null,null,null,null,null,null,null,null]],\"type\":\"contour\",\"xaxis\":\"x5\",\"yaxis\":\"y5\"},{\"marker\":{\"color\":\"black\",\"line\":{\"color\":\"Grey\",\"width\":2.0}},\"mode\":\"markers\",\"showlegend\":false,\"x\":[0.22073367118351805,0.2972413491395439,0.10466841242878529,0.4284950721728631,0.32897027836912995,0.41502972815120065,0.21229010132834814],\"y\":[33,39,40,26,23,26,22],\"type\":\"scatter\",\"xaxis\":\"x5\",\"yaxis\":\"y5\"},{\"colorbar\":{\"title\":{\"text\":\"Objective Value\"}},\"colorscale\":[[0.0,\"rgb(247,251,255)\"],[0.125,\"rgb(222,235,247)\"],[0.25,\"rgb(198,219,239)\"],[0.375,\"rgb(158,202,225)\"],[0.5,\"rgb(107,174,214)\"],[0.625,\"rgb(66,146,198)\"],[0.75,\"rgb(33,113,181)\"],[0.875,\"rgb(8,81,156)\"],[1.0,\"rgb(8,48,107)\"]],\"connectgaps\":true,\"contours\":{\"coloring\":\"heatmap\"},\"hoverinfo\":\"none\",\"line\":{\"smoothing\":1.3},\"reversescale\":false,\"showscale\":false,\"x\":[0.0884770794415814,0.10466841242878529,0.21229010132834814,0.22073367118351805,0.2972413491395439,0.32897027836912995,0.41502972815120065,0.4284950721728631,0.44468640516006697],\"y\":[179.95,183,187,189,213,216,228,244,247.05],\"z\":[[null,null,null,null,null,null,null,null,null],[null,null,null,null,null,0.8482456140350877,null,null,null],[null,null,null,null,0.8552631578947368,null,null,null,null],[null,null,null,null,null,null,null,0.8482456140350877,null],[null,null,null,0.8543859649122808,null,null,null,null,null],[null,null,null,null,null,null,0.85,null,null],[null,null,0.8508771929824562,null,null,null,null,null,null],[null,0.8421052631578947,null,null,null,null,null,null,null],[null,null,null,null,null,null,null,null,null]],\"type\":\"contour\",\"xaxis\":\"x9\",\"yaxis\":\"y9\"},{\"marker\":{\"color\":\"black\",\"line\":{\"color\":\"Grey\",\"width\":2.0}},\"mode\":\"markers\",\"showlegend\":false,\"x\":[0.22073367118351805,0.2972413491395439,0.10466841242878529,0.4284950721728631,0.32897027836912995,0.41502972815120065,0.21229010132834814],\"y\":[213,187,244,189,183,216,228],\"type\":\"scatter\",\"xaxis\":\"x9\",\"yaxis\":\"y9\"},{\"colorbar\":{\"title\":{\"text\":\"Objective Value\"}},\"colorscale\":[[0.0,\"rgb(247,251,255)\"],[0.125,\"rgb(222,235,247)\"],[0.25,\"rgb(198,219,239)\"],[0.375,\"rgb(158,202,225)\"],[0.5,\"rgb(107,174,214)\"],[0.625,\"rgb(66,146,198)\"],[0.75,\"rgb(33,113,181)\"],[0.875,\"rgb(8,81,156)\"],[1.0,\"rgb(8,48,107)\"]],\"connectgaps\":true,\"contours\":{\"coloring\":\"heatmap\"},\"hoverinfo\":\"none\",\"line\":{\"smoothing\":1.3},\"reversescale\":false,\"showscale\":false,\"x\":[0.0884770794415814,0.10466841242878529,0.21229010132834814,0.22073367118351805,0.2972413491395439,0.32897027836912995,0.41502972815120065,0.4284950721728631,0.44468640516006697],\"y\":[12.15,13,14,15,23,24,25,30,30.85],\"z\":[[null,null,null,null,null,null,null,null,null],[null,0.8421052631578947,null,null,null,null,null,null,null],[null,null,null,null,null,0.8482456140350877,null,null,null],[null,null,null,0.8543859649122808,null,null,null,null,null],[null,null,null,null,null,null,0.85,null,null],[null,null,null,null,0.8552631578947368,null,null,null,null],[null,null,null,null,null,null,null,0.8482456140350877,null],[null,null,0.8508771929824562,null,null,null,null,null,null],[null,null,null,null,null,null,null,null,null]],\"type\":\"contour\",\"xaxis\":\"x13\",\"yaxis\":\"y13\"},{\"marker\":{\"color\":\"black\",\"line\":{\"color\":\"Grey\",\"width\":2.0}},\"mode\":\"markers\",\"showlegend\":false,\"x\":[0.22073367118351805,0.2972413491395439,0.10466841242878529,0.4284950721728631,0.32897027836912995,0.41502972815120065,0.21229010132834814],\"y\":[15,24,13,25,14,23,30],\"type\":\"scatter\",\"xaxis\":\"x13\",\"yaxis\":\"y13\"},{\"colorbar\":{\"title\":{\"text\":\"Objective Value\"}},\"colorscale\":[[0.0,\"rgb(247,251,255)\"],[0.125,\"rgb(222,235,247)\"],[0.25,\"rgb(198,219,239)\"],[0.375,\"rgb(158,202,225)\"],[0.5,\"rgb(107,174,214)\"],[0.625,\"rgb(66,146,198)\"],[0.75,\"rgb(33,113,181)\"],[0.875,\"rgb(8,81,156)\"],[1.0,\"rgb(8,48,107)\"]],\"connectgaps\":true,\"contours\":{\"coloring\":\"heatmap\"},\"hoverinfo\":\"none\",\"line\":{\"smoothing\":1.3},\"reversescale\":false,\"showscale\":false,\"x\":[21.1,22,23,26,33,39,40,40.9],\"y\":[0.0884770794415814,0.10466841242878529,0.21229010132834814,0.22073367118351805,0.2972413491395439,0.32897027836912995,0.41502972815120065,0.4284950721728631,0.44468640516006697],\"z\":[[null,null,null,null,null,null,null,null],[null,null,null,null,null,null,0.8421052631578947,null],[null,0.8508771929824562,null,null,null,null,null,null],[null,null,null,null,0.8543859649122808,null,null,null],[null,null,null,null,null,0.8552631578947368,null,null],[null,null,0.8482456140350877,null,null,null,null,null],[null,null,null,0.85,null,null,null,null],[null,null,null,0.8482456140350877,null,null,null,null],[null,null,null,null,null,null,null,null]],\"type\":\"contour\",\"xaxis\":\"x2\",\"yaxis\":\"y2\"},{\"marker\":{\"color\":\"black\",\"line\":{\"color\":\"Grey\",\"width\":2.0}},\"mode\":\"markers\",\"showlegend\":false,\"x\":[33,39,40,26,23,26,22],\"y\":[0.22073367118351805,0.2972413491395439,0.10466841242878529,0.4284950721728631,0.32897027836912995,0.41502972815120065,0.21229010132834814],\"type\":\"scatter\",\"xaxis\":\"x2\",\"yaxis\":\"y2\"},{\"type\":\"scatter\",\"xaxis\":\"x6\",\"yaxis\":\"y6\"},{\"colorbar\":{\"title\":{\"text\":\"Objective Value\"}},\"colorscale\":[[0.0,\"rgb(247,251,255)\"],[0.125,\"rgb(222,235,247)\"],[0.25,\"rgb(198,219,239)\"],[0.375,\"rgb(158,202,225)\"],[0.5,\"rgb(107,174,214)\"],[0.625,\"rgb(66,146,198)\"],[0.75,\"rgb(33,113,181)\"],[0.875,\"rgb(8,81,156)\"],[1.0,\"rgb(8,48,107)\"]],\"connectgaps\":true,\"contours\":{\"coloring\":\"heatmap\"},\"hoverinfo\":\"none\",\"line\":{\"smoothing\":1.3},\"reversescale\":false,\"showscale\":false,\"x\":[21.1,22,23,26,33,39,40,40.9],\"y\":[179.95,183,187,189,213,216,228,244,247.05],\"z\":[[null,null,null,null,null,null,null,null],[null,null,0.8482456140350877,null,null,null,null,null],[null,null,null,null,null,0.8552631578947368,null,null],[null,null,null,0.8482456140350877,null,null,null,null],[null,null,null,null,0.8543859649122808,null,null,null],[null,null,null,0.85,null,null,null,null],[null,0.8508771929824562,null,null,null,null,null,null],[null,null,null,null,null,null,0.8421052631578947,null],[null,null,null,null,null,null,null,null]],\"type\":\"contour\",\"xaxis\":\"x10\",\"yaxis\":\"y10\"},{\"marker\":{\"color\":\"black\",\"line\":{\"color\":\"Grey\",\"width\":2.0}},\"mode\":\"markers\",\"showlegend\":false,\"x\":[33,39,40,26,23,26,22],\"y\":[213,187,244,189,183,216,228],\"type\":\"scatter\",\"xaxis\":\"x10\",\"yaxis\":\"y10\"},{\"colorbar\":{\"title\":{\"text\":\"Objective Value\"}},\"colorscale\":[[0.0,\"rgb(247,251,255)\"],[0.125,\"rgb(222,235,247)\"],[0.25,\"rgb(198,219,239)\"],[0.375,\"rgb(158,202,225)\"],[0.5,\"rgb(107,174,214)\"],[0.625,\"rgb(66,146,198)\"],[0.75,\"rgb(33,113,181)\"],[0.875,\"rgb(8,81,156)\"],[1.0,\"rgb(8,48,107)\"]],\"connectgaps\":true,\"contours\":{\"coloring\":\"heatmap\"},\"hoverinfo\":\"none\",\"line\":{\"smoothing\":1.3},\"reversescale\":false,\"showscale\":false,\"x\":[21.1,22,23,26,33,39,40,40.9],\"y\":[12.15,13,14,15,23,24,25,30,30.85],\"z\":[[null,null,null,null,null,null,null,null],[null,null,null,null,null,null,0.8421052631578947,null],[null,null,0.8482456140350877,null,null,null,null,null],[null,null,null,null,0.8543859649122808,null,null,null],[null,null,null,0.85,null,null,null,null],[null,null,null,null,null,0.8552631578947368,null,null],[null,null,null,0.8482456140350877,null,null,null,null],[null,0.8508771929824562,null,null,null,null,null,null],[null,null,null,null,null,null,null,null]],\"type\":\"contour\",\"xaxis\":\"x14\",\"yaxis\":\"y14\"},{\"marker\":{\"color\":\"black\",\"line\":{\"color\":\"Grey\",\"width\":2.0}},\"mode\":\"markers\",\"showlegend\":false,\"x\":[33,39,40,26,23,26,22],\"y\":[15,24,13,25,14,23,30],\"type\":\"scatter\",\"xaxis\":\"x14\",\"yaxis\":\"y14\"},{\"colorbar\":{\"title\":{\"text\":\"Objective Value\"}},\"colorscale\":[[0.0,\"rgb(247,251,255)\"],[0.125,\"rgb(222,235,247)\"],[0.25,\"rgb(198,219,239)\"],[0.375,\"rgb(158,202,225)\"],[0.5,\"rgb(107,174,214)\"],[0.625,\"rgb(66,146,198)\"],[0.75,\"rgb(33,113,181)\"],[0.875,\"rgb(8,81,156)\"],[1.0,\"rgb(8,48,107)\"]],\"connectgaps\":true,\"contours\":{\"coloring\":\"heatmap\"},\"hoverinfo\":\"none\",\"line\":{\"smoothing\":1.3},\"reversescale\":false,\"showscale\":false,\"x\":[179.95,183,187,189,213,216,228,244,247.05],\"y\":[0.0884770794415814,0.10466841242878529,0.21229010132834814,0.22073367118351805,0.2972413491395439,0.32897027836912995,0.41502972815120065,0.4284950721728631,0.44468640516006697],\"z\":[[null,null,null,null,null,null,null,null,null],[null,null,null,null,null,null,null,0.8421052631578947,null],[null,null,null,null,null,null,0.8508771929824562,null,null],[null,null,null,null,0.8543859649122808,null,null,null,null],[null,null,0.8552631578947368,null,null,null,null,null,null],[null,0.8482456140350877,null,null,null,null,null,null,null],[null,null,null,null,null,0.85,null,null,null],[null,null,null,0.8482456140350877,null,null,null,null,null],[null,null,null,null,null,null,null,null,null]],\"type\":\"contour\",\"xaxis\":\"x3\",\"yaxis\":\"y3\"},{\"marker\":{\"color\":\"black\",\"line\":{\"color\":\"Grey\",\"width\":2.0}},\"mode\":\"markers\",\"showlegend\":false,\"x\":[213,187,244,189,183,216,228],\"y\":[0.22073367118351805,0.2972413491395439,0.10466841242878529,0.4284950721728631,0.32897027836912995,0.41502972815120065,0.21229010132834814],\"type\":\"scatter\",\"xaxis\":\"x3\",\"yaxis\":\"y3\"},{\"colorbar\":{\"title\":{\"text\":\"Objective Value\"}},\"colorscale\":[[0.0,\"rgb(247,251,255)\"],[0.125,\"rgb(222,235,247)\"],[0.25,\"rgb(198,219,239)\"],[0.375,\"rgb(158,202,225)\"],[0.5,\"rgb(107,174,214)\"],[0.625,\"rgb(66,146,198)\"],[0.75,\"rgb(33,113,181)\"],[0.875,\"rgb(8,81,156)\"],[1.0,\"rgb(8,48,107)\"]],\"connectgaps\":true,\"contours\":{\"coloring\":\"heatmap\"},\"hoverinfo\":\"none\",\"line\":{\"smoothing\":1.3},\"reversescale\":false,\"showscale\":false,\"x\":[179.95,183,187,189,213,216,228,244,247.05],\"y\":[21.1,22,23,26,33,39,40,40.9],\"z\":[[null,null,null,null,null,null,null,null,null],[null,null,null,null,null,null,0.8508771929824562,null,null],[null,0.8482456140350877,null,null,null,null,null,null,null],[null,null,null,0.8482456140350877,null,0.85,null,null,null],[null,null,null,null,0.8543859649122808,null,null,null,null],[null,null,0.8552631578947368,null,null,null,null,null,null],[null,null,null,null,null,null,null,0.8421052631578947,null],[null,null,null,null,null,null,null,null,null]],\"type\":\"contour\",\"xaxis\":\"x7\",\"yaxis\":\"y7\"},{\"marker\":{\"color\":\"black\",\"line\":{\"color\":\"Grey\",\"width\":2.0}},\"mode\":\"markers\",\"showlegend\":false,\"x\":[213,187,244,189,183,216,228],\"y\":[33,39,40,26,23,26,22],\"type\":\"scatter\",\"xaxis\":\"x7\",\"yaxis\":\"y7\"},{\"type\":\"scatter\",\"xaxis\":\"x11\",\"yaxis\":\"y11\"},{\"colorbar\":{\"title\":{\"text\":\"Objective Value\"}},\"colorscale\":[[0.0,\"rgb(247,251,255)\"],[0.125,\"rgb(222,235,247)\"],[0.25,\"rgb(198,219,239)\"],[0.375,\"rgb(158,202,225)\"],[0.5,\"rgb(107,174,214)\"],[0.625,\"rgb(66,146,198)\"],[0.75,\"rgb(33,113,181)\"],[0.875,\"rgb(8,81,156)\"],[1.0,\"rgb(8,48,107)\"]],\"connectgaps\":true,\"contours\":{\"coloring\":\"heatmap\"},\"hoverinfo\":\"none\",\"line\":{\"smoothing\":1.3},\"reversescale\":false,\"showscale\":false,\"x\":[179.95,183,187,189,213,216,228,244,247.05],\"y\":[12.15,13,14,15,23,24,25,30,30.85],\"z\":[[null,null,null,null,null,null,null,null,null],[null,null,null,null,null,null,null,0.8421052631578947,null],[null,0.8482456140350877,null,null,null,null,null,null,null],[null,null,null,null,0.8543859649122808,null,null,null,null],[null,null,null,null,null,0.85,null,null,null],[null,null,0.8552631578947368,null,null,null,null,null,null],[null,null,null,0.8482456140350877,null,null,null,null,null],[null,null,null,null,null,null,0.8508771929824562,null,null],[null,null,null,null,null,null,null,null,null]],\"type\":\"contour\",\"xaxis\":\"x15\",\"yaxis\":\"y15\"},{\"marker\":{\"color\":\"black\",\"line\":{\"color\":\"Grey\",\"width\":2.0}},\"mode\":\"markers\",\"showlegend\":false,\"x\":[213,187,244,189,183,216,228],\"y\":[15,24,13,25,14,23,30],\"type\":\"scatter\",\"xaxis\":\"x15\",\"yaxis\":\"y15\"},{\"colorbar\":{\"title\":{\"text\":\"Objective Value\"}},\"colorscale\":[[0.0,\"rgb(247,251,255)\"],[0.125,\"rgb(222,235,247)\"],[0.25,\"rgb(198,219,239)\"],[0.375,\"rgb(158,202,225)\"],[0.5,\"rgb(107,174,214)\"],[0.625,\"rgb(66,146,198)\"],[0.75,\"rgb(33,113,181)\"],[0.875,\"rgb(8,81,156)\"],[1.0,\"rgb(8,48,107)\"]],\"connectgaps\":true,\"contours\":{\"coloring\":\"heatmap\"},\"hoverinfo\":\"none\",\"line\":{\"smoothing\":1.3},\"reversescale\":false,\"showscale\":false,\"x\":[12.15,13,14,15,23,24,25,30,30.85],\"y\":[0.0884770794415814,0.10466841242878529,0.21229010132834814,0.22073367118351805,0.2972413491395439,0.32897027836912995,0.41502972815120065,0.4284950721728631,0.44468640516006697],\"z\":[[null,null,null,null,null,null,null,null,null],[null,0.8421052631578947,null,null,null,null,null,null,null],[null,null,null,null,null,null,null,0.8508771929824562,null],[null,null,null,0.8543859649122808,null,null,null,null,null],[null,null,null,null,null,0.8552631578947368,null,null,null],[null,null,0.8482456140350877,null,null,null,null,null,null],[null,null,null,null,0.85,null,null,null,null],[null,null,null,null,null,null,0.8482456140350877,null,null],[null,null,null,null,null,null,null,null,null]],\"type\":\"contour\",\"xaxis\":\"x4\",\"yaxis\":\"y4\"},{\"marker\":{\"color\":\"black\",\"line\":{\"color\":\"Grey\",\"width\":2.0}},\"mode\":\"markers\",\"showlegend\":false,\"x\":[15,24,13,25,14,23,30],\"y\":[0.22073367118351805,0.2972413491395439,0.10466841242878529,0.4284950721728631,0.32897027836912995,0.41502972815120065,0.21229010132834814],\"type\":\"scatter\",\"xaxis\":\"x4\",\"yaxis\":\"y4\"},{\"colorbar\":{\"title\":{\"text\":\"Objective Value\"}},\"colorscale\":[[0.0,\"rgb(247,251,255)\"],[0.125,\"rgb(222,235,247)\"],[0.25,\"rgb(198,219,239)\"],[0.375,\"rgb(158,202,225)\"],[0.5,\"rgb(107,174,214)\"],[0.625,\"rgb(66,146,198)\"],[0.75,\"rgb(33,113,181)\"],[0.875,\"rgb(8,81,156)\"],[1.0,\"rgb(8,48,107)\"]],\"connectgaps\":true,\"contours\":{\"coloring\":\"heatmap\"},\"hoverinfo\":\"none\",\"line\":{\"smoothing\":1.3},\"reversescale\":false,\"showscale\":false,\"x\":[12.15,13,14,15,23,24,25,30,30.85],\"y\":[21.1,22,23,26,33,39,40,40.9],\"z\":[[null,null,null,null,null,null,null,null,null],[null,null,null,null,null,null,null,0.8508771929824562,null],[null,null,0.8482456140350877,null,null,null,null,null,null],[null,null,null,null,0.85,null,0.8482456140350877,null,null],[null,null,null,0.8543859649122808,null,null,null,null,null],[null,null,null,null,null,0.8552631578947368,null,null,null],[null,0.8421052631578947,null,null,null,null,null,null,null],[null,null,null,null,null,null,null,null,null]],\"type\":\"contour\",\"xaxis\":\"x8\",\"yaxis\":\"y8\"},{\"marker\":{\"color\":\"black\",\"line\":{\"color\":\"Grey\",\"width\":2.0}},\"mode\":\"markers\",\"showlegend\":false,\"x\":[15,24,13,25,14,23,30],\"y\":[33,39,40,26,23,26,22],\"type\":\"scatter\",\"xaxis\":\"x8\",\"yaxis\":\"y8\"},{\"colorbar\":{\"title\":{\"text\":\"Objective Value\"}},\"colorscale\":[[0.0,\"rgb(247,251,255)\"],[0.125,\"rgb(222,235,247)\"],[0.25,\"rgb(198,219,239)\"],[0.375,\"rgb(158,202,225)\"],[0.5,\"rgb(107,174,214)\"],[0.625,\"rgb(66,146,198)\"],[0.75,\"rgb(33,113,181)\"],[0.875,\"rgb(8,81,156)\"],[1.0,\"rgb(8,48,107)\"]],\"connectgaps\":true,\"contours\":{\"coloring\":\"heatmap\"},\"hoverinfo\":\"none\",\"line\":{\"smoothing\":1.3},\"reversescale\":false,\"showscale\":false,\"x\":[12.15,13,14,15,23,24,25,30,30.85],\"y\":[179.95,183,187,189,213,216,228,244,247.05],\"z\":[[null,null,null,null,null,null,null,null,null],[null,null,0.8482456140350877,null,null,null,null,null,null],[null,null,null,null,null,0.8552631578947368,null,null,null],[null,null,null,null,null,null,0.8482456140350877,null,null],[null,null,null,0.8543859649122808,null,null,null,null,null],[null,null,null,null,0.85,null,null,null,null],[null,null,null,null,null,null,null,0.8508771929824562,null],[null,0.8421052631578947,null,null,null,null,null,null,null],[null,null,null,null,null,null,null,null,null]],\"type\":\"contour\",\"xaxis\":\"x12\",\"yaxis\":\"y12\"},{\"marker\":{\"color\":\"black\",\"line\":{\"color\":\"Grey\",\"width\":2.0}},\"mode\":\"markers\",\"showlegend\":false,\"x\":[15,24,13,25,14,23,30],\"y\":[213,187,244,189,183,216,228],\"type\":\"scatter\",\"xaxis\":\"x12\",\"yaxis\":\"y12\"},{\"type\":\"scatter\",\"xaxis\":\"x16\",\"yaxis\":\"y16\"}],                        {\"template\":{\"data\":{\"bar\":[{\"error_x\":{\"color\":\"#2a3f5f\"},\"error_y\":{\"color\":\"#2a3f5f\"},\"marker\":{\"line\":{\"color\":\"#E5ECF6\",\"width\":0.5},\"pattern\":{\"fillmode\":\"overlay\",\"size\":10,\"solidity\":0.2}},\"type\":\"bar\"}],\"barpolar\":[{\"marker\":{\"line\":{\"color\":\"#E5ECF6\",\"width\":0.5},\"pattern\":{\"fillmode\":\"overlay\",\"size\":10,\"solidity\":0.2}},\"type\":\"barpolar\"}],\"carpet\":[{\"aaxis\":{\"endlinecolor\":\"#2a3f5f\",\"gridcolor\":\"white\",\"linecolor\":\"white\",\"minorgridcolor\":\"white\",\"startlinecolor\":\"#2a3f5f\"},\"baxis\":{\"endlinecolor\":\"#2a3f5f\",\"gridcolor\":\"white\",\"linecolor\":\"white\",\"minorgridcolor\":\"white\",\"startlinecolor\":\"#2a3f5f\"},\"type\":\"carpet\"}],\"choropleth\":[{\"colorbar\":{\"outlinewidth\":0,\"ticks\":\"\"},\"type\":\"choropleth\"}],\"contour\":[{\"colorbar\":{\"outlinewidth\":0,\"ticks\":\"\"},\"colorscale\":[[0.0,\"#0d0887\"],[0.1111111111111111,\"#46039f\"],[0.2222222222222222,\"#7201a8\"],[0.3333333333333333,\"#9c179e\"],[0.4444444444444444,\"#bd3786\"],[0.5555555555555556,\"#d8576b\"],[0.6666666666666666,\"#ed7953\"],[0.7777777777777778,\"#fb9f3a\"],[0.8888888888888888,\"#fdca26\"],[1.0,\"#f0f921\"]],\"type\":\"contour\"}],\"contourcarpet\":[{\"colorbar\":{\"outlinewidth\":0,\"ticks\":\"\"},\"type\":\"contourcarpet\"}],\"heatmap\":[{\"colorbar\":{\"outlinewidth\":0,\"ticks\":\"\"},\"colorscale\":[[0.0,\"#0d0887\"],[0.1111111111111111,\"#46039f\"],[0.2222222222222222,\"#7201a8\"],[0.3333333333333333,\"#9c179e\"],[0.4444444444444444,\"#bd3786\"],[0.5555555555555556,\"#d8576b\"],[0.6666666666666666,\"#ed7953\"],[0.7777777777777778,\"#fb9f3a\"],[0.8888888888888888,\"#fdca26\"],[1.0,\"#f0f921\"]],\"type\":\"heatmap\"}],\"heatmapgl\":[{\"colorbar\":{\"outlinewidth\":0,\"ticks\":\"\"},\"colorscale\":[[0.0,\"#0d0887\"],[0.1111111111111111,\"#46039f\"],[0.2222222222222222,\"#7201a8\"],[0.3333333333333333,\"#9c179e\"],[0.4444444444444444,\"#bd3786\"],[0.5555555555555556,\"#d8576b\"],[0.6666666666666666,\"#ed7953\"],[0.7777777777777778,\"#fb9f3a\"],[0.8888888888888888,\"#fdca26\"],[1.0,\"#f0f921\"]],\"type\":\"heatmapgl\"}],\"histogram\":[{\"marker\":{\"pattern\":{\"fillmode\":\"overlay\",\"size\":10,\"solidity\":0.2}},\"type\":\"histogram\"}],\"histogram2d\":[{\"colorbar\":{\"outlinewidth\":0,\"ticks\":\"\"},\"colorscale\":[[0.0,\"#0d0887\"],[0.1111111111111111,\"#46039f\"],[0.2222222222222222,\"#7201a8\"],[0.3333333333333333,\"#9c179e\"],[0.4444444444444444,\"#bd3786\"],[0.5555555555555556,\"#d8576b\"],[0.6666666666666666,\"#ed7953\"],[0.7777777777777778,\"#fb9f3a\"],[0.8888888888888888,\"#fdca26\"],[1.0,\"#f0f921\"]],\"type\":\"histogram2d\"}],\"histogram2dcontour\":[{\"colorbar\":{\"outlinewidth\":0,\"ticks\":\"\"},\"colorscale\":[[0.0,\"#0d0887\"],[0.1111111111111111,\"#46039f\"],[0.2222222222222222,\"#7201a8\"],[0.3333333333333333,\"#9c179e\"],[0.4444444444444444,\"#bd3786\"],[0.5555555555555556,\"#d8576b\"],[0.6666666666666666,\"#ed7953\"],[0.7777777777777778,\"#fb9f3a\"],[0.8888888888888888,\"#fdca26\"],[1.0,\"#f0f921\"]],\"type\":\"histogram2dcontour\"}],\"mesh3d\":[{\"colorbar\":{\"outlinewidth\":0,\"ticks\":\"\"},\"type\":\"mesh3d\"}],\"parcoords\":[{\"line\":{\"colorbar\":{\"outlinewidth\":0,\"ticks\":\"\"}},\"type\":\"parcoords\"}],\"pie\":[{\"automargin\":true,\"type\":\"pie\"}],\"scatter\":[{\"marker\":{\"colorbar\":{\"outlinewidth\":0,\"ticks\":\"\"}},\"type\":\"scatter\"}],\"scatter3d\":[{\"line\":{\"colorbar\":{\"outlinewidth\":0,\"ticks\":\"\"}},\"marker\":{\"colorbar\":{\"outlinewidth\":0,\"ticks\":\"\"}},\"type\":\"scatter3d\"}],\"scattercarpet\":[{\"marker\":{\"colorbar\":{\"outlinewidth\":0,\"ticks\":\"\"}},\"type\":\"scattercarpet\"}],\"scattergeo\":[{\"marker\":{\"colorbar\":{\"outlinewidth\":0,\"ticks\":\"\"}},\"type\":\"scattergeo\"}],\"scattergl\":[{\"marker\":{\"colorbar\":{\"outlinewidth\":0,\"ticks\":\"\"}},\"type\":\"scattergl\"}],\"scattermapbox\":[{\"marker\":{\"colorbar\":{\"outlinewidth\":0,\"ticks\":\"\"}},\"type\":\"scattermapbox\"}],\"scatterpolar\":[{\"marker\":{\"colorbar\":{\"outlinewidth\":0,\"ticks\":\"\"}},\"type\":\"scatterpolar\"}],\"scatterpolargl\":[{\"marker\":{\"colorbar\":{\"outlinewidth\":0,\"ticks\":\"\"}},\"type\":\"scatterpolargl\"}],\"scatterternary\":[{\"marker\":{\"colorbar\":{\"outlinewidth\":0,\"ticks\":\"\"}},\"type\":\"scatterternary\"}],\"surface\":[{\"colorbar\":{\"outlinewidth\":0,\"ticks\":\"\"},\"colorscale\":[[0.0,\"#0d0887\"],[0.1111111111111111,\"#46039f\"],[0.2222222222222222,\"#7201a8\"],[0.3333333333333333,\"#9c179e\"],[0.4444444444444444,\"#bd3786\"],[0.5555555555555556,\"#d8576b\"],[0.6666666666666666,\"#ed7953\"],[0.7777777777777778,\"#fb9f3a\"],[0.8888888888888888,\"#fdca26\"],[1.0,\"#f0f921\"]],\"type\":\"surface\"}],\"table\":[{\"cells\":{\"fill\":{\"color\":\"#EBF0F8\"},\"line\":{\"color\":\"white\"}},\"header\":{\"fill\":{\"color\":\"#C8D4E3\"},\"line\":{\"color\":\"white\"}},\"type\":\"table\"}]},\"layout\":{\"annotationdefaults\":{\"arrowcolor\":\"#2a3f5f\",\"arrowhead\":0,\"arrowwidth\":1},\"autotypenumbers\":\"strict\",\"coloraxis\":{\"colorbar\":{\"outlinewidth\":0,\"ticks\":\"\"}},\"colorscale\":{\"diverging\":[[0,\"#8e0152\"],[0.1,\"#c51b7d\"],[0.2,\"#de77ae\"],[0.3,\"#f1b6da\"],[0.4,\"#fde0ef\"],[0.5,\"#f7f7f7\"],[0.6,\"#e6f5d0\"],[0.7,\"#b8e186\"],[0.8,\"#7fbc41\"],[0.9,\"#4d9221\"],[1,\"#276419\"]],\"sequential\":[[0.0,\"#0d0887\"],[0.1111111111111111,\"#46039f\"],[0.2222222222222222,\"#7201a8\"],[0.3333333333333333,\"#9c179e\"],[0.4444444444444444,\"#bd3786\"],[0.5555555555555556,\"#d8576b\"],[0.6666666666666666,\"#ed7953\"],[0.7777777777777778,\"#fb9f3a\"],[0.8888888888888888,\"#fdca26\"],[1.0,\"#f0f921\"]],\"sequentialminus\":[[0.0,\"#0d0887\"],[0.1111111111111111,\"#46039f\"],[0.2222222222222222,\"#7201a8\"],[0.3333333333333333,\"#9c179e\"],[0.4444444444444444,\"#bd3786\"],[0.5555555555555556,\"#d8576b\"],[0.6666666666666666,\"#ed7953\"],[0.7777777777777778,\"#fb9f3a\"],[0.8888888888888888,\"#fdca26\"],[1.0,\"#f0f921\"]]},\"colorway\":[\"#636efa\",\"#EF553B\",\"#00cc96\",\"#ab63fa\",\"#FFA15A\",\"#19d3f3\",\"#FF6692\",\"#B6E880\",\"#FF97FF\",\"#FECB52\"],\"font\":{\"color\":\"#2a3f5f\"},\"geo\":{\"bgcolor\":\"white\",\"lakecolor\":\"white\",\"landcolor\":\"#E5ECF6\",\"showlakes\":true,\"showland\":true,\"subunitcolor\":\"white\"},\"hoverlabel\":{\"align\":\"left\"},\"hovermode\":\"closest\",\"mapbox\":{\"style\":\"light\"},\"paper_bgcolor\":\"white\",\"plot_bgcolor\":\"#E5ECF6\",\"polar\":{\"angularaxis\":{\"gridcolor\":\"white\",\"linecolor\":\"white\",\"ticks\":\"\"},\"bgcolor\":\"#E5ECF6\",\"radialaxis\":{\"gridcolor\":\"white\",\"linecolor\":\"white\",\"ticks\":\"\"}},\"scene\":{\"xaxis\":{\"backgroundcolor\":\"#E5ECF6\",\"gridcolor\":\"white\",\"gridwidth\":2,\"linecolor\":\"white\",\"showbackground\":true,\"ticks\":\"\",\"zerolinecolor\":\"white\"},\"yaxis\":{\"backgroundcolor\":\"#E5ECF6\",\"gridcolor\":\"white\",\"gridwidth\":2,\"linecolor\":\"white\",\"showbackground\":true,\"ticks\":\"\",\"zerolinecolor\":\"white\"},\"zaxis\":{\"backgroundcolor\":\"#E5ECF6\",\"gridcolor\":\"white\",\"gridwidth\":2,\"linecolor\":\"white\",\"showbackground\":true,\"ticks\":\"\",\"zerolinecolor\":\"white\"}},\"shapedefaults\":{\"line\":{\"color\":\"#2a3f5f\"}},\"ternary\":{\"aaxis\":{\"gridcolor\":\"white\",\"linecolor\":\"white\",\"ticks\":\"\"},\"baxis\":{\"gridcolor\":\"white\",\"linecolor\":\"white\",\"ticks\":\"\"},\"bgcolor\":\"#E5ECF6\",\"caxis\":{\"gridcolor\":\"white\",\"linecolor\":\"white\",\"ticks\":\"\"}},\"title\":{\"x\":0.05},\"xaxis\":{\"automargin\":true,\"gridcolor\":\"white\",\"linecolor\":\"white\",\"ticks\":\"\",\"title\":{\"standoff\":15},\"zerolinecolor\":\"white\",\"zerolinewidth\":2},\"yaxis\":{\"automargin\":true,\"gridcolor\":\"white\",\"linecolor\":\"white\",\"ticks\":\"\",\"title\":{\"standoff\":15},\"zerolinecolor\":\"white\",\"zerolinewidth\":2}}},\"xaxis\":{\"anchor\":\"y\",\"domain\":[0.0,0.2125],\"matches\":\"x13\",\"showticklabels\":false,\"range\":[0.0884770794415814,0.44468640516006697]},\"yaxis\":{\"anchor\":\"x\",\"domain\":[0.80625,1.0],\"range\":[0.0884770794415814,0.44468640516006697],\"title\":{\"text\":\"learning_rate\"}},\"xaxis2\":{\"anchor\":\"y2\",\"domain\":[0.2625,0.475],\"matches\":\"x14\",\"showticklabels\":false,\"range\":[21.1,40.9]},\"yaxis2\":{\"anchor\":\"x2\",\"domain\":[0.80625,1.0],\"matches\":\"y\",\"showticklabels\":false,\"range\":[0.0884770794415814,0.44468640516006697]},\"xaxis3\":{\"anchor\":\"y3\",\"domain\":[0.525,0.7375],\"matches\":\"x15\",\"showticklabels\":false,\"range\":[179.95,247.05]},\"yaxis3\":{\"anchor\":\"x3\",\"domain\":[0.80625,1.0],\"matches\":\"y\",\"showticklabels\":false,\"range\":[0.0884770794415814,0.44468640516006697]},\"xaxis4\":{\"anchor\":\"y4\",\"domain\":[0.7875,1.0],\"matches\":\"x16\",\"showticklabels\":false,\"range\":[12.15,30.85]},\"yaxis4\":{\"anchor\":\"x4\",\"domain\":[0.80625,1.0],\"matches\":\"y\",\"showticklabels\":false,\"range\":[0.0884770794415814,0.44468640516006697]},\"xaxis5\":{\"anchor\":\"y5\",\"domain\":[0.0,0.2125],\"matches\":\"x13\",\"showticklabels\":false,\"range\":[0.0884770794415814,0.44468640516006697]},\"yaxis5\":{\"anchor\":\"x5\",\"domain\":[0.5375,0.73125],\"range\":[21.1,40.9],\"title\":{\"text\":\"max_depth\"}},\"xaxis6\":{\"anchor\":\"y6\",\"domain\":[0.2625,0.475],\"matches\":\"x14\",\"showticklabels\":false,\"range\":[21.1,40.9]},\"yaxis6\":{\"anchor\":\"x6\",\"domain\":[0.5375,0.73125],\"matches\":\"y5\",\"showticklabels\":false,\"range\":[21.1,40.9]},\"xaxis7\":{\"anchor\":\"y7\",\"domain\":[0.525,0.7375],\"matches\":\"x15\",\"showticklabels\":false,\"range\":[179.95,247.05]},\"yaxis7\":{\"anchor\":\"x7\",\"domain\":[0.5375,0.73125],\"matches\":\"y5\",\"showticklabels\":false,\"range\":[21.1,40.9]},\"xaxis8\":{\"anchor\":\"y8\",\"domain\":[0.7875,1.0],\"matches\":\"x16\",\"showticklabels\":false,\"range\":[12.15,30.85]},\"yaxis8\":{\"anchor\":\"x8\",\"domain\":[0.5375,0.73125],\"matches\":\"y5\",\"showticklabels\":false,\"range\":[21.1,40.9]},\"xaxis9\":{\"anchor\":\"y9\",\"domain\":[0.0,0.2125],\"matches\":\"x13\",\"showticklabels\":false,\"range\":[0.0884770794415814,0.44468640516006697]},\"yaxis9\":{\"anchor\":\"x9\",\"domain\":[0.26875,0.4625],\"range\":[179.95,247.05],\"title\":{\"text\":\"max_iter\"}},\"xaxis10\":{\"anchor\":\"y10\",\"domain\":[0.2625,0.475],\"matches\":\"x14\",\"showticklabels\":false,\"range\":[21.1,40.9]},\"yaxis10\":{\"anchor\":\"x10\",\"domain\":[0.26875,0.4625],\"matches\":\"y9\",\"showticklabels\":false,\"range\":[179.95,247.05]},\"xaxis11\":{\"anchor\":\"y11\",\"domain\":[0.525,0.7375],\"matches\":\"x15\",\"showticklabels\":false,\"range\":[179.95,247.05]},\"yaxis11\":{\"anchor\":\"x11\",\"domain\":[0.26875,0.4625],\"matches\":\"y9\",\"showticklabels\":false,\"range\":[179.95,247.05]},\"xaxis12\":{\"anchor\":\"y12\",\"domain\":[0.7875,1.0],\"matches\":\"x16\",\"showticklabels\":false,\"range\":[12.15,30.85]},\"yaxis12\":{\"anchor\":\"x12\",\"domain\":[0.26875,0.4625],\"matches\":\"y9\",\"showticklabels\":false,\"range\":[179.95,247.05]},\"xaxis13\":{\"anchor\":\"y13\",\"domain\":[0.0,0.2125],\"range\":[0.0884770794415814,0.44468640516006697],\"title\":{\"text\":\"learning_rate\"}},\"yaxis13\":{\"anchor\":\"x13\",\"domain\":[0.0,0.19375],\"range\":[12.15,30.85],\"title\":{\"text\":\"max_leaf_nodes\"}},\"xaxis14\":{\"anchor\":\"y14\",\"domain\":[0.2625,0.475],\"range\":[21.1,40.9],\"title\":{\"text\":\"max_depth\"}},\"yaxis14\":{\"anchor\":\"x14\",\"domain\":[0.0,0.19375],\"matches\":\"y13\",\"showticklabels\":false,\"range\":[12.15,30.85]},\"xaxis15\":{\"anchor\":\"y15\",\"domain\":[0.525,0.7375],\"range\":[179.95,247.05],\"title\":{\"text\":\"max_iter\"}},\"yaxis15\":{\"anchor\":\"x15\",\"domain\":[0.0,0.19375],\"matches\":\"y13\",\"showticklabels\":false,\"range\":[12.15,30.85]},\"xaxis16\":{\"anchor\":\"y16\",\"domain\":[0.7875,1.0],\"range\":[12.15,30.85],\"title\":{\"text\":\"max_leaf_nodes\"}},\"yaxis16\":{\"anchor\":\"x16\",\"domain\":[0.0,0.19375],\"matches\":\"y13\",\"showticklabels\":false,\"range\":[12.15,30.85]},\"title\":{\"text\":\"Contour Plot\"}},                        {\"responsive\": true}                    ).then(function(){\n",
              "                            \n",
              "var gd = document.getElementById('43969377-76a8-451f-9fa1-904262fd7fba');\n",
              "var x = new MutationObserver(function (mutations, observer) {{\n",
              "        var display = window.getComputedStyle(gd).display;\n",
              "        if (!display || display === 'none') {{\n",
              "            console.log([gd, 'removed!']);\n",
              "            Plotly.purge(gd);\n",
              "            observer.disconnect();\n",
              "        }}\n",
              "}});\n",
              "\n",
              "// Listen for the removal of the full notebook cells\n",
              "var notebookContainer = gd.closest('#notebook-container');\n",
              "if (notebookContainer) {{\n",
              "    x.observe(notebookContainer, {childList: true});\n",
              "}}\n",
              "\n",
              "// Listen for the clearing of the current output cell\n",
              "var outputEl = gd.closest('.output');\n",
              "if (outputEl) {{\n",
              "    x.observe(outputEl, {childList: true});\n",
              "}}\n",
              "\n",
              "                        })                };                            </script>        </div>\n",
              "</body>\n",
              "</html>"
            ]
          },
          "metadata": {}
        }
      ],
      "source": [
        "plot_contour(study_pruning)"
      ],
      "id": "Jggc0DzAR-ZA"
    },
    {
      "cell_type": "markdown",
      "metadata": {
        "id": "KmKjbb67N2UQ"
      },
      "source": [
        "### 6. Results and final model"
      ],
      "id": "KmKjbb67N2UQ"
    },
    {
      "cell_type": "markdown",
      "metadata": {
        "id": "aP5G5LF5N496"
      },
      "source": [
        "#### a. Report of results"
      ],
      "id": "aP5G5LF5N496"
    },
    {
      "cell_type": "code",
      "execution_count": 159,
      "metadata": {
        "id": "gAjUc4CEOnxV"
      },
      "outputs": [],
      "source": [
        "# Models\n",
        "summary_methods = ['Dummy - No HPO', \n",
        "                  'KNN - No HPO',\n",
        "                  'KNN - Grid Search',\n",
        "                  'Tree - No HPO',\n",
        "                  'Tree - Random Search',\n",
        "                  'Tree - Scikit Optimize (Complete)',\n",
        "                  'Tree - Scikit Optimize (Simple)',\n",
        "                  'Tree - Optuna',\n",
        "                  'Tree - Halving Random Search',\n",
        "                   'Random Forest - No HPO',\n",
        "                   'Random Forest - Halving Random Search',\n",
        "                   'Gradient Boosting - No HPO',\n",
        "                   'Gradient Boosting - Optuna']\n",
        "\n",
        "# Accuracies\n",
        "summary_scores = [scores_dummy.mean(), scores_knn.mean(), inner_eval_knn, \n",
        "                  scores_tree.mean(), inner_eval_tree_rs, inner_eval_tree_so, inner_eval_tree_so_s,\n",
        "                  inner_eval_tree_optuna, inner_eval_tree_hrs, \n",
        "                  scores_rf.mean(), inner_eval_rf, \n",
        "                  scores_hgb.mean(), inner_eval_hgb_optuna]\n",
        "\n",
        "# Times\n",
        "summary_times = [time_scores_dummy, time_scores_knn, time_grid_knn, \n",
        "                 time_scores_tree, time_rs_tree, time_so_tree, time_so_tree_s, \n",
        "                 time_optuna_tree, time_hrs_tree, \n",
        "                 time_scores_rf, time_rf_hpo, \n",
        "                 time_scores_hgb, time_hgb_optuna_prun]"
      ],
      "id": "gAjUc4CEOnxV"
    },
    {
      "cell_type": "code",
      "execution_count": 163,
      "metadata": {
        "colab": {
          "base_uri": "https://localhost:8080/",
          "height": 457
        },
        "id": "9GP3NY8CgRPD",
        "outputId": "77324f09-b93f-4614-cda1-b4cd06d348ab"
      },
      "outputs": [
        {
          "output_type": "display_data",
          "data": {
            "text/plain": [
              "<pandas.io.formats.style.Styler at 0x7fe6c2480490>"
            ],
            "text/html": [
              "<style type=\"text/css\">\n",
              "#T_0fd28_row0_col1, #T_0fd28_row0_col2, #T_0fd28_row1_col2, #T_0fd28_row3_col2 {\n",
              "  background-color: #f7fbff;\n",
              "  color: #000000;\n",
              "}\n",
              "#T_0fd28_row1_col1 {\n",
              "  background-color: #7db8da;\n",
              "  color: #000000;\n",
              "}\n",
              "#T_0fd28_row2_col1 {\n",
              "  background-color: #084d96;\n",
              "  color: #f1f1f1;\n",
              "}\n",
              "#T_0fd28_row2_col2 {\n",
              "  background-color: #f5fafe;\n",
              "  color: #000000;\n",
              "}\n",
              "#T_0fd28_row3_col1 {\n",
              "  background-color: #2070b4;\n",
              "  color: #f1f1f1;\n",
              "}\n",
              "#T_0fd28_row4_col1, #T_0fd28_row6_col1 {\n",
              "  background-color: #115ca5;\n",
              "  color: #f1f1f1;\n",
              "}\n",
              "#T_0fd28_row4_col2 {\n",
              "  background-color: #f5f9fe;\n",
              "  color: #000000;\n",
              "}\n",
              "#T_0fd28_row5_col1 {\n",
              "  background-color: #1460a8;\n",
              "  color: #f1f1f1;\n",
              "}\n",
              "#T_0fd28_row5_col2 {\n",
              "  background-color: #c9ddf0;\n",
              "  color: #000000;\n",
              "}\n",
              "#T_0fd28_row6_col2 {\n",
              "  background-color: #cddff1;\n",
              "  color: #000000;\n",
              "}\n",
              "#T_0fd28_row7_col1 {\n",
              "  background-color: #1b69af;\n",
              "  color: #f1f1f1;\n",
              "}\n",
              "#T_0fd28_row7_col2, #T_0fd28_row9_col2, #T_0fd28_row11_col2 {\n",
              "  background-color: #f6faff;\n",
              "  color: #000000;\n",
              "}\n",
              "#T_0fd28_row8_col1 {\n",
              "  background-color: #2676b8;\n",
              "  color: #f1f1f1;\n",
              "}\n",
              "#T_0fd28_row8_col2 {\n",
              "  background-color: #f0f6fd;\n",
              "  color: #000000;\n",
              "}\n",
              "#T_0fd28_row9_col1, #T_0fd28_row12_col2 {\n",
              "  background-color: #08306b;\n",
              "  color: #f1f1f1;\n",
              "}\n",
              "#T_0fd28_row10_col1 {\n",
              "  background-color: #084285;\n",
              "  color: #f1f1f1;\n",
              "}\n",
              "#T_0fd28_row10_col2 {\n",
              "  background-color: #aacfe5;\n",
              "  color: #000000;\n",
              "}\n",
              "#T_0fd28_row11_col1 {\n",
              "  background-color: #08468b;\n",
              "  color: #f1f1f1;\n",
              "}\n",
              "#T_0fd28_row12_col1 {\n",
              "  background-color: #08326e;\n",
              "  color: #f1f1f1;\n",
              "}\n",
              "</style>\n",
              "<table id=\"T_0fd28_\" class=\"dataframe\">\n",
              "  <thead>\n",
              "    <tr>\n",
              "      <th class=\"blank level0\" >&nbsp;</th>\n",
              "      <th class=\"col_heading level0 col0\" >method</th>\n",
              "      <th class=\"col_heading level0 col1\" >score</th>\n",
              "      <th class=\"col_heading level0 col2\" >time</th>\n",
              "    </tr>\n",
              "  </thead>\n",
              "  <tbody>\n",
              "    <tr>\n",
              "      <th id=\"T_0fd28_level0_row0\" class=\"row_heading level0 row0\" >0</th>\n",
              "      <td id=\"T_0fd28_row0_col0\" class=\"data row0 col0\" >Dummy - No HPO</td>\n",
              "      <td id=\"T_0fd28_row0_col1\" class=\"data row0 col1\" >0.509649</td>\n",
              "      <td id=\"T_0fd28_row0_col2\" class=\"data row0 col2\" >0.097861</td>\n",
              "    </tr>\n",
              "    <tr>\n",
              "      <th id=\"T_0fd28_level0_row1\" class=\"row_heading level0 row1\" >1</th>\n",
              "      <td id=\"T_0fd28_row1_col0\" class=\"data row1 col0\" >KNN - No HPO</td>\n",
              "      <td id=\"T_0fd28_row1_col1\" class=\"data row1 col1\" >0.668421</td>\n",
              "      <td id=\"T_0fd28_row1_col2\" class=\"data row1 col2\" >0.188068</td>\n",
              "    </tr>\n",
              "    <tr>\n",
              "      <th id=\"T_0fd28_level0_row2\" class=\"row_heading level0 row2\" >2</th>\n",
              "      <td id=\"T_0fd28_row2_col0\" class=\"data row2 col0\" >KNN - Grid Search</td>\n",
              "      <td id=\"T_0fd28_row2_col1\" class=\"data row2 col1\" >0.819298</td>\n",
              "      <td id=\"T_0fd28_row2_col2\" class=\"data row2 col2\" >3.433677</td>\n",
              "    </tr>\n",
              "    <tr>\n",
              "      <th id=\"T_0fd28_level0_row3\" class=\"row_heading level0 row3\" >3</th>\n",
              "      <td id=\"T_0fd28_row3_col0\" class=\"data row3 col0\" >Tree - No HPO</td>\n",
              "      <td id=\"T_0fd28_row3_col1\" class=\"data row3 col1\" >0.772807</td>\n",
              "      <td id=\"T_0fd28_row3_col2\" class=\"data row3 col2\" >0.108404</td>\n",
              "    </tr>\n",
              "    <tr>\n",
              "      <th id=\"T_0fd28_level0_row4\" class=\"row_heading level0 row4\" >4</th>\n",
              "      <td id=\"T_0fd28_row4_col0\" class=\"data row4 col0\" >Tree - Random Search</td>\n",
              "      <td id=\"T_0fd28_row4_col1\" class=\"data row4 col1\" >0.799123</td>\n",
              "      <td id=\"T_0fd28_row4_col2\" class=\"data row4 col2\" >4.565289</td>\n",
              "    </tr>\n",
              "    <tr>\n",
              "      <th id=\"T_0fd28_level0_row5\" class=\"row_heading level0 row5\" >5</th>\n",
              "      <td id=\"T_0fd28_row5_col0\" class=\"data row5 col0\" >Tree - Scikit Optimize (Complete)</td>\n",
              "      <td id=\"T_0fd28_row5_col1\" class=\"data row5 col1\" >0.793860</td>\n",
              "      <td id=\"T_0fd28_row5_col2\" class=\"data row5 col2\" >74.828900</td>\n",
              "    </tr>\n",
              "    <tr>\n",
              "      <th id=\"T_0fd28_level0_row6\" class=\"row_heading level0 row6\" >6</th>\n",
              "      <td id=\"T_0fd28_row6_col0\" class=\"data row6 col0\" >Tree - Scikit Optimize (Simple)</td>\n",
              "      <td id=\"T_0fd28_row6_col1\" class=\"data row6 col1\" >0.799123</td>\n",
              "      <td id=\"T_0fd28_row6_col2\" class=\"data row6 col2\" >68.154346</td>\n",
              "    </tr>\n",
              "    <tr>\n",
              "      <th id=\"T_0fd28_level0_row7\" class=\"row_heading level0 row7\" >7</th>\n",
              "      <td id=\"T_0fd28_row7_col0\" class=\"data row7 col0\" >Tree - Optuna</td>\n",
              "      <td id=\"T_0fd28_row7_col1\" class=\"data row7 col1\" >0.781579</td>\n",
              "      <td id=\"T_0fd28_row7_col2\" class=\"data row7 col2\" >1.572481</td>\n",
              "    </tr>\n",
              "    <tr>\n",
              "      <th id=\"T_0fd28_level0_row8\" class=\"row_heading level0 row8\" >8</th>\n",
              "      <td id=\"T_0fd28_row8_col0\" class=\"data row8 col0\" >Tree - Halving Random Search</td>\n",
              "      <td id=\"T_0fd28_row8_col1\" class=\"data row8 col1\" >0.763374</td>\n",
              "      <td id=\"T_0fd28_row8_col2\" class=\"data row8 col2\" >11.368088</td>\n",
              "    </tr>\n",
              "    <tr>\n",
              "      <th id=\"T_0fd28_level0_row9\" class=\"row_heading level0 row9\" >9</th>\n",
              "      <td id=\"T_0fd28_row9_col0\" class=\"data row9 col0\" >Random Forest - No HPO</td>\n",
              "      <td id=\"T_0fd28_row9_col1\" class=\"data row9 col1\" >0.858772</td>\n",
              "      <td id=\"T_0fd28_row9_col2\" class=\"data row9 col2\" >1.721415</td>\n",
              "    </tr>\n",
              "    <tr>\n",
              "      <th id=\"T_0fd28_level0_row10\" class=\"row_heading level0 row10\" >10</th>\n",
              "      <td id=\"T_0fd28_row10_col0\" class=\"data row10 col0\" >Random Forest - Halving Random Search</td>\n",
              "      <td id=\"T_0fd28_row10_col1\" class=\"data row10 col1\" >0.835391</td>\n",
              "      <td id=\"T_0fd28_row10_col2\" class=\"data row10 col2\" >106.392428</td>\n",
              "    </tr>\n",
              "    <tr>\n",
              "      <th id=\"T_0fd28_level0_row11\" class=\"row_heading level0 row11\" >11</th>\n",
              "      <td id=\"T_0fd28_row11_col0\" class=\"data row11 col0\" >Gradient Boosting - No HPO</td>\n",
              "      <td id=\"T_0fd28_row11_col1\" class=\"data row11 col1\" >0.829825</td>\n",
              "      <td id=\"T_0fd28_row11_col2\" class=\"data row11 col2\" >2.168077</td>\n",
              "    </tr>\n",
              "    <tr>\n",
              "      <th id=\"T_0fd28_level0_row12\" class=\"row_heading level0 row12\" >12</th>\n",
              "      <td id=\"T_0fd28_row12_col0\" class=\"data row12 col0\" >Gradient Boosting - Optuna</td>\n",
              "      <td id=\"T_0fd28_row12_col1\" class=\"data row12 col1\" >0.855263</td>\n",
              "      <td id=\"T_0fd28_row12_col2\" class=\"data row12 col2\" >315.898534</td>\n",
              "    </tr>\n",
              "  </tbody>\n",
              "</table>\n"
            ]
          },
          "metadata": {}
        }
      ],
      "source": [
        "summary = pd.DataFrame({'method': summary_methods, 'score': summary_scores, 'time': summary_times})\n",
        "#summary.sort_values('score', ascending=False)\n",
        "\n",
        "cm = sns.color_palette(\"Blues\", as_cmap=True) \n",
        "display(summary.style.background_gradient(cmap=cm, axis=0))"
      ],
      "id": "9GP3NY8CgRPD"
    },
    {
      "cell_type": "markdown",
      "metadata": {
        "id": "hdQS8ml5N-gm"
      },
      "source": [
        "#### b. Using the best method: Estimation of the accuracy (on the test set, outer evaluation) and a confidence interval for the accuracy"
      ],
      "id": "hdQS8ml5N-gm"
    },
    {
      "cell_type": "markdown",
      "metadata": {
        "id": "tYDPCK8maDvo"
      },
      "source": [
        "The best method is Random Forest, with an accuracy of 0.94 in the outer evaluation, that is evaluating the model in the other 20% test partition. We will compute the final model using all available data in c). The confidence interval for the accuracy is (0.91, 0.96)."
      ],
      "id": "tYDPCK8maDvo"
    },
    {
      "cell_type": "code",
      "execution_count": 152,
      "metadata": {
        "id": "c22d2bef",
        "colab": {
          "base_uri": "https://localhost:8080/",
          "height": 227
        },
        "outputId": "8d9ac026-7ce5-437e-89e4-cba240a57cb1"
      },
      "outputs": [
        {
          "output_type": "execute_result",
          "data": {
            "text/plain": [
              "Pipeline(steps=[('preprocessor',\n",
              "                 ColumnTransformer(transformers=[('numerical',\n",
              "                                                  Pipeline(steps=[('imputer',\n",
              "                                                                   SimpleImputer(strategy='median')),\n",
              "                                                                  ('scale',\n",
              "                                                                   StandardScaler())]),\n",
              "                                                  ['hrs', 'absences',\n",
              "                                                   'JobInvolvement',\n",
              "                                                   'PerformanceRating',\n",
              "                                                   'EnvironmentSatisfaction',\n",
              "                                                   'JobSatisfaction',\n",
              "                                                   'WorkLifeBalance', 'Age',\n",
              "                                                   'DistanceFromHome',\n",
              "                                                   'Education', 'JobLevel',\n",
              "                                                   'MonthlyIncome',\n",
              "                                                   'N...\n",
              "                                                   'YearsSinceLastPromotion',\n",
              "                                                   'YearsWithCurrManager']),\n",
              "                                                 ('categorical',\n",
              "                                                  Pipeline(steps=[('imputer',\n",
              "                                                                   SimpleImputer(fill_value='missing',\n",
              "                                                                                 strategy='most_frequent')),\n",
              "                                                                  ('onehot',\n",
              "                                                                   OneHotEncoder(handle_unknown='ignore'))]),\n",
              "                                                  ['BusinessTravel',\n",
              "                                                   'Department',\n",
              "                                                   'EducationField', 'Gender',\n",
              "                                                   'JobRole',\n",
              "                                                   'MaritalStatus'])])),\n",
              "                ('classifier', RandomForestClassifier(random_state=100435291))])"
            ],
            "text/html": [
              "<style>#sk-a7aaf621-0525-4aa7-b8f3-3a91c3fe3780 {color: black;background-color: white;}#sk-a7aaf621-0525-4aa7-b8f3-3a91c3fe3780 pre{padding: 0;}#sk-a7aaf621-0525-4aa7-b8f3-3a91c3fe3780 div.sk-toggleable {background-color: white;}#sk-a7aaf621-0525-4aa7-b8f3-3a91c3fe3780 label.sk-toggleable__label {cursor: pointer;display: block;width: 100%;margin-bottom: 0;padding: 0.3em;box-sizing: border-box;text-align: center;}#sk-a7aaf621-0525-4aa7-b8f3-3a91c3fe3780 label.sk-toggleable__label-arrow:before {content: \"▸\";float: left;margin-right: 0.25em;color: #696969;}#sk-a7aaf621-0525-4aa7-b8f3-3a91c3fe3780 label.sk-toggleable__label-arrow:hover:before {color: black;}#sk-a7aaf621-0525-4aa7-b8f3-3a91c3fe3780 div.sk-estimator:hover label.sk-toggleable__label-arrow:before {color: black;}#sk-a7aaf621-0525-4aa7-b8f3-3a91c3fe3780 div.sk-toggleable__content {max-height: 0;max-width: 0;overflow: hidden;text-align: left;background-color: #f0f8ff;}#sk-a7aaf621-0525-4aa7-b8f3-3a91c3fe3780 div.sk-toggleable__content pre {margin: 0.2em;color: black;border-radius: 0.25em;background-color: #f0f8ff;}#sk-a7aaf621-0525-4aa7-b8f3-3a91c3fe3780 input.sk-toggleable__control:checked~div.sk-toggleable__content {max-height: 200px;max-width: 100%;overflow: auto;}#sk-a7aaf621-0525-4aa7-b8f3-3a91c3fe3780 input.sk-toggleable__control:checked~label.sk-toggleable__label-arrow:before {content: \"▾\";}#sk-a7aaf621-0525-4aa7-b8f3-3a91c3fe3780 div.sk-estimator input.sk-toggleable__control:checked~label.sk-toggleable__label {background-color: #d4ebff;}#sk-a7aaf621-0525-4aa7-b8f3-3a91c3fe3780 div.sk-label input.sk-toggleable__control:checked~label.sk-toggleable__label {background-color: #d4ebff;}#sk-a7aaf621-0525-4aa7-b8f3-3a91c3fe3780 input.sk-hidden--visually {border: 0;clip: rect(1px 1px 1px 1px);clip: rect(1px, 1px, 1px, 1px);height: 1px;margin: -1px;overflow: hidden;padding: 0;position: absolute;width: 1px;}#sk-a7aaf621-0525-4aa7-b8f3-3a91c3fe3780 div.sk-estimator {font-family: monospace;background-color: #f0f8ff;border: 1px dotted black;border-radius: 0.25em;box-sizing: border-box;margin-bottom: 0.5em;}#sk-a7aaf621-0525-4aa7-b8f3-3a91c3fe3780 div.sk-estimator:hover {background-color: #d4ebff;}#sk-a7aaf621-0525-4aa7-b8f3-3a91c3fe3780 div.sk-parallel-item::after {content: \"\";width: 100%;border-bottom: 1px solid gray;flex-grow: 1;}#sk-a7aaf621-0525-4aa7-b8f3-3a91c3fe3780 div.sk-label:hover label.sk-toggleable__label {background-color: #d4ebff;}#sk-a7aaf621-0525-4aa7-b8f3-3a91c3fe3780 div.sk-serial::before {content: \"\";position: absolute;border-left: 1px solid gray;box-sizing: border-box;top: 2em;bottom: 0;left: 50%;}#sk-a7aaf621-0525-4aa7-b8f3-3a91c3fe3780 div.sk-serial {display: flex;flex-direction: column;align-items: center;background-color: white;padding-right: 0.2em;padding-left: 0.2em;}#sk-a7aaf621-0525-4aa7-b8f3-3a91c3fe3780 div.sk-item {z-index: 1;}#sk-a7aaf621-0525-4aa7-b8f3-3a91c3fe3780 div.sk-parallel {display: flex;align-items: stretch;justify-content: center;background-color: white;}#sk-a7aaf621-0525-4aa7-b8f3-3a91c3fe3780 div.sk-parallel::before {content: \"\";position: absolute;border-left: 1px solid gray;box-sizing: border-box;top: 2em;bottom: 0;left: 50%;}#sk-a7aaf621-0525-4aa7-b8f3-3a91c3fe3780 div.sk-parallel-item {display: flex;flex-direction: column;position: relative;background-color: white;}#sk-a7aaf621-0525-4aa7-b8f3-3a91c3fe3780 div.sk-parallel-item:first-child::after {align-self: flex-end;width: 50%;}#sk-a7aaf621-0525-4aa7-b8f3-3a91c3fe3780 div.sk-parallel-item:last-child::after {align-self: flex-start;width: 50%;}#sk-a7aaf621-0525-4aa7-b8f3-3a91c3fe3780 div.sk-parallel-item:only-child::after {width: 0;}#sk-a7aaf621-0525-4aa7-b8f3-3a91c3fe3780 div.sk-dashed-wrapped {border: 1px dashed gray;margin: 0 0.4em 0.5em 0.4em;box-sizing: border-box;padding-bottom: 0.4em;background-color: white;position: relative;}#sk-a7aaf621-0525-4aa7-b8f3-3a91c3fe3780 div.sk-label label {font-family: monospace;font-weight: bold;background-color: white;display: inline-block;line-height: 1.2em;}#sk-a7aaf621-0525-4aa7-b8f3-3a91c3fe3780 div.sk-label-container {position: relative;z-index: 2;text-align: center;}#sk-a7aaf621-0525-4aa7-b8f3-3a91c3fe3780 div.sk-container {/* jupyter's `normalize.less` sets `[hidden] { display: none; }` but bootstrap.min.css set `[hidden] { display: none !important; }` so we also need the `!important` here to be able to override the default hidden behavior on the sphinx rendered scikit-learn.org. See: https://github.com/scikit-learn/scikit-learn/issues/21755 */display: inline-block !important;position: relative;}#sk-a7aaf621-0525-4aa7-b8f3-3a91c3fe3780 div.sk-text-repr-fallback {display: none;}</style><div id=\"sk-a7aaf621-0525-4aa7-b8f3-3a91c3fe3780\" class=\"sk-top-container\"><div class=\"sk-text-repr-fallback\"><pre>Pipeline(steps=[(&#x27;preprocessor&#x27;,\n",
              "                 ColumnTransformer(transformers=[(&#x27;numerical&#x27;,\n",
              "                                                  Pipeline(steps=[(&#x27;imputer&#x27;,\n",
              "                                                                   SimpleImputer(strategy=&#x27;median&#x27;)),\n",
              "                                                                  (&#x27;scale&#x27;,\n",
              "                                                                   StandardScaler())]),\n",
              "                                                  [&#x27;hrs&#x27;, &#x27;absences&#x27;,\n",
              "                                                   &#x27;JobInvolvement&#x27;,\n",
              "                                                   &#x27;PerformanceRating&#x27;,\n",
              "                                                   &#x27;EnvironmentSatisfaction&#x27;,\n",
              "                                                   &#x27;JobSatisfaction&#x27;,\n",
              "                                                   &#x27;WorkLifeBalance&#x27;, &#x27;Age&#x27;,\n",
              "                                                   &#x27;DistanceFromHome&#x27;,\n",
              "                                                   &#x27;Education&#x27;, &#x27;JobLevel&#x27;,\n",
              "                                                   &#x27;MonthlyIncome&#x27;,\n",
              "                                                   &#x27;N...\n",
              "                                                   &#x27;YearsSinceLastPromotion&#x27;,\n",
              "                                                   &#x27;YearsWithCurrManager&#x27;]),\n",
              "                                                 (&#x27;categorical&#x27;,\n",
              "                                                  Pipeline(steps=[(&#x27;imputer&#x27;,\n",
              "                                                                   SimpleImputer(fill_value=&#x27;missing&#x27;,\n",
              "                                                                                 strategy=&#x27;most_frequent&#x27;)),\n",
              "                                                                  (&#x27;onehot&#x27;,\n",
              "                                                                   OneHotEncoder(handle_unknown=&#x27;ignore&#x27;))]),\n",
              "                                                  [&#x27;BusinessTravel&#x27;,\n",
              "                                                   &#x27;Department&#x27;,\n",
              "                                                   &#x27;EducationField&#x27;, &#x27;Gender&#x27;,\n",
              "                                                   &#x27;JobRole&#x27;,\n",
              "                                                   &#x27;MaritalStatus&#x27;])])),\n",
              "                (&#x27;classifier&#x27;, RandomForestClassifier(random_state=100435291))])</pre><b>Please rerun this cell to show the HTML repr or trust the notebook.</b></div><div class=\"sk-container\" hidden><div class=\"sk-item sk-dashed-wrapped\"><div class=\"sk-label-container\"><div class=\"sk-label sk-toggleable\"><input class=\"sk-toggleable__control sk-hidden--visually\" id=\"6caa68df-d4e7-4b74-a3af-616be7b6df21\" type=\"checkbox\" ><label for=\"6caa68df-d4e7-4b74-a3af-616be7b6df21\" class=\"sk-toggleable__label sk-toggleable__label-arrow\">Pipeline</label><div class=\"sk-toggleable__content\"><pre>Pipeline(steps=[(&#x27;preprocessor&#x27;,\n",
              "                 ColumnTransformer(transformers=[(&#x27;numerical&#x27;,\n",
              "                                                  Pipeline(steps=[(&#x27;imputer&#x27;,\n",
              "                                                                   SimpleImputer(strategy=&#x27;median&#x27;)),\n",
              "                                                                  (&#x27;scale&#x27;,\n",
              "                                                                   StandardScaler())]),\n",
              "                                                  [&#x27;hrs&#x27;, &#x27;absences&#x27;,\n",
              "                                                   &#x27;JobInvolvement&#x27;,\n",
              "                                                   &#x27;PerformanceRating&#x27;,\n",
              "                                                   &#x27;EnvironmentSatisfaction&#x27;,\n",
              "                                                   &#x27;JobSatisfaction&#x27;,\n",
              "                                                   &#x27;WorkLifeBalance&#x27;, &#x27;Age&#x27;,\n",
              "                                                   &#x27;DistanceFromHome&#x27;,\n",
              "                                                   &#x27;Education&#x27;, &#x27;JobLevel&#x27;,\n",
              "                                                   &#x27;MonthlyIncome&#x27;,\n",
              "                                                   &#x27;N...\n",
              "                                                   &#x27;YearsSinceLastPromotion&#x27;,\n",
              "                                                   &#x27;YearsWithCurrManager&#x27;]),\n",
              "                                                 (&#x27;categorical&#x27;,\n",
              "                                                  Pipeline(steps=[(&#x27;imputer&#x27;,\n",
              "                                                                   SimpleImputer(fill_value=&#x27;missing&#x27;,\n",
              "                                                                                 strategy=&#x27;most_frequent&#x27;)),\n",
              "                                                                  (&#x27;onehot&#x27;,\n",
              "                                                                   OneHotEncoder(handle_unknown=&#x27;ignore&#x27;))]),\n",
              "                                                  [&#x27;BusinessTravel&#x27;,\n",
              "                                                   &#x27;Department&#x27;,\n",
              "                                                   &#x27;EducationField&#x27;, &#x27;Gender&#x27;,\n",
              "                                                   &#x27;JobRole&#x27;,\n",
              "                                                   &#x27;MaritalStatus&#x27;])])),\n",
              "                (&#x27;classifier&#x27;, RandomForestClassifier(random_state=100435291))])</pre></div></div></div><div class=\"sk-serial\"><div class=\"sk-item sk-dashed-wrapped\"><div class=\"sk-label-container\"><div class=\"sk-label sk-toggleable\"><input class=\"sk-toggleable__control sk-hidden--visually\" id=\"c88d0009-01e9-421a-aa0d-8cadf87bcd8b\" type=\"checkbox\" ><label for=\"c88d0009-01e9-421a-aa0d-8cadf87bcd8b\" class=\"sk-toggleable__label sk-toggleable__label-arrow\">preprocessor: ColumnTransformer</label><div class=\"sk-toggleable__content\"><pre>ColumnTransformer(transformers=[(&#x27;numerical&#x27;,\n",
              "                                 Pipeline(steps=[(&#x27;imputer&#x27;,\n",
              "                                                  SimpleImputer(strategy=&#x27;median&#x27;)),\n",
              "                                                 (&#x27;scale&#x27;, StandardScaler())]),\n",
              "                                 [&#x27;hrs&#x27;, &#x27;absences&#x27;, &#x27;JobInvolvement&#x27;,\n",
              "                                  &#x27;PerformanceRating&#x27;,\n",
              "                                  &#x27;EnvironmentSatisfaction&#x27;, &#x27;JobSatisfaction&#x27;,\n",
              "                                  &#x27;WorkLifeBalance&#x27;, &#x27;Age&#x27;, &#x27;DistanceFromHome&#x27;,\n",
              "                                  &#x27;Education&#x27;, &#x27;JobLevel&#x27;, &#x27;MonthlyIncome&#x27;,\n",
              "                                  &#x27;NumCompaniesWorked&#x27;, &#x27;PercentSalar...\n",
              "                                  &#x27;StockOptionLevel&#x27;, &#x27;TotalWorkingYears&#x27;,\n",
              "                                  &#x27;TrainingTimesLastYear&#x27;, &#x27;YearsAtCompany&#x27;,\n",
              "                                  &#x27;YearsSinceLastPromotion&#x27;,\n",
              "                                  &#x27;YearsWithCurrManager&#x27;]),\n",
              "                                (&#x27;categorical&#x27;,\n",
              "                                 Pipeline(steps=[(&#x27;imputer&#x27;,\n",
              "                                                  SimpleImputer(fill_value=&#x27;missing&#x27;,\n",
              "                                                                strategy=&#x27;most_frequent&#x27;)),\n",
              "                                                 (&#x27;onehot&#x27;,\n",
              "                                                  OneHotEncoder(handle_unknown=&#x27;ignore&#x27;))]),\n",
              "                                 [&#x27;BusinessTravel&#x27;, &#x27;Department&#x27;,\n",
              "                                  &#x27;EducationField&#x27;, &#x27;Gender&#x27;, &#x27;JobRole&#x27;,\n",
              "                                  &#x27;MaritalStatus&#x27;])])</pre></div></div></div><div class=\"sk-parallel\"><div class=\"sk-parallel-item\"><div class=\"sk-item\"><div class=\"sk-label-container\"><div class=\"sk-label sk-toggleable\"><input class=\"sk-toggleable__control sk-hidden--visually\" id=\"d9bb238c-5433-4924-b79e-92b6eb708646\" type=\"checkbox\" ><label for=\"d9bb238c-5433-4924-b79e-92b6eb708646\" class=\"sk-toggleable__label sk-toggleable__label-arrow\">numerical</label><div class=\"sk-toggleable__content\"><pre>[&#x27;hrs&#x27;, &#x27;absences&#x27;, &#x27;JobInvolvement&#x27;, &#x27;PerformanceRating&#x27;, &#x27;EnvironmentSatisfaction&#x27;, &#x27;JobSatisfaction&#x27;, &#x27;WorkLifeBalance&#x27;, &#x27;Age&#x27;, &#x27;DistanceFromHome&#x27;, &#x27;Education&#x27;, &#x27;JobLevel&#x27;, &#x27;MonthlyIncome&#x27;, &#x27;NumCompaniesWorked&#x27;, &#x27;PercentSalaryHike&#x27;, &#x27;StockOptionLevel&#x27;, &#x27;TotalWorkingYears&#x27;, &#x27;TrainingTimesLastYear&#x27;, &#x27;YearsAtCompany&#x27;, &#x27;YearsSinceLastPromotion&#x27;, &#x27;YearsWithCurrManager&#x27;]</pre></div></div></div><div class=\"sk-serial\"><div class=\"sk-item\"><div class=\"sk-serial\"><div class=\"sk-item\"><div class=\"sk-estimator sk-toggleable\"><input class=\"sk-toggleable__control sk-hidden--visually\" id=\"a7815099-f866-4c09-ae2d-80e4f30224a0\" type=\"checkbox\" ><label for=\"a7815099-f866-4c09-ae2d-80e4f30224a0\" class=\"sk-toggleable__label sk-toggleable__label-arrow\">SimpleImputer</label><div class=\"sk-toggleable__content\"><pre>SimpleImputer(strategy=&#x27;median&#x27;)</pre></div></div></div><div class=\"sk-item\"><div class=\"sk-estimator sk-toggleable\"><input class=\"sk-toggleable__control sk-hidden--visually\" id=\"94866538-56a0-4106-b822-76c27816cd21\" type=\"checkbox\" ><label for=\"94866538-56a0-4106-b822-76c27816cd21\" class=\"sk-toggleable__label sk-toggleable__label-arrow\">StandardScaler</label><div class=\"sk-toggleable__content\"><pre>StandardScaler()</pre></div></div></div></div></div></div></div></div><div class=\"sk-parallel-item\"><div class=\"sk-item\"><div class=\"sk-label-container\"><div class=\"sk-label sk-toggleable\"><input class=\"sk-toggleable__control sk-hidden--visually\" id=\"96d65894-ace3-42f2-8a7e-ac0cadc069be\" type=\"checkbox\" ><label for=\"96d65894-ace3-42f2-8a7e-ac0cadc069be\" class=\"sk-toggleable__label sk-toggleable__label-arrow\">categorical</label><div class=\"sk-toggleable__content\"><pre>[&#x27;BusinessTravel&#x27;, &#x27;Department&#x27;, &#x27;EducationField&#x27;, &#x27;Gender&#x27;, &#x27;JobRole&#x27;, &#x27;MaritalStatus&#x27;]</pre></div></div></div><div class=\"sk-serial\"><div class=\"sk-item\"><div class=\"sk-serial\"><div class=\"sk-item\"><div class=\"sk-estimator sk-toggleable\"><input class=\"sk-toggleable__control sk-hidden--visually\" id=\"21f94f87-e279-45dc-ac89-daf0835e0743\" type=\"checkbox\" ><label for=\"21f94f87-e279-45dc-ac89-daf0835e0743\" class=\"sk-toggleable__label sk-toggleable__label-arrow\">SimpleImputer</label><div class=\"sk-toggleable__content\"><pre>SimpleImputer(fill_value=&#x27;missing&#x27;, strategy=&#x27;most_frequent&#x27;)</pre></div></div></div><div class=\"sk-item\"><div class=\"sk-estimator sk-toggleable\"><input class=\"sk-toggleable__control sk-hidden--visually\" id=\"9c069ae6-c7ad-4da0-bbd3-3cb21a3e3754\" type=\"checkbox\" ><label for=\"9c069ae6-c7ad-4da0-bbd3-3cb21a3e3754\" class=\"sk-toggleable__label sk-toggleable__label-arrow\">OneHotEncoder</label><div class=\"sk-toggleable__content\"><pre>OneHotEncoder(handle_unknown=&#x27;ignore&#x27;)</pre></div></div></div></div></div></div></div></div></div></div><div class=\"sk-item\"><div class=\"sk-estimator sk-toggleable\"><input class=\"sk-toggleable__control sk-hidden--visually\" id=\"65df29fe-c19d-4a2e-9b48-51d5e2f5975f\" type=\"checkbox\" ><label for=\"65df29fe-c19d-4a2e-9b48-51d5e2f5975f\" class=\"sk-toggleable__label sk-toggleable__label-arrow\">RandomForestClassifier</label><div class=\"sk-toggleable__content\"><pre>RandomForestClassifier(random_state=100435291)</pre></div></div></div></div></div></div></div>"
            ]
          },
          "metadata": {},
          "execution_count": 152
        }
      ],
      "source": [
        "# Best method: Random Forest (with Default Hyperparameters)\n",
        "clf_rf"
      ],
      "id": "c22d2bef"
    },
    {
      "cell_type": "code",
      "execution_count": 157,
      "metadata": {
        "id": "1ad3829c",
        "outputId": "70de5b1b-d4d6-45c8-c5da-0c687d220c4b",
        "colab": {
          "base_uri": "https://localhost:8080/"
        }
      },
      "outputs": [
        {
          "output_type": "stream",
          "name": "stdout",
          "text": [
            "Accuracy estimation (outer evaluation): 0.9441\n",
            "Confidence Interval for accuracy: [0.9111, 0.9653]\n"
          ]
        }
      ],
      "source": [
        "clf_final_model = clf_rf\n",
        "clf_final_model.fit(X_train, y_train)\n",
        "\n",
        "y_pred = clf_final_model.predict(X_test)\n",
        "final_accuracy = metrics.accuracy_score(y_test, y_pred)\n",
        "print(f'Accuracy estimation (outer evaluation): {round(final_accuracy, 4)}')\n",
        "\n",
        "# Confidence interval for the accuracy\n",
        "nrow = y_test.shape[0]\n",
        "ci = proportion_confint(nrow*final_accuracy, nrow, method='wilson')\n",
        "print(f'Confidence Interval for accuracy: {[round(ci[i], 4) for i in range(2)]}')"
      ],
      "id": "1ad3829c"
    },
    {
      "cell_type": "markdown",
      "metadata": {
        "id": "wCEvv5lcOFjX"
      },
      "source": [
        "#### c. Training the final model with the best method and making predictions on the competition dataset. Saving the final model and the competition predictions on files."
      ],
      "id": "wCEvv5lcOFjX"
    },
    {
      "cell_type": "markdown",
      "source": [
        "We first compute the final model using all available data and make predictions on the *competition* dataset. "
      ],
      "metadata": {
        "id": "02AuCkEJkDpu"
      },
      "id": "02AuCkEJkDpu"
    },
    {
      "cell_type": "code",
      "execution_count": 154,
      "metadata": {
        "id": "srj8lmKuaB0u",
        "colab": {
          "base_uri": "https://localhost:8080/"
        },
        "outputId": "4f815676-463c-421c-80f1-05b9ae7d763e"
      },
      "outputs": [
        {
          "output_type": "execute_result",
          "data": {
            "text/plain": [
              "['final_model.joblib']"
            ]
          },
          "metadata": {},
          "execution_count": 154
        }
      ],
      "source": [
        "# Train the final model\n",
        "clf_final_model.fit(X, y)\n",
        "# Saving the final model to a file\n",
        "dump(clf_final_model, 'final_model.joblib')"
      ],
      "id": "srj8lmKuaB0u"
    },
    {
      "cell_type": "code",
      "execution_count": 155,
      "metadata": {
        "id": "SxSbAJEablgt"
      },
      "outputs": [],
      "source": [
        "# Predictions of final model on the competition dataset\n",
        "y_finalmodel = pd.DataFrame(clf_final_model.predict(df_co))\n",
        "# Saving the predictions of the final model to a pickle file\n",
        "y_finalmodel.to_pickle(\"final_predictions.pkl\")"
      ],
      "id": "SxSbAJEablgt"
    }
  ],
  "metadata": {
    "colab": {
      "collapsed_sections": [
        "FD0HMk4BOOG_",
        "f1060aa4",
        "H00R7wbzoc7O",
        "U95JX61_kKIW",
        "0ojizUaaCy6w",
        "7gybZ3r14Arn",
        "tG54emy_fCxB",
        "uzXj88C0hP3W",
        "5q50M-IeiURr",
        "1joQ315tjDxs",
        "OMXdfk_T-bpx",
        "Vvx53hhuFzf_",
        "RpokALY-HG-L",
        "ovjbmZtRHHOC",
        "O-n_vCBYHlJC",
        "5dWSEhceIw2v",
        "NIjOlDu9NjPl",
        "afbc1992",
        "KtZYpw2xR1ZP",
        "hdQS8ml5N-gm",
        "wCEvv5lcOFjX"
      ],
      "provenance": []
    },
    "kernelspec": {
      "display_name": "Python 3 (ipykernel)",
      "language": "python",
      "name": "python3"
    },
    "language_info": {
      "codemirror_mode": {
        "name": "ipython",
        "version": 3
      },
      "file_extension": ".py",
      "mimetype": "text/x-python",
      "name": "python",
      "nbconvert_exporter": "python",
      "pygments_lexer": "ipython3",
      "version": "3.9.13"
    }
  },
  "nbformat": 4,
  "nbformat_minor": 5
}